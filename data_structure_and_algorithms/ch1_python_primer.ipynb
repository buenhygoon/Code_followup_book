{
 "cells": [
  {
   "cell_type": "markdown",
   "metadata": {},
   "source": [
    "- Python is an interpreted language."
   ]
  },
  {
   "cell_type": "markdown",
   "metadata": {},
   "source": [
    "- Intergrated Development Environments (IDEs)"
   ]
  },
  {
   "cell_type": "markdown",
   "metadata": {},
   "source": [
    "## 1.2 Objects in Python"
   ]
  },
  {
   "cell_type": "markdown",
   "metadata": {},
   "source": [
    "### 1.2.1 Identifiers, Objects, and the Assignment"
   ]
  },
  {
   "cell_type": "markdown",
   "metadata": {},
   "source": [
    "- The most important of all Python ommands is an assignment statement"
   ]
  },
  {
   "cell_type": "code",
   "execution_count": 1,
   "metadata": {
    "collapsed": true
   },
   "outputs": [],
   "source": [
    "temperature = 98.6"
   ]
  },
  {
   "cell_type": "markdown",
   "metadata": {},
   "source": [
    "- temperature is identifiers (name)"
   ]
  },
  {
   "cell_type": "markdown",
   "metadata": {},
   "source": [
    "** Identifiers **"
   ]
  },
  {
   "cell_type": "markdown",
   "metadata": {},
   "source": [
    "- Identifiers in Python are case-sensitive, so temperature and Temperature are distinct names. Identifiers can be composed of almost any combination of letters, numerals, and underscore characters. The primary restrictions are that an identifier cannot begin with a numeral, and that there are 33 specially reserved words that cannot be used as identifiers."
   ]
  },
  {
   "cell_type": "markdown",
   "metadata": {},
   "source": [
    "- For readers familiar with other programming language, the semantics of a Python identifier is most similar to a reference variable in Java or a pointer variable in C++. Each identifier is implicitly associated with the **memory address** of the object to which it refers. A Python identifier may be assigned to a special object named None, serving a similar purpose to a null reference in Java or C++/"
   ]
  },
  {
   "cell_type": "markdown",
   "metadata": {},
   "source": [
    "- Unlike Java and C++, Python is a **dynamically typed ** language, as there is no advance declaration associating an identifier with a particular data type. An identifier can be associated with any type of object, and it can later be reassigned to another object of the same type. Although an identifier has no declared type, the object to which it refers has a definite type. In our first example, the characters 98.6 ar recognized as a floating-point literal, and thus the identifier temperature is associated with an instance of the float class having that value."
   ]
  },
  {
   "cell_type": "markdown",
   "metadata": {},
   "source": [
    "- A programmer can establish an alias by assigning a second identifier to an existing object. Comtinuing with our earlier example:"
   ]
  },
  {
   "cell_type": "code",
   "execution_count": 2,
   "metadata": {
    "collapsed": true
   },
   "outputs": [],
   "source": [
    "original = temperature # original is the alias of termperature"
   ]
  },
  {
   "cell_type": "markdown",
   "metadata": {},
   "source": [
    "- Once an alias has beeen established, wither name can be used to access the underlying object. If that object supports behaviors that affect its state, changes enacted through one alias will be apparent when using the other alias. However, if one of the *names* is reassigned to a new value using a subsequent assignment statement, that does not affect the aliased object, rather it breaks the alias."
   ]
  },
  {
   "cell_type": "code",
   "execution_count": 3,
   "metadata": {
    "collapsed": true
   },
   "outputs": [],
   "source": [
    "temperature = temperature + 5.0"
   ]
  },
  {
   "cell_type": "code",
   "execution_count": 4,
   "metadata": {},
   "outputs": [
    {
     "data": {
      "text/plain": [
       "103.6"
      ]
     },
     "execution_count": 4,
     "metadata": {},
     "output_type": "execute_result"
    }
   ],
   "source": [
    "temperature"
   ]
  },
  {
   "cell_type": "code",
   "execution_count": 5,
   "metadata": {},
   "outputs": [
    {
     "data": {
      "text/plain": [
       "98.6"
      ]
     },
     "execution_count": 5,
     "metadata": {},
     "output_type": "execute_result"
    }
   ],
   "source": [
    "original"
   ]
  },
  {
   "cell_type": "markdown",
   "metadata": {},
   "source": [
    "- The execution of this command begins with the evaluation of the expression on the right-hand side of the = operator. That expression, temperature + 5.0, is evaluated based on the *existing* binding of the name terperature, and so the result has value 103.6, that is, 98.6 + 5.0. That result is stored as a new floating- point instance, and only then is the name on the left-hand side of the assignment statement, temperature, assigned to the result. "
   ]
  },
  {
   "cell_type": "markdown",
   "metadata": {},
   "source": [
    "### 1.2.2 Creating and Using Objects"
   ]
  },
  {
   "cell_type": "markdown",
   "metadata": {},
   "source": [
    "**Instantiation **"
   ]
  },
  {
   "cell_type": "markdown",
   "metadata": {},
   "source": [
    "- The process of creating a new instance of a class is known as *instantiation*. In general, the syntax for instantiating an object is to invoke the **constructor** of a class. For example, if there were a class named Widget, we could create an instance of that class using a syntax such as w = Widget(), assuming that the constructor does not require any parameters. If the constructor does require parameters, we might use a syntax such as Widget(a, b, c) to construct a new instance."
   ]
  },
  {
   "cell_type": "markdown",
   "metadata": {},
   "source": [
    "- Many of Python's built-in classes support what is known as a *literal* form for designating new instances. For example, the command terperature = 98.6 results in the creation of a new instance of the float class; the term 98.6 in taht expression is a literal form. We discuss further cases of Python literals in the coming section."
   ]
  },
  {
   "cell_type": "markdown",
   "metadata": {},
   "source": [
    "- From a programmer's perspective, yet another way to indirectly create a new instance of a class is to call a function that creates and returns such an instance. For Example, Python has built-in function named sorted that takes a sequence of comparable elements as a parameter and returns a new instance of the  list class containing those elements in sorted order."
   ]
  },
  {
   "cell_type": "markdown",
   "metadata": {},
   "source": [
    "** Calling Methods **"
   ]
  },
  {
   "cell_type": "markdown",
   "metadata": {},
   "source": [
    "- Python supports traditional functions that are invoked with a syntax such as sorted, in which case data is a parameter sent to the function. Python's classes may also define one or more methods, which are invoked on a specific instance of a class using the dot operator. For example, Python's list class has a method named sort that can be invoked with a syntaax such as data.sort()."
   ]
  },
  {
   "cell_type": "markdown",
   "metadata": {},
   "source": [
    "- Often, the expression to the left of the dot is identifier, but we can use the  dot operator to invoke a method upon the immediate result of some other operation like response.lower().startswith('y')."
   ]
  },
  {
   "cell_type": "markdown",
   "metadata": {},
   "source": [
    "- When using a method of a class, it is important to understand its behavior. Some methods return information about the state of an object, but do not change that state. These are known as **accessors**. Other methods, such as the sort method of the list class, do change the state of an object. These methods are known as **mutators** or **update methods**."
   ]
  },
  {
   "cell_type": "markdown",
   "metadata": {},
   "source": [
    "### 1.2.3 Python's Built-in Classes"
   ]
  },
  {
   "cell_type": "markdown",
   "metadata": {},
   "source": [
    "- A class is immutable if each object of that class has a fixed value upon instantiation that cannot subsequently be changed. For example, the float class is immutable. Once an instance has been created, its value cannot be changed (although an identifier referencing that object can be reassigned to a different value)."
   ]
  },
  {
   "cell_type": "markdown",
   "metadata": {},
   "source": [
    "<img src=\"http://3.bp.blogspot.com/-dKj8fbznuYs/VbyrvHQOifI/AAAAAAAAIis/TsVtzOJjKLM/s1600/class.PNG\">"
   ]
  },
  {
   "cell_type": "markdown",
   "metadata": {},
   "source": [
    "** The bool Class **"
   ]
  },
  {
   "cell_type": "markdown",
   "metadata": {},
   "source": [
    "- The bool class is used to manipulate logical values, and the only two instances of that class are expressed as the literals True and False. The default constructor, bool(), returns False, but there is no reason to use that syntax rather than the more direct literal form. Python allows the creation of a Boolean value from a nonboolean type using the syntax bool(foo) for value foo. The interpretation depends upon the type of the parameter. Numbers evaluate to False if zero, and True if nonzero. Sequences and other continer types, such as strings and lists evaluate to False if empty and True if nonempty. An important application of this interpretation is the use of a nonboolean value as a condition in a control structure."
   ]
  },
  {
   "cell_type": "markdown",
   "metadata": {},
   "source": [
    "** The int Class **"
   ]
  },
  {
   "cell_type": "markdown",
   "metadata": {},
   "source": [
    "- The in and float classes are the primary numeric types in Python. The int class is designed to represent integer values with arbitrary magnitude. Unlike Java and C++, which support different integral types with different precisions, Python automatically choose the internal representation for an integer based upon the magnitude of its value. Typical literals for integers include 0, 137, and - 23 . In some contexts, it is convenient to express an integral value using binary, octal, or hexadecimal. That can be done by using a prefix of the number 0 and then a chracter to describe the base. Example of such literals are respectively 0b1011, 0o52, and 0x7f."
   ]
  },
  {
   "cell_type": "code",
   "execution_count": 6,
   "metadata": {},
   "outputs": [
    {
     "data": {
      "text/plain": [
       "11"
      ]
     },
     "execution_count": 6,
     "metadata": {},
     "output_type": "execute_result"
    }
   ],
   "source": [
    "0b1011"
   ]
  },
  {
   "cell_type": "code",
   "execution_count": 7,
   "metadata": {},
   "outputs": [
    {
     "data": {
      "text/plain": [
       "42"
      ]
     },
     "execution_count": 7,
     "metadata": {},
     "output_type": "execute_result"
    }
   ],
   "source": [
    "0o52"
   ]
  },
  {
   "cell_type": "code",
   "execution_count": 8,
   "metadata": {},
   "outputs": [
    {
     "data": {
      "text/plain": [
       "127"
      ]
     },
     "execution_count": 8,
     "metadata": {},
     "output_type": "execute_result"
    }
   ],
   "source": [
    "0x7f"
   ]
  },
  {
   "cell_type": "code",
   "execution_count": 9,
   "metadata": {},
   "outputs": [
    {
     "data": {
      "text/plain": [
       "0"
      ]
     },
     "execution_count": 9,
     "metadata": {},
     "output_type": "execute_result"
    }
   ],
   "source": [
    "int()"
   ]
  },
  {
   "cell_type": "markdown",
   "metadata": {},
   "source": [
    "- The integer constructor, int(), returns value 0 by default. But this constructor can be used to construct an integer value based upon an existing value of another type. For example, if f represents a floating-point value, the syntax int(f) produces the *truncated* value of f. For example, both int(3.14) and int(3.99) produce the value 3, while int (-3.9) produces the value -3. The constructor can also be used to parse a string that is presumed to represent an integral value. If s represents a string, then int(s) produces the integral value that string represents. For example, the expression int('137') produces the integer value 137. If an invalid string is given as a parameter, an in int('hello'), a ValueError is raised."
   ]
  },
  {
   "cell_type": "markdown",
   "metadata": {},
   "source": [
    "** The float Class **"
   ]
  },
  {
   "cell_type": "markdown",
   "metadata": {},
   "source": [
    "- The float class is the sole floating-point type in Python, using a fixed-precision representation. Its precision is more akin to a double in Java or C++, rether than those languages' float-type. We have already discussed a typical leteral form. "
   ]
  },
  {
   "cell_type": "markdown",
   "metadata": {},
   "source": [
    "** Sequence Types: List, Tuple, str Classes"
   ]
  },
  {
   "cell_type": "markdown",
   "metadata": {},
   "source": [
    "** the list Class**"
   ]
  },
  {
   "cell_type": "markdown",
   "metadata": {},
   "source": [
    "- A list instance stores a sequence of objects. A list is a referential structure, as it technically stores a sequence of references to its elements. Elements of a list may be arbitrary objects. Lists are indexed from 0 to n - 1 inclusive. Lists are perhaps the most used container type in Python and they will be extremely central to our study of data structures and algorithms. They have many valuable behaviors, including the ability to ddynamically expand and contract their capacities as needed. In this chapter, we will discuss only the most basic properties of lists. We revisit the inner working of all of Python;s sequence types as the focus of Ch 5."
   ]
  },
  {
   "cell_type": "markdown",
   "metadata": {},
   "source": [
    "** the tuple class**"
   ]
  },
  {
   "cell_type": "markdown",
   "metadata": {},
   "source": [
    "** the str class**"
   ]
  },
  {
   "cell_type": "markdown",
   "metadata": {},
   "source": [
    "** the set and frozenset classes **"
   ]
  },
  {
   "cell_type": "markdown",
   "metadata": {},
   "source": [
    "- Python's set class represents the mathematical notion of a set, namely a collection of elements, withoout dupicates, and without an inherent order to those elements. The major advantage of using a set, as opposed to a list, is that it has a highly optimized method for checking whether a specific element is contained in the set. This is based on a data structure known as a *hash table*. However, there are two important restriction due to the algorithmic underpinnings. The first is that the set does not maintain the elements in any particular order. The second is that only instances of immutable types can be added to a Python set. Therefore, objects such as integers, floating-point types  and character strings are eligible to be elements of a set. It is possible to maintain a set of tuples, but not a set of lists or a set of sets, as lists and sets are mutable. The frozenset class is an immutable form of the set type, so it is legal to have a set of frozensets."
   ]
  },
  {
   "cell_type": "code",
   "execution_count": 10,
   "metadata": {},
   "outputs": [
    {
     "data": {
      "text/plain": [
       "{'blue', 'green', 'red'}"
      ]
     },
     "execution_count": 10,
     "metadata": {},
     "output_type": "execute_result"
    }
   ],
   "source": [
    "{'red', 'green', 'blue'} # set"
   ]
  },
  {
   "cell_type": "markdown",
   "metadata": {},
   "source": [
    "** the dict class **"
   ]
  },
  {
   "cell_type": "markdown",
   "metadata": {},
   "source": [
    "- Pythons dict class represents a dictionary, or mapping, from a set of distinct keys to associated values. For exampe, a dictionary might map from unique student ID numbers, to larger student records. Python implements a dict using an almost identical approach to that of a set, but with storage of the associated values."
   ]
  },
  {
   "cell_type": "markdown",
   "metadata": {},
   "source": [
    "- A dictionary literal also uses curly braces, and because dictionary were introduced in Python prior to sets, the literal form {} produces an empty dictionary. A nonempty dictionary is expressed using a comma-separated series of  key:value pairs. "
   ]
  },
  {
   "cell_type": "markdown",
   "metadata": {},
   "source": [
    "## 1.3 Expressions, Operators, and Precedence"
   ]
  },
  {
   "cell_type": "markdown",
   "metadata": {},
   "source": [
    "- Existing values can be combined into larger syntatic expressions using a variety of special symbols and keywords known as operators. The semantics of an operator depends upon the type of its operands."
   ]
  },
  {
   "cell_type": "markdown",
   "metadata": {},
   "source": [
    "- compound expression, precedence"
   ]
  },
  {
   "cell_type": "markdown",
   "metadata": {},
   "source": [
    "** Logical Operators **"
   ]
  },
  {
   "cell_type": "markdown",
   "metadata": {},
   "source": [
    "- not, and, or \n"
   ]
  },
  {
   "cell_type": "markdown",
   "metadata": {},
   "source": [
    "** Equality Operators **"
   ]
  },
  {
   "cell_type": "markdown",
   "metadata": {},
   "source": [
    "- is, is not, ==, !="
   ]
  },
  {
   "cell_type": "markdown",
   "metadata": {},
   "source": [
    "** Comparison Operators **"
   ]
  },
  {
   "cell_type": "markdown",
   "metadata": {},
   "source": [
    "- <, <=, >, >="
   ]
  },
  {
   "cell_type": "markdown",
   "metadata": {},
   "source": [
    "** Arithmetic Operators **"
   ]
  },
  {
   "cell_type": "markdown",
   "metadata": {},
   "source": [
    "- +, =, \\*, /, //, %"
   ]
  },
  {
   "cell_type": "code",
   "execution_count": 12,
   "metadata": {},
   "outputs": [
    {
     "data": {
      "text/plain": [
       "2.0"
      ]
     },
     "execution_count": 12,
     "metadata": {},
     "output_type": "execute_result"
    }
   ],
   "source": [
    "8.2 // 3.14 # 1.92"
   ]
  },
  {
   "cell_type": "markdown",
   "metadata": {},
   "source": [
    "** Bitwise Operators **"
   ]
  },
  {
   "cell_type": "markdown",
   "metadata": {},
   "source": [
    "- ~ complement\n",
    "- & and\n",
    "- | or\n",
    "- ^ exclusive-or\n",
    "- << shift bits left, filling with zeros\n",
    "- \\>\\> shift bits right, filling in with sign bit"
   ]
  },
  {
   "cell_type": "markdown",
   "metadata": {},
   "source": [
    "** Sequence Operators **"
   ]
  },
  {
   "cell_type": "markdown",
   "metadata": {},
   "source": [
    "- s[j]\n",
    "- s[start:stop]\n",
    "- s[start:stop:step]\n",
    "- s + t\n",
    "- k * s\n",
    "- val in s\n",
    "- val not in s"
   ]
  },
  {
   "cell_type": "markdown",
   "metadata": {},
   "source": [
    "** Operators for Sets and Dict **"
   ]
  },
  {
   "cell_type": "markdown",
   "metadata": {},
   "source": [
    "** Extended Assignment Operators **"
   ]
  },
  {
   "cell_type": "code",
   "execution_count": 13,
   "metadata": {
    "collapsed": true
   },
   "outputs": [],
   "source": [
    "alpha = [1, 2, 3]\n",
    "beta = alpha\n",
    "beta += [4, 5]"
   ]
  },
  {
   "cell_type": "markdown",
   "metadata": {},
   "source": [
    "## 1.4 Control Flow"
   ]
  },
  {
   "cell_type": "markdown",
   "metadata": {},
   "source": [
    "### 1.4.1 Conditionals"
   ]
  },
  {
   "cell_type": "code",
   "execution_count": null,
   "metadata": {
    "collapsed": true
   },
   "outputs": [],
   "source": [
    "if first_condition:\n",
    "    first_body\n",
    "elif second_condition:\n",
    "    second_body\n",
    "elif third_condition:\n",
    "    trird_body\n",
    "else:\n",
    "    fourth_body"
   ]
  },
  {
   "cell_type": "markdown",
   "metadata": {},
   "source": [
    "### 1.4.2 Loops"
   ]
  },
  {
   "cell_type": "code",
   "execution_count": null,
   "metadata": {
    "collapsed": true
   },
   "outputs": [],
   "source": [
    "while condition:\n",
    "    body"
   ]
  },
  {
   "cell_type": "code",
   "execution_count": null,
   "metadata": {
    "collapsed": true
   },
   "outputs": [],
   "source": [
    "for elelment in iterable:\n",
    "    body"
   ]
  },
  {
   "cell_type": "code",
   "execution_count": null,
   "metadata": {
    "collapsed": true
   },
   "outputs": [],
   "source": [
    "# index-based \n",
    "for j in range(len(data)):\n",
    "    body"
   ]
  },
  {
   "cell_type": "code",
   "execution_count": 14,
   "metadata": {
    "collapsed": true
   },
   "outputs": [],
   "source": [
    "# break and continue"
   ]
  },
  {
   "cell_type": "markdown",
   "metadata": {},
   "source": [
    "## Functions"
   ]
  },
  {
   "cell_type": "code",
   "execution_count": 15,
   "metadata": {
    "collapsed": true
   },
   "outputs": [],
   "source": [
    "def count(data, target):\n",
    "    n = 0\n",
    "    for i in data:\n",
    "        if i == target:\n",
    "            n += 1\n",
    "    return n"
   ]
  },
  {
   "cell_type": "markdown",
   "metadata": {},
   "source": [
    "- The first line, beginning with the keyword def, serves as the function's signature. This establishes a new identifier as the name of the function (count, in this exmaple), and it establishes the number of parameters that it expects, s well as names identifying those parameters. Unlike Java and C++, Python is a dynamically typed language, and therefore a Python signature does not designate the types of those parameters, nor the type of a return value. Those expectations should be stated in the function's documentation and can be enforced within the body of the function, but misuse of a function will only be detected at run-time."
   ]
  },
  {
   "cell_type": "markdown",
   "metadata": {},
   "source": [
    "- The remainder of the function definition is known as the body of the function. As is the case with control structures in Python, the body of a function is typically expressed as an indented block of code. Each time a function is called, Python creates a dedicated **activation record** that stores information relevant to the current call. This activation record includes what is known as a **namespace** to manage all identifiers that have **local scope** within the current call. The namespace includes the function's parammeters and any other identifiers that are defined locally within the body of  the function. An identifier in the local scope of  the function caller has no relation to any identifier with the same name in the caller's scope. In our first example, the identifier n has scope that is local to the function call, as does the identifier item, which is established as the loop varaible."
   ]
  },
  {
   "cell_type": "markdown",
   "metadata": {},
   "source": [
    "** Return statement **"
   ]
  },
  {
   "cell_type": "code",
   "execution_count": 16,
   "metadata": {
    "collapsed": true
   },
   "outputs": [],
   "source": [
    "def contains(data, target):\n",
    "    for item in target:\n",
    "        if item == target:\n",
    "            return True\n",
    "    return False"
   ]
  },
  {
   "cell_type": "markdown",
   "metadata": {},
   "source": [
    "### 1.5.1 Information Passing"
   ]
  },
  {
   "cell_type": "markdown",
   "metadata": {},
   "source": [
    "![main](function_parameter.png \"main\")"
   ]
  },
  {
   "cell_type": "markdown",
   "metadata": {},
   "source": [
    "** Mutable Parameters **"
   ]
  },
  {
   "cell_type": "markdown",
   "metadata": {},
   "source": [
    "- Python's parameter passing model has additional implications when a parameter is a mutable object. Because the formal parameter is an alias for the actual parameter, the body of the function may interact with the object in ways that change its state. Considering again our sample invocation of the count function, if the body of the function executes the command data.append('F'), the new entry is added to the end of the list identified as data within the function, which is one and the same as the list known to the caller as grades. As an aside, we note that reassigning a new value to a formal parameter with a function body, such as by setting data = [], does not alter the actaul parameter; such a reassignment simply breaks the alias."
   ]
  },
  {
   "cell_type": "markdown",
   "metadata": {},
   "source": [
    "- Our hypothetical example of a count method that appends a new element to a list lacks common sense. There is no reason to expect such a bahavior, and it would be quite a poor design to have such an unexpected effect on the parameter. There are, however, many legitimate cases in which a function may be designed to modify the state of a parameter. As a concrete example, we present the following implementation of a method named scale that's primary purpose is to multiply all entries of a numeric data set by a given factor."
   ]
  },
  {
   "cell_type": "code",
   "execution_count": null,
   "metadata": {
    "collapsed": true
   },
   "outputs": [],
   "source": [
    "def scale(data, factor):\n",
    "    for j in range(len(data)):\n",
    "        data[j] *= factor"
   ]
  },
  {
   "cell_type": "markdown",
   "metadata": {},
   "source": [
    "** Default Parameter Values **"
   ]
  },
  {
   "cell_type": "markdown",
   "metadata": {},
   "source": [
    " Python provides means for functions to support more than one possible calling signature. Such a function is said to be **polymorphic**. Most notably, functions can declare one or more default values for parameters, thereby allowing the caller to invoke a function with varying numbers of actual parameters. As an artificial example, if a function is declared with signature."
   ]
  },
  {
   "cell_type": "markdown",
   "metadata": {},
   "source": [
    "** Positional, Keyword Parameters **"
   ]
  },
  {
   "cell_type": "markdown",
   "metadata": {},
   "source": [
    "- skip function, exception, iterators & generators, comprehension, import "
   ]
  },
  {
   "cell_type": "code",
   "execution_count": null,
   "metadata": {
    "collapsed": true
   },
   "outputs": [],
   "source": []
  }
 ],
 "metadata": {
  "kernelspec": {
   "display_name": "Python 3",
   "language": "python",
   "name": "python3"
  },
  "language_info": {
   "codemirror_mode": {
    "name": "ipython",
    "version": 3
   },
   "file_extension": ".py",
   "mimetype": "text/x-python",
   "name": "python",
   "nbconvert_exporter": "python",
   "pygments_lexer": "ipython3",
   "version": "3.6.2"
  }
 },
 "nbformat": 4,
 "nbformat_minor": 2
}
