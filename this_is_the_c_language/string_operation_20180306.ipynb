{
 "cells": [
  {
   "cell_type": "markdown",
   "metadata": {},
   "source": [
    "# String Operation"
   ]
  },
  {
   "cell_type": "markdown",
   "metadata": {},
   "source": [
    "- \"apple\" + \"pie\" ?"
   ]
  },
  {
   "cell_type": "markdown",
   "metadata": {},
   "source": [
    "char str1[20] = \"strawberry\"; // == {'s', 't', 'r', ..  -> defaulting\n"
   ]
  },
  {
   "cell_type": "markdown",
   "metadata": {},
   "source": [
    "str1[0] = 'a';\n",
    "str1[1] = 'p';\n",
    "str1[2] = 'p';\n",
    "str1[3] = 'l';\n",
    "str1[4] = 'e';\n",
    "str1[5] = 'null'; // should insert null\n",
    "printf(\"%s\\n\", str1);\n"
   ]
  },
  {
   "cell_type": "markdown",
   "metadata": {},
   "source": [
    "> strcpy(address in which insert the copy of argument, address of the thing to copy)"
   ]
  },
  {
   "cell_type": "markdown",
   "metadata": {},
   "source": [
    "\\#include <string.h>\n",
    "\n",
    "strcpy(str1, \"apple\"); // available because string name is the address of the string\n",
    "// strcpy automatically insert null at the end\n"
   ]
  },
  {
   "cell_type": "markdown",
   "metadata": {},
   "source": [
    "\\#include <string.h>\n",
    "\n",
    "char str1[20] = \"strawberry\";\n",
    "char str2[20] = \"apple\";\n",
    "char \\*ps1 = \"banana\";\n",
    "char \\*ps2 = str2;\n",
    "\n",
    "strcpy(str1, str2);\n",
    "strcpy(str1, ps1);\n",
    "strcpy(str1, ps2);\n",
    "strcpy(ps2, ps1); // all available\n"
   ]
  },
  {
   "cell_type": "markdown",
   "metadata": {},
   "source": [
    "> How to make strcpy"
   ]
  },
  {
   "cell_type": "markdown",
   "metadata": {},
   "source": [
    "char str[80]; // no default\n",
    "\n",
    "my_strcpy(str, \"apple\");\n",
    "\n",
    "void my_strcpy(char \\*dp, char \\*sp)\n",
    "{\n",
    "    while(sp != 'null')\n",
    "    {\n",
    "        \\*dp = \\*sp;\n",
    "        sp++;\n",
    "        dp++;\n",
    "    }\n",
    "    \\*dp = 'null';\n",
    "}"
   ]
  },
  {
   "cell_type": "markdown",
   "metadata": {},
   "source": [
    "char \\* str[80]; // no default\n",
    "\n",
    "my_strcpy(str, \"apple\");\n",
    "\n",
    "void my_strcpy(char \\*dp, char \\*sp)\n",
    "{\n",
    "    char \\* po = dp;\n",
    "    while(sp != 'null')\n",
    "    {\n",
    "        \\*dp = \\*sp;\n",
    "        sp++;\n",
    "        dp++;\n",
    "    }\n",
    "    \\*dp = 'null';\n",
    "    return po; // return original address\n",
    "}"
   ]
  },
  {
   "cell_type": "markdown",
   "metadata": {},
   "source": [
    "> Original : have return value"
   ]
  },
  {
   "cell_type": "markdown",
   "metadata": {},
   "source": [
    "char \\* strcpy(char\\*dp, const char \\*sp)\n",
    "{\n",
    "    return dp\n",
    "}\n",
    "\n"
   ]
  },
  {
   "cell_type": "markdown",
   "metadata": {},
   "source": [
    "** So we can do **"
   ]
  },
  {
   "cell_type": "markdown",
   "metadata": {},
   "source": [
    "printf(\"%s\\n\", strcpy(str, \"apple\")); // apple"
   ]
  },
  {
   "cell_type": "markdown",
   "metadata": {},
   "source": [
    "> strncpy"
   ]
  },
  {
   "cell_type": "markdown",
   "metadata": {},
   "source": [
    "** How to change \"mango tree\" to \"apple tree\" ?**"
   ]
  },
  {
   "cell_type": "markdown",
   "metadata": {},
   "source": [
    "char str[20] = \"mango tree\";\n",
    "strncpy(str, \"apple-pie\", 5); // 5 for number of characters to copy, do not automatically append null at the end"
   ]
  },
  {
   "cell_type": "markdown",
   "metadata": {},
   "source": [
    "> strcat : need defaulting of string, need enough spaces"
   ]
  },
  {
   "cell_type": "markdown",
   "metadata": {},
   "source": [
    "char str[20] = \"\"; //null defaulting\n",
    "char str[20] = {'null'};\n",
    "char str[20] = {0};\n",
    "str[0] = 'null';\n",
    "\n",
    "// all same"
   ]
  },
  {
   "cell_type": "markdown",
   "metadata": {},
   "source": [
    "char str[20] = \"apple\"; \n",
    "\n",
    "strcat(str, \"pie\"); // applepie"
   ]
  },
  {
   "cell_type": "markdown",
   "metadata": {},
   "source": [
    "void my_strcat(char \\*dp, char \\*sp)\n",
    "{\n",
    "    while(\\*dp != 'null') dp++;\n",
    "    while(\\*sp != 'null')\n",
    "    {\n",
    "        \\*dp = \\*sp;\n",
    "        sp++;\n",
    "        dp++;\n",
    "    }\n",
    "    \\*dp = 'null';\n",
    "}"
   ]
  },
  {
   "cell_type": "markdown",
   "metadata": {},
   "source": [
    "> strncat(str, \"piece\", 3); // number of character to paste, automatically append null at the end"
   ]
  },
  {
   "cell_type": "markdown",
   "metadata": {},
   "source": [
    "> strlen : count the length of the array of characters (string)"
   ]
  },
  {
   "cell_type": "markdown",
   "metadata": {},
   "source": [
    " ** sizeof(str) ? -> total assigned size **\n",
    " - str[20] -> 20"
   ]
  },
  {
   "cell_type": "markdown",
   "metadata": {},
   "source": [
    "char str[20] = \"apple\";\n",
    "int len;\n",
    "scanf(\"%s\", str); \n",
    "len = strlen(str);\n",
    "printf(\"%d\", len); // 5, do not include null\n"
   ]
  },
  {
   "cell_type": "markdown",
   "metadata": {},
   "source": [
    "> my_strlen"
   ]
  },
  {
   "cell_type": "markdown",
   "metadata": {},
   "source": [
    "int my_strlen(char \\*sp)\n",
    "{\n",
    "   int cnt = 0;\n",
    "   while(\\*sp != 'null')\n",
    "   {\n",
    "       cnt++;    \n",
    "       sp++;\n",
    "   }\n",
    "   return cnt;\n",
    "}"
   ]
  },
  {
   "cell_type": "markdown",
   "metadata": {},
   "source": [
    "> strcmp  : string compare"
   ]
  },
  {
   "cell_type": "markdown",
   "metadata": {},
   "source": [
    "char str1[20] = \"pear\";\n",
    "char str2[20] = \"peach\";\n",
    "\n",
    "strcmp(str1, str2); // str1[0] > str1[0] ? compare ascii code\n"
   ]
  },
  {
   "cell_type": "markdown",
   "metadata": {},
   "source": [
    "> my_strcmp"
   ]
  },
  {
   "cell_type": "markdown",
   "metadata": {},
   "source": [
    "int my_strcmp(char \\*sp1, char \\*sp2)\n",
    "{\n",
    "    while(\\*sp1 == \\*sp2 && \\*sp1 != 'null')\n",
    "    {\n",
    "        sp1++;\n",
    "        sp2++;\n",
    "    }\n",
    "    if(\\*sp1 > \\*sp2) return 1;\n",
    "    else if(\\*sp1 < \\*sp2) return -1;\n",
    "    else return 0;\n",
    "}"
   ]
  },
  {
   "cell_type": "code",
   "execution_count": null,
   "metadata": {
    "collapsed": true
   },
   "outputs": [],
   "source": []
  }
 ],
 "metadata": {
  "kernelspec": {
   "display_name": "Python 3",
   "language": "python",
   "name": "python3"
  },
  "language_info": {
   "codemirror_mode": {
    "name": "ipython",
    "version": 3
   },
   "file_extension": ".py",
   "mimetype": "text/x-python",
   "name": "python",
   "nbconvert_exporter": "python",
   "pygments_lexer": "ipython3",
   "version": "3.6.2"
  }
 },
 "nbformat": 4,
 "nbformat_minor": 2
}
