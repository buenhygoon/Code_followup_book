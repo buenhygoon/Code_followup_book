{
 "cells": [
  {
   "cell_type": "markdown",
   "metadata": {},
   "source": [
    "# 3.1 Variable\n",
    "- How to declare variable\n",
    "- trash and default\n",
    "- data type for integer\n",
    "- unsigned integer data type\n",
    "- Real Number\n",
    "- String \n",
    "- variable with const\n",
    "- reserved word and selector"
   ]
  },
  {
   "cell_type": "markdown",
   "metadata": {},
   "source": [
    "> How to assign variable"
   ]
  },
  {
   "cell_type": "markdown",
   "metadata": {
    "collapsed": true
   },
   "source": [
    "- set datatype of variable"
   ]
  },
  {
   "cell_type": "markdown",
   "metadata": {},
   "source": [
    "- Variable declaration is available every only after version C99"
   ]
  },
  {
   "cell_type": "markdown",
   "metadata": {},
   "source": [
    "int main(void)\n",
    "{\n",
    "    int a; // 4 bytes of memory, set automatically the trash values at there\n",
    "    a = 10; // same as 'int a = 10;'\n",
    "    int b, c; // set 2 memory for int\n",
    "    b = a;\n",
    "    c = a + 20;\n",
    "    double da;  // 8 bytes of memory\n",
    "    da = 3.5;\n",
    "    char ch;   // 1 byte of memory\n",
    "    ch = 'A';\n",
    "    printf('%d\\n', a);\n",
    "    printf('%lf\\n', da);\n",
    "    printf('%c\\n', ch);\n",
    "    printf('%d\\n', a + b);\n",
    "}"
   ]
  },
  {
   "cell_type": "markdown",
   "metadata": {},
   "source": []
  }
 ],
 "metadata": {
  "kernelspec": {
   "display_name": "Python 3",
   "language": "python",
   "name": "python3"
  },
  "language_info": {
   "codemirror_mode": {
    "name": "ipython",
    "version": 3
   },
   "file_extension": ".py",
   "mimetype": "text/x-python",
   "name": "python",
   "nbconvert_exporter": "python",
   "pygments_lexer": "ipython3",
   "version": "3.6.2"
  }
 },
 "nbformat": 4,
 "nbformat_minor": 2
}
