{
 "cells": [
  {
   "cell_type": "markdown",
   "metadata": {},
   "source": [
    "- Pointer VS address"
   ]
  },
  {
   "cell_type": "markdown",
   "metadata": {},
   "source": [
    "int a, b; \n",
    "int \\*p = &a;\n",
    "\n",
    "// p is variable, &a is constant"
   ]
  },
  {
   "cell_type": "markdown",
   "metadata": {},
   "source": [
    "int a;\n",
    "int \\*p = &a;\n",
    "int \\*q = &a;\n",
    "\\*p = 10;\n",
    "printf(\"%d\\n\", a); // 10\n",
    "\\*q = 20;\n",
    "printf(\"%d\\n\", a); // 20"
   ]
  },
  {
   "cell_type": "markdown",
   "metadata": {},
   "source": [
    "// &&a cannot be done, &p can be done"
   ]
  },
  {
   "cell_type": "markdown",
   "metadata": {},
   "source": [
    "char ch;\n",
    "int in;\n",
    "double db;\n",
    "char \\*pc = &ch;\n",
    "int \\*pi = &in;\n",
    "double \\*pd = &db; \n",
    "\n",
    "printf(\"%d\\n\", sizeof(pc)); // 4 bytes\n",
    "printf(\"%d\\n\", sizeof(pi)); // 4 bytes\n",
    "printf(\"%d\\n\", sizeof(pd)); // 4 bytes\n",
    "\n",
    "printf(\"%d\\n\", sizeof(\\*pc)); // 1 bytes\n",
    "printf(\"%d\\n\", sizeof(\\*pi)); // 4 bytes\n",
    "printf(\"%d\\n\", sizeof(\\*pd)); // 8 bytes"
   ]
  },
  {
   "cell_type": "markdown",
   "metadata": {},
   "source": [
    "int a;\n",
    "int \\*pa, \\*pb; \n",
    "pb = pa = &a;"
   ]
  },
  {
   "cell_type": "markdown",
   "metadata": {},
   "source": [
    "int a;\n",
    "int \\*pa = &a;\n",
    "doublt \\*pb;\n",
    "pb = pa; // unavailable\n",
    "\n"
   ]
  },
  {
   "cell_type": "markdown",
   "metadata": {},
   "source": [
    "pointer must be defaulted or at least insert NULL;"
   ]
  },
  {
   "cell_type": "markdown",
   "metadata": {},
   "source": [
    "doulbe \\*pb = NULL;"
   ]
  },
  {
   "cell_type": "markdown",
   "metadata": {},
   "source": [
    "pa = (int\\*)100; // must be type-transformed to directly insert address number"
   ]
  },
  {
   "cell_type": "markdown",
   "metadata": {},
   "source": [
    "- Why we use pointer?"
   ]
  },
  {
   "cell_type": "markdown",
   "metadata": {},
   "source": [
    "int main(void)\n",
    "{\n",
    "    int a = 10, b = 20, t;\n",
    "    printf(\"%d, %d\", a, b); // 10, 20\n",
    "    t = a; \n",
    "    a = b;\n",
    "    b = t;\n",
    "    printf(\"%d, %d\", a, b); // 20, 10\n",
    "}"
   ]
  },
  {
   "cell_type": "markdown",
   "metadata": {},
   "source": [
    "- if we make function for swap"
   ]
  },
  {
   "cell_type": "markdown",
   "metadata": {},
   "source": [
    "int main(void)\n",
    "{\n",
    "    int a = 10, b = 20, t;\n",
    "    printf(\"%d, %d\", a, b); // 10, 20\n",
    "    swap(&a, &b);\n",
    "    printf(\"%d, %d\", a, b); // 20, 10\n",
    "}"
   ]
  },
  {
   "cell_type": "markdown",
   "metadata": {},
   "source": [
    "void swap(int \\*pa, int \\*pb)\n",
    "{\n",
    "    int t;\n",
    "    t = \\*pa;\n",
    "    \\*pa = \\*pb;\n",
    "    \\*pb = t;\n",
    "}"
   ]
  },
  {
   "cell_type": "markdown",
   "metadata": {},
   "source": [
    "- to use other variable over scope, we should insert address of the variable and change them, so we need pointer at that time"
   ]
  },
  {
   "cell_type": "code",
   "execution_count": null,
   "metadata": {
    "collapsed": true
   },
   "outputs": [],
   "source": []
  }
 ],
 "metadata": {
  "kernelspec": {
   "display_name": "Python 3",
   "language": "python",
   "name": "python3"
  },
  "language_info": {
   "codemirror_mode": {
    "name": "ipython",
    "version": 3
   },
   "file_extension": ".py",
   "mimetype": "text/x-python",
   "name": "python",
   "nbconvert_exporter": "python",
   "pygments_lexer": "ipython3",
   "version": "3.6.2"
  }
 },
 "nbformat": 4,
 "nbformat_minor": 2
}
