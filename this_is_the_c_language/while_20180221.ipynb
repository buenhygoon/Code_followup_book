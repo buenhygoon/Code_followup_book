{
 "cells": [
  {
   "cell_type": "markdown",
   "metadata": {},
   "source": [
    "# repetition\n",
    "- while : \n",
    "- for : \n",
    "- do ~ while :"
   ]
  },
  {
   "cell_type": "markdown",
   "metadata": {},
   "source": [
    "while (condition)\n",
    "{\n",
    "    statement to repeat\n",
    "}"
   ]
  },
  {
   "cell_type": "markdown",
   "metadata": {},
   "source": [
    "int main(void)\n",
    "{\n",
    "    int a = 1;\n",
    "    \n",
    "    a = a * 2;\n",
    "    \n",
    "    printf(\"%d\", a); // 2\n",
    "}"
   ]
  },
  {
   "cell_type": "markdown",
   "metadata": {},
   "source": [
    "int main(void)\n",
    "{\n",
    "    int a = 1;\n",
    "    while (a < 10 ) \n",
    "    {\n",
    "        a = a * 2;\n",
    "    }\n",
    "    \n",
    "    printf(\"%d\", a); // 16\n",
    "}"
   ]
  },
  {
   "cell_type": "markdown",
   "metadata": {},
   "source": [
    "for ( i = 0; i < 3; i++ )\n",
    "{\n",
    "    a = a * 2;\n",
    "} // basic statement; condition statement; end statement"
   ]
  },
  {
   "cell_type": "markdown",
   "metadata": {},
   "source": [
    "do\n",
    "{\n",
    "    a = a * 2;\n",
    "} while ( a < 10 ); // should have ; at the end"
   ]
  },
  {
   "cell_type": "markdown",
   "metadata": {},
   "source": [
    "do a = a * 2; while (a < 10); // this is posible"
   ]
  },
  {
   "cell_type": "markdown",
   "metadata": {},
   "source": []
  }
 ],
 "metadata": {
  "kernelspec": {
   "display_name": "Python 3",
   "language": "python",
   "name": "python3"
  },
  "language_info": {
   "codemirror_mode": {
    "name": "ipython",
    "version": 3
   },
   "file_extension": ".py",
   "mimetype": "text/x-python",
   "name": "python",
   "nbconvert_exporter": "python",
   "pygments_lexer": "ipython3",
   "version": "3.6.2"
  }
 },
 "nbformat": 4,
 "nbformat_minor": 2
}
