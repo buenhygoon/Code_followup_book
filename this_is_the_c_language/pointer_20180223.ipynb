{
 "cells": [
  {
   "cell_type": "markdown",
   "metadata": {},
   "source": [
    "# Array declaration and usage\n",
    "- &\n",
    "- pointer and indirect reference operator\n",
    "- pointers\n",
    "- pointer with const"
   ]
  },
  {
   "cell_type": "markdown",
   "metadata": {},
   "source": [
    "int a; // get 4 bytes space for variable at the memory\n"
   ]
  },
  {
   "cell_type": "markdown",
   "metadata": {},
   "source": [
    "- memory has address by a byte unit"
   ]
  },
  {
   "cell_type": "markdown",
   "metadata": {},
   "source": [
    "- l-value for using space, r-value for the value in that space"
   ]
  },
  {
   "cell_type": "markdown",
   "metadata": {},
   "source": [
    "- address is the first byte address of a variable\n",
    "- address operator, &a (get variable a address)\n"
   ]
  },
  {
   "cell_type": "markdown",
   "metadata": {},
   "source": [
    "printf(\"%p\", &a); // p for address value base 16\n"
   ]
  },
  {
   "cell_type": "markdown",
   "metadata": {},
   "source": [
    "- compiler has information about **datatype** on address pointer."
   ]
  },
  {
   "cell_type": "markdown",
   "metadata": {},
   "source": [
    "a : direct reference\n",
    "\\*&a : indirect reference // using address pointer to use the space and the value in it"
   ]
  },
  {
   "cell_type": "markdown",
   "metadata": {},
   "source": [
    "int a;\n",
    "a = 10;\n",
    "\\*&a = 10;\n",
    "b = \\*&a + 20; // r-value\n",
    "printf(\"%d\\n\", \\*&a); // 30"
   ]
  },
  {
   "cell_type": "markdown",
   "metadata": {},
   "source": [
    "- pointer is variable which store the address information"
   ]
  },
  {
   "cell_type": "markdown",
   "metadata": {},
   "source": [
    "int a, b;\n",
    "int \\*p; // int indicated datatype, * for convention mark, 4 bytes, name is p\n",
    "p = &a;\n",
    "printf(\"%d\", p); // \\*p to use the thing indicated by p (the value or the space)\n",
    "\\*p = 20;\n",
    "printf(\"%d\", \\*p); // get 20\n",
    "printf(\"%d\", a); // get 20"
   ]
  },
  {
   "cell_type": "markdown",
   "metadata": {},
   "source": [
    "## Pointer Variations"
   ]
  },
  {
   "cell_type": "markdown",
   "metadata": {},
   "source": [
    "int a = 10, b = 20;\n",
    "int tot;\n",
    "double = avg;\n",
    "int \\*pa = &a, \\*pb = &b;\n",
    "int \\*pt = &tot;\n",
    "double \\*pg = &avg;\n",
    "\n",
    "\\*pt = \\*pa + \\*pb;\n",
    "\\*pg = \\*pt / 2.0\n",
    "printf(\"%d, %d\\n\", \\*pa, \\*pb);\n",
    "printf(\"%d\\n\", \\*pt);\n",
    "printf(\"%.1lf\", \\*pg);"
   ]
  },
  {
   "cell_type": "markdown",
   "metadata": {},
   "source": [
    "scanf(\"%d\", pa);"
   ]
  },
  {
   "cell_type": "markdown",
   "metadata": {},
   "source": [
    "**const pointer**"
   ]
  },
  {
   "cell_type": "markdown",
   "metadata": {},
   "source": [
    "int a, b;\n",
    "const int \\*pa = &a;\n",
    "pa = &b; // possible on pointer, \n",
    "\\*pa = 10; // impossible, cannot change pointed thing through pointer"
   ]
  },
  {
   "cell_type": "markdown",
   "metadata": {},
   "source": [
    "int a, b;\n",
    "int \\*const pa = &a;\n",
    "pa = &b; // impossible\n",
    "\n",
    "const int * const pa = &a; // both impossible"
   ]
  }
 ],
 "metadata": {
  "kernelspec": {
   "display_name": "Python 3",
   "language": "python",
   "name": "python3"
  },
  "language_info": {
   "codemirror_mode": {
    "name": "ipython",
    "version": 3
   },
   "file_extension": ".py",
   "mimetype": "text/x-python",
   "name": "python",
   "nbconvert_exporter": "python",
   "pygments_lexer": "ipython3",
   "version": "3.6.2"
  }
 },
 "nbformat": 4,
 "nbformat_minor": 2
}
