{
 "cells": [
  {
   "cell_type": "markdown",
   "metadata": {},
   "source": [
    "# if, switch ~ case"
   ]
  },
  {
   "cell_type": "markdown",
   "metadata": {},
   "source": [
    "- review\n",
    "- variable, scanf\n",
    "- operator to process\n",
    "- printf or insert to other variable"
   ]
  },
  {
   "cell_type": "markdown",
   "metadata": {},
   "source": [
    "** control statement **"
   ]
  },
  {
   "cell_type": "markdown",
   "metadata": {},
   "source": [
    "- choice : if, switch ~ case\n",
    "- repetition : while, for, do ~ while\n",
    "- division : break, continue, goto, return"
   ]
  },
  {
   "cell_type": "markdown",
   "metadata": {},
   "source": [
    "int main(void)\n",
    "{\n",
    "    int a = 10;\n",
    "    if (a > 0)\n",
    "    { \n",
    "        a = 0;\n",
    "    }\n",
    "    printf(\"%d\", a); // got 0\n",
    "}"
   ]
  },
  {
   "cell_type": "markdown",
   "metadata": {},
   "source": [
    "int main(void)\n",
    "{\n",
    "    int a = 10;\n",
    "    if(a >= 0)\n",
    "        a = 1;\n",
    "    else\n",
    "        a = -1;\n",
    "}\n",
    "\n",
    "// 1 statement after if or else doesn't need {} but it would be better with."
   ]
  },
  {
   "cell_type": "markdown",
   "metadata": {},
   "source": [
    "int main(void)\n",
    "{\n",
    "    int a = 10, b;\n",
    "    if(a > 0)\n",
    "    {\n",
    "        b = 1;\n",
    "    }\n",
    "    else if(a == 0)\n",
    "    {\n",
    "        b = 2;\n",
    "    }\n",
    "    else\n",
    "    {\n",
    "        b = 3;\n",
    "    }\n",
    "    printf(\"b:%d\", b); // 2\n",
    "}"
   ]
  },
  {
   "cell_type": "markdown",
   "metadata": {},
   "source": [
    "** nested if **"
   ]
  },
  {
   "cell_type": "markdown",
   "metadata": {},
   "source": [
    "int main(void)\n",
    "{\n",
    "    int a = 10, b = 20;\n",
    "    if(a > 10)\n",
    "    {\n",
    "        if(b >= 0)\n",
    "        {\n",
    "            b = 1;\n",
    "        }\n",
    "        else\n",
    "        {\n",
    "            b = -1;\n",
    "        }\n",
    "    }\n",
    "}"
   ]
  },
  {
   "cell_type": "markdown",
   "metadata": {},
   "source": [
    "int main(void)\n",
    "{\n",
    "    int a = 10, b = 20;\n",
    "    if(a > 10) && (b >= 0)\n",
    "    {\n",
    "        b = 1;\n",
    "    }\n",
    "    if(a > 10) && (b < 0)\n",
    "    {\n",
    "        b = -1;\n",
    "    }\n",
    "}x"
   ]
  },
  {
   "cell_type": "markdown",
   "metadata": {},
   "source": [
    "int main(void)\n",
    "{\n",
    "    int a = 10, b = 20;\n",
    "    if(a < 10)\n",
    "    {\n",
    "        if(b > 10)\n",
    "        {\n",
    "            printf(\"OK\");\n",
    "        }\n",
    "    }\n",
    "    else\n",
    "    {\n",
    "        printf(\"OK\");\n",
    "    }\n",
    "}\n",
    "// dangling else problem, it would be better to use {} explicitly"
   ]
  },
  {
   "cell_type": "markdown",
   "metadata": {},
   "source": [
    "** Abbreviated vs Original **"
   ]
  },
  {
   "cell_type": "markdown",
   "metadata": {},
   "source": [
    "int main(void)\n",
    "{\n",
    "    if(a > 0)\n",
    "        b = 1;\n",
    "    else if(a == 0)\n",
    "        b = 2;\n",
    "    else \n",
    "        b = 3;\n",
    "}"
   ]
  },
  {
   "cell_type": "markdown",
   "metadata": {},
   "source": [
    "int main(void)\n",
    "{\n",
    "    if(a > 0)\n",
    "    {\n",
    "        b = 1;\n",
    "    }\n",
    "    else \n",
    "    {\n",
    "        if(a == 0)\n",
    "        {\n",
    "            b = 2;\n",
    "        }\n",
    "        else \n",
    "        {\n",
    "            b = 3;\n",
    "        }\n",
    "    }\n",
    "}"
   ]
  },
  {
   "cell_type": "markdown",
   "metadata": {},
   "source": [
    "** Switch ~ case **"
   ]
  },
  {
   "cell_type": "markdown",
   "metadata": {},
   "source": [
    "int main(void)\n",
    "{\n",
    "    int rank = 3;\n",
    "    int m;\n",
    "    switch(rank)\n",
    "    {\n",
    "    case 1: m = 300;break;\n",
    "    case 2: m = 200;break;\n",
    "    case 3: m = 100;break;\n",
    "    default: m = 50;break;\n",
    "    }\n",
    "    printf(\"%d\", m); // got 100\n",
    "} // switch only get integer "
   ]
  },
  {
   "cell_type": "markdown",
   "metadata": {},
   "source": [
    "int main(void)\n",
    "{\n",
    "    int rank = 2;\n",
    "    int m = 0;\n",
    "    switch(rank)\n",
    "    {\n",
    "    case 1: m = 300; // special case needs comment\n",
    "    case 2: m = 200;\n",
    "    case 3: m = 100;\n",
    "    default: m = 50;\n",
    "    }\n",
    "    printf(\"%d\", m); // got 350\n",
    "} // switch only get integer "
   ]
  }
 ],
 "metadata": {
  "kernelspec": {
   "display_name": "Python 3",
   "language": "python",
   "name": "python3"
  },
  "language_info": {
   "codemirror_mode": {
    "name": "ipython",
    "version": 3
   },
   "file_extension": ".py",
   "mimetype": "text/x-python",
   "name": "python",
   "nbconvert_exporter": "python",
   "pygments_lexer": "ipython3",
   "version": "3.6.2"
  }
 },
 "nbformat": 4,
 "nbformat_minor": 2
}
