{
 "cells": [
  {
   "cell_type": "markdown",
   "metadata": {},
   "source": [
    "# 3.2 Data Input\n",
    "- scanf function\n",
    "- scanf function extension\n",
    "- character and string input"
   ]
  },
  {
   "cell_type": "markdown",
   "metadata": {},
   "source": [
    "int main(void)\n",
    "{\n",
    "    int a = 10;\n",
    "    a = 20;\n",
    "    \n",
    "    printf(\"%d\\n\", a);\n",
    "}"
   ]
  },
  {
   "cell_type": "markdown",
   "metadata": {},
   "source": [
    "int main(void)\n",
    "{\n",
    "    int a;\n",
    "    scanf(\"%d\", &a);  // transform to integer, & for address calculator\n",
    "    \n",
    "    short b;\n",
    "    scanf(\"%hd\", &b); \n",
    "    \n",
    "    long ln;\n",
    "    scanf(\"%ld\", &ln);\n",
    "    \n",
    "    long long lld;\n",
    "    scanf(\"%lld\", &lld);\n",
    "    \n",
    "    char ch;\n",
    "    scanf(\"%d\", &ch); // error !!!\n",
    "    scanf(\"%c\", &ch);\n",
    "    \n",
    "    float ft;\n",
    "    scanf(\"%f\", &ft);\n",
    "    \n",
    "    double db;\n",
    "    scanf(\"%lf\", &db);\n",
    "    \n",
    "    long double ld;\n",
    "    scanf(\"%Lf\", ld);\n",
    "    \n",
    "    \n",
    "}"
   ]
  },
  {
   "cell_type": "markdown",
   "metadata": {},
   "source": [
    "int main(void)\n",
    "{\n",
    "    int age; // 4 bytes\n",
    "    double height; // 8 bytes\n",
    "    \n",
    "    printf(\"Age:\");\n",
    "    scanf(\"%d\", &age);\n",
    "    \n",
    "    print(\"Height:\");\n",
    "    scanf(\"%lf\", &height);\n",
    "    \n",
    "    printf(\"Age:%d age, Height:%lf height\\n\", age, hegiht);\n",
    "}"
   ]
  },
  {
   "cell_type": "markdown",
   "metadata": {},
   "source": [
    "int main(void)\n",
    "{\n",
    "    int age;\n",
    "    double height;\n",
    "    \n",
    "    printft(\"Age and Heght:\");\n",
    "    scanf(\"%d%lf\", &age, &height); // put whitespace when insert them\n",
    "}"
   ]
  },
  {
   "cell_type": "markdown",
   "metadata": {},
   "source": [
    "int main(void)\n",
    "{\n",
    "    char grade;\n",
    "    \n",
    "    printf(\"Grade:\");\n",
    "    scanf(\"%c\", &grade); // recognize white space, it enter, got \\n in it\n",
    "    \n",
    "    printf(\"%c\\n\", grade);"
   ]
  },
  {
   "cell_type": "markdown",
   "metadata": {},
   "source": [
    "int main(void)\n",
    "{\n",
    "    char name[20];\n",
    "    \n",
    "    printf(\"Name:\");\n",
    "    scanf(\"%s\", name); // no need to add ampersand\n",
    "    \n",
    "    printf(\"%s\\n\", name); // honggil, got honggil\n",
    "    \n",
    "    printf(\"%s\\n\", name); // hong gil, got hong (space null for quiting)\n",
    "    \n",
    "    \n",
    "}"
   ]
  },
  {
   "cell_type": "markdown",
   "metadata": {},
   "source": [
    "# Operator\n",
    "- math, relation, logic\n",
    "- bit and others"
   ]
  },
  {
   "cell_type": "markdown",
   "metadata": {},
   "source": [
    "- Operand and Operator"
   ]
  },
  {
   "cell_type": "markdown",
   "metadata": {},
   "source": [
    "** Arithmetic operator **"
   ]
  },
  {
   "cell_type": "markdown",
   "metadata": {},
   "source": [
    "_ - *  % ++ -- \\*\\* "
   ]
  },
  {
   "cell_type": "markdown",
   "metadata": {},
   "source": [
    "a + b;\n",
    "a - b;\n",
    "a * b ;\n",
    "a / b; // if both are integer remain is dumped\n",
    "a % b; // only available when both are integer"
   ]
  },
  {
   "cell_type": "markdown",
   "metadata": {},
   "source": [
    "a = a + 1;\n",
    "++a;\n",
    "a = a - 1;\n",
    "--a"
   ]
  },
  {
   "cell_type": "markdown",
   "metadata": {},
   "source": [
    "prefix or postfix case "
   ]
  },
  {
   "cell_type": "markdown",
   "metadata": {},
   "source": [
    "int a = 10;\n",
    "\n",
    "a++; // same as ++a\n",
    "printf(\"%d\" a); // 11"
   ]
  },
  {
   "cell_type": "markdown",
   "metadata": {},
   "source": [
    "int a = 5;\n",
    "int b;\n",
    "b = ++a * 3\n",
    "printf(\"%d\", b); // 18\n",
    "printf(\"%d\", a); // 6"
   ]
  },
  {
   "cell_type": "markdown",
   "metadata": {},
   "source": [
    "int a = 5;\n",
    "int b;\n",
    "b = a++ * 3\n",
    "printf(\"%d\", a); // 6\n",
    "printf(\"%d\", b); // 15\n"
   ]
  },
  {
   "cell_type": "markdown",
   "metadata": {},
   "source": [
    "int a, b;\n",
    "\n",
    "a = 10; // used as space, l-value(left)\n",
    "b = a; // used as value, r-value"
   ]
  },
  {
   "cell_type": "markdown",
   "metadata": {},
   "source": [
    "** Relation operator **"
   ]
  },
  {
   "cell_type": "markdown",
   "metadata": {},
   "source": [
    ">> = < < == !="
   ]
  },
  {
   "cell_type": "markdown",
   "metadata": {},
   "source": [
    "int a = 10, b = 5;\n",
    "prinft(\"%d\", a > b); true, get 1"
   ]
  },
  {
   "cell_type": "markdown",
   "metadata": {},
   "source": [
    "int a;\n",
    "scanf(\"%d\", &a);\n",
    "if (10 < a < 20) printf(\"OK\");\n",
    "else printf(\"Cancel\");\n",
    "\n",
    "-> OK because, if (1 < 20) -> True"
   ]
  },
  {
   "cell_type": "markdown",
   "metadata": {},
   "source": [
    "- Use &&, ||, ! "
   ]
  },
  {
   "cell_type": "markdown",
   "metadata": {},
   "source": [
    "if ((a > 10) && (a < 20)) ..."
   ]
  },
  {
   "cell_type": "markdown",
   "metadata": {},
   "source": [
    "- Short Circuit Rule\n",
    "\n",
    "int a = 5, b = 0; \n",
    "(a > 0) && (++ b > 0);\n",
    "\n",
    "printf(\"%d, %d\\n\", a, b); // got 5, 1"
   ]
  },
  {
   "cell_type": "markdown",
   "metadata": {},
   "source": [
    "int a = 5, b = 0;\n",
    "(a < 0) && (++b > 0);\n",
    "\n",
    "printf(\"%d, %d\\n\", a, b); // got 5, 0"
   ]
  },
  {
   "cell_type": "code",
   "execution_count": null,
   "metadata": {
    "collapsed": true
   },
   "outputs": [],
   "source": []
  },
  {
   "cell_type": "code",
   "execution_count": null,
   "metadata": {
    "collapsed": true
   },
   "outputs": [],
   "source": []
  }
 ],
 "metadata": {
  "kernelspec": {
   "display_name": "Python 3",
   "language": "python",
   "name": "python3"
  },
  "language_info": {
   "codemirror_mode": {
    "name": "ipython",
    "version": 3
   },
   "file_extension": ".py",
   "mimetype": "text/x-python",
   "name": "python",
   "nbconvert_exporter": "python",
   "pygments_lexer": "ipython3",
   "version": "3.6.2"
  }
 },
 "nbformat": 4,
 "nbformat_minor": 2
}
