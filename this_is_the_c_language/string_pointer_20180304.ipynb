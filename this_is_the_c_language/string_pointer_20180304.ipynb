{
 "cells": [
  {
   "cell_type": "markdown",
   "metadata": {},
   "source": [
    "int main(void)\n",
    "{\n",
    "    printf(\"%s\", \"apple\");\n",
    "}"
   ]
  },
  {
   "cell_type": "markdown",
   "metadata": {},
   "source": [
    "- Store the string at the special space in the memory and replace the string with the address of the memory"
   ]
  },
  {
   "cell_type": "markdown",
   "metadata": {},
   "source": [
    "> So we can do"
   ]
  },
  {
   "cell_type": "markdown",
   "metadata": {},
   "source": [
    "int main(void)\n",
    "{\n",
    "    printf(\"%c\", \\*\"apple\"); // a\n",
    "    prinft(\"%c\", \\*(\"apple\"+3); // l\n",
    "    prinft(\"%c\", \"apple\"[3]; // l\n",
    "}"
   ]
  },
  {
   "cell_type": "markdown",
   "metadata": {},
   "source": [
    "int main(void)\n",
    "{\n",
    "    char \\*cp = \"apple\"; // \\*cp store the address of string \"apple\"\n",
    "    printf(\"%s\", cp);\n",
    "}"
   ]
  },
  {
   "cell_type": "markdown",
   "metadata": {},
   "source": [
    "int main(void)\n",
    "{\n",
    "    char \\*cp = \"apple\";\n",
    "    while (\\*cp != 'null')\n",
    "    {\n",
    "        printf(\"%s\\n\", cp);\n",
    "        cp++; \n",
    "    }\n",
    "}"
   ]
  },
  {
   "cell_type": "markdown",
   "metadata": {},
   "source": [
    "apple\n",
    "pple\n",
    "ple\n",
    "le\n",
    "e\n"
   ]
  },
  {
   "cell_type": "markdown",
   "metadata": {},
   "source": [
    "int main(void)\n",
    "{\n",
    "    char \\*dessert = \"apple\";\n",
    "    printf(\"%s\\n\", dessert);\n",
    "    dessert = \"banana\";\n",
    "    printf(\"%s\\n\", dessert); \n",
    "}"
   ]
  },
  {
   "cell_type": "markdown",
   "metadata": {},
   "source": [
    "> But cannot insert string"
   ]
  },
  {
   "cell_type": "markdown",
   "metadata": {},
   "source": [
    "int main(void)\n",
    "{\n",
    "    char str[20];\n",
    "    scanf(\"%s\", str); // str(name of string) is the address of first character of string \n",
    "    // but %s consider whitespace as a break\n",
    "    gets(str); // gets function can get string with whitespace\n",
    "}"
   ]
  },
  {
   "cell_type": "markdown",
   "metadata": {},
   "source": [
    "> how to make gets function"
   ]
  },
  {
   "cell_type": "markdown",
   "metadata": {},
   "source": [
    "int main(void)\n",
    "{\n",
    "    int = i;\n",
    "    char str[20];\n",
    "    char ch;\n",
    "    \n",
    "    i = 0;\n",
    "    ch = getchar();\n",
    "    while (ch != '\\n')\n",
    "    {\n",
    "        str[i] = ch'';\n",
    "        i++;\n",
    "        ch = getchar();\n",
    "    }\n",
    "    str[i] = 'null';\n",
    "}"
   ]
  },
  {
   "cell_type": "markdown",
   "metadata": {},
   "source": [
    "** Defects **\n",
    "- Should handle remained '\\n' \n",
    "- cannot check the length of str inputs so it could invade other memory space"
   ]
  },
  {
   "cell_type": "markdown",
   "metadata": {},
   "source": [
    "> fgets function : can care about assigned memory space"
   ]
  },
  {
   "cell_type": "markdown",
   "metadata": {},
   "source": [
    "fgets(str, sizeof(str), stdin);\n",
    "printf(\"%s\", str);\n",
    "str[strlen(str) - 1] = 'null'; // to erase opening character"
   ]
  },
  {
   "cell_type": "markdown",
   "metadata": {},
   "source": [
    "puts(str); // automatically change line, print function only for string"
   ]
  }
 ],
 "metadata": {
  "kernelspec": {
   "display_name": "Python 3",
   "language": "python",
   "name": "python3"
  },
  "language_info": {
   "codemirror_mode": {
    "name": "ipython",
    "version": 3
   },
   "file_extension": ".py",
   "mimetype": "text/x-python",
   "name": "python",
   "nbconvert_exporter": "python",
   "pygments_lexer": "ipython3",
   "version": "3.6.2"
  }
 },
 "nbformat": 4,
 "nbformat_minor": 2
}
