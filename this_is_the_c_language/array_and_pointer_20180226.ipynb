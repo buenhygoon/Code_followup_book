{
 "cells": [
  {
   "cell_type": "markdown",
   "metadata": {},
   "source": [
    "- array namespace\n",
    "- array indexing with array name\n",
    "- pointer acting like array name\n",
    "- difference between arrayname and pointer\n",
    "- sub and relational operation of pointer"
   ]
  },
  {
   "cell_type": "markdown",
   "metadata": {},
   "source": [
    "int a[5]; // know first address -> can use all other address"
   ]
  },
  {
   "cell_type": "markdown",
   "metadata": {},
   "source": [
    "- array name is automatically changed to first address"
   ]
  },
  {
   "cell_type": "markdown",
   "metadata": {},
   "source": [
    "a + (4 * 4 data size of thing that a is pointing) // automatically multiply the size of target data\n",
    "\n",
    "-> get 116 "
   ]
  },
  {
   "cell_type": "markdown",
   "metadata": {},
   "source": [
    "a + 0 -> 100\n",
    "a + 1 -> 104\n",
    "a + 2 -> 108"
   ]
  },
  {
   "cell_type": "markdown",
   "metadata": {},
   "source": [
    "\\*(a + 0) = 10;\n",
    "\\*(a + 1) = 20;\n",
    "\\*(a + 2) = 30;\n"
   ]
  },
  {
   "cell_type": "markdown",
   "metadata": {},
   "source": [
    "a[0] = 10; -> \\*(a + 0) = 10;"
   ]
  },
  {
   "cell_type": "markdown",
   "metadata": {},
   "source": [
    "int a[5];\n",
    "int \\*p = a; // array name a is automatically address\n",
    "\\*(p + 0) = 10;\n",
    "\\*(p + 1) = 20;\n",
    "\\*(p + 2) = 30;\n",
    "\\*(p + 3) = 40;\n",
    "\\*(p + 4) = 50;"
   ]
  },
  {
   "cell_type": "markdown",
   "metadata": {},
   "source": [
    "p[0] = 10;\n",
    "p[1] = 20; // poiter which store array name can be used like array name"
   ]
  },
  {
   "cell_type": "markdown",
   "metadata": {},
   "source": [
    "int a[5] = {10, 20, 30, 40, 50};\n",
    "int \\*p = a;\n",
    "for (i = 0; i < 5; i++)\n",
    "{\n",
    "    printf(\"%5d, \\*p);\n",
    "    p++;\n",
    "} // p is variable, a is contant"
   ]
  },
  {
   "cell_type": "markdown",
   "metadata": {},
   "source": [
    "for (i = 0; i < 3; i ++)\n",
    "{\n",
    "    prinft(\"%5d', p[i]);\n",
    "}"
   ]
  },
  {
   "cell_type": "markdown",
   "metadata": {},
   "source": [
    "for (i 0 5; 0 < 5; i++)\n",
    "{\n",
    "    prinft(\"%5d\", \\*(p ++));`\n",
    "}"
   ]
  },
  {
   "cell_type": "markdown",
   "metadata": {},
   "source": [
    "(\\*p)++; // 11, change a[0] value"
   ]
  },
  {
   "cell_type": "markdown",
   "metadata": {},
   "source": [
    "** pointer sub **"
   ]
  },
  {
   "cell_type": "markdown",
   "metadata": {},
   "source": [
    "int \\*p = a + 3;\n",
    "int \\*q;\n",
    "q = p - 3; // q is 100, sub is also \\* datatype size \n",
    "           // no mul, div between pointer"
   ]
  },
  {
   "cell_type": "markdown",
   "metadata": {},
   "source": [
    "q - p; // 112 - 116 = -4 / 4(datatype size) got -1"
   ]
  },
  {
   "cell_type": "markdown",
   "metadata": {},
   "source": [
    "- < > >= <= could be done on pointer\n",
    "if (p > q) // location of pointers"
   ]
  },
  {
   "cell_type": "code",
   "execution_count": null,
   "metadata": {
    "collapsed": true
   },
   "outputs": [],
   "source": []
  }
 ],
 "metadata": {
  "kernelspec": {
   "display_name": "Python 3",
   "language": "python",
   "name": "python3"
  },
  "language_info": {
   "codemirror_mode": {
    "name": "ipython",
    "version": 3
   },
   "file_extension": ".py",
   "mimetype": "text/x-python",
   "name": "python",
   "nbconvert_exporter": "python",
   "pygments_lexer": "ipython3",
   "version": "3.6.2"
  }
 },
 "nbformat": 4,
 "nbformat_minor": 2
}
