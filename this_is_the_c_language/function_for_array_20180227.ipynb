{
 "cells": [
  {
   "cell_type": "markdown",
   "metadata": {},
   "source": [
    "- function for output of array value\n",
    "- function which print out arrays with different element numbers\n",
    "- function which insert values in array"
   ]
  },
  {
   "cell_type": "markdown",
   "metadata": {},
   "source": [
    "int a[5] = {1, 2, 3, 4, 5};\n",
    "int size;\n",
    "\n",
    "print_ary(a[0], a[1], ...);  // too much arguments, loop is unavailable\n",
    "\n",
    "size = sizeof(a) / sizeof(a[0]);\n",
    "print_ary(a, size); // just insert array name\n",
    "\n",
    "avg = average_ary(a); \n",
    "printf(\"평균: %.1lf\\n\", avg);"
   ]
  },
  {
   "cell_type": "markdown",
   "metadata": {},
   "source": [
    "void print_ary(int \\*p, int size) // can't count array number \n",
    "{\n",
    "    int i;\n",
    "    for (i = 0; i < size; i++)\n",
    "    {\n",
    "        printf(\"%5d\", p[i]); // p[i] = \\*(p + i)        \n",
    "    }\n",
    "}"
   ]
  },
  {
   "cell_type": "markdown",
   "metadata": {},
   "source": [
    "double average_ary(int \\*p, int size);\n",
    "{\n",
    "    int tot = 0, i;\n",
    "    for (i = 0; i < size; i++)\n",
    "    {\n",
    "        tot += p[i];\n",
    "    }\n",
    "    return tot / (double)size;\n",
    "}"
   ]
  }
 ],
 "metadata": {
  "kernelspec": {
   "display_name": "Python 3",
   "language": "python",
   "name": "python3"
  },
  "language_info": {
   "codemirror_mode": {
    "name": "ipython",
    "version": 3
   },
   "file_extension": ".py",
   "mimetype": "text/x-python",
   "name": "python",
   "nbconvert_exporter": "python",
   "pygments_lexer": "ipython3",
   "version": "3.6.2"
  }
 },
 "nbformat": 4,
 "nbformat_minor": 2
}
