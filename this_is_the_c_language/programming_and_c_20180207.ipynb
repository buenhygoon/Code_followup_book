{
 "cells": [
  {
   "cell_type": "markdown",
   "metadata": {},
   "source": [
    "## 1.1 C \n",
    "- History\n",
    "- Generalization\n",
    "- Practice Env\n",
    "\n",
    "## How to use Compile\n",
    "- Source file\n",
    "- compile\n",
    "- implementation"
   ]
  },
  {
   "cell_type": "markdown",
   "metadata": {},
   "source": [
    "#### What is program?"
   ]
  },
  {
   "cell_type": "markdown",
   "metadata": {},
   "source": [
    "- sequence of works\n",
    "- **make space -> data inputs -> process -> output (should be ordered) **\n",
    "- need special language to communicate with computer : programming languages"
   ]
  },
  {
   "cell_type": "markdown",
   "metadata": {},
   "source": [
    "#### History & Traits"
   ]
  },
  {
   "cell_type": "markdown",
   "metadata": {},
   "source": [
    "- At Bell Ken Tomson(for unix development) and Dennis remake it."
   ]
  },
  {
   "cell_type": "markdown",
   "metadata": {},
   "source": [
    "- Unix is os that manages all other devices so c can handle hardware directly."
   ]
  },
  {
   "cell_type": "markdown",
   "metadata": {},
   "source": [
    "- **Hardware control, compatibility, modulized(re-usability)**"
   ]
  },
  {
   "cell_type": "markdown",
   "metadata": {},
   "source": [
    "- K&R C : Kernighan and Ritchie (1978)\n",
    "- ANSI(American National Standard Institute) C (1989)\n",
    "- ISO(International Standard Organization) C99 (this lecture)"
   ]
  },
  {
   "cell_type": "markdown",
   "metadata": {},
   "source": [
    "- *Using Visual C++ for practice*"
   ]
  },
  {
   "cell_type": "markdown",
   "metadata": {},
   "source": [
    "#### Coding to Program\n",
    "- source code -> compile -> implementation\n",
    "- source code : saved as text file (ASCII)\n",
    "- ASCII saved by unit of byte(8 bits)\n",
    "- A saved as 01000001 which 1 + 64 = 65 (ASCII Code)\n",
    "- compile : coded characters -> set of orders\n",
    "- "
   ]
  },
  {
   "cell_type": "code",
   "execution_count": null,
   "metadata": {
    "collapsed": true
   },
   "outputs": [],
   "source": []
  }
 ],
 "metadata": {
  "kernelspec": {
   "display_name": "Python 3",
   "language": "python",
   "name": "python3"
  },
  "language_info": {
   "codemirror_mode": {
    "name": "ipython",
    "version": 3
   },
   "file_extension": ".py",
   "mimetype": "text/x-python",
   "name": "python",
   "nbconvert_exporter": "python",
   "pygments_lexer": "ipython3",
   "version": "3.6.2"
  }
 },
 "nbformat": 4,
 "nbformat_minor": 2
}
