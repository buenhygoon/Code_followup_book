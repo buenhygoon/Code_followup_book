{
 "cells": [
  {
   "cell_type": "markdown",
   "metadata": {},
   "source": [
    "## 1.1 C \n",
    "- History\n",
    "- Generalization\n",
    "- Practice Env\n",
    "\n",
    "## How to use Compile\n",
    "- Source file\n",
    "- compile\n",
    "- implementation"
   ]
  },
  {
   "cell_type": "markdown",
   "metadata": {},
   "source": [
    "#### What is program?"
   ]
  },
  {
   "cell_type": "markdown",
   "metadata": {},
   "source": [
    "- sequence of works\n",
    "- **make space -> data inputs -> process -> output (should be ordered) **\n",
    "- need special language to communicate with computer : programming languages"
   ]
  },
  {
   "cell_type": "markdown",
   "metadata": {},
   "source": [
    "#### History & Traits"
   ]
  },
  {
   "cell_type": "markdown",
   "metadata": {},
   "source": [
    "- At Bell Ken Tomson(for unix development) and Dennis remake it."
   ]
  },
  {
   "cell_type": "markdown",
   "metadata": {},
   "source": [
    "- Unix is os that manages all other devices so c can handle hardware directly."
   ]
  },
  {
   "cell_type": "markdown",
   "metadata": {},
   "source": [
    "- **Hardware control, compatibility, modulized(re-usability)**"
   ]
  },
  {
   "cell_type": "markdown",
   "metadata": {},
   "source": [
    "- K&R C : Kernighan and Ritchie (1978)\n",
    "- ANSI(American National Standard Institute) C (1989)\n",
    "- ISO(International Standard Organization) C99 (this lecture)"
   ]
  },
  {
   "cell_type": "markdown",
   "metadata": {},
   "source": [
    "- *Using Visual C++ for practice*"
   ]
  },
  {
   "cell_type": "markdown",
   "metadata": {},
   "source": [
    "#### Coding to Program\n",
    "- source code -> compile -> implementation\n",
    "- source code : saved as text file (ASCII)\n",
    "- ASCII saved by unit of byte(8 bits)\n",
    "- A saved as 01000001 which 1 + 64 = 65 (ASCII Code)\n",
    "- compile : coded characters -> set of orders\n",
    "- "
   ]
  },
  {
   "cell_type": "code",
   "execution_count": 1,
   "metadata": {
    "collapsed": true
   },
   "outputs": [],
   "source": [
    "a = [1, 2, 3, 4, 5]\n",
    "\n",
    "class LetTheFlow(object):\n",
    "    def __init__(self, flow):\n",
    "        self.flow = flow\n",
    "    \n",
    "    def __str__(self):\n",
    "        return str(self.flow)"
   ]
  },
  {
   "cell_type": "code",
   "execution_count": 2,
   "metadata": {
    "collapsed": true
   },
   "outputs": [],
   "source": [
    "b = LetTheFlow(a)"
   ]
  },
  {
   "cell_type": "code",
   "execution_count": 3,
   "metadata": {},
   "outputs": [
    {
     "data": {
      "text/plain": [
       "<__main__.LetTheFlow at 0x7fb016612240>"
      ]
     },
     "execution_count": 3,
     "metadata": {},
     "output_type": "execute_result"
    }
   ],
   "source": [
    "b"
   ]
  },
  {
   "cell_type": "code",
   "execution_count": 4,
   "metadata": {},
   "outputs": [
    {
     "name": "stdout",
     "output_type": "stream",
     "text": [
      "[1, 2, 3, 4, 5]\n"
     ]
    }
   ],
   "source": [
    "print(b)"
   ]
  },
  {
   "cell_type": "markdown",
   "metadata": {
    "collapsed": true
   },
   "source": [
    "# 2. Number and output\n",
    "## 2.1 Basic C program structure and method of data output\n",
    "## 2.2 number and data expression"
   ]
  },
  {
   "cell_type": "markdown",
   "metadata": {},
   "source": [
    "- startup code : program's heading code added by compiler \n",
    "- return : return the control of the memery \n",
    "- 0 : operation success"
   ]
  },
  {
   "cell_type": "markdown",
   "metadata": {},
   "source": [
    "// for single line comment\n",
    "/* */ for multi line comment\n"
   ]
  },
  {
   "cell_type": "markdown",
   "metadata": {},
   "source": [
    "#include <stdio.h> to bring preprocess selector\n",
    "stdio.h file in include folder which have many functions like printf"
   ]
  },
  {
   "cell_type": "markdown",
   "metadata": {},
   "source": [
    "control characters\n",
    "\\n for new line\n",
    "\\r for carrage return\n",
    "\\b\n",
    "\\t\n",
    "\\a for bip sounds \n",
    "...\n",
    "\n",
    "\n"
   ]
  },
  {
   "cell_type": "markdown",
   "metadata": {},
   "source": [
    "printf(\"Be happy\\n\");\n",
    "printf(\"My\\tfriend\\n\");\n",
    "printf(\"Goot\\bd chance\\\\n\");\n",
    "printf(\"Cow\\rW\\a\\n\");\n",
    "return 0;"
   ]
  },
  {
   "cell_type": "markdown",
   "metadata": {},
   "source": [
    "Be happy\n",
    "My      friend\n",
    "Good chance\n",
    "Wow"
   ]
  },
  {
   "cell_type": "markdown",
   "metadata": {},
   "source": [
    "printf(%d\", 10); \n",
    "decimal mark to number 10 to be output (string)\n"
   ]
  },
  {
   "cell_type": "markdown",
   "metadata": {},
   "source": [
    "printf(\"%lf\\n\", 3.4);\n"
   ]
  },
  {
   "cell_type": "code",
   "execution_count": null,
   "metadata": {
    "collapsed": true
   },
   "outputs": [],
   "source": []
  },
  {
   "cell_type": "code",
   "execution_count": null,
   "metadata": {
    "collapsed": true
   },
   "outputs": [],
   "source": []
  },
  {
   "cell_type": "code",
   "execution_count": null,
   "metadata": {
    "collapsed": true
   },
   "outputs": [],
   "source": []
  }
 ],
 "metadata": {
  "kernelspec": {
   "display_name": "Python 3",
   "language": "python",
   "name": "python3"
  },
  "language_info": {
   "codemirror_mode": {
    "name": "ipython",
    "version": 3
   },
   "file_extension": ".py",
   "mimetype": "text/x-python",
   "name": "python",
   "nbconvert_exporter": "python",
   "pygments_lexer": "ipython3",
   "version": "3.6.2"
  }
 },
 "nbformat": 4,
 "nbformat_minor": 2
}
