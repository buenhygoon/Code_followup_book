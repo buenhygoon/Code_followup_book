{
 "cells": [
  {
   "cell_type": "markdown",
   "metadata": {},
   "source": [
    "# Bit Operator and others\n",
    "- type transformation operator\n",
    "- sizeof\n",
    "- combination \n",
    "- comma\n",
    "- conditional\n",
    "- bit\n",
    "- priority and direction"
   ]
  },
  {
   "cell_type": "markdown",
   "metadata": {},
   "source": [
    "int a = 10;\n",
    "a / 3.; // change a value's type, not the variable "
   ]
  },
  {
   "cell_type": "markdown",
   "metadata": {},
   "source": [
    "int grad = 100, empl = 90;\n",
    "double res;\n",
    "res = empl / grad * 100.0; // got 0 cause empl / grad is 0\n",
    "res = (double)empl / grad * 100.0; // got 90 cause empl(90.0) / grad(100.0) is 0.9"
   ]
  },
  {
   "cell_type": "markdown",
   "metadata": {},
   "source": [
    "double a = 90.7;\n",
    "int res2 = a;\n",
    "printf(\"%d\", res2); // got 90"
   ]
  },
  {
   "cell_type": "markdown",
   "metadata": {},
   "source": [
    "res2 = (int)a; // this would be better to explicitly show the change"
   ]
  },
  {
   "cell_type": "markdown",
   "metadata": {},
   "source": [
    "> sizeof "
   ]
  },
  {
   "cell_type": "markdown",
   "metadata": {},
   "source": [
    "int a = 10;\n",
    "double b = 3.4;\n",
    "printf(\"%d\", sizeof a); // got 4 bytes\n",
    "printf(\"%d\", sizeof (3.5 + 10); // 8 bytes\n",
    "printf(\"%d\", sizeof 3.5 + 10; // got 18, 8 + 10\n",
    "printf(\"%d\", sizeof (int)); // also needs parenthesis, operator not function"
   ]
  },
  {
   "cell_type": "markdown",
   "metadata": {},
   "source": [
    "char str[20];\n",
    "printf(\"%d\", sizeof (str)); // got 20\n",
    "printf(\"%d\", sizefe (\"A\")); // got 2 including null value"
   ]
  },
  {
   "cell_type": "markdown",
   "metadata": {},
   "source": [
    "> combination, comma"
   ]
  },
  {
   "cell_type": "markdown",
   "metadata": {},
   "source": [
    "int a = 10;\n",
    "a = a + 1; \n",
    "a += 1; // this is combination of add and insertion\n"
   ]
  },
  {
   "cell_type": "markdown",
   "metadata": {},
   "source": [
    "b \\*= a + 3; // combination has same priority of insertion, + first in this case\n",
    "\n",
    "int a = 10;\n",
    "int b;\n",
    "++a, b = a;\n",
    "printf(\"%d\", a); // 11\n",
    "printf(\"%d\", b); // 11"
   ]
  },
  {
   "cell_type": "markdown",
   "metadata": {},
   "source": [
    "++a;\n",
    "b = a; \n",
    "\n",
    "// is better"
   ]
  },
  {
   "cell_type": "markdown",
   "metadata": {},
   "source": [
    "b = ++a, 10; // got error\n",
    "b = (++a, 10); // increase 1 of a and b got 10"
   ]
  },
  {
   "cell_type": "markdown",
   "metadata": {},
   "source": [
    "> conditional\n"
   ]
  },
  {
   "cell_type": "markdown",
   "metadata": {},
   "source": [
    "int a = 10, b = 20;\n",
    "int max;\n",
    "\n",
    "max = (a > b) ? a : b; // b is inserted to max\n",
    "(a > b) ? (max = a) : (max = b);\n",
    "(a > b) ? printf(\"%d\", a) : printf(\"%d\", b);"
   ]
  },
  {
   "cell_type": "markdown",
   "metadata": {},
   "source": [
    "> bit operator"
   ]
  },
  {
   "cell_type": "markdown",
   "metadata": {},
   "source": [
    "- logical : & | ^ ~\n",
    "- move : >> << "
   ]
  },
  {
   "cell_type": "markdown",
   "metadata": {},
   "source": [
    "int a = 10, b = 5; "
   ]
  },
  {
   "cell_type": "markdown",
   "metadata": {},
   "source": [
    "a <<= 1;\n",
    "a &= b; \n",
    "a |= b;"
   ]
  },
  {
   "cell_type": "markdown",
   "metadata": {},
   "source": [
    "** should care about priority when use many operators **"
   ]
  },
  {
   "cell_type": "markdown",
   "metadata": {},
   "source": [
    "arith > shift > relation > logical"
   ]
  },
  {
   "cell_type": "code",
   "execution_count": null,
   "metadata": {
    "collapsed": true
   },
   "outputs": [],
   "source": [
    "\\* / % > + -\n",
    "<< >> \n",
    "> < >= <= > == !=\n",
    "~ > && > || "
   ]
  }
 ],
 "metadata": {
  "kernelspec": {
   "display_name": "Python 3",
   "language": "python",
   "name": "python3"
  },
  "language_info": {
   "codemirror_mode": {
    "name": "ipython",
    "version": 3
   },
   "file_extension": ".py",
   "mimetype": "text/x-python",
   "name": "python",
   "nbconvert_exporter": "python",
   "pygments_lexer": "ipython3",
   "version": "3.6.2"
  }
 },
 "nbformat": 4,
 "nbformat_minor": 2
}
