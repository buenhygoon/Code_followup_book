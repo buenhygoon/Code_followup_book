{
 "cells": [
  {
   "cell_type": "markdown",
   "metadata": {},
   "source": [
    "- array declaration and usage"
   ]
  },
  {
   "cell_type": "markdown",
   "metadata": {},
   "source": [
    "int ary[5]; // array type, array name, array size"
   ]
  },
  {
   "cell_type": "markdown",
   "metadata": {},
   "source": [
    "ary[0] = 10;\n",
    "scanf(\"%d\", &ary[1]);\n",
    "ary[2] = ary[0] + ary[1];"
   ]
  },
  {
   "cell_type": "markdown",
   "metadata": {},
   "source": [
    "array defaulting"
   ]
  },
  {
   "cell_type": "markdown",
   "metadata": {},
   "source": [
    "int ary[5] = {\n",
    "  10, 20, 30, 40, 50}; // orderly inserted to ary(defaulting)\n"
   ]
  },
  {
   "cell_type": "markdown",
   "metadata": {},
   "source": [
    "int ary[5] = {\n",
    "  0 }; // automatically fill other space with 0"
   ]
  },
  {
   "cell_type": "markdown",
   "metadata": {},
   "source": [
    "int ary[] = {\n",
    "  1, 2, 3, 4, 5 }; // get 5 unit defaulted memory "
   ]
  },
  {
   "cell_type": "markdown",
   "metadata": {},
   "source": [
    "- array for loop"
   ]
  },
  {
   "cell_type": "markdown",
   "metadata": {},
   "source": [
    "int ary[5], i, sum;\n",
    "double avg;\n",
    "for (i = 0; i < 5; i++) \n",
    "{\n",
    "    scanf(\"%d\", &any[i]);\n",
    "    sum += ary[i];\n",
    "}\n",
    "avg = sum / 5.0;\n",
    "for (i = 0; i < 5; i++)\n",
    "{ \n",
    "    printf(\"%5d\", ary[i]);\n",
    "}\n",
    "printf(\"%.1lf\", avg);"
   ]
  },
  {
   "cell_type": "markdown",
   "metadata": {},
   "source": [
    "int ary[5], i, sum, size;\n",
    "double avg;\n",
    "\n",
    "size = sizeof(ary) / sizeof(ary[0]); // 20 bytes / 4 bytes = 5\n",
    "\n",
    "for (i = 0; i < size; i++) \n",
    "{\n",
    "    scanf(\"%d\", &any[i]);\n",
    "    sum += ary[i];\n",
    "}\n",
    "avg = sum / (double)size;\n",
    "for (i = 0; i < size; i++)\n",
    "{ \n",
    "    printf(\"%5d\", ary[i]);\n",
    "}\n",
    "printf(\"%.1lf\", avg);"
   ]
  }
 ],
 "metadata": {
  "kernelspec": {
   "display_name": "Python 3",
   "language": "python",
   "name": "python3"
  },
  "language_info": {
   "codemirror_mode": {
    "name": "ipython",
    "version": 3
   },
   "file_extension": ".py",
   "mimetype": "text/x-python",
   "name": "python",
   "nbconvert_exporter": "python",
   "pygments_lexer": "ipython3",
   "version": "3.6.2"
  }
 },
 "nbformat": 4,
 "nbformat_minor": 2
}
