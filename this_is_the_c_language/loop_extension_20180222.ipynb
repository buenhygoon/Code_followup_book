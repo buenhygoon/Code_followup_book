{
 "cells": [
  {
   "cell_type": "markdown",
   "metadata": {},
   "source": [
    "int j;\n",
    "for (j = 0; j < 5; j ++) \n",
    "{\n",
    "    printf(\"*\");\n",
    "}\n",
    "printf(\"\\n\");"
   ]
  },
  {
   "cell_type": "markdown",
   "metadata": {},
   "source": [
    "int i;\n",
    "for (i = 0; i < 3; i ++)\n",
    "{\n",
    "    for (j = 0; j < 5; j ++) \n",
    "    {\n",
    "        printf(\"*\");\n",
    "    }\n",
    "    printf(\"\\n\");\n",
    "}"
   ]
  },
  {
   "cell_type": "markdown",
   "metadata": {},
   "source": [
    "printf(\"%d * %d = %d\\n\", 2, 1, 2\\*1);"
   ]
  },
  {
   "cell_type": "markdown",
   "metadata": {},
   "source": [
    "int i, j;\n",
    "for (j = 1; j <= 9; j++)\n",
    "{\n",
    "    printf(\"%d * %d = %d\\n\", 2, j, 2\\*j);\n",
    "}"
   ]
  },
  {
   "cell_type": "markdown",
   "metadata": {},
   "source": [
    "for (i = 2; i <= 9; i++)\n",
    "{\n",
    "    for (j = 1; j <= 9; j++)\n",
    "    {\n",
    "        printf(\"%d * %d = %d\\n\", i, j, i\\*j);\n",
    "    }\n",
    "}"
   ]
  },
  {
   "cell_type": "markdown",
   "metadata": {},
   "source": [
    "int i;\n",
    "for (i = 0; i < 5; i++)\n",
    "{\n",
    "    for (j = 0; j < 1 + i; j++)\n",
    "    {\n",
    "        printf(\"*\");\n",
    "    }\n",
    "    printf(\"\\n\");\n",
    "}"
   ]
  },
  {
   "cell_type": "markdown",
   "metadata": {},
   "source": [
    "** break, continue **"
   ]
  },
  {
   "cell_type": "markdown",
   "metadata": {},
   "source": [
    "int i, sum = 0;\n",
    "for (i = 1; i <= 10; i ++)\n",
    "{\n",
    "    sum += i; // sum\n",
    "    if (sum >= 30) break;\n",
    "}\n",
    "printf(\"%d, %d\\n\", sum, i);"
   ]
  },
  {
   "cell_type": "markdown",
   "metadata": {},
   "source": [
    "for(;;) // infinite loop\n",
    "{\n",
    "    if () break;\n",
    "}"
   ]
  },
  {
   "cell_type": "markdown",
   "metadata": {},
   "source": [
    "int i, sum = 0;\n",
    "for (i = 1; i <= 100; i++)\n",
    "{\n",
    "    if (i % 3 == 0) continue; // to the end of the loop\n",
    "    sum += i;\n",
    "        \n",
    "}"
   ]
  }
 ],
 "metadata": {
  "kernelspec": {
   "display_name": "Python 3",
   "language": "python",
   "name": "python3"
  },
  "language_info": {
   "codemirror_mode": {
    "name": "ipython",
    "version": 3
   },
   "file_extension": ".py",
   "mimetype": "text/x-python",
   "name": "python",
   "nbconvert_exporter": "python",
   "pygments_lexer": "ipython3",
   "version": "3.6.2"
  }
 },
 "nbformat": 4,
 "nbformat_minor": 2
}
