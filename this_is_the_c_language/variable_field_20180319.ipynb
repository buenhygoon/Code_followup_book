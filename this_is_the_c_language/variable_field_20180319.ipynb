{
 "cells": [
  {
   "cell_type": "markdown",
   "metadata": {},
   "source": [
    "- Local Variable"
   ]
  },
  {
   "cell_type": "markdown",
   "metadata": {},
   "source": [
    "int main(void)\n",
    "{\n",
    "    auto int a = 0;\n",
    "    printf(\"%d\", a); // 0\n",
    "    assign();\n",
    "    printf(\"%d\", a); // 0\n",
    "}"
   ]
  },
  {
   "cell_type": "markdown",
   "metadata": {},
   "source": [
    "void assign(void)\n",
    "{\n",
    "    int a;\n",
    "    a = 10; // compile error without int a; above, but it is different from the a in the main function\n",
    "}"
   ]
  },
  {
   "cell_type": "markdown",
   "metadata": {},
   "source": [
    "- OS automatically get back the memory for local variable"
   ]
  },
  {
   "cell_type": "markdown",
   "metadata": {},
   "source": [
    "> Why we use local variable?\n",
    "- Efficient control of memory\n",
    "- Easy Debugging\n",
    "- But there're some defects, too\n",
    "- No automatic defaulting"
   ]
  },
  {
   "cell_type": "markdown",
   "metadata": {},
   "source": [
    "int main(void)\n",
    "{\n",
    "    int a = 10, b = 20;\n",
    "    printf(\"%d, %d\\n\", a, b); // 10, 20\n",
    "    {\n",
    "        int temp;\n",
    "        temp = a;\n",
    "        a = b;\n",
    "        b = temp;\n",
    "    } // swapping and memory for temp is deprecated (efficient)\n",
    "    printf(\"%d, %d\\n\", a, b); // 20, 10\n",
    "}"
   ]
  },
  {
   "cell_type": "markdown",
   "metadata": {},
   "source": [
    "> What if we declare same variable locally?"
   ]
  },
  {
   "cell_type": "markdown",
   "metadata": {},
   "source": [
    "int main(void)\n",
    "{\n",
    "    int a = 10, b = 20;\n",
    "    printf(\"%d, %d\\n\", a, b); // 10, 20\n",
    "    {\n",
    "        int temp;\n",
    "        int a = 10, b = 20; // acceptable, but priority on inner var\n",
    "        temp = a;\n",
    "        a = b;\n",
    "        b = temp;\n",
    "    } // swapping and memory for temp is deprecated (efficient)\n",
    "    printf(\"%d, %d\\n\", a, b); // 20, 10\n",
    "}"
   ]
  },
  {
   "cell_type": "markdown",
   "metadata": {},
   "source": [
    "int main(void)\n",
    "{\n",
    "    int a = 10;\n",
    "    printf(\"%d\", a); // 10\n",
    "    {\n",
    "        int a = 20;\n",
    "        {\n",
    "            a ++;\n",
    "        }\n",
    "        printf(\"%d\", a); // 21\n",
    "    }\n",
    "    printf(\"%d\", a); // 10\n",
    "}"
   ]
  },
  {
   "cell_type": "markdown",
   "metadata": {},
   "source": [
    "- Global Variable"
   ]
  },
  {
   "cell_type": "markdown",
   "metadata": {},
   "source": [
    "int a;\n",
    "int main(void)\n",
    "{\n",
    "    printf(\"%d\", a); // 0 global variable is automatically defaulted as 0\n",
    "    assign10();\n",
    "    printf(\"%d\", a); // 10\n",
    "    assign20();\n",
    "    printf(\"%d\", a); // 10 \n",
    "}"
   ]
  },
  {
   "cell_type": "markdown",
   "metadata": {},
   "source": [
    "void assign10(void)\n",
    "{\n",
    "    a = 10; // can be assigned to the global variable\n",
    "}\n",
    "\n",
    "void assign20(void)\n",
    "{\n",
    "    int a;\n",
    "    a = 20; // insert in local variable\n",
    "}"
   ]
  },
  {
   "cell_type": "markdown",
   "metadata": {},
   "source": [
    "### Static local variable"
   ]
  },
  {
   "cell_type": "markdown",
   "metadata": {},
   "source": [
    "- Same as global variable but only can be declared in a function"
   ]
  },
  {
   "cell_type": "markdown",
   "metadata": {},
   "source": [
    "int main(void)\n",
    "{\n",
    "    int i;\n",
    "    for (i=0; i < 5; i++){\n",
    "        auto_func();\n",
    "    for (i=0; i < 5; i++){\n",
    "        static_func(); \n",
    "    }\n",
    "}"
   ]
  },
  {
   "cell_type": "markdown",
   "metadata": {},
   "source": [
    "void auto_func(void)\n",
    "{\n",
    "    auto int a = 0;\n",
    "    a++;\n",
    "    printf(\"%d\\n\", a); // 1, 1, 1, 1, 1\n",
    "}"
   ]
  },
  {
   "cell_type": "markdown",
   "metadata": {},
   "source": [
    "void static_func(void)\n",
    "{\n",
    "    static int a = 0;\n",
    "    a++;\n",
    "    printf(\"%d\\n\", a); // \n",
    "}"
   ]
  },
  {
   "cell_type": "markdown",
   "metadata": {},
   "source": [
    "### Register Variable"
   ]
  },
  {
   "cell_type": "markdown",
   "metadata": {},
   "source": [
    "int main(void)\n",
    "{\n",
    "    register int i; // use memory in CPU, can access faster\n",
    "                    // cannot use address like &i \n",
    "    for (i = 0; i < 5; i ++)\n",
    "        func();\n",
    "    } \n",
    "}"
   ]
  }
 ],
 "metadata": {
  "kernelspec": {
   "display_name": "Python 3",
   "language": "python",
   "name": "python3"
  },
  "language_info": {
   "codemirror_mode": {
    "name": "ipython",
    "version": 3
   },
   "file_extension": ".py",
   "mimetype": "text/x-python",
   "name": "python",
   "nbconvert_exporter": "python",
   "pygments_lexer": "ipython3",
   "version": "3.6.4"
  }
 },
 "nbformat": 4,
 "nbformat_minor": 2
}
