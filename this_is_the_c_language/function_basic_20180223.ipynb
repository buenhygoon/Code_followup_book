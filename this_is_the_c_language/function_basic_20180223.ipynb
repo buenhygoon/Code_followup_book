{
 "cells": [
  {
   "cell_type": "markdown",
   "metadata": {},
   "source": [
    "# 7.1 "
   ]
  },
  {
   "cell_type": "markdown",
   "metadata": {},
   "source": [
    "- function : what function will it have?"
   ]
  },
  {
   "cell_type": "markdown",
   "metadata": {},
   "source": [
    "int sum(int a, int b)\n",
    "{\n",
    "    int res;\n",
    "    res = a + b;\n",
    "    return res;\n",
    "}"
   ]
  },
  {
   "cell_type": "markdown",
   "metadata": {},
   "source": [
    "- compiler checks the function's return type at the head, and prepare space for that return result"
   ]
  },
  {
   "cell_type": "markdown",
   "metadata": {},
   "source": [
    "int main(void)\n",
    "{\n",
    "    int a = 10, b = 20, res;\n",
    "    res = sum(a, b); // arguments\n",
    "    printf(\"res:%d\", res);\n",
    "}"
   ]
  },
  {
   "cell_type": "markdown",
   "metadata": {},
   "source": [
    "- startup code calls main function at first, so function's order doesn't need to care"
   ]
  },
  {
   "cell_type": "markdown",
   "metadata": {},
   "source": [
    "- for compiling, definition of function should be preceded of main function"
   ]
  },
  {
   "cell_type": "markdown",
   "metadata": {},
   "source": [
    "- if we do function declaration, no need to function order "
   ]
  },
  {
   "cell_type": "markdown",
   "metadata": {},
   "source": [
    "int sum(int a, int b); // function declaration\n",
    "int main(void)\n",
    "{\n",
    "    int a = 10, b = 20, res;\n",
    "    res = sum(a, b); // arguments\n",
    "    printf(\"res:%d\", res);\n",
    "}"
   ]
  },
  {
   "cell_type": "markdown",
   "metadata": {},
   "source": [
    "# 7.2 function variations"
   ]
  },
  {
   "cell_type": "markdown",
   "metadata": {},
   "source": [
    "- no return case\n",
    "- no arguments case"
   ]
  },
  {
   "cell_type": "markdown",
   "metadata": {},
   "source": [
    "int get_pos(void) \n",
    "{\n",
    "    int num;\n",
    "    scanf(\"%d\", &num);\n",
    "    while (num < 0)\n",
    "    {\n",
    "        printf(\"please insert positive number\");\n",
    "        scanf(\"%d\", &num);\n",
    "    }\n",
    "    return num;\n",
    "}"
   ]
  },
  {
   "cell_type": "markdown",
   "metadata": {},
   "source": [
    "int get_pos();\n",
    "int main(void)\n",
    "{\n",
    "    int pos;\n",
    "    pos = get_pos();\n",
    "    printf(\"%d\\n\", pos);\n",
    "} "
   ]
  },
  {
   "cell_type": "markdown",
   "metadata": {},
   "source": [
    "- no return case"
   ]
  },
  {
   "cell_type": "markdown",
   "metadata": {},
   "source": [
    "void print_char(char ch, int cnt)\n",
    "{\n",
    "    int i;\n",
    "    for (i = 0; i < cnt; i++)\n",
    "    {\n",
    "        printf(\"%c\", ch);\n",
    "    }\n",
    "    return; // no val, can be explicitly inserted\n",
    "}"
   ]
  },
  {
   "cell_type": "markdown",
   "metadata": {},
   "source": [
    "void print_char(char ch, int cnt)\n",
    "{\n",
    "    int i;\n",
    "    if (cnt > 10) return; // condition check\n",
    "    for (i = 0; i < cnt; i++)\n",
    "    {\n",
    "        printf(\"%c\", ch);\n",
    "    }\n",
    "}"
   ]
  },
  {
   "cell_type": "markdown",
   "metadata": {},
   "source": [
    "int main(void)\n",
    "{\n",
    "     print_char(\"*\", 5);\n",
    "     print_char(\"@\", 10);\n",
    "}"
   ]
  },
  {
   "cell_type": "markdown",
   "metadata": {},
   "source": [
    "int main(void)\n",
    "{\n",
    "    int res;\n",
    "    res = print_char(\"\\*\", 5); // get error\n",
    "} "
   ]
  },
  {
   "cell_type": "markdown",
   "metadata": {},
   "source": [
    "- no argu, no return case"
   ]
  },
  {
   "cell_type": "markdown",
   "metadata": {},
   "source": [
    "void print_line(void)\n",
    "{\n",
    "    int i;\n",
    "    for (i = 0; i < 50; i++)\n",
    "    {\n",
    "        printf(\"-\");\n",
    "    }\n",
    "}"
   ]
  },
  {
   "cell_type": "markdown",
   "metadata": {},
   "source": [
    "int main(void)\n",
    "{\n",
    "    print_line();\n",
    "}"
   ]
  },
  {
   "cell_type": "markdown",
   "metadata": {},
   "source": [
    "- recursive function case"
   ]
  },
  {
   "cell_type": "markdown",
   "metadata": {},
   "source": [
    "void fruit(void)\n",
    "{\n",
    "    printf(\"apple\\n\");\n",
    "    fruit();\n",
    "}"
   ]
  },
  {
   "cell_type": "markdown",
   "metadata": {},
   "source": [
    "int main(void)\n",
    "{\n",
    "    fruit();\n",
    "} // infinite loop, but stop because of memory limitation, cumulatively implement functions "
   ]
  },
  {
   "cell_type": "markdown",
   "metadata": {},
   "source": [
    "void fruit(int cnt)\n",
    "{\n",
    "    printf(\"apple\\n\");\n",
    "    if (cnt == 3) return;\n",
    "    fruit(cnt + 1);\n",
    "}"
   ]
  },
  {
   "cell_type": "markdown",
   "metadata": {},
   "source": [
    "void fruit(int cnt)\n",
    "{\n",
    "    printf(\"apple\\n\");\n",
    "    if (cnt == 3) return;\n",
    "    fruit(cnt + 1);\n",
    "    printf(\"jam\");\n",
    "}"
   ]
  },
  {
   "cell_type": "markdown",
   "metadata": {},
   "source": [
    "int main(void)\n",
    "{\n",
    "    fruit(1);\n",
    "}"
   ]
  },
  {
   "cell_type": "markdown",
   "metadata": {},
   "source": [
    "apple\n",
    "apple\n",
    "apple\n",
    "jam\n",
    "jam"
   ]
  }
 ],
 "metadata": {
  "kernelspec": {
   "display_name": "Python 3",
   "language": "python",
   "name": "python3"
  },
  "language_info": {
   "codemirror_mode": {
    "name": "ipython",
    "version": 3
   },
   "file_extension": ".py",
   "mimetype": "text/x-python",
   "name": "python",
   "nbconvert_exporter": "python",
   "pygments_lexer": "ipython3",
   "version": "3.6.2"
  }
 },
 "nbformat": 4,
 "nbformat_minor": 2
}
