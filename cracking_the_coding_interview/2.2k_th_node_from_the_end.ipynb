{
 "cells": [
  {
   "cell_type": "code",
   "execution_count": 1,
   "metadata": {},
   "outputs": [
    {
     "data": {
      "text/plain": [
       "' k th node value from the last node'"
      ]
     },
     "execution_count": 1,
     "metadata": {},
     "output_type": "execute_result"
    }
   ],
   "source": [
    "\"\"\" k th node value from the last node\"\"\""
   ]
  },
  {
   "cell_type": "code",
   "execution_count": 2,
   "metadata": {
    "collapsed": true
   },
   "outputs": [],
   "source": [
    "import unittest"
   ]
  },
  {
   "cell_type": "code",
   "execution_count": 3,
   "metadata": {
    "collapsed": true
   },
   "outputs": [],
   "source": [
    "class Node:\n",
    "    def __init__(self, item):\n",
    "        self.val = item\n",
    "        self.next = None"
   ]
  },
  {
   "cell_type": "code",
   "execution_count": 4,
   "metadata": {
    "collapsed": true
   },
   "outputs": [],
   "source": [
    "class LinkedList:\n",
    "    def __init__(self, item):\n",
    "        self.head = Node(item)\n",
    "        \n",
    "    def add(self, item):\n",
    "        cur = self.head\n",
    "        while cur.next is not None:\n",
    "            cur = cur.next\n",
    "        cur.next = Node(item)\n",
    "        \n",
    "    def printlist(self):\n",
    "        cur = self.head\n",
    "        res = []\n",
    "        while cur is not None:\n",
    "            res.append(cur)\n",
    "            cur = cur.next\n",
    "        return str(res)\n",
    "    \n",
    "    def kth_element_from_last(self, k):\n",
    "        p1 = self.head\n",
    "        p2 = self.head\n",
    "        if k != 0:\n",
    "            for i in range(k):\n",
    "                p2 = p2.next\n",
    "            # over flow k is greater than linkedlist length\n",
    "            if p2 is None:\n",
    "                return None\n",
    "        # run until p2 reach the end\n",
    "        while p2.next is not None:\n",
    "            p2 = p2.next\n",
    "            p1 = p1.next\n",
    "        # since p2 = p1 is thek, now p1 position is the k th from last node\n",
    "        return p1.val"
   ]
  },
  {
   "cell_type": "code",
   "execution_count": 5,
   "metadata": {
    "collapsed": true
   },
   "outputs": [],
   "source": [
    "class LinkedListTest(unittest.TestCase):\n",
    "    def test(self):\n",
    "        ll = LinkedList(3)\n",
    "        ll.add(4)\n",
    "        ll.add(5)\n",
    "        ll.add(6)\n",
    "        ll.add(4)\n",
    "        ll.add(7)\n",
    "        ll.add(4)\n",
    "        self.assertEqual(4, ll.kth_element_from_last(0))\n",
    "        self.assertEqual(7, ll.kth_element_from_last(1))\n",
    "        self.assertEqual(4, ll.kth_element_from_last(2))\n",
    "        self.assertEqual(6, ll.kth_element_from_last(3))\n",
    "        self.assertEqual(5, ll.kth_element_from_last(4))\n",
    "        self.assertEqual(4, ll.kth_element_from_last(5))\n",
    "        self.assertEqual(3, ll.kth_element_from_last(6))\n",
    "        self.assertEqual(None, ll.kth_element_from_last(7))"
   ]
  },
  {
   "cell_type": "code",
   "execution_count": 6,
   "metadata": {
    "collapsed": true
   },
   "outputs": [],
   "source": [
    "LinkedListTest().test()"
   ]
  },
  {
   "cell_type": "code",
   "execution_count": 2,
   "metadata": {},
   "outputs": [],
   "source": [
    "def k_th_element_from_last(self, k):\n",
    "    p1 = self.head\n",
    "    p2 = self.head\n",
    "    if k != 0:\n",
    "        for _ in range(k):\n",
    "            p2 = p2.next\n",
    "        if p2 is None:\n",
    "            return None\n",
    "    while p2.next is not None:\n",
    "        p2 = p2.next\n",
    "        p1 = p1.next\n",
    "    return p1.val"
   ]
  },
  {
   "cell_type": "code",
   "execution_count": null,
   "metadata": {
    "collapsed": true
   },
   "outputs": [],
   "source": []
  }
 ],
 "metadata": {
  "kernelspec": {
   "display_name": "Python 3",
   "language": "python",
   "name": "python3"
  },
  "language_info": {
   "codemirror_mode": {
    "name": "ipython",
    "version": 3
   },
   "file_extension": ".py",
   "mimetype": "text/x-python",
   "name": "python",
   "nbconvert_exporter": "python",
   "pygments_lexer": "ipython3",
   "version": "3.6.2"
  }
 },
 "nbformat": 4,
 "nbformat_minor": 2
}
