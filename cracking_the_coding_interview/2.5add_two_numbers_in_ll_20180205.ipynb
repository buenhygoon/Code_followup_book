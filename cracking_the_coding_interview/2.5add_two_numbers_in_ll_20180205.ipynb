{
 "cells": [
  {
   "cell_type": "code",
   "execution_count": 2,
   "metadata": {
    "collapsed": true
   },
   "outputs": [],
   "source": [
    "def sumll(ll1, ll2):\n",
    "    v1 = ll1.getHead()\n",
    "    v2 = ll2.getHead()\n",
    "    carry = 0\n",
    "    while v1 is not None:\n",
    "        val = ((v1.val + v2.val) % 10) + carry\n",
    "        carry = (v1.val + v2.val) // 10\n",
    "        v1.val = val\n",
    "        v1 = v1.next\n",
    "        v2 = v2.next\n",
    "        \n",
    "    cur = ll1.getHead()\n",
    "    val = 0\n",
    "    mul = 1\n",
    "    while cur is not None:\n",
    "        val = val + (cur.val + mul)\n",
    "        mul *= 10\n",
    "        cur = cur.next\n",
    "    return val"
   ]
  },
  {
   "cell_type": "code",
   "execution_count": 4,
   "metadata": {},
   "outputs": [],
   "source": [
    "def sumll(ll1, ll2):\n",
    "    v1 = ll1.getHead()\n",
    "    v2 = ll2.getHead()\n",
    "    carry = 0\n",
    "    while v1 is not None:\n",
    "        val = ((v1.val + v2.val) % 10) + carry\n",
    "        carry = (v1.val + v2.val) // 10\n",
    "        v1.val = val\n",
    "        v1 = v1.next\n",
    "        v2 = v2.next\n",
    "    \n",
    "    cur = ll1.getHead()\n",
    "    val = 0\n",
    "    mul = 1\n",
    "    while cur is not None:\n",
    "        val += cur.val * mul\n",
    "        mul *= 10\n",
    "        cur = cur.next\n",
    "    return val"
   ]
  },
  {
   "cell_type": "code",
   "execution_count": null,
   "metadata": {
    "collapsed": true
   },
   "outputs": [],
   "source": []
  }
 ],
 "metadata": {
  "kernelspec": {
   "display_name": "Python 3",
   "language": "python",
   "name": "python3"
  },
  "language_info": {
   "codemirror_mode": {
    "name": "ipython",
    "version": 3
   },
   "file_extension": ".py",
   "mimetype": "text/x-python",
   "name": "python",
   "nbconvert_exporter": "python",
   "pygments_lexer": "ipython3",
   "version": "3.6.2"
  }
 },
 "nbformat": 4,
 "nbformat_minor": 2
}
