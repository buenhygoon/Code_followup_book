{
 "cells": [
  {
   "cell_type": "code",
   "execution_count": 4,
   "metadata": {
    "collapsed": true
   },
   "outputs": [],
   "source": [
    "class Node:\n",
    "    def __init__(self, item):\n",
    "        self.val = item\n",
    "        self.next = None\n",
    "        \n",
    "    \n",
    "class LinkedList:\n",
    "    def __init__(self, item):\n",
    "        self.head = Node(item)\n",
    "        \n",
    "    def add(self, item):\n",
    "        cur = self.head\n",
    "        while cur.next is not None:\n",
    "            cur = cur.next\n",
    "        cur.next = Node(item)\n",
    "        \n",
    "    def remove_item(self, item):\n",
    "        if self.head.val == item:\n",
    "            self.head = self.head.next\n",
    "        else:\n",
    "            cur = self.head\n",
    "            while cur.next is not None:\n",
    "                if cur.next.val == item:\n",
    "                    next_node = cur.next.next\n",
    "                    cur.next = next_node\n",
    "                    break\n",
    "                cur = cur.next\n",
    "    \n",
    "    def print_list(self):\n",
    "        cur = self.head\n",
    "        res = []\n",
    "        while cur is not None:\n",
    "            res.append(cur.val)\n",
    "            cur = cur.next\n",
    "        return str(res)"
   ]
  },
  {
   "cell_type": "code",
   "execution_count": 5,
   "metadata": {},
   "outputs": [
    {
     "name": "stdout",
     "output_type": "stream",
     "text": [
      "[9, 5, 8, 7]\n"
     ]
    }
   ],
   "source": [
    "ll = LinkedList(9)\n",
    "ll.add(5)\n",
    "ll.add(8)\n",
    "ll.add(7)\n",
    "ll.add(6)\n",
    "ll.remove_item(6)\n",
    "print(ll.print_list())"
   ]
  },
  {
   "cell_type": "code",
   "execution_count": 1,
   "metadata": {
    "collapsed": true
   },
   "outputs": [],
   "source": [
    "class Node(object):\n",
    "    def __init__(self, item):\n",
    "        self.val = item\n",
    "        self.next = None\n",
    "    \n",
    "\n",
    "class LinkedList(object):\n",
    "    def __init__(self, item):\n",
    "        self.head = Node(item)\n",
    "        \n",
    "    def add(self, item):\n",
    "        cur = self.head\n",
    "        while cur is not None:\n",
    "            cur = cur.next\n",
    "        cur.next = Node(item)\n",
    "    \n",
    "    def remove_item(self, item):\n",
    "        if self.head.val == item:\n",
    "            self.head = self.next\n",
    "        else:\n",
    "            cur = self.head\n",
    "            while cur.next is not None:\n",
    "                if cur.next.val == item:\n",
    "                    cur.next = cur.next.next\n",
    "                    break\n",
    "                cur = cur.next\n",
    "                \n",
    "    def printlist(self):\n",
    "        res = []\n",
    "        cur = self.head\n",
    "        while cur is not None:\n",
    "            res.append(cur.val)\n",
    "            cur = cur.next\n",
    "        return res\n",
    "            \n",
    "    \n",
    "    "
   ]
  },
  {
   "cell_type": "code",
   "execution_count": null,
   "metadata": {
    "collapsed": true
   },
   "outputs": [],
   "source": []
  }
 ],
 "metadata": {
  "kernelspec": {
   "display_name": "Python 3",
   "language": "python",
   "name": "python3"
  },
  "language_info": {
   "codemirror_mode": {
    "name": "ipython",
    "version": 3
   },
   "file_extension": ".py",
   "mimetype": "text/x-python",
   "name": "python",
   "nbconvert_exporter": "python",
   "pygments_lexer": "ipython3",
   "version": "3.6.2"
  }
 },
 "nbformat": 4,
 "nbformat_minor": 2
}
