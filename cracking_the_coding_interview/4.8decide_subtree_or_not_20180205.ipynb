{
 "cells": [
  {
   "cell_type": "markdown",
   "metadata": {},
   "source": [
    "- search root node\n",
    "- inorder traverse and checking"
   ]
  },
  {
   "cell_type": "code",
   "execution_count": 1,
   "metadata": {
    "collapsed": true
   },
   "outputs": [],
   "source": [
    "def search(self, item):\n",
    "    if self.head.val is None:\n",
    "        return False\n",
    "    else:\n",
    "        return self.__search_node(self.head, item)\n",
    "    \n",
    "def __search_node(self, cur, item):\n",
    "    if cur.val == item:\n",
    "        return True\n",
    "    else:\n",
    "        if cur.val >= item:\n",
    "            if cur.left is not None:\n",
    "                return self.__serach_node(cur.left, item)\n",
    "            else:\n",
    "                return False\n",
    "        else:\n",
    "            if cur.right is not None:\n",
    "                return self.__search_node(cur.right, item)\n",
    "            else:\n",
    "                return False"
   ]
  },
  {
   "cell_type": "code",
   "execution_count": 2,
   "metadata": {
    "collapsed": true
   },
   "outputs": [],
   "source": [
    "def inorder_traverse(self):\n",
    "    if self.head is not None:\n",
    "        self.__inorder(self.head)\n",
    "    \n",
    "def __inorder(self, cur):\n",
    "    if cur.left is not None:\n",
    "        self.__inorder(cur.left)\n",
    "        \n",
    "    self.inorder_list.append(cur.val)\n",
    "    print(cur.val)\n",
    "    \n",
    "    if cur.right is not None:\n",
    "        self.__inorder(cur.right)"
   ]
  },
  {
   "cell_type": "code",
   "execution_count": null,
   "metadata": {
    "collapsed": true
   },
   "outputs": [],
   "source": []
  }
 ],
 "metadata": {
  "kernelspec": {
   "display_name": "Python 3",
   "language": "python",
   "name": "python3"
  },
  "language_info": {
   "codemirror_mode": {
    "name": "ipython",
    "version": 3
   },
   "file_extension": ".py",
   "mimetype": "text/x-python",
   "name": "python",
   "nbconvert_exporter": "python",
   "pygments_lexer": "ipython3",
   "version": "3.6.2"
  }
 },
 "nbformat": 4,
 "nbformat_minor": 2
}
