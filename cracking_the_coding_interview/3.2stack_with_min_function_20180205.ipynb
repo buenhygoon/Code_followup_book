{
 "cells": [
  {
   "cell_type": "code",
   "execution_count": 2,
   "metadata": {
    "collapsed": true
   },
   "outputs": [],
   "source": [
    "def __init__(self, ):\n",
    "    self.items = []\n",
    "    self.mins = []\n",
    "    self.min = None\n",
    "    \n",
    "def push(self, item):\n",
    "    self.items.append(item)\n",
    "    self.mins.append(self.min)\n",
    "    if self.min is None or self.min > item:\n",
    "        self.min = item\n",
    "        \n",
    "def pop(self):\n",
    "    self.items.pop()\n",
    "    self.min = self.mins.pop()\n",
    "    \n",
    "def getminimum(self):\n",
    "    return self.min"
   ]
  },
  {
   "cell_type": "code",
   "execution_count": null,
   "metadata": {
    "collapsed": true
   },
   "outputs": [],
   "source": []
  }
 ],
 "metadata": {
  "kernelspec": {
   "display_name": "Python 3",
   "language": "python",
   "name": "python3"
  },
  "language_info": {
   "codemirror_mode": {
    "name": "ipython",
    "version": 3
   },
   "file_extension": ".py",
   "mimetype": "text/x-python",
   "name": "python",
   "nbconvert_exporter": "python",
   "pygments_lexer": "ipython3",
   "version": "3.6.2"
  }
 },
 "nbformat": 4,
 "nbformat_minor": 2
}
