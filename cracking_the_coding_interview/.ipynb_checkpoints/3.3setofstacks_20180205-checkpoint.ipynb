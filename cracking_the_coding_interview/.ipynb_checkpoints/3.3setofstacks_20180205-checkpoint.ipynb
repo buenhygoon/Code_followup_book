{
 "cells": [
  {
   "cell_type": "code",
   "execution_count": 1,
   "metadata": {
    "collapsed": true
   },
   "outputs": [],
   "source": [
    "def __init__(self):\n",
    "    self.stacklist = []\n",
    "    self.max_stack_size = 3\n",
    "    self.stacklist.append(Stack())\n",
    "    \n",
    "def push(self, item):\n",
    "    st = self.getLastStack()\n",
    "    if self.max_stack_size == st.size():\n",
    "        new_st = Stack()\n",
    "        new_st.push(item)\n",
    "        self.stacklist.append(new_st)\n",
    "    else:\n",
    "        st.push(item)\n",
    "        \n",
    "def getLastStack(self):\n",
    "    return self.stacklist(len(self.stacklist)-1)\n",
    "\n",
    "def pop(self):\n",
    "    st = self.getLastStack()\n",
    "    if st.is_empty():\n",
    "        self.stacklist.pop()\n",
    "        st = self.getLastStack()\n",
    "        st.pop()\n",
    "    else:\n",
    "        st.pop()\n",
    "        \n",
    "def getStackCount(self):\n",
    "    return len(self.stacklist)\n",
    "\n",
    "def printStacks(self):\n",
    "    result = []\n",
    "    for st in self.stacklikst:\n",
    "        for item in st.items:\n",
    "            result.append(item)\n",
    "    return result"
   ]
  },
  {
   "cell_type": "code",
   "execution_count": 2,
   "metadata": {
    "collapsed": true
   },
   "outputs": [],
   "source": [
    "class Stack:\n",
    "    def __init__(self):\n",
    "        self.items = []\n",
    "        self.max = 3\n",
    "        \n",
    "    def push(self):\n",
    "        self.items.pop()\n",
    "        \n",
    "    def pop(self):\n",
    "        self.items.pop()\n",
    "        \n",
    "    def print_stack(self):\n",
    "        print(self.items)\n",
    "        \n",
    "    def peek(self):\n",
    "        return self.items[len(self.items) - 1]\n",
    "    \n",
    "    def is_empty(self):\n",
    "        return self.items == []\n",
    "    \n",
    "    def size(self):\n",
    "        return len(self.items)"
   ]
  },
  {
   "cell_type": "code",
   "execution_count": null,
   "metadata": {
    "collapsed": true
   },
   "outputs": [],
   "source": []
  }
 ],
 "metadata": {
  "kernelspec": {
   "display_name": "Python 3",
   "language": "python",
   "name": "python3"
  },
  "language_info": {
   "codemirror_mode": {
    "name": "ipython",
    "version": 3
   },
   "file_extension": ".py",
   "mimetype": "text/x-python",
   "name": "python",
   "nbconvert_exporter": "python",
   "pygments_lexer": "ipython3",
   "version": "3.6.2"
  }
 },
 "nbformat": 4,
 "nbformat_minor": 2
}
