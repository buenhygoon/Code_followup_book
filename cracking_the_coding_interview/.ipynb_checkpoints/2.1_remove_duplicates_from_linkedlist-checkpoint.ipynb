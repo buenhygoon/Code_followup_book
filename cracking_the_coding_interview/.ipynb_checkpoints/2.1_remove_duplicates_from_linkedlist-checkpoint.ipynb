{
 "cells": [
  {
   "cell_type": "markdown",
   "metadata": {},
   "source": [
    "# remove duplicates from an unsorted linked list"
   ]
  },
  {
   "cell_type": "code",
   "execution_count": 1,
   "metadata": {
    "collapsed": true
   },
   "outputs": [],
   "source": [
    "def delete_duplicate(self):\n",
    "    cur = self.head\n",
    "    _dict = {}\n",
    "    prev = None\n",
    "    while cur is not None:\n",
    "        if cur.val in _dict:\n",
    "            prev.next = cur.next\n",
    "        else:\n",
    "            _dict[cur.val] = True\n",
    "            prev = cur\n",
    "        cur = cur.next\n",
    "        "
   ]
  },
  {
   "cell_type": "code",
   "execution_count": 1,
   "metadata": {
    "collapsed": true
   },
   "outputs": [],
   "source": [
    "def delete_duplicate(self):\n",
    "    cur = self.head\n",
    "    _dict = {}\n",
    "    prev = None\n",
    "    while cur is not None:\n",
    "        if cur.val in _dict:\n",
    "            prev.val = cur.next\n",
    "        else:\n",
    "            _dict[cur.val] = True\n",
    "            prev = cur\n",
    "        cur = cur.next"
   ]
  },
  {
   "cell_type": "code",
   "execution_count": 2,
   "metadata": {
    "collapsed": true
   },
   "outputs": [],
   "source": [
    "def delele_duplicate(self):\n",
    "    cur = self.head\n",
    "    _dict = {}\n",
    "    prev = None\n",
    "    while cur is not None:\n",
    "        if cur.val in _dict:\n",
    "            prev.next = cur.next\n",
    "        else:\n",
    "            _dict[cur.val] = True\n",
    "            prev = cur\n",
    "        cur = cur.next"
   ]
  },
  {
   "cell_type": "code",
   "execution_count": 6,
   "metadata": {
    "collapsed": true
   },
   "outputs": [],
   "source": [
    "class Node:\n",
    "    def __init__(self, item):\n",
    "        self.val = item\n",
    "        self.next = None\n",
    "        \n",
    "\n",
    "class LinkedList:\n",
    "    def __init__(self, item):\n",
    "        self.head = Node(item)\n",
    "        \n",
    "    def add(self, item):\n",
    "        cur = self.head\n",
    "        while cur.next is not None:\n",
    "            cur = cur.next\n",
    "        cur.next = Node(item)\n",
    "        \n",
    "    def delete_duplicate(self):\n",
    "        cur = self.head\n",
    "        _dict = {}\n",
    "        prev = None\n",
    "        while cur is not None:\n",
    "            if cur.val in _dict:\n",
    "                prev.next = cur.next\n",
    "            else:\n",
    "                _dict[cur.val] = True\n",
    "                prev = cur\n",
    "            cur = cur.next\n",
    "            \n",
    "    def printlist(self):\n",
    "        cur = self.head\n",
    "        res = []\n",
    "        while cur is not None:\n",
    "            res.append(cur.val)\n",
    "            cur = cur.next\n",
    "        return str(res)\n",
    "    \n",
    "import unittest\n",
    "class LinkedListTest(unittest.TestCase):\n",
    "    def test(self):\n",
    "        ll = LinkedList(3)\n",
    "        ll.add(3)\n",
    "        ll.add(4)\n",
    "        ll.add(5)\n",
    "        ll.add(4)\n",
    "        ll.add(3)\n",
    "        ll.add(6)\n",
    "        ll.add(7)\n",
    "        ll.add(5)\n",
    "        ll.add(3)\n",
    "        ll.add(4)\n",
    "        ll.add(7)\n",
    "        ll.delete_duplicate()\n",
    "        self.assertEqual(\"[3, 4, 5, 6, 7]\", ll.printlist())\n",
    "        "
   ]
  },
  {
   "cell_type": "code",
   "execution_count": 7,
   "metadata": {},
   "outputs": [],
   "source": [
    "LinkedListTest().test()"
   ]
  },
  {
   "cell_type": "code",
   "execution_count": null,
   "metadata": {
    "collapsed": true
   },
   "outputs": [],
   "source": []
  },
  {
   "cell_type": "code",
   "execution_count": null,
   "metadata": {
    "collapsed": true
   },
   "outputs": [],
   "source": []
  },
  {
   "cell_type": "code",
   "execution_count": null,
   "metadata": {
    "collapsed": true
   },
   "outputs": [],
   "source": []
  },
  {
   "cell_type": "code",
   "execution_count": null,
   "metadata": {
    "collapsed": true
   },
   "outputs": [],
   "source": []
  }
 ],
 "metadata": {
  "kernelspec": {
   "display_name": "Python 3",
   "language": "python",
   "name": "python3"
  },
  "language_info": {
   "codemirror_mode": {
    "name": "ipython",
    "version": 3
   },
   "file_extension": ".py",
   "mimetype": "text/x-python",
   "name": "python",
   "nbconvert_exporter": "python",
   "pygments_lexer": "ipython3",
   "version": "3.6.2"
  }
 },
 "nbformat": 4,
 "nbformat_minor": 2
}
