{
 "cells": [
  {
   "cell_type": "code",
   "execution_count": 1,
   "metadata": {
    "collapsed": true
   },
   "outputs": [],
   "source": [
    "def isUniqChars(_str):\n",
    "    # asseme chracters are ASCII, total 256 chracters\n",
    "    # if the string is greater than 256, there is duplicate\n",
    "    if len(_str) > 256:\n",
    "        return False\n",
    "    # initialize boolean array\n",
    "    _hash = [False] * 256\n",
    "    \n",
    "    for ch in str:\n",
    "        # if boolean array is true, then there is duplicate\n",
    "        if _hash[ord(ch)] is True:\n",
    "            return False\n",
    "        # if the value in hash is False, the value is not duplicate yet\n",
    "        else:\n",
    "            _hash[ord(ch)] = True\n",
    "    return True"
   ]
  },
  {
   "cell_type": "code",
   "execution_count": null,
   "metadata": {
    "collapsed": true
   },
   "outputs": [],
   "source": []
  }
 ],
 "metadata": {
  "kernelspec": {
   "display_name": "Python 3",
   "language": "python",
   "name": "python3"
  },
  "language_info": {
   "codemirror_mode": {
    "name": "ipython",
    "version": 3
   },
   "file_extension": ".py",
   "mimetype": "text/x-python",
   "name": "python",
   "nbconvert_exporter": "python",
   "pygments_lexer": "ipython3",
   "version": "3.6.2"
  }
 },
 "nbformat": 4,
 "nbformat_minor": 2
}
