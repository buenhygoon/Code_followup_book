{
 "cells": [
  {
   "cell_type": "code",
   "execution_count": null,
   "metadata": {
    "collapsed": true
   },
   "outputs": [],
   "source": [
    "def is_balanced(self):\n",
    "    if self.checkHeight(self.head) == -1:\n",
    "        return False\n",
    "    else:\n",
    "        return True\n",
    "    \n",
    "def checkHeight(self, node):\n",
    "    if node is None:\n",
    "        return 0\n",
    "    \n",
    "    # if left subtree is balanced\n",
    "    leftHeight = self.checkHeight(node.left)\n",
    "    if leftHeight == -1:\n",
    "        return -1\n",
    "\n",
    "    # if right subtree is balanced\n",
    "    rightHeight = self.checkHeight(node.right)\n",
    "    if rightHeight == -1:\n",
    "        return -1\n",
    "    \n",
    "    # if current node is balanced\n",
    "    heightDiff = leftHeight - rightHeight\n",
    "    if abs(heightDiff) > 1:\n",
    "        return -1\n",
    "    else:\n",
    "        return max(leftHeight, rightHeight) + 1"
   ]
  }
 ],
 "metadata": {
  "kernelspec": {
   "display_name": "Python 3",
   "language": "python",
   "name": "python3"
  },
  "language_info": {
   "codemirror_mode": {
    "name": "ipython",
    "version": 3
   },
   "file_extension": ".py",
   "mimetype": "text/x-python",
   "name": "python",
   "nbconvert_exporter": "python",
   "pygments_lexer": "ipython3",
   "version": "3.6.2"
  }
 },
 "nbformat": 4,
 "nbformat_minor": 2
}
