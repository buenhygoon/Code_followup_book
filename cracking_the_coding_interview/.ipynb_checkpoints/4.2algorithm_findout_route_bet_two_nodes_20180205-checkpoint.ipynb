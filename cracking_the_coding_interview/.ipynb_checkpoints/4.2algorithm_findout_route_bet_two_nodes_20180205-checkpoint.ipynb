{
 "cells": [
  {
   "cell_type": "markdown",
   "metadata": {},
   "source": [
    "- Using bfs algorithm"
   ]
  },
  {
   "cell_type": "code",
   "execution_count": 1,
   "metadata": {
    "collapsed": true
   },
   "outputs": [],
   "source": [
    "__author__ = 'Minsuk Heo'"
   ]
  },
  {
   "cell_type": "code",
   "execution_count": 7,
   "metadata": {},
   "outputs": [
    {
     "name": "stdout",
     "output_type": "stream",
     "text": [
      "[[], [], [], [], [], [], []]\n",
      "[[1], [3, 4], [0, 4], [], [6], [2], []]\n",
      "[0, 1, 3, 4, 6]\n"
     ]
    }
   ],
   "source": [
    "vertexList = ['0', '1', '2', '3', '4', '5', '6']\n",
    "edgeList = [(0,1), (1,3), (1,4), (2,0), (2,4), (4,6), (5,2)]\n",
    "graphs = (vertexList, edgeList)\n",
    "\n",
    "def bfs(graph, start):\n",
    "    vertexList, edgeList = graph\n",
    "    visitedList = []\n",
    "    queue = [start]\n",
    "    adjacencyList = [[] for vertex in vertexList]\n",
    "    print(adjacencyList)\n",
    "    \n",
    "    # fill adjacenctList from graph\n",
    "    for edge in edgeList:\n",
    "        adjacencyList[edge[0]].append(edge[1])\n",
    "    print(adjacencyList)\n",
    "        \n",
    "    # bfs\n",
    "    while queue:\n",
    "        current = queue.pop()\n",
    "        for neighbor in adjacencyList[current]:\n",
    "            if not neighbor in visitedList:\n",
    "                queue.insert(0,neighbor)\n",
    "        visitedList.append(current)\n",
    "    return visitedList\n",
    "\n",
    "print(bfs(graphs, 0))"
   ]
  },
  {
   "cell_type": "code",
   "execution_count": null,
   "metadata": {
    "collapsed": true
   },
   "outputs": [],
   "source": []
  }
 ],
 "metadata": {
  "kernelspec": {
   "display_name": "Python 3",
   "language": "python",
   "name": "python3"
  },
  "language_info": {
   "codemirror_mode": {
    "name": "ipython",
    "version": 3
   },
   "file_extension": ".py",
   "mimetype": "text/x-python",
   "name": "python",
   "nbconvert_exporter": "python",
   "pygments_lexer": "ipython3",
   "version": "3.6.2"
  }
 },
 "nbformat": 4,
 "nbformat_minor": 2
}
