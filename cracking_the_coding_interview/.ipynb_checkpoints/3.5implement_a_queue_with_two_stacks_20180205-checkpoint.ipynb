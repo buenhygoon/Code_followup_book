{
 "cells": [
  {
   "cell_type": "code",
   "execution_count": 1,
   "metadata": {
    "collapsed": true
   },
   "outputs": [],
   "source": [
    "class myQueue:\n",
    "    def __init__(self):\n",
    "        self.st1 = Stack()\n",
    "        self.st2 = Stack()\n",
    "        \n",
    "    def enqueue(self, item):\n",
    "        self.st1.push(item)\n",
    "    \n",
    "    def dequeue(self):\n",
    "        if self.st2.is_empty():\n",
    "            while self.st1.is_empty() is False:\n",
    "                self.st2.push(self.st1.pop())\n",
    "        return self.st2.pop()"
   ]
  },
  {
   "cell_type": "code",
   "execution_count": null,
   "metadata": {
    "collapsed": true
   },
   "outputs": [],
   "source": []
  }
 ],
 "metadata": {
  "kernelspec": {
   "display_name": "Python 3",
   "language": "python",
   "name": "python3"
  },
  "language_info": {
   "codemirror_mode": {
    "name": "ipython",
    "version": 3
   },
   "file_extension": ".py",
   "mimetype": "text/x-python",
   "name": "python",
   "nbconvert_exporter": "python",
   "pygments_lexer": "ipython3",
   "version": "3.6.2"
  }
 },
 "nbformat": 4,
 "nbformat_minor": 2
}
