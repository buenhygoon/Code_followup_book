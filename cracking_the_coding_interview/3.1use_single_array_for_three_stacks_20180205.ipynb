{
 "cells": [
  {
   "cell_type": "code",
   "execution_count": 2,
   "metadata": {
    "collapsed": true
   },
   "outputs": [],
   "source": [
    "def __init__(self, stack_size):\n",
    "    self.array = [None] * stack_size * 3 \n",
    "    self.stack_size = stack_size\n",
    "    \n",
    "    self.stack1_bottom = 0\n",
    "    self.stack1_top = self.stack1_bottom + self.stack_size\n",
    "    \n",
    "    self.stack2_bottom = self.stack1_top\n",
    "    self.stack2_top = self.stack2_bottom + self.stack_size\n",
    "    \n",
    "    self.stack3_bottom = self.stack2_top\n",
    "    self.stack3_top = self.stack3_bottom + self.stack_size\n",
    "    \n",
    "    self.stack1_idx = 0\n",
    "    self.stack2_idx = self.stack1_idx + self.stack_size\n",
    "    self.stack3_idx = self.stack2_idx + self.stack_size\n",
    "    \n",
    "def push_stack1(self, val):\n",
    "    if self.stack1_idx == self.stack1_top:\n",
    "        print(\"stack1 is full\")\n",
    "        return False\n",
    "    else:\n",
    "        self.array[self.stack1_idx] = val\n",
    "        self.stack1_idx += 1\n",
    "        return True\n",
    "    \n",
    "def push_stack2(self, val):\n",
    "    if self.stack2_idx == self.stack2_top:\n",
    "        print(\"stack2 is full\")\n",
    "        return False\n",
    "    else:\n",
    "        self.array[self.stack2_idx] = val\n",
    "        self.stack2_idx += 1\n",
    "        return True\n",
    "    \n",
    "def push_stack3(self, val):\n",
    "    if self.stack3_idx == self.stack3_top:\n",
    "        print(\"stack3 is full\")\n",
    "        return False\n",
    "    else:\n",
    "        self.array[self.stack3_idx] = val\n",
    "        self.stack3_idx += 1\n",
    "        return True\n",
    "    \n",
    "def pop_stack1(self):\n",
    "    if self.stack1_idx > self.stack1_bottom:\n",
    "        self.stack1_idx -= 1\n",
    "        self.array[self.stack1_idx] = None\n",
    "        return True\n",
    "    else:\n",
    "        print(\"stack1 is empty\")\n",
    "        return False\n",
    "    \n",
    "def pop_stack2(self):\n",
    "    if self.stack2_idx > self.stack2_bottom:\n",
    "        self.stack2_idx -= 1\n",
    "        self.array[self.stack2_idx] = None\n",
    "        return True\n",
    "    else:\n",
    "        print(\"stack2 is empty\")\n",
    "        return False\n",
    "    \n",
    "def pop_stack3(self):\n",
    "    if self.stack3_idx > self.stack3_bottom:\n",
    "        self.stack3_idx -= 1\n",
    "        self.array[self.stack3_idx] = None\n",
    "        return True\n",
    "    else:\n",
    "        print(\"stack3 is empty\")\n",
    "        return False\n",
    "    "
   ]
  },
  {
   "cell_type": "code",
   "execution_count": null,
   "metadata": {
    "collapsed": true
   },
   "outputs": [],
   "source": []
  }
 ],
 "metadata": {
  "kernelspec": {
   "display_name": "Python 3",
   "language": "python",
   "name": "python3"
  },
  "language_info": {
   "codemirror_mode": {
    "name": "ipython",
    "version": 3
   },
   "file_extension": ".py",
   "mimetype": "text/x-python",
   "name": "python",
   "nbconvert_exporter": "python",
   "pygments_lexer": "ipython3",
   "version": "3.6.2"
  }
 },
 "nbformat": 4,
 "nbformat_minor": 2
}
