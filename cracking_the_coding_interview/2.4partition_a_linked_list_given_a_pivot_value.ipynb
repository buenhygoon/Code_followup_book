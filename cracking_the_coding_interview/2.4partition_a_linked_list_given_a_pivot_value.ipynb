{
 "cells": [
  {
   "cell_type": "code",
   "execution_count": 2,
   "metadata": {},
   "outputs": [],
   "source": [
    "def partition(self, item):\n",
    "    cur = self.head\n",
    "    pre = []\n",
    "    post = []\n",
    "    while cur.next is not None:\n",
    "        if cur.val < item:\n",
    "            pre.append(cur.val)\n",
    "        elif cur.val > item:\n",
    "            post.append(cur.val)\n",
    "        else:\n",
    "            pass\n",
    "        cur = cur.next\n",
    "    pre.append(item)\n",
    "    pre.extend(post)\n",
    "    return pre"
   ]
  },
  {
   "cell_type": "code",
   "execution_count": 15,
   "metadata": {
    "collapsed": true
   },
   "outputs": [],
   "source": [
    "class Node:\n",
    "    def __init__(self, item):\n",
    "        self.val = item\n",
    "        self.next = None\n",
    "        \n",
    "\n",
    "class LinkedList:\n",
    "    def __init__(self, item):\n",
    "        self.head = Node(item)\n",
    "        \n",
    "    def add(self, item):\n",
    "        cur = self.head\n",
    "        while cur.next is not None:\n",
    "            cur = cur.next\n",
    "        cur.next = Node(item)\n",
    "        \n",
    "    def getHead(self):\n",
    "        return self.head\n",
    "    \n",
    "    def printlist(self):\n",
    "        cur = self.head\n",
    "        res = []\n",
    "        while cur is not None:\n",
    "            res.append(cur.val)\n",
    "            cur = cur.next\n",
    "        return str(res)\n",
    "    \n",
    "\n",
    "def solution(ll, key):\n",
    "    cur = ll.getHead()\n",
    "    pre = None\n",
    "    post = None\n",
    "    while cur is not None:\n",
    "        if cur.val != key:\n",
    "            if cur.val > key:\n",
    "                if post is None:\n",
    "                    post = LinkedList(cur.val)\n",
    "                else:\n",
    "                    post.add(cur.val)\n",
    "            elif cur.val < key:\n",
    "                if pre is None:\n",
    "                    pre = LinkedList(cur.val)\n",
    "                else:\n",
    "                    pre.add(cur.val)\n",
    "        cur = cur.next\n",
    "    \n",
    "    cur = pre.getHead()\n",
    "    while cur.next is not None:\n",
    "        cur = cur.next\n",
    "    cur.next = Node(key)\n",
    "    cur.next.next = post.getHead()\n",
    "    return pre.printlist()"
   ]
  },
  {
   "cell_type": "code",
   "execution_count": 18,
   "metadata": {
    "collapsed": true
   },
   "outputs": [],
   "source": [
    "import unittest\n",
    "class LinkedListTest(unittest.TestCase):\n",
    "    def test(self):\n",
    "        ll = LinkedList(6)\n",
    "        ll.add(3)\n",
    "        ll.add(8)\n",
    "        ll.add(1)\n",
    "        ll.add(5)\n",
    "        ll.add(9)\n",
    "#         print(solution(ll, 5))\n",
    "        self.assertEqual(\"[3, 1, 5, 6, 8, 9]\", solution(ll, 5))"
   ]
  },
  {
   "cell_type": "code",
   "execution_count": 19,
   "metadata": {},
   "outputs": [],
   "source": [
    "LinkedListTest().test()"
   ]
  },
  {
   "cell_type": "code",
   "execution_count": null,
   "metadata": {
    "collapsed": true
   },
   "outputs": [],
   "source": []
  }
 ],
 "metadata": {
  "kernelspec": {
   "display_name": "Python 3",
   "language": "python",
   "name": "python3"
  },
  "language_info": {
   "codemirror_mode": {
    "name": "ipython",
    "version": 3
   },
   "file_extension": ".py",
   "mimetype": "text/x-python",
   "name": "python",
   "nbconvert_exporter": "python",
   "pygments_lexer": "ipython3",
   "version": "3.6.2"
  }
 },
 "nbformat": 4,
 "nbformat_minor": 2
}
