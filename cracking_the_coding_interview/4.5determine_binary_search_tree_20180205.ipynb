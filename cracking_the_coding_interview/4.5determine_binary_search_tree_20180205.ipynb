{
 "cells": [
  {
   "cell_type": "markdown",
   "metadata": {},
   "source": [
    "- The left sub-tree of a node has a key less than or equal to its parent node's key.\n",
    "- The right sub-tree of a node has a key greater that or equal to its parent node's key."
   ]
  },
  {
   "cell_type": "code",
   "execution_count": 1,
   "metadata": {
    "collapsed": true
   },
   "outputs": [],
   "source": [
    "def inorder_traverse(self):\n",
    "    if self.head is not None:\n",
    "        self.__inorder(self.head)\n",
    "        \n",
    "def __inorder(self, cur):\n",
    "    if cur.left is not None:\n",
    "        self.__inorder(cur.left)\n",
    "    \n",
    "    self.inorder_list.append(cur.val)\n",
    "    print(cur.val)\n",
    "    \n",
    "    if cur.right is not None:\n",
    "        self.__inorder(cur.right)"
   ]
  },
  {
   "cell_type": "code",
   "execution_count": null,
   "metadata": {
    "collapsed": true
   },
   "outputs": [],
   "source": []
  }
 ],
 "metadata": {
  "kernelspec": {
   "display_name": "Python 3",
   "language": "python",
   "name": "python3"
  },
  "language_info": {
   "codemirror_mode": {
    "name": "ipython",
    "version": 3
   },
   "file_extension": ".py",
   "mimetype": "text/x-python",
   "name": "python",
   "nbconvert_exporter": "python",
   "pygments_lexer": "ipython3",
   "version": "3.6.2"
  }
 },
 "nbformat": 4,
 "nbformat_minor": 2
}
