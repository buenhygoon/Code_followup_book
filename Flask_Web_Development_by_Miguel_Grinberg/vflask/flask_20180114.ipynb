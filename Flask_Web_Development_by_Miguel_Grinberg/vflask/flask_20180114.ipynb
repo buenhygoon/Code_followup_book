{
 "cells": [
  {
   "cell_type": "markdown",
   "metadata": {},
   "source": [
    "## Project Structure"
   ]
  },
  {
   "cell_type": "markdown",
   "metadata": {},
   "source": [
    "|-flasky\n",
    "  |-app/\n",
    "    |-templates/\n",
    "    |-static/\n",
    "    |-main/\n",
    "      |-\\_\\_init\\_\\_.py\n",
    "      |-erorrs.py\n",
    "      |-forms.py\n",
    "      |-views.py\n",
    "    |-\\_\\_init\\_\\_.py\n",
    "    |-email.py\n",
    "    |-models.py\n",
    "  |-migrations/\n",
    "  |-tests/\n",
    "    |-\\_\\_init\\_\\_.py\n",
    "    |-test\\*.py\n",
    "  |-venv/\n",
    "  |-requirements.txt\n",
    "  |-config.py\n",
    "  |-manage.py\n",
    "  "
   ]
  },
  {
   "cell_type": "markdown",
   "metadata": {
    "collapsed": true
   },
   "source": [
    "- There are two main differences when writing a view function inside a blueprint. First, as was done for error handlers earlier, the route decorator comes from the blueprint. The second difference is in the usage of the url_for() function. As you may recall, the first argument to this function is the endpoint name of the route, which for applicationbased routes defaults to the name of the view function."
   ]
  },
  {
   "cell_type": "markdown",
   "metadata": {},
   "source": [
    "# Setup\n",
    "- blueprint\n",
    "- main app\n",
    "- manage.py\n",
    "- requirements.txt\n",
    "- tests\n",
    "- database"
   ]
  },
  {
   "cell_type": "markdown",
   "metadata": {},
   "source": [
    "# User authentication"
   ]
  },
  {
   "cell_type": "markdown",
   "metadata": {
    "collapsed": true
   },
   "source": [
    "## Password Security"
   ]
  },
  {
   "cell_type": "markdown",
   "metadata": {},
   "source": [
    "**hash**"
   ]
  },
  {
   "cell_type": "markdown",
   "metadata": {},
   "source": [
    "# restart P 92."
   ]
  },
  {
   "cell_type": "code",
   "execution_count": null,
   "metadata": {
    "collapsed": true
   },
   "outputs": [],
   "source": []
  }
 ],
 "metadata": {
  "kernelspec": {
   "display_name": "Python 3",
   "language": "python",
   "name": "python3"
  },
  "language_info": {
   "codemirror_mode": {
    "name": "ipython",
    "version": 3
   },
   "file_extension": ".py",
   "mimetype": "text/x-python",
   "name": "python",
   "nbconvert_exporter": "python",
   "pygments_lexer": "ipython3",
   "version": "3.6.2"
  }
 },
 "nbformat": 4,
 "nbformat_minor": 2
}
