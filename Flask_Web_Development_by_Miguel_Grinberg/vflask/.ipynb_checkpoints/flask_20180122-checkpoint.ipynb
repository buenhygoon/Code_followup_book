{
 "cells": [
  {
   "cell_type": "code",
   "execution_count": 2,
   "metadata": {
    "collapsed": true
   },
   "outputs": [
    {
     "name": "stderr",
     "output_type": "stream",
     "text": [
      " * Running on http://0.0.0.0:8000/ (Press CTRL+C to quit)\n",
      "[2018-01-22 17:17:02,955] ERROR in app: Exception on / [GET]\n",
      "Traceback (most recent call last):\n",
      "  File \"/home/dockeruser/anaconda3/lib/python3.6/site-packages/flask/app.py\", line 1982, in wsgi_app\n",
      "    response = self.full_dispatch_request()\n",
      "  File \"/home/dockeruser/anaconda3/lib/python3.6/site-packages/flask/app.py\", line 1614, in full_dispatch_request\n",
      "    rv = self.handle_user_exception(e)\n",
      "  File \"/home/dockeruser/anaconda3/lib/python3.6/site-packages/flask/app.py\", line 1517, in handle_user_exception\n",
      "    reraise(exc_type, exc_value, tb)\n",
      "  File \"/home/dockeruser/anaconda3/lib/python3.6/site-packages/flask/_compat.py\", line 33, in reraise\n",
      "    raise value\n",
      "  File \"/home/dockeruser/anaconda3/lib/python3.6/site-packages/flask/app.py\", line 1612, in full_dispatch_request\n",
      "    rv = self.dispatch_request()\n",
      "  File \"/home/dockeruser/anaconda3/lib/python3.6/site-packages/flask/app.py\", line 1598, in dispatch_request\n",
      "    return self.view_functions[rule.endpoint](**req.view_args)\n",
      "  File \"<ipython-input-2-562df0dc1ff4>\", line 17, in index\n",
      "    mail.send(msg)\n",
      "  File \"/home/dockeruser/anaconda3/lib/python3.6/site-packages/flask_mail.py\", line 491, in send\n",
      "    with self.connect() as connection:\n",
      "  File \"/home/dockeruser/anaconda3/lib/python3.6/site-packages/flask_mail.py\", line 144, in __enter__\n",
      "    self.host = self.configure_host()\n",
      "  File \"/home/dockeruser/anaconda3/lib/python3.6/site-packages/flask_mail.py\", line 158, in configure_host\n",
      "    host = smtplib.SMTP(self.mail.server, self.mail.port)\n",
      "  File \"/home/dockeruser/anaconda3/lib/python3.6/smtplib.py\", line 251, in __init__\n",
      "    (code, msg) = self.connect(host, port)\n",
      "  File \"/home/dockeruser/anaconda3/lib/python3.6/smtplib.py\", line 336, in connect\n",
      "    self.sock = self._get_socket(host, port, self.timeout)\n",
      "  File \"/home/dockeruser/anaconda3/lib/python3.6/smtplib.py\", line 307, in _get_socket\n",
      "    self.source_address)\n",
      "  File \"/home/dockeruser/anaconda3/lib/python3.6/socket.py\", line 722, in create_connection\n",
      "    raise err\n",
      "  File \"/home/dockeruser/anaconda3/lib/python3.6/socket.py\", line 713, in create_connection\n",
      "    sock.connect(sa)\n",
      "ConnectionRefusedError: [Errno 111] Connection refused\n",
      "192.168.99.1 - - [22/Jan/2018 17:17:02] \"GET / HTTP/1.1\" 500 -\n"
     ]
    }
   ],
   "source": [
    "from flask import Flask\n",
    "from flask_mail import Mail, Message\n",
    "\n",
    "app = Flask(__name__)\n",
    "mail = Mail()\n",
    "mail.init_app(app)\n",
    "\n",
    "@app.route('/')\n",
    "def index():\n",
    "    msg = Message('Hello',\n",
    "                 sender=\"kadencho@kadencho.com\",\n",
    "                 recipients=\"kadensungbincho@gmail.com\")\n",
    "    # msg.add_recipient(\"kadensungbincho@gmail.com\")\n",
    "    # sender =('ME', 'me@example.com')\n",
    "    msg.body = 'testing'\n",
    "    msg.html = '<b>testing</b>'\n",
    "    mail.send(msg)\n",
    "    \n",
    "\n",
    "if __name__ == '__main__':\n",
    "    app.run(port=8000, host='0.0.0.0')"
   ]
  },
  {
   "cell_type": "code",
   "execution_count": 25,
   "metadata": {},
   "outputs": [
    {
     "ename": "gaierror",
     "evalue": "[Errno -3] Temporary failure in name resolution",
     "output_type": "error",
     "traceback": [
      "\u001b[0;31m---------------------------------------------------------------------------\u001b[0m",
      "\u001b[0;31mgaierror\u001b[0m                                  Traceback (most recent call last)",
      "\u001b[0;32m<ipython-input-25-5d7432d4cfe0>\u001b[0m in \u001b[0;36m<module>\u001b[0;34m()\u001b[0m\n\u001b[1;32m     21\u001b[0m \u001b[0mmsg\u001b[0m\u001b[0;34m.\u001b[0m\u001b[0mhtml\u001b[0m \u001b[0;34m=\u001b[0m \u001b[0;34m'<b>HTML</b> body'\u001b[0m\u001b[0;34m\u001b[0m\u001b[0m\n\u001b[1;32m     22\u001b[0m \u001b[0;32mwith\u001b[0m \u001b[0mapp\u001b[0m\u001b[0;34m.\u001b[0m\u001b[0mapp_context\u001b[0m\u001b[0;34m(\u001b[0m\u001b[0;34m)\u001b[0m\u001b[0;34m:\u001b[0m\u001b[0;34m\u001b[0m\u001b[0m\n\u001b[0;32m---> 23\u001b[0;31m     \u001b[0mmail\u001b[0m\u001b[0;34m.\u001b[0m\u001b[0msend\u001b[0m\u001b[0;34m(\u001b[0m\u001b[0mmsg\u001b[0m\u001b[0;34m)\u001b[0m\u001b[0;34m\u001b[0m\u001b[0m\n\u001b[0m",
      "\u001b[0;32m~/anaconda3/lib/python3.6/site-packages/flask_mail.py\u001b[0m in \u001b[0;36msend\u001b[0;34m(self, message)\u001b[0m\n\u001b[1;32m    489\u001b[0m         \"\"\"\n\u001b[1;32m    490\u001b[0m \u001b[0;34m\u001b[0m\u001b[0m\n\u001b[0;32m--> 491\u001b[0;31m         \u001b[0;32mwith\u001b[0m \u001b[0mself\u001b[0m\u001b[0;34m.\u001b[0m\u001b[0mconnect\u001b[0m\u001b[0;34m(\u001b[0m\u001b[0;34m)\u001b[0m \u001b[0;32mas\u001b[0m \u001b[0mconnection\u001b[0m\u001b[0;34m:\u001b[0m\u001b[0;34m\u001b[0m\u001b[0m\n\u001b[0m\u001b[1;32m    492\u001b[0m             \u001b[0mmessage\u001b[0m\u001b[0;34m.\u001b[0m\u001b[0msend\u001b[0m\u001b[0;34m(\u001b[0m\u001b[0mconnection\u001b[0m\u001b[0;34m)\u001b[0m\u001b[0;34m\u001b[0m\u001b[0m\n\u001b[1;32m    493\u001b[0m \u001b[0;34m\u001b[0m\u001b[0m\n",
      "\u001b[0;32m~/anaconda3/lib/python3.6/site-packages/flask_mail.py\u001b[0m in \u001b[0;36m__enter__\u001b[0;34m(self)\u001b[0m\n\u001b[1;32m    142\u001b[0m             \u001b[0mself\u001b[0m\u001b[0;34m.\u001b[0m\u001b[0mhost\u001b[0m \u001b[0;34m=\u001b[0m \u001b[0;32mNone\u001b[0m\u001b[0;34m\u001b[0m\u001b[0m\n\u001b[1;32m    143\u001b[0m         \u001b[0;32melse\u001b[0m\u001b[0;34m:\u001b[0m\u001b[0;34m\u001b[0m\u001b[0m\n\u001b[0;32m--> 144\u001b[0;31m             \u001b[0mself\u001b[0m\u001b[0;34m.\u001b[0m\u001b[0mhost\u001b[0m \u001b[0;34m=\u001b[0m \u001b[0mself\u001b[0m\u001b[0;34m.\u001b[0m\u001b[0mconfigure_host\u001b[0m\u001b[0;34m(\u001b[0m\u001b[0;34m)\u001b[0m\u001b[0;34m\u001b[0m\u001b[0m\n\u001b[0m\u001b[1;32m    145\u001b[0m \u001b[0;34m\u001b[0m\u001b[0m\n\u001b[1;32m    146\u001b[0m         \u001b[0mself\u001b[0m\u001b[0;34m.\u001b[0m\u001b[0mnum_emails\u001b[0m \u001b[0;34m=\u001b[0m \u001b[0;36m0\u001b[0m\u001b[0;34m\u001b[0m\u001b[0m\n",
      "\u001b[0;32m~/anaconda3/lib/python3.6/site-packages/flask_mail.py\u001b[0m in \u001b[0;36mconfigure_host\u001b[0;34m(self)\u001b[0m\n\u001b[1;32m    156\u001b[0m             \u001b[0mhost\u001b[0m \u001b[0;34m=\u001b[0m \u001b[0msmtplib\u001b[0m\u001b[0;34m.\u001b[0m\u001b[0mSMTP_SSL\u001b[0m\u001b[0;34m(\u001b[0m\u001b[0mself\u001b[0m\u001b[0;34m.\u001b[0m\u001b[0mmail\u001b[0m\u001b[0;34m.\u001b[0m\u001b[0mserver\u001b[0m\u001b[0;34m,\u001b[0m \u001b[0mself\u001b[0m\u001b[0;34m.\u001b[0m\u001b[0mmail\u001b[0m\u001b[0;34m.\u001b[0m\u001b[0mport\u001b[0m\u001b[0;34m)\u001b[0m\u001b[0;34m\u001b[0m\u001b[0m\n\u001b[1;32m    157\u001b[0m         \u001b[0;32melse\u001b[0m\u001b[0;34m:\u001b[0m\u001b[0;34m\u001b[0m\u001b[0m\n\u001b[0;32m--> 158\u001b[0;31m             \u001b[0mhost\u001b[0m \u001b[0;34m=\u001b[0m \u001b[0msmtplib\u001b[0m\u001b[0;34m.\u001b[0m\u001b[0mSMTP\u001b[0m\u001b[0;34m(\u001b[0m\u001b[0mself\u001b[0m\u001b[0;34m.\u001b[0m\u001b[0mmail\u001b[0m\u001b[0;34m.\u001b[0m\u001b[0mserver\u001b[0m\u001b[0;34m,\u001b[0m \u001b[0mself\u001b[0m\u001b[0;34m.\u001b[0m\u001b[0mmail\u001b[0m\u001b[0;34m.\u001b[0m\u001b[0mport\u001b[0m\u001b[0;34m)\u001b[0m\u001b[0;34m\u001b[0m\u001b[0m\n\u001b[0m\u001b[1;32m    159\u001b[0m \u001b[0;34m\u001b[0m\u001b[0m\n\u001b[1;32m    160\u001b[0m         \u001b[0mhost\u001b[0m\u001b[0;34m.\u001b[0m\u001b[0mset_debuglevel\u001b[0m\u001b[0;34m(\u001b[0m\u001b[0mint\u001b[0m\u001b[0;34m(\u001b[0m\u001b[0mself\u001b[0m\u001b[0;34m.\u001b[0m\u001b[0mmail\u001b[0m\u001b[0;34m.\u001b[0m\u001b[0mdebug\u001b[0m\u001b[0;34m)\u001b[0m\u001b[0;34m)\u001b[0m\u001b[0;34m\u001b[0m\u001b[0m\n",
      "\u001b[0;32m~/anaconda3/lib/python3.6/smtplib.py\u001b[0m in \u001b[0;36m__init__\u001b[0;34m(self, host, port, local_hostname, timeout, source_address)\u001b[0m\n\u001b[1;32m    249\u001b[0m \u001b[0;34m\u001b[0m\u001b[0m\n\u001b[1;32m    250\u001b[0m         \u001b[0;32mif\u001b[0m \u001b[0mhost\u001b[0m\u001b[0;34m:\u001b[0m\u001b[0;34m\u001b[0m\u001b[0m\n\u001b[0;32m--> 251\u001b[0;31m             \u001b[0;34m(\u001b[0m\u001b[0mcode\u001b[0m\u001b[0;34m,\u001b[0m \u001b[0mmsg\u001b[0m\u001b[0;34m)\u001b[0m \u001b[0;34m=\u001b[0m \u001b[0mself\u001b[0m\u001b[0;34m.\u001b[0m\u001b[0mconnect\u001b[0m\u001b[0;34m(\u001b[0m\u001b[0mhost\u001b[0m\u001b[0;34m,\u001b[0m \u001b[0mport\u001b[0m\u001b[0;34m)\u001b[0m\u001b[0;34m\u001b[0m\u001b[0m\n\u001b[0m\u001b[1;32m    252\u001b[0m             \u001b[0;32mif\u001b[0m \u001b[0mcode\u001b[0m \u001b[0;34m!=\u001b[0m \u001b[0;36m220\u001b[0m\u001b[0;34m:\u001b[0m\u001b[0;34m\u001b[0m\u001b[0m\n\u001b[1;32m    253\u001b[0m                 \u001b[0mself\u001b[0m\u001b[0;34m.\u001b[0m\u001b[0mclose\u001b[0m\u001b[0;34m(\u001b[0m\u001b[0;34m)\u001b[0m\u001b[0;34m\u001b[0m\u001b[0m\n",
      "\u001b[0;32m~/anaconda3/lib/python3.6/smtplib.py\u001b[0m in \u001b[0;36mconnect\u001b[0;34m(self, host, port, source_address)\u001b[0m\n\u001b[1;32m    334\u001b[0m         \u001b[0;32mif\u001b[0m \u001b[0mself\u001b[0m\u001b[0;34m.\u001b[0m\u001b[0mdebuglevel\u001b[0m \u001b[0;34m>\u001b[0m \u001b[0;36m0\u001b[0m\u001b[0;34m:\u001b[0m\u001b[0;34m\u001b[0m\u001b[0m\n\u001b[1;32m    335\u001b[0m             \u001b[0mself\u001b[0m\u001b[0;34m.\u001b[0m\u001b[0m_print_debug\u001b[0m\u001b[0;34m(\u001b[0m\u001b[0;34m'connect:'\u001b[0m\u001b[0;34m,\u001b[0m \u001b[0;34m(\u001b[0m\u001b[0mhost\u001b[0m\u001b[0;34m,\u001b[0m \u001b[0mport\u001b[0m\u001b[0;34m)\u001b[0m\u001b[0;34m)\u001b[0m\u001b[0;34m\u001b[0m\u001b[0m\n\u001b[0;32m--> 336\u001b[0;31m         \u001b[0mself\u001b[0m\u001b[0;34m.\u001b[0m\u001b[0msock\u001b[0m \u001b[0;34m=\u001b[0m \u001b[0mself\u001b[0m\u001b[0;34m.\u001b[0m\u001b[0m_get_socket\u001b[0m\u001b[0;34m(\u001b[0m\u001b[0mhost\u001b[0m\u001b[0;34m,\u001b[0m \u001b[0mport\u001b[0m\u001b[0;34m,\u001b[0m \u001b[0mself\u001b[0m\u001b[0;34m.\u001b[0m\u001b[0mtimeout\u001b[0m\u001b[0;34m)\u001b[0m\u001b[0;34m\u001b[0m\u001b[0m\n\u001b[0m\u001b[1;32m    337\u001b[0m         \u001b[0mself\u001b[0m\u001b[0;34m.\u001b[0m\u001b[0mfile\u001b[0m \u001b[0;34m=\u001b[0m \u001b[0;32mNone\u001b[0m\u001b[0;34m\u001b[0m\u001b[0m\n\u001b[1;32m    338\u001b[0m         \u001b[0;34m(\u001b[0m\u001b[0mcode\u001b[0m\u001b[0;34m,\u001b[0m \u001b[0mmsg\u001b[0m\u001b[0;34m)\u001b[0m \u001b[0;34m=\u001b[0m \u001b[0mself\u001b[0m\u001b[0;34m.\u001b[0m\u001b[0mgetreply\u001b[0m\u001b[0;34m(\u001b[0m\u001b[0;34m)\u001b[0m\u001b[0;34m\u001b[0m\u001b[0m\n",
      "\u001b[0;32m~/anaconda3/lib/python3.6/smtplib.py\u001b[0m in \u001b[0;36m_get_socket\u001b[0;34m(self, host, port, timeout)\u001b[0m\n\u001b[1;32m    305\u001b[0m             \u001b[0mself\u001b[0m\u001b[0;34m.\u001b[0m\u001b[0m_print_debug\u001b[0m\u001b[0;34m(\u001b[0m\u001b[0;34m'connect: to'\u001b[0m\u001b[0;34m,\u001b[0m \u001b[0;34m(\u001b[0m\u001b[0mhost\u001b[0m\u001b[0;34m,\u001b[0m \u001b[0mport\u001b[0m\u001b[0;34m)\u001b[0m\u001b[0;34m,\u001b[0m \u001b[0mself\u001b[0m\u001b[0;34m.\u001b[0m\u001b[0msource_address\u001b[0m\u001b[0;34m)\u001b[0m\u001b[0;34m\u001b[0m\u001b[0m\n\u001b[1;32m    306\u001b[0m         return socket.create_connection((host, port), timeout,\n\u001b[0;32m--> 307\u001b[0;31m                                         self.source_address)\n\u001b[0m\u001b[1;32m    308\u001b[0m \u001b[0;34m\u001b[0m\u001b[0m\n\u001b[1;32m    309\u001b[0m     \u001b[0;32mdef\u001b[0m \u001b[0mconnect\u001b[0m\u001b[0;34m(\u001b[0m\u001b[0mself\u001b[0m\u001b[0;34m,\u001b[0m \u001b[0mhost\u001b[0m\u001b[0;34m=\u001b[0m\u001b[0;34m'localhost'\u001b[0m\u001b[0;34m,\u001b[0m \u001b[0mport\u001b[0m\u001b[0;34m=\u001b[0m\u001b[0;36m0\u001b[0m\u001b[0;34m,\u001b[0m \u001b[0msource_address\u001b[0m\u001b[0;34m=\u001b[0m\u001b[0;32mNone\u001b[0m\u001b[0;34m)\u001b[0m\u001b[0;34m:\u001b[0m\u001b[0;34m\u001b[0m\u001b[0m\n",
      "\u001b[0;32m~/anaconda3/lib/python3.6/socket.py\u001b[0m in \u001b[0;36mcreate_connection\u001b[0;34m(address, timeout, source_address)\u001b[0m\n\u001b[1;32m    702\u001b[0m     \u001b[0mhost\u001b[0m\u001b[0;34m,\u001b[0m \u001b[0mport\u001b[0m \u001b[0;34m=\u001b[0m \u001b[0maddress\u001b[0m\u001b[0;34m\u001b[0m\u001b[0m\n\u001b[1;32m    703\u001b[0m     \u001b[0merr\u001b[0m \u001b[0;34m=\u001b[0m \u001b[0;32mNone\u001b[0m\u001b[0;34m\u001b[0m\u001b[0m\n\u001b[0;32m--> 704\u001b[0;31m     \u001b[0;32mfor\u001b[0m \u001b[0mres\u001b[0m \u001b[0;32min\u001b[0m \u001b[0mgetaddrinfo\u001b[0m\u001b[0;34m(\u001b[0m\u001b[0mhost\u001b[0m\u001b[0;34m,\u001b[0m \u001b[0mport\u001b[0m\u001b[0;34m,\u001b[0m \u001b[0;36m0\u001b[0m\u001b[0;34m,\u001b[0m \u001b[0mSOCK_STREAM\u001b[0m\u001b[0;34m)\u001b[0m\u001b[0;34m:\u001b[0m\u001b[0;34m\u001b[0m\u001b[0m\n\u001b[0m\u001b[1;32m    705\u001b[0m         \u001b[0maf\u001b[0m\u001b[0;34m,\u001b[0m \u001b[0msocktype\u001b[0m\u001b[0;34m,\u001b[0m \u001b[0mproto\u001b[0m\u001b[0;34m,\u001b[0m \u001b[0mcanonname\u001b[0m\u001b[0;34m,\u001b[0m \u001b[0msa\u001b[0m \u001b[0;34m=\u001b[0m \u001b[0mres\u001b[0m\u001b[0;34m\u001b[0m\u001b[0m\n\u001b[1;32m    706\u001b[0m         \u001b[0msock\u001b[0m \u001b[0;34m=\u001b[0m \u001b[0;32mNone\u001b[0m\u001b[0;34m\u001b[0m\u001b[0m\n",
      "\u001b[0;32m~/anaconda3/lib/python3.6/socket.py\u001b[0m in \u001b[0;36mgetaddrinfo\u001b[0;34m(host, port, family, type, proto, flags)\u001b[0m\n\u001b[1;32m    741\u001b[0m     \u001b[0;31m# and socket type values to enum constants.\u001b[0m\u001b[0;34m\u001b[0m\u001b[0;34m\u001b[0m\u001b[0m\n\u001b[1;32m    742\u001b[0m     \u001b[0maddrlist\u001b[0m \u001b[0;34m=\u001b[0m \u001b[0;34m[\u001b[0m\u001b[0;34m]\u001b[0m\u001b[0;34m\u001b[0m\u001b[0m\n\u001b[0;32m--> 743\u001b[0;31m     \u001b[0;32mfor\u001b[0m \u001b[0mres\u001b[0m \u001b[0;32min\u001b[0m \u001b[0m_socket\u001b[0m\u001b[0;34m.\u001b[0m\u001b[0mgetaddrinfo\u001b[0m\u001b[0;34m(\u001b[0m\u001b[0mhost\u001b[0m\u001b[0;34m,\u001b[0m \u001b[0mport\u001b[0m\u001b[0;34m,\u001b[0m \u001b[0mfamily\u001b[0m\u001b[0;34m,\u001b[0m \u001b[0mtype\u001b[0m\u001b[0;34m,\u001b[0m \u001b[0mproto\u001b[0m\u001b[0;34m,\u001b[0m \u001b[0mflags\u001b[0m\u001b[0;34m)\u001b[0m\u001b[0;34m:\u001b[0m\u001b[0;34m\u001b[0m\u001b[0m\n\u001b[0m\u001b[1;32m    744\u001b[0m         \u001b[0maf\u001b[0m\u001b[0;34m,\u001b[0m \u001b[0msocktype\u001b[0m\u001b[0;34m,\u001b[0m \u001b[0mproto\u001b[0m\u001b[0;34m,\u001b[0m \u001b[0mcanonname\u001b[0m\u001b[0;34m,\u001b[0m \u001b[0msa\u001b[0m \u001b[0;34m=\u001b[0m \u001b[0mres\u001b[0m\u001b[0;34m\u001b[0m\u001b[0m\n\u001b[1;32m    745\u001b[0m         addrlist.append((_intenum_converter(af, AddressFamily),\n",
      "\u001b[0;31mgaierror\u001b[0m: [Errno -3] Temporary failure in name resolution"
     ]
    }
   ],
   "source": [
    "from flask import Flask\n",
    "from flask_mail import Mail, Message\n",
    "\n",
    "app = Flask(__name__)\n",
    "\n",
    "app.config.update(dict(\n",
    "    DEBUG = True,\n",
    "    MAIL_SERVER = 'your.mailserver.com',\n",
    "    MAIL_PORT = 25,\n",
    "    MAIL_USERNAME = None,\n",
    "    MAIL_PASSWORD = None\n",
    "))\n",
    "\n",
    "ADMINS = ['kadensungbincho@gmail.com']\n",
    "\n",
    "\n",
    "mail = Mail(app)\n",
    "\n",
    "msg = Message('test subject', sender=ADMINS[0], recipients=ADMINS)\n",
    "msg.body = 'text body'\n",
    "msg.html = '<b>HTML</b> body'\n",
    "with app.app_context():\n",
    "    mail.send(msg)"
   ]
  },
  {
   "cell_type": "markdown",
   "metadata": {},
   "source": [
    "# EMAIL\n",
    "- https://en.wikipedia.org/wiki/Email\n",
    "- store and forward"
   ]
  },
  {
   "cell_type": "markdown",
   "metadata": {},
   "source": [
    "<img src=\"https://upload.wikimedia.org/wikipedia/commons/thumb/7/72/Email.svg/791px-Email.svg.png\"/>"
   ]
  },
  {
   "cell_type": "markdown",
   "metadata": {},
   "source": [
    "## SMTP"
   ]
  },
  {
   "cell_type": "markdown",
   "metadata": {},
   "source": [
    "# User Profile"
   ]
  },
  {
   "cell_type": "markdown",
   "metadata": {},
   "source": [
    "### Profile Information"
   ]
  },
  {
   "cell_type": "markdown",
   "metadata": {
    "collapsed": true
   },
   "source": [
    "## Profile Editor"
   ]
  },
  {
   "cell_type": "markdown",
   "metadata": {},
   "source": [
    "## http://en.gravatar.com/"
   ]
  },
  {
   "cell_type": "markdown",
   "metadata": {},
   "source": [
    "- The generation of avatars requires an MD5 hash to be generated, which is a CPUintensive operation. If a large number of avatars need to be generated for a page, then the computational work can be significant. Since the MD5 hash for a user will remain constant, it can be cached in the User model. Example 10-15 shows the changes to the User model to store the MD5 hashes in the database.\n"
   ]
  },
  {
   "cell_type": "markdown",
   "metadata": {},
   "source": [
    "# Blog posts"
   ]
  },
  {
   "cell_type": "markdown",
   "metadata": {},
   "source": [
    "# P. 153\n"
   ]
  },
  {
   "cell_type": "code",
   "execution_count": 5,
   "metadata": {
    "collapsed": true
   },
   "outputs": [],
   "source": [
    "import sqlalchemy\n",
    "from sqlalchemy import create_engine, MetaData, Table\n",
    "from sqlalchemy.orm import mapper, sessionmaker"
   ]
  },
  {
   "cell_type": "code",
   "execution_count": 4,
   "metadata": {},
   "outputs": [
    {
     "data": {
      "text/plain": [
       "'1.1.13'"
      ]
     },
     "execution_count": 4,
     "metadata": {},
     "output_type": "execute_result"
    }
   ],
   "source": [
    "sqlalchemy.__version__"
   ]
  },
  {
   "cell_type": "code",
   "execution_count": 6,
   "metadata": {
    "collapsed": true
   },
   "outputs": [],
   "source": [
    "engine = create_engine('sqlite:///restart/data-dev.sqlite', echo=True)"
   ]
  },
  {
   "cell_type": "code",
   "execution_count": 7,
   "metadata": {
    "collapsed": true
   },
   "outputs": [],
   "source": [
    "Session = sessionmaker(bind=engine)"
   ]
  },
  {
   "cell_type": "code",
   "execution_count": 8,
   "metadata": {
    "collapsed": true
   },
   "outputs": [],
   "source": [
    "session = Session()"
   ]
  },
  {
   "cell_type": "code",
   "execution_count": 12,
   "metadata": {
    "collapsed": true
   },
   "outputs": [],
   "source": [
    "from sqlalchemy import inspect\n",
    "inspector = inspect(engine)"
   ]
  },
  {
   "cell_type": "code",
   "execution_count": 13,
   "metadata": {},
   "outputs": [
    {
     "name": "stdout",
     "output_type": "stream",
     "text": [
      "2018-01-24 11:13:47,838 INFO sqlalchemy.engine.base.Engine SELECT name FROM sqlite_master WHERE type='table' ORDER BY name\n",
      "2018-01-24 11:13:47,840 INFO sqlalchemy.engine.base.Engine ()\n",
      "['alembic_version', 'posts', 'roles', 'users']\n"
     ]
    }
   ],
   "source": [
    "print(inspector.get_table_names())"
   ]
  },
  {
   "cell_type": "code",
   "execution_count": 14,
   "metadata": {},
   "outputs": [
    {
     "name": "stdout",
     "output_type": "stream",
     "text": [
      "2018-01-24 11:14:13,802 INFO sqlalchemy.engine.base.Engine PRAGMA table_info(\"users\")\n",
      "2018-01-24 11:14:13,803 INFO sqlalchemy.engine.base.Engine ()\n",
      "[{'name': 'id', 'type': INTEGER(), 'nullable': False, 'default': None, 'autoincrement': 'auto', 'primary_key': 1}, {'name': 'email', 'type': VARCHAR(length=64), 'nullable': True, 'default': None, 'autoincrement': 'auto', 'primary_key': 0}, {'name': 'username', 'type': VARCHAR(length=64), 'nullable': True, 'default': None, 'autoincrement': 'auto', 'primary_key': 0}, {'name': 'role_id', 'type': INTEGER(), 'nullable': True, 'default': None, 'autoincrement': 'auto', 'primary_key': 0}, {'name': 'password_hash', 'type': VARCHAR(length=128), 'nullable': True, 'default': None, 'autoincrement': 'auto', 'primary_key': 0}, {'name': 'confirmed', 'type': BOOLEAN(), 'nullable': True, 'default': None, 'autoincrement': 'auto', 'primary_key': 0}, {'name': 'about_me', 'type': TEXT(), 'nullable': True, 'default': None, 'autoincrement': 'auto', 'primary_key': 0}, {'name': 'last_seen', 'type': DATETIME(), 'nullable': True, 'default': None, 'autoincrement': 'auto', 'primary_key': 0}, {'name': 'location', 'type': VARCHAR(length=64), 'nullable': True, 'default': None, 'autoincrement': 'auto', 'primary_key': 0}, {'name': 'member_since', 'type': DATETIME(), 'nullable': True, 'default': None, 'autoincrement': 'auto', 'primary_key': 0}, {'name': 'name', 'type': VARCHAR(length=64), 'nullable': True, 'default': None, 'autoincrement': 'auto', 'primary_key': 0}, {'name': 'avatar_hash', 'type': VARCHAR(length=32), 'nullable': True, 'default': None, 'autoincrement': 'auto', 'primary_key': 0}]\n"
     ]
    }
   ],
   "source": [
    "print(inspector.get_columns('users'))"
   ]
  },
  {
   "cell_type": "code",
   "execution_count": 16,
   "metadata": {},
   "outputs": [
    {
     "name": "stdout",
     "output_type": "stream",
     "text": [
      "immutabledict({})\n"
     ]
    }
   ],
   "source": [
    "metadata = MetaData()\n",
    "print(metadata.tables)"
   ]
  },
  {
   "cell_type": "code",
   "execution_count": 17,
   "metadata": {},
   "outputs": [
    {
     "name": "stdout",
     "output_type": "stream",
     "text": [
      "2018-01-24 11:15:16,069 INFO sqlalchemy.engine.base.Engine SELECT name FROM sqlite_master WHERE type='table' ORDER BY name\n",
      "2018-01-24 11:15:16,071 INFO sqlalchemy.engine.base.Engine ()\n",
      "2018-01-24 11:15:16,080 INFO sqlalchemy.engine.base.Engine PRAGMA table_info(\"alembic_version\")\n",
      "2018-01-24 11:15:16,082 INFO sqlalchemy.engine.base.Engine ()\n",
      "2018-01-24 11:15:16,087 INFO sqlalchemy.engine.base.Engine SELECT sql FROM  (SELECT * FROM sqlite_master UNION ALL   SELECT * FROM sqlite_temp_master) WHERE name = 'alembic_version' AND type = 'table'\n",
      "2018-01-24 11:15:16,088 INFO sqlalchemy.engine.base.Engine ()\n",
      "2018-01-24 11:15:16,093 INFO sqlalchemy.engine.base.Engine PRAGMA foreign_key_list(\"alembic_version\")\n",
      "2018-01-24 11:15:16,094 INFO sqlalchemy.engine.base.Engine ()\n",
      "2018-01-24 11:15:16,095 INFO sqlalchemy.engine.base.Engine SELECT sql FROM  (SELECT * FROM sqlite_master UNION ALL   SELECT * FROM sqlite_temp_master) WHERE name = 'alembic_version' AND type = 'table'\n",
      "2018-01-24 11:15:16,096 INFO sqlalchemy.engine.base.Engine ()\n",
      "2018-01-24 11:15:16,105 INFO sqlalchemy.engine.base.Engine PRAGMA index_list(\"alembic_version\")\n",
      "2018-01-24 11:15:16,106 INFO sqlalchemy.engine.base.Engine ()\n",
      "2018-01-24 11:15:16,114 INFO sqlalchemy.engine.base.Engine PRAGMA index_list(\"alembic_version\")\n",
      "2018-01-24 11:15:16,114 INFO sqlalchemy.engine.base.Engine ()\n",
      "2018-01-24 11:15:16,120 INFO sqlalchemy.engine.base.Engine PRAGMA index_info(\"sqlite_autoindex_alembic_version_1\")\n",
      "2018-01-24 11:15:16,121 INFO sqlalchemy.engine.base.Engine ()\n",
      "2018-01-24 11:15:16,126 INFO sqlalchemy.engine.base.Engine SELECT sql FROM  (SELECT * FROM sqlite_master UNION ALL   SELECT * FROM sqlite_temp_master) WHERE name = 'alembic_version' AND type = 'table'\n",
      "2018-01-24 11:15:16,127 INFO sqlalchemy.engine.base.Engine ()\n",
      "2018-01-24 11:15:16,136 INFO sqlalchemy.engine.base.Engine PRAGMA table_info(\"posts\")\n",
      "2018-01-24 11:15:16,137 INFO sqlalchemy.engine.base.Engine ()\n",
      "2018-01-24 11:15:16,145 INFO sqlalchemy.engine.base.Engine SELECT sql FROM  (SELECT * FROM sqlite_master UNION ALL   SELECT * FROM sqlite_temp_master) WHERE name = 'posts' AND type = 'table'\n",
      "2018-01-24 11:15:16,146 INFO sqlalchemy.engine.base.Engine ()\n",
      "2018-01-24 11:15:16,151 INFO sqlalchemy.engine.base.Engine PRAGMA foreign_key_list(\"posts\")\n",
      "2018-01-24 11:15:16,153 INFO sqlalchemy.engine.base.Engine ()\n",
      "2018-01-24 11:15:16,157 INFO sqlalchemy.engine.base.Engine SELECT sql FROM  (SELECT * FROM sqlite_master UNION ALL   SELECT * FROM sqlite_temp_master) WHERE name = 'posts' AND type = 'table'\n",
      "2018-01-24 11:15:16,159 INFO sqlalchemy.engine.base.Engine ()\n",
      "2018-01-24 11:15:16,164 INFO sqlalchemy.engine.base.Engine PRAGMA table_info(\"users\")\n",
      "2018-01-24 11:15:16,165 INFO sqlalchemy.engine.base.Engine ()\n",
      "2018-01-24 11:15:16,171 INFO sqlalchemy.engine.base.Engine SELECT sql FROM  (SELECT * FROM sqlite_master UNION ALL   SELECT * FROM sqlite_temp_master) WHERE name = 'users' AND type = 'table'\n",
      "2018-01-24 11:15:16,172 INFO sqlalchemy.engine.base.Engine ()\n",
      "2018-01-24 11:15:16,178 INFO sqlalchemy.engine.base.Engine PRAGMA foreign_key_list(\"users\")\n",
      "2018-01-24 11:15:16,179 INFO sqlalchemy.engine.base.Engine ()\n",
      "2018-01-24 11:15:16,185 INFO sqlalchemy.engine.base.Engine SELECT sql FROM  (SELECT * FROM sqlite_master UNION ALL   SELECT * FROM sqlite_temp_master) WHERE name = 'users' AND type = 'table'\n",
      "2018-01-24 11:15:16,187 INFO sqlalchemy.engine.base.Engine ()\n",
      "2018-01-24 11:15:16,195 INFO sqlalchemy.engine.base.Engine PRAGMA table_info(\"roles\")\n",
      "2018-01-24 11:15:16,196 INFO sqlalchemy.engine.base.Engine ()\n",
      "2018-01-24 11:15:16,204 INFO sqlalchemy.engine.base.Engine SELECT sql FROM  (SELECT * FROM sqlite_master UNION ALL   SELECT * FROM sqlite_temp_master) WHERE name = 'roles' AND type = 'table'\n",
      "2018-01-24 11:15:16,206 INFO sqlalchemy.engine.base.Engine ()\n",
      "2018-01-24 11:15:16,210 INFO sqlalchemy.engine.base.Engine PRAGMA foreign_key_list(\"roles\")\n",
      "2018-01-24 11:15:16,212 INFO sqlalchemy.engine.base.Engine ()\n",
      "2018-01-24 11:15:16,213 INFO sqlalchemy.engine.base.Engine SELECT sql FROM  (SELECT * FROM sqlite_master UNION ALL   SELECT * FROM sqlite_temp_master) WHERE name = 'roles' AND type = 'table'\n",
      "2018-01-24 11:15:16,214 INFO sqlalchemy.engine.base.Engine ()\n",
      "2018-01-24 11:15:16,219 INFO sqlalchemy.engine.base.Engine PRAGMA index_list(\"roles\")\n",
      "2018-01-24 11:15:16,220 INFO sqlalchemy.engine.base.Engine ()\n",
      "2018-01-24 11:15:16,225 INFO sqlalchemy.engine.base.Engine PRAGMA index_info(\"ix_roles_default\")\n",
      "2018-01-24 11:15:16,227 INFO sqlalchemy.engine.base.Engine ()\n",
      "2018-01-24 11:15:16,233 INFO sqlalchemy.engine.base.Engine PRAGMA index_list(\"roles\")\n",
      "2018-01-24 11:15:16,234 INFO sqlalchemy.engine.base.Engine ()\n",
      "2018-01-24 11:15:16,240 INFO sqlalchemy.engine.base.Engine PRAGMA index_info(\"ix_roles_default\")\n",
      "2018-01-24 11:15:16,243 INFO sqlalchemy.engine.base.Engine ()\n",
      "2018-01-24 11:15:16,247 INFO sqlalchemy.engine.base.Engine PRAGMA index_info(\"sqlite_autoindex_roles_1\")\n",
      "2018-01-24 11:15:16,248 INFO sqlalchemy.engine.base.Engine ()\n",
      "2018-01-24 11:15:16,252 INFO sqlalchemy.engine.base.Engine SELECT sql FROM  (SELECT * FROM sqlite_master UNION ALL   SELECT * FROM sqlite_temp_master) WHERE name = 'roles' AND type = 'table'\n",
      "2018-01-24 11:15:16,253 INFO sqlalchemy.engine.base.Engine ()\n",
      "2018-01-24 11:15:16,259 INFO sqlalchemy.engine.base.Engine PRAGMA index_list(\"users\")\n",
      "2018-01-24 11:15:16,260 INFO sqlalchemy.engine.base.Engine ()\n",
      "2018-01-24 11:15:16,267 INFO sqlalchemy.engine.base.Engine PRAGMA index_info(\"ix_users_username\")\n",
      "2018-01-24 11:15:16,268 INFO sqlalchemy.engine.base.Engine ()\n",
      "2018-01-24 11:15:16,273 INFO sqlalchemy.engine.base.Engine PRAGMA index_info(\"ix_users_email\")\n",
      "2018-01-24 11:15:16,274 INFO sqlalchemy.engine.base.Engine ()\n",
      "2018-01-24 11:15:16,281 INFO sqlalchemy.engine.base.Engine PRAGMA index_list(\"users\")\n",
      "2018-01-24 11:15:16,284 INFO sqlalchemy.engine.base.Engine ()\n",
      "2018-01-24 11:15:16,291 INFO sqlalchemy.engine.base.Engine PRAGMA index_info(\"ix_users_username\")\n",
      "2018-01-24 11:15:16,292 INFO sqlalchemy.engine.base.Engine ()\n",
      "2018-01-24 11:15:16,298 INFO sqlalchemy.engine.base.Engine PRAGMA index_info(\"ix_users_email\")\n",
      "2018-01-24 11:15:16,299 INFO sqlalchemy.engine.base.Engine ()\n",
      "2018-01-24 11:15:16,307 INFO sqlalchemy.engine.base.Engine SELECT sql FROM  (SELECT * FROM sqlite_master UNION ALL   SELECT * FROM sqlite_temp_master) WHERE name = 'users' AND type = 'table'\n",
      "2018-01-24 11:15:16,308 INFO sqlalchemy.engine.base.Engine ()\n",
      "2018-01-24 11:15:16,315 INFO sqlalchemy.engine.base.Engine PRAGMA index_list(\"posts\")\n",
      "2018-01-24 11:15:16,316 INFO sqlalchemy.engine.base.Engine ()\n",
      "2018-01-24 11:15:16,320 INFO sqlalchemy.engine.base.Engine PRAGMA index_info(\"ix_posts_timestamp\")\n",
      "2018-01-24 11:15:16,322 INFO sqlalchemy.engine.base.Engine ()\n",
      "2018-01-24 11:15:16,333 INFO sqlalchemy.engine.base.Engine PRAGMA index_list(\"posts\")\n",
      "2018-01-24 11:15:16,334 INFO sqlalchemy.engine.base.Engine ()\n",
      "2018-01-24 11:15:16,338 INFO sqlalchemy.engine.base.Engine PRAGMA index_info(\"ix_posts_timestamp\")\n",
      "2018-01-24 11:15:16,339 INFO sqlalchemy.engine.base.Engine ()\n",
      "2018-01-24 11:15:16,345 INFO sqlalchemy.engine.base.Engine SELECT sql FROM  (SELECT * FROM sqlite_master UNION ALL   SELECT * FROM sqlite_temp_master) WHERE name = 'posts' AND type = 'table'\n",
      "2018-01-24 11:15:16,346 INFO sqlalchemy.engine.base.Engine ()\n",
      "immutabledict({'alembic_version': Table('alembic_version', MetaData(bind=None), Column('version_num', VARCHAR(length=32), table=<alembic_version>, primary_key=True, nullable=False), schema=None), 'posts': Table('posts', MetaData(bind=None), Column('id', INTEGER(), table=<posts>, primary_key=True, nullable=False), Column('body', TEXT(), table=<posts>), Column('timestamp', DATETIME(), table=<posts>), Column('author_id', INTEGER(), ForeignKey('users.id'), table=<posts>), schema=None), 'users': Table('users', MetaData(bind=None), Column('id', INTEGER(), table=<users>, primary_key=True, nullable=False), Column('email', VARCHAR(length=64), table=<users>), Column('username', VARCHAR(length=64), table=<users>), Column('role_id', INTEGER(), ForeignKey('roles.id'), table=<users>), Column('password_hash', VARCHAR(length=128), table=<users>), Column('confirmed', BOOLEAN(), table=<users>), Column('about_me', TEXT(), table=<users>), Column('last_seen', DATETIME(), table=<users>), Column('location', VARCHAR(length=64), table=<users>), Column('member_since', DATETIME(), table=<users>), Column('name', VARCHAR(length=64), table=<users>), Column('avatar_hash', VARCHAR(length=32), table=<users>), schema=None), 'roles': Table('roles', MetaData(bind=None), Column('id', INTEGER(), table=<roles>, primary_key=True, nullable=False), Column('name', VARCHAR(length=64), table=<roles>), Column('default', BOOLEAN(), table=<roles>), Column('permissions', INTEGER(), table=<roles>), schema=None)})\n"
     ]
    }
   ],
   "source": [
    "metadata.reflect(bind=engine)\n",
    "print(metadata.tables)"
   ]
  },
  {
   "cell_type": "code",
   "execution_count": 19,
   "metadata": {},
   "outputs": [
    {
     "name": "stdout",
     "output_type": "stream",
     "text": [
      "2018-01-24 11:15:58,127 INFO sqlalchemy.engine.base.Engine SELECT name FROM sqlite_master WHERE type='table' ORDER BY name\n",
      "2018-01-24 11:15:58,128 INFO sqlalchemy.engine.base.Engine ()\n",
      "2018-01-24 11:15:58,138 INFO sqlalchemy.engine.base.Engine PRAGMA table_info(\"alembic_version\")\n",
      "2018-01-24 11:15:58,139 INFO sqlalchemy.engine.base.Engine ()\n",
      "2018-01-24 11:15:58,156 INFO sqlalchemy.engine.base.Engine SELECT sql FROM  (SELECT * FROM sqlite_master UNION ALL   SELECT * FROM sqlite_temp_master) WHERE name = 'alembic_version' AND type = 'table'\n",
      "2018-01-24 11:15:58,156 INFO sqlalchemy.engine.base.Engine ()\n",
      "2018-01-24 11:15:58,163 INFO sqlalchemy.engine.base.Engine PRAGMA foreign_key_list(\"alembic_version\")\n",
      "2018-01-24 11:15:58,164 INFO sqlalchemy.engine.base.Engine ()\n",
      "2018-01-24 11:15:58,166 INFO sqlalchemy.engine.base.Engine SELECT sql FROM  (SELECT * FROM sqlite_master UNION ALL   SELECT * FROM sqlite_temp_master) WHERE name = 'alembic_version' AND type = 'table'\n",
      "2018-01-24 11:15:58,167 INFO sqlalchemy.engine.base.Engine ()\n",
      "2018-01-24 11:15:58,176 INFO sqlalchemy.engine.base.Engine PRAGMA index_list(\"alembic_version\")\n",
      "2018-01-24 11:15:58,177 INFO sqlalchemy.engine.base.Engine ()\n",
      "2018-01-24 11:15:58,182 INFO sqlalchemy.engine.base.Engine PRAGMA index_list(\"alembic_version\")\n",
      "2018-01-24 11:15:58,183 INFO sqlalchemy.engine.base.Engine ()\n",
      "2018-01-24 11:15:58,189 INFO sqlalchemy.engine.base.Engine PRAGMA index_info(\"sqlite_autoindex_alembic_version_1\")\n",
      "2018-01-24 11:15:58,191 INFO sqlalchemy.engine.base.Engine ()\n",
      "2018-01-24 11:15:58,198 INFO sqlalchemy.engine.base.Engine SELECT sql FROM  (SELECT * FROM sqlite_master UNION ALL   SELECT * FROM sqlite_temp_master) WHERE name = 'alembic_version' AND type = 'table'\n",
      "2018-01-24 11:15:58,199 INFO sqlalchemy.engine.base.Engine ()\n",
      "2018-01-24 11:15:58,211 INFO sqlalchemy.engine.base.Engine PRAGMA table_info(\"posts\")\n",
      "2018-01-24 11:15:58,212 INFO sqlalchemy.engine.base.Engine ()\n",
      "2018-01-24 11:15:58,220 INFO sqlalchemy.engine.base.Engine SELECT sql FROM  (SELECT * FROM sqlite_master UNION ALL   SELECT * FROM sqlite_temp_master) WHERE name = 'posts' AND type = 'table'\n",
      "2018-01-24 11:15:58,225 INFO sqlalchemy.engine.base.Engine ()\n",
      "2018-01-24 11:15:58,232 INFO sqlalchemy.engine.base.Engine PRAGMA foreign_key_list(\"posts\")\n",
      "2018-01-24 11:15:58,233 INFO sqlalchemy.engine.base.Engine ()\n",
      "2018-01-24 11:15:58,239 INFO sqlalchemy.engine.base.Engine SELECT sql FROM  (SELECT * FROM sqlite_master UNION ALL   SELECT * FROM sqlite_temp_master) WHERE name = 'posts' AND type = 'table'\n",
      "2018-01-24 11:15:58,241 INFO sqlalchemy.engine.base.Engine ()\n",
      "2018-01-24 11:15:58,247 INFO sqlalchemy.engine.base.Engine PRAGMA table_info(\"users\")\n",
      "2018-01-24 11:15:58,248 INFO sqlalchemy.engine.base.Engine ()\n",
      "2018-01-24 11:15:58,254 INFO sqlalchemy.engine.base.Engine SELECT sql FROM  (SELECT * FROM sqlite_master UNION ALL   SELECT * FROM sqlite_temp_master) WHERE name = 'users' AND type = 'table'\n",
      "2018-01-24 11:15:58,256 INFO sqlalchemy.engine.base.Engine ()\n",
      "2018-01-24 11:15:58,266 INFO sqlalchemy.engine.base.Engine PRAGMA foreign_key_list(\"users\")\n",
      "2018-01-24 11:15:58,268 INFO sqlalchemy.engine.base.Engine ()\n",
      "2018-01-24 11:15:58,273 INFO sqlalchemy.engine.base.Engine SELECT sql FROM  (SELECT * FROM sqlite_master UNION ALL   SELECT * FROM sqlite_temp_master) WHERE name = 'users' AND type = 'table'\n",
      "2018-01-24 11:15:58,274 INFO sqlalchemy.engine.base.Engine ()\n",
      "2018-01-24 11:15:58,279 INFO sqlalchemy.engine.base.Engine PRAGMA table_info(\"roles\")\n",
      "2018-01-24 11:15:58,281 INFO sqlalchemy.engine.base.Engine ()\n",
      "2018-01-24 11:15:58,287 INFO sqlalchemy.engine.base.Engine SELECT sql FROM  (SELECT * FROM sqlite_master UNION ALL   SELECT * FROM sqlite_temp_master) WHERE name = 'roles' AND type = 'table'\n",
      "2018-01-24 11:15:58,289 INFO sqlalchemy.engine.base.Engine ()\n",
      "2018-01-24 11:15:58,294 INFO sqlalchemy.engine.base.Engine PRAGMA foreign_key_list(\"roles\")\n",
      "2018-01-24 11:15:58,296 INFO sqlalchemy.engine.base.Engine ()\n",
      "2018-01-24 11:15:58,297 INFO sqlalchemy.engine.base.Engine SELECT sql FROM  (SELECT * FROM sqlite_master UNION ALL   SELECT * FROM sqlite_temp_master) WHERE name = 'roles' AND type = 'table'\n",
      "2018-01-24 11:15:58,298 INFO sqlalchemy.engine.base.Engine ()\n",
      "2018-01-24 11:15:58,309 INFO sqlalchemy.engine.base.Engine PRAGMA index_list(\"roles\")\n",
      "2018-01-24 11:15:58,310 INFO sqlalchemy.engine.base.Engine ()\n"
     ]
    },
    {
     "name": "stderr",
     "output_type": "stream",
     "text": [
      "/home/dockeruser/anaconda3/lib/python3.6/site-packages/ipykernel_launcher.py:1: SADeprecationWarning: reflect=True is deprecate; please use the reflect() method.\n",
      "  \"\"\"Entry point for launching an IPython kernel.\n"
     ]
    },
    {
     "name": "stdout",
     "output_type": "stream",
     "text": [
      "2018-01-24 11:15:58,323 INFO sqlalchemy.engine.base.Engine PRAGMA index_info(\"ix_roles_default\")\n",
      "2018-01-24 11:15:58,324 INFO sqlalchemy.engine.base.Engine ()\n",
      "2018-01-24 11:15:58,330 INFO sqlalchemy.engine.base.Engine PRAGMA index_list(\"roles\")\n",
      "2018-01-24 11:15:58,332 INFO sqlalchemy.engine.base.Engine ()\n",
      "2018-01-24 11:15:58,337 INFO sqlalchemy.engine.base.Engine PRAGMA index_info(\"ix_roles_default\")\n",
      "2018-01-24 11:15:58,338 INFO sqlalchemy.engine.base.Engine ()\n",
      "2018-01-24 11:15:58,345 INFO sqlalchemy.engine.base.Engine PRAGMA index_info(\"sqlite_autoindex_roles_1\")\n",
      "2018-01-24 11:15:58,345 INFO sqlalchemy.engine.base.Engine ()\n",
      "2018-01-24 11:15:58,352 INFO sqlalchemy.engine.base.Engine SELECT sql FROM  (SELECT * FROM sqlite_master UNION ALL   SELECT * FROM sqlite_temp_master) WHERE name = 'roles' AND type = 'table'\n",
      "2018-01-24 11:15:58,353 INFO sqlalchemy.engine.base.Engine ()\n",
      "2018-01-24 11:15:58,363 INFO sqlalchemy.engine.base.Engine PRAGMA index_list(\"users\")\n",
      "2018-01-24 11:15:58,365 INFO sqlalchemy.engine.base.Engine ()\n",
      "2018-01-24 11:15:58,371 INFO sqlalchemy.engine.base.Engine PRAGMA index_info(\"ix_users_username\")\n",
      "2018-01-24 11:15:58,372 INFO sqlalchemy.engine.base.Engine ()\n",
      "2018-01-24 11:15:58,380 INFO sqlalchemy.engine.base.Engine PRAGMA index_info(\"ix_users_email\")\n",
      "2018-01-24 11:15:58,381 INFO sqlalchemy.engine.base.Engine ()\n",
      "2018-01-24 11:15:58,391 INFO sqlalchemy.engine.base.Engine PRAGMA index_list(\"users\")\n",
      "2018-01-24 11:15:58,393 INFO sqlalchemy.engine.base.Engine ()\n",
      "2018-01-24 11:15:58,399 INFO sqlalchemy.engine.base.Engine PRAGMA index_info(\"ix_users_username\")\n",
      "2018-01-24 11:15:58,400 INFO sqlalchemy.engine.base.Engine ()\n",
      "2018-01-24 11:15:58,406 INFO sqlalchemy.engine.base.Engine PRAGMA index_info(\"ix_users_email\")\n",
      "2018-01-24 11:15:58,408 INFO sqlalchemy.engine.base.Engine ()\n",
      "2018-01-24 11:15:58,417 INFO sqlalchemy.engine.base.Engine SELECT sql FROM  (SELECT * FROM sqlite_master UNION ALL   SELECT * FROM sqlite_temp_master) WHERE name = 'users' AND type = 'table'\n",
      "2018-01-24 11:15:58,418 INFO sqlalchemy.engine.base.Engine ()\n",
      "2018-01-24 11:15:58,424 INFO sqlalchemy.engine.base.Engine PRAGMA index_list(\"posts\")\n",
      "2018-01-24 11:15:58,434 INFO sqlalchemy.engine.base.Engine ()\n",
      "2018-01-24 11:15:58,442 INFO sqlalchemy.engine.base.Engine PRAGMA index_info(\"ix_posts_timestamp\")\n",
      "2018-01-24 11:15:58,443 INFO sqlalchemy.engine.base.Engine ()\n",
      "2018-01-24 11:15:58,452 INFO sqlalchemy.engine.base.Engine PRAGMA index_list(\"posts\")\n",
      "2018-01-24 11:15:58,453 INFO sqlalchemy.engine.base.Engine ()\n",
      "2018-01-24 11:15:58,471 INFO sqlalchemy.engine.base.Engine PRAGMA index_info(\"ix_posts_timestamp\")\n",
      "2018-01-24 11:15:58,473 INFO sqlalchemy.engine.base.Engine ()\n",
      "2018-01-24 11:15:58,479 INFO sqlalchemy.engine.base.Engine SELECT sql FROM  (SELECT * FROM sqlite_master UNION ALL   SELECT * FROM sqlite_temp_master) WHERE name = 'posts' AND type = 'table'\n",
      "2018-01-24 11:15:58,480 INFO sqlalchemy.engine.base.Engine ()\n",
      "immutabledict({'alembic_version': Table('alembic_version', MetaData(bind=Engine(sqlite:///restart/data-dev.sqlite)), Column('version_num', VARCHAR(length=32), table=<alembic_version>, primary_key=True, nullable=False), schema=None), 'posts': Table('posts', MetaData(bind=Engine(sqlite:///restart/data-dev.sqlite)), Column('id', INTEGER(), table=<posts>, primary_key=True, nullable=False), Column('body', TEXT(), table=<posts>), Column('timestamp', DATETIME(), table=<posts>), Column('author_id', INTEGER(), ForeignKey('users.id'), table=<posts>), schema=None), 'users': Table('users', MetaData(bind=Engine(sqlite:///restart/data-dev.sqlite)), Column('id', INTEGER(), table=<users>, primary_key=True, nullable=False), Column('email', VARCHAR(length=64), table=<users>), Column('username', VARCHAR(length=64), table=<users>), Column('role_id', INTEGER(), ForeignKey('roles.id'), table=<users>), Column('password_hash', VARCHAR(length=128), table=<users>), Column('confirmed', BOOLEAN(), table=<users>), Column('about_me', TEXT(), table=<users>), Column('last_seen', DATETIME(), table=<users>), Column('location', VARCHAR(length=64), table=<users>), Column('member_since', DATETIME(), table=<users>), Column('name', VARCHAR(length=64), table=<users>), Column('avatar_hash', VARCHAR(length=32), table=<users>), schema=None), 'roles': Table('roles', MetaData(bind=Engine(sqlite:///restart/data-dev.sqlite)), Column('id', INTEGER(), table=<roles>, primary_key=True, nullable=False), Column('name', VARCHAR(length=64), table=<roles>), Column('default', BOOLEAN(), table=<roles>), Column('permissions', INTEGER(), table=<roles>), schema=None)})\n"
     ]
    }
   ],
   "source": [
    "metadata = MetaData(engine, reflect=True)\n",
    "print(metadata.tables)"
   ]
  },
  {
   "cell_type": "code",
   "execution_count": 20,
   "metadata": {
    "collapsed": true
   },
   "outputs": [],
   "source": [
    "ex_table = metadata.tables['users']"
   ]
  },
  {
   "cell_type": "code",
   "execution_count": 21,
   "metadata": {},
   "outputs": [
    {
     "data": {
      "text/plain": [
       "Table('users', MetaData(bind=Engine(sqlite:///restart/data-dev.sqlite)), Column('id', INTEGER(), table=<users>, primary_key=True, nullable=False), Column('email', VARCHAR(length=64), table=<users>), Column('username', VARCHAR(length=64), table=<users>), Column('role_id', INTEGER(), ForeignKey('roles.id'), table=<users>), Column('password_hash', VARCHAR(length=128), table=<users>), Column('confirmed', BOOLEAN(), table=<users>), Column('about_me', TEXT(), table=<users>), Column('last_seen', DATETIME(), table=<users>), Column('location', VARCHAR(length=64), table=<users>), Column('member_since', DATETIME(), table=<users>), Column('name', VARCHAR(length=64), table=<users>), Column('avatar_hash', VARCHAR(length=32), table=<users>), schema=None)"
      ]
     },
     "execution_count": 21,
     "metadata": {},
     "output_type": "execute_result"
    }
   ],
   "source": [
    "ex_table"
   ]
  },
  {
   "cell_type": "code",
   "execution_count": 22,
   "metadata": {
    "collapsed": true
   },
   "outputs": [],
   "source": [
    "from sqlalchemy import select\n",
    "from sqlalchemy import or_"
   ]
  },
  {
   "cell_type": "code",
   "execution_count": 23,
   "metadata": {},
   "outputs": [
    {
     "name": "stdout",
     "output_type": "stream",
     "text": [
      "2018-01-24 11:18:12,934 INFO sqlalchemy.engine.base.Engine SELECT name FROM sqlite_master WHERE type='table' ORDER BY name\n",
      "2018-01-24 11:18:12,937 INFO sqlalchemy.engine.base.Engine ()\n",
      "2018-01-24 11:18:12,945 INFO sqlalchemy.engine.base.Engine PRAGMA table_info(\"alembic_version\")\n",
      "2018-01-24 11:18:12,947 INFO sqlalchemy.engine.base.Engine ()\n",
      "2018-01-24 11:18:12,952 INFO sqlalchemy.engine.base.Engine SELECT sql FROM  (SELECT * FROM sqlite_master UNION ALL   SELECT * FROM sqlite_temp_master) WHERE name = 'alembic_version' AND type = 'table'\n",
      "2018-01-24 11:18:12,953 INFO sqlalchemy.engine.base.Engine ()\n",
      "2018-01-24 11:18:12,958 INFO sqlalchemy.engine.base.Engine PRAGMA foreign_key_list(\"alembic_version\")\n",
      "2018-01-24 11:18:12,960 INFO sqlalchemy.engine.base.Engine ()\n",
      "2018-01-24 11:18:12,961 INFO sqlalchemy.engine.base.Engine SELECT sql FROM  (SELECT * FROM sqlite_master UNION ALL   SELECT * FROM sqlite_temp_master) WHERE name = 'alembic_version' AND type = 'table'\n",
      "2018-01-24 11:18:12,962 INFO sqlalchemy.engine.base.Engine ()\n",
      "2018-01-24 11:18:12,968 INFO sqlalchemy.engine.base.Engine PRAGMA index_list(\"alembic_version\")\n",
      "2018-01-24 11:18:12,969 INFO sqlalchemy.engine.base.Engine ()\n",
      "2018-01-24 11:18:12,974 INFO sqlalchemy.engine.base.Engine PRAGMA index_list(\"alembic_version\")\n",
      "2018-01-24 11:18:12,975 INFO sqlalchemy.engine.base.Engine ()\n",
      "2018-01-24 11:18:12,979 INFO sqlalchemy.engine.base.Engine PRAGMA index_info(\"sqlite_autoindex_alembic_version_1\")\n",
      "2018-01-24 11:18:12,981 INFO sqlalchemy.engine.base.Engine ()\n",
      "2018-01-24 11:18:12,986 INFO sqlalchemy.engine.base.Engine SELECT sql FROM  (SELECT * FROM sqlite_master UNION ALL   SELECT * FROM sqlite_temp_master) WHERE name = 'alembic_version' AND type = 'table'\n",
      "2018-01-24 11:18:12,988 INFO sqlalchemy.engine.base.Engine ()\n",
      "2018-01-24 11:18:12,993 INFO sqlalchemy.engine.base.Engine PRAGMA table_info(\"posts\")\n",
      "2018-01-24 11:18:12,994 INFO sqlalchemy.engine.base.Engine ()\n",
      "2018-01-24 11:18:12,998 INFO sqlalchemy.engine.base.Engine SELECT sql FROM  (SELECT * FROM sqlite_master UNION ALL   SELECT * FROM sqlite_temp_master) WHERE name = 'posts' AND type = 'table'\n",
      "2018-01-24 11:18:12,999 INFO sqlalchemy.engine.base.Engine ()\n",
      "2018-01-24 11:18:13,004 INFO sqlalchemy.engine.base.Engine PRAGMA foreign_key_list(\"posts\")\n",
      "2018-01-24 11:18:13,006 INFO sqlalchemy.engine.base.Engine ()\n",
      "2018-01-24 11:18:13,010 INFO sqlalchemy.engine.base.Engine SELECT sql FROM  (SELECT * FROM sqlite_master UNION ALL   SELECT * FROM sqlite_temp_master) WHERE name = 'posts' AND type = 'table'\n",
      "2018-01-24 11:18:13,011 INFO sqlalchemy.engine.base.Engine ()\n",
      "2018-01-24 11:18:13,016 INFO sqlalchemy.engine.base.Engine PRAGMA table_info(\"users\")\n",
      "2018-01-24 11:18:13,018 INFO sqlalchemy.engine.base.Engine ()\n",
      "2018-01-24 11:18:13,025 INFO sqlalchemy.engine.base.Engine SELECT sql FROM  (SELECT * FROM sqlite_master UNION ALL   SELECT * FROM sqlite_temp_master) WHERE name = 'users' AND type = 'table'\n",
      "2018-01-24 11:18:13,026 INFO sqlalchemy.engine.base.Engine ()\n",
      "2018-01-24 11:18:13,031 INFO sqlalchemy.engine.base.Engine PRAGMA foreign_key_list(\"users\")\n",
      "2018-01-24 11:18:13,033 INFO sqlalchemy.engine.base.Engine ()\n",
      "2018-01-24 11:18:13,038 INFO sqlalchemy.engine.base.Engine SELECT sql FROM  (SELECT * FROM sqlite_master UNION ALL   SELECT * FROM sqlite_temp_master) WHERE name = 'users' AND type = 'table'\n",
      "2018-01-24 11:18:13,039 INFO sqlalchemy.engine.base.Engine ()\n",
      "2018-01-24 11:18:13,043 INFO sqlalchemy.engine.base.Engine PRAGMA table_info(\"roles\")\n",
      "2018-01-24 11:18:13,044 INFO sqlalchemy.engine.base.Engine ()\n",
      "2018-01-24 11:18:13,050 INFO sqlalchemy.engine.base.Engine SELECT sql FROM  (SELECT * FROM sqlite_master UNION ALL   SELECT * FROM sqlite_temp_master) WHERE name = 'roles' AND type = 'table'\n",
      "2018-01-24 11:18:13,051 INFO sqlalchemy.engine.base.Engine ()\n",
      "2018-01-24 11:18:13,057 INFO sqlalchemy.engine.base.Engine PRAGMA foreign_key_list(\"roles\")\n",
      "2018-01-24 11:18:13,058 INFO sqlalchemy.engine.base.Engine ()\n",
      "2018-01-24 11:18:13,060 INFO sqlalchemy.engine.base.Engine SELECT sql FROM  (SELECT * FROM sqlite_master UNION ALL   SELECT * FROM sqlite_temp_master) WHERE name = 'roles' AND type = 'table'\n",
      "2018-01-24 11:18:13,061 INFO sqlalchemy.engine.base.Engine ()\n",
      "2018-01-24 11:18:13,065 INFO sqlalchemy.engine.base.Engine PRAGMA index_list(\"roles\")\n",
      "2018-01-24 11:18:13,066 INFO sqlalchemy.engine.base.Engine ()\n",
      "2018-01-24 11:18:13,069 INFO sqlalchemy.engine.base.Engine PRAGMA index_info(\"ix_roles_default\")\n",
      "2018-01-24 11:18:13,071 INFO sqlalchemy.engine.base.Engine ()\n",
      "2018-01-24 11:18:13,076 INFO sqlalchemy.engine.base.Engine PRAGMA index_list(\"roles\")\n",
      "2018-01-24 11:18:13,077 INFO sqlalchemy.engine.base.Engine ()\n",
      "2018-01-24 11:18:13,081 INFO sqlalchemy.engine.base.Engine PRAGMA index_info(\"ix_roles_default\")\n",
      "2018-01-24 11:18:13,082 INFO sqlalchemy.engine.base.Engine ()\n",
      "2018-01-24 11:18:13,087 INFO sqlalchemy.engine.base.Engine PRAGMA index_info(\"sqlite_autoindex_roles_1\")\n",
      "2018-01-24 11:18:13,089 INFO sqlalchemy.engine.base.Engine ()\n",
      "2018-01-24 11:18:13,094 INFO sqlalchemy.engine.base.Engine SELECT sql FROM  (SELECT * FROM sqlite_master UNION ALL   SELECT * FROM sqlite_temp_master) WHERE name = 'roles' AND type = 'table'\n",
      "2018-01-24 11:18:13,095 INFO sqlalchemy.engine.base.Engine ()\n",
      "2018-01-24 11:18:13,100 INFO sqlalchemy.engine.base.Engine PRAGMA index_list(\"users\")\n",
      "2018-01-24 11:18:13,101 INFO sqlalchemy.engine.base.Engine ()\n",
      "2018-01-24 11:18:13,107 INFO sqlalchemy.engine.base.Engine PRAGMA index_info(\"ix_users_username\")\n",
      "2018-01-24 11:18:13,108 INFO sqlalchemy.engine.base.Engine ()\n",
      "2018-01-24 11:18:13,112 INFO sqlalchemy.engine.base.Engine PRAGMA index_info(\"ix_users_email\")\n",
      "2018-01-24 11:18:13,113 INFO sqlalchemy.engine.base.Engine ()\n",
      "2018-01-24 11:18:13,117 INFO sqlalchemy.engine.base.Engine PRAGMA index_list(\"users\")\n",
      "2018-01-24 11:18:13,118 INFO sqlalchemy.engine.base.Engine ()\n",
      "2018-01-24 11:18:13,123 INFO sqlalchemy.engine.base.Engine PRAGMA index_info(\"ix_users_username\")\n"
     ]
    },
    {
     "name": "stderr",
     "output_type": "stream",
     "text": [
      "/home/dockeruser/anaconda3/lib/python3.6/site-packages/ipykernel_launcher.py:1: SADeprecationWarning: reflect=True is deprecate; please use the reflect() method.\n",
      "  \"\"\"Entry point for launching an IPython kernel.\n"
     ]
    },
    {
     "name": "stdout",
     "output_type": "stream",
     "text": [
      "2018-01-24 11:18:13,124 INFO sqlalchemy.engine.base.Engine ()\n",
      "2018-01-24 11:18:13,133 INFO sqlalchemy.engine.base.Engine PRAGMA index_info(\"ix_users_email\")\n",
      "2018-01-24 11:18:13,134 INFO sqlalchemy.engine.base.Engine ()\n",
      "2018-01-24 11:18:13,144 INFO sqlalchemy.engine.base.Engine SELECT sql FROM  (SELECT * FROM sqlite_master UNION ALL   SELECT * FROM sqlite_temp_master) WHERE name = 'users' AND type = 'table'\n",
      "2018-01-24 11:18:13,146 INFO sqlalchemy.engine.base.Engine ()\n",
      "2018-01-24 11:18:13,153 INFO sqlalchemy.engine.base.Engine PRAGMA index_list(\"posts\")\n",
      "2018-01-24 11:18:13,156 INFO sqlalchemy.engine.base.Engine ()\n",
      "2018-01-24 11:18:13,162 INFO sqlalchemy.engine.base.Engine PRAGMA index_info(\"ix_posts_timestamp\")\n",
      "2018-01-24 11:18:13,164 INFO sqlalchemy.engine.base.Engine ()\n",
      "2018-01-24 11:18:13,170 INFO sqlalchemy.engine.base.Engine PRAGMA index_list(\"posts\")\n",
      "2018-01-24 11:18:13,171 INFO sqlalchemy.engine.base.Engine ()\n",
      "2018-01-24 11:18:13,183 INFO sqlalchemy.engine.base.Engine PRAGMA index_info(\"ix_posts_timestamp\")\n",
      "2018-01-24 11:18:13,184 INFO sqlalchemy.engine.base.Engine ()\n",
      "2018-01-24 11:18:13,191 INFO sqlalchemy.engine.base.Engine SELECT sql FROM  (SELECT * FROM sqlite_master UNION ALL   SELECT * FROM sqlite_temp_master) WHERE name = 'posts' AND type = 'table'\n",
      "2018-01-24 11:18:13,192 INFO sqlalchemy.engine.base.Engine ()\n"
     ]
    }
   ],
   "source": [
    "meta = MetaData(engine,reflect=True)\n",
    "table = meta.tables['users']"
   ]
  },
  {
   "cell_type": "code",
   "execution_count": 27,
   "metadata": {},
   "outputs": [
    {
     "name": "stdout",
     "output_type": "stream",
     "text": [
      "2018-01-24 11:18:57,661 INFO sqlalchemy.engine.base.Engine SELECT users.id, users.email, users.username, users.role_id, users.password_hash, users.confirmed, users.about_me, users.last_seen, users.location, users.member_since, users.name, users.avatar_hash \n",
      "FROM users\n",
      "2018-01-24 11:18:57,662 INFO sqlalchemy.engine.base.Engine ()\n",
      "(1, None, 'hello', None, None, False, None, None, None, None, None, None)\n",
      "(2, None, 'kadencho', None, None, True, None, None, None, None, None, None)\n",
      "(3, None, 'Hi you are always welcome', None, None, False, None, None, None, None, None, None)\n",
      "(4, 'kadensungbincho@gmail.com', 'kadensungbincho', None, 'pbkdf2:sha256:50000$e4EQeR7F$386735782152fbfe5c8914e9ca8bedceedf8b285768c5525e2130bc1f36994c9', False, \"I'm Kaden Cho\\r\\n\", datetime.datetime(2018, 1, 23, 8, 15, 28, 63886), 'Seoul', None, 'kadensungbincho', None)\n",
      "(5, 'test@gmail.com', 'test', None, 'pbkdf2:sha256:50000$lh2yKnzl$0e0cb06085950080d26fa83b55aff3db660ac4fccdfe3878284fc0f6cfe6c88f', False, None, None, None, None, None, None)\n",
      "(6, 'test1@gmail.com', 'test1', None, 'pbkdf2:sha256:50000$8h9qrzCE$390ceaa8fa6975160a680d5ea36ea1a89538d93cef5e2973829957338faa6f74', False, None, None, None, None, None, None)\n",
      "(7, 'test2@gmail.com', 'test2', None, 'pbkdf2:sha256:50000$NmzGl0DO$8fa2b9235d65303ada616f2bc78323cfb56a682792b782e946641aa4678f9d5a', False, None, None, None, None, None, None)\n"
     ]
    }
   ],
   "source": [
    "conn = engine.connect()\n",
    "select_st = select([table])\n",
    "res = conn.execute(select_st)\n",
    "for _row in res: \n",
    "    print(_row)"
   ]
  },
  {
   "cell_type": "code",
   "execution_count": 28,
   "metadata": {
    "collapsed": true
   },
   "outputs": [],
   "source": [
    "conn.close()"
   ]
  },
  {
   "cell_type": "code",
   "execution_count": 29,
   "metadata": {},
   "outputs": [
    {
     "data": {
      "text/plain": [
       "4"
      ]
     },
     "execution_count": 29,
     "metadata": {},
     "output_type": "execute_result"
    }
   ],
   "source": [
    "0x04"
   ]
  },
  {
   "cell_type": "code",
   "execution_count": 30,
   "metadata": {},
   "outputs": [
    {
     "data": {
      "text/plain": [
       "255"
      ]
     },
     "execution_count": 30,
     "metadata": {},
     "output_type": "execute_result"
    }
   ],
   "source": [
    "0xff"
   ]
  },
  {
   "cell_type": "code",
   "execution_count": 32,
   "metadata": {
    "collapsed": true
   },
   "outputs": [],
   "source": [
    "assert 0xff & 0x04 == 0x04"
   ]
  },
  {
   "cell_type": "code",
   "execution_count": 33,
   "metadata": {},
   "outputs": [
    {
     "data": {
      "text/plain": [
       "True"
      ]
     },
     "execution_count": 33,
     "metadata": {},
     "output_type": "execute_result"
    }
   ],
   "source": [
    "0xff & 0x04 == 0x04"
   ]
  },
  {
   "cell_type": "markdown",
   "metadata": {},
   "source": [
    "# Paginating Long Blog Post Lists"
   ]
  },
  {
   "cell_type": "markdown",
   "metadata": {},
   "source": [
    "# Fake data"
   ]
  },
  {
   "cell_type": "markdown",
   "metadata": {},
   "source": [
    "- The email addresses and usernames of users must be unique, but since ForgeryPy generates these in completely random fashion, there is a risk of having duplicates. In this unlikely event, the database session commit will throw an IntegrityError exception. This exception is handled by rolling back the session before continuing. The loop iterations that produce a duplicate will not write a user to the database, so the total number of fake users added can be less than the number requested. \n",
    "\n",
    "- The random post generation must assign a random user to each post. For this the offset() query filter is used. This filter discards the number of results given as an argument. By setting a random offset and then calling first(), a different random user is obtained each time"
   ]
  },
  {
   "cell_type": "markdown",
   "metadata": {},
   "source": [
    "### Rendering Data on Pages"
   ]
  },
  {
   "cell_type": "markdown",
   "metadata": {},
   "source": [
    "### Adding a Pagination Widget"
   ]
  },
  {
   "cell_type": "markdown",
   "metadata": {},
   "source": [
    "- The return value of paginate() is an object of class Pagination, a class defined by FlaskSQLAlchemy. This object contains several properties that are useful to generate page links in a template, so it is passed to the template as an argument."
   ]
  },
  {
   "cell_type": "markdown",
   "metadata": {},
   "source": [
    "## Rich-Text Posts with Markdown and Flask-PageDown"
   ]
  },
  {
   "cell_type": "markdown",
   "metadata": {},
   "source": [
    "- PageDown, a client-side MarkDown wrapper for Falsk that integrates PageDown with Script\n",
    "- Flask-PageDown, a PageDown wrapper for Flask that integrates PageDown with Flask-WTF forms.\n",
    "- Markdown, a server-side Markdown to HTML converter implemented in Python.\n",
    "- Bleach, an HTML sanitizer implemented in Python."
   ]
  },
  {
   "cell_type": "markdown",
   "metadata": {},
   "source": [
    "## Handling Rich text on the server\n",
    "- When the form is submitted only the raw Markdown text is sent with the POST request; the HTML preview that was shown on the page is discarded. Sending the generated HTML preview with the form can be considered a security risk, as it would be fairly easy for an attacker to construct HTML sequences that do not match the Markdown source and submit them. To avoid any risks, only the Markdown source text is submitted, and once in the server it is converted again to HTML using Markdown, a Python Markdown-to-HTML converter. The resulting HTML will be sanitized with Bleach to ensure that only a short list of allowed HTML tags are used."
   ]
  },
  {
   "cell_type": "markdown",
   "metadata": {},
   "source": [
    "- The conversion of the Markdown blog posts to HTML can be issued in the _posts.html template, but this is inefficient, as posts will have to be converted every time they are rendered to a page. To avoid this repetition, the conversion can be done once when the blog post is created. The HTML code for the rendered blog post is cached in a new field added to the Post model that the template can access directly. The original Markdown source is also kept in the database in case the post needs to be edited. Example 11-15 shows the changes to the Post model. "
   ]
  },
  {
   "cell_type": "markdown",
   "metadata": {},
   "source": [
    "- The actual conversion is done in three steps. First, the markdown() function does an initial conversion to HTML. The result is passed to clean(), along with the list of approved HTML tags. The clean() function removes any tags not on the white list. The final conversion is done with linkify(), another function provided by Bleach that converts any URLs written in plain text into proper <a> links. This last step is necessary because automatic link generation is not officially in the Markdown specification. PageDown supports it as an extension, so linkify() is used in the server to match"
   ]
  },
  {
   "cell_type": "markdown",
   "metadata": {},
   "source": [
    "- **The | safe suffix** when rendering the HTML body is there to tell Jinja2 not to escape the HTML elements. Jinja2 escapes all template variables by default as a security measure. The Markdown-generated HTML was generated in the server, so it is safe to render"
   ]
  },
  {
   "cell_type": "markdown",
   "metadata": {},
   "source": [
    "## Permanent links to blog posts"
   ]
  },
  {
   "cell_type": "markdown",
   "metadata": {},
   "source": [
    "## Blog post editor"
   ]
  },
  {
   "cell_type": "markdown",
   "metadata": {},
   "source": [
    "# P .168\n"
   ]
  },
  {
   "cell_type": "code",
   "execution_count": null,
   "metadata": {
    "collapsed": true
   },
   "outputs": [],
   "source": []
  }
 ],
 "metadata": {
  "kernelspec": {
   "display_name": "Python 3",
   "language": "python",
   "name": "python3"
  },
  "language_info": {
   "codemirror_mode": {
    "name": "ipython",
    "version": 3
   },
   "file_extension": ".py",
   "mimetype": "text/x-python",
   "name": "python",
   "nbconvert_exporter": "python",
   "pygments_lexer": "ipython3",
   "version": "3.6.2"
  }
 },
 "nbformat": 4,
 "nbformat_minor": 2
}
