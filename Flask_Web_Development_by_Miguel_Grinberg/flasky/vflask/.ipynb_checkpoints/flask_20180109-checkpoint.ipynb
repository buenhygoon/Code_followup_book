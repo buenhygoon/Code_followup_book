{
 "cells": [
  {
   "cell_type": "markdown",
   "metadata": {},
   "source": [
    "# Restart to make app"
   ]
  },
  {
   "cell_type": "markdown",
   "metadata": {},
   "source": [
    "- micro framework\n",
    "- two main dependencies : WSGI from Werkzeug, template from Jinja2\n",
    "- Werkzeug and Jinja2 are ahthored by the core developer of Flask."
   ]
  },
  {
   "cell_type": "markdown",
   "metadata": {
    "collapsed": true
   },
   "source": [
    "# Until P 44"
   ]
  },
  {
   "cell_type": "markdown",
   "metadata": {
    "collapsed": true
   },
   "source": [
    "### Contraol Structures"
   ]
  },
  {
   "cell_type": "markdown",
   "metadata": {},
   "source": [
    "- Jinja2 "
   ]
  },
  {
   "cell_type": "markdown",
   "metadata": {},
   "source": [
    "{% if user %}\n",
    "    Hello, {{ user }}!\n",
    "{% else %}\n",
    "    Hello, Stranger!\n",
    "{% endif %}"
   ]
  },
  {
   "cell_type": "markdown",
   "metadata": {},
   "source": [
    "<ul>\n",
    "    {% for commnet in commnets %}\n",
    "        <li>{{ commnet }}</li>\n",
    "    {% endfor %}\n",
    "</ul>"
   ]
  },
  {
   "cell_type": "markdown",
   "metadata": {},
   "source": [
    "{% macro render_comment(comment) %}\n",
    "    <li>{{ comment }}</li>\n",
    "{% endmacro %}\n",
    "\n",
    "<ul> \n",
    "    {% for comment in commnets %}\n",
    "        {{ render_comment(comment) }}\n",
    "    {% endfor %}\n",
    "</ul>"
   ]
  },
  {
   "cell_type": "markdown",
   "metadata": {},
   "source": [
    "- To make macros more reusable, they can be stored in standalone files that are then *imported* from all the templates that need them:"
   ]
  },
  {
   "cell_type": "markdown",
   "metadata": {},
   "source": [
    "{% import 'mactors.html' as macros %}\n",
    "<ul>\n",
    "    {% for comment in comments %}\n",
    "        {{ macros.render_comment(comment) }}\n",
    "    {% endfor %}\n",
    "</ul>"
   ]
  },
  {
   "cell_type": "markdown",
   "metadata": {},
   "source": [
    "{ include 'common.html' %}"
   ]
  },
  {
   "cell_type": "markdown",
   "metadata": {},
   "source": [
    "- Yet another powerful way to reuse is through template inheritance, which is similar to class inheritance in Python code. First, a base template is created with the same *base.html*:"
   ]
  },
  {
   "cell_type": "markdown",
   "metadata": {},
   "source": [
    "<html>\n",
    "<head>\n",
    "    {% block head %}\n",
    "    <title>{% block title %}{% endblock %} - My Application</title>\n",
    "    {% endblock %}\n",
    "</head>\n",
    "<body>\n",
    "    {% block body %}\n",
    "    {% endblock %}\n",
    "</body>\n",
    "</html>"
   ]
  },
  {
   "cell_type": "markdown",
   "metadata": {},
   "source": [
    "- Here the block tags define elements that a derived template can change. In this example, there are blocks called head, title, and body; note that title is contained by head. The following example is a derived template of the base template:"
   ]
  },
  {
   "cell_type": "markdown",
   "metadata": {},
   "source": [
    "{% extends \"base.html\" %}\n",
    "{% block title %}Index{% endblock %}\n",
    "{% block head %}\n",
    "    {{ super() }}\n",
    "    <style>\n",
    "    </style>\n",
    "{% endblock %}\n",
    "{% block body %}\n",
    "<h1>Hello, World!</h1>\n",
    "{% endblock %}"
   ]
  },
  {
   "cell_type": "markdown",
   "metadata": {},
   "source": [
    "- The extends directive declares that this template derives from *base.html*. This directive is followed by new definitions for the three blocks defined in the base template, which are inserted in the proper places. Note that the new definition of the head block, which is not empty in the base template, uses super() to retain the original contents."
   ]
  },
  {
   "cell_type": "markdown",
   "metadata": {},
   "source": [
    "- Real-world usage of all the control structures presented in this section will be shown later, so you will have the opportunity to see how they work."
   ]
  },
  {
   "cell_type": "markdown",
   "metadata": {},
   "source": [
    "# Web form 4"
   ]
  },
  {
   "cell_type": "markdown",
   "metadata": {},
   "source": [
    "- Although the support provided in Flask’s request object is sufficient for the handling of web forms, there are a number of tasks that can become tedious and repetitive. Two good examples are the generation of HTML code for forms and the validation of the submitted form data. \n",
    "\n",
    "- The Flask-WTF extension makes working with web forms a much more pleasant experience. This extension is a Flask integration wrapper around the framework-agnostic WTForms package. "
   ]
  },
  {
   "cell_type": "markdown",
   "metadata": {},
   "source": [
    "## Cross-Site Request Forgery Protection"
   ]
  },
  {
   "cell_type": "markdown",
   "metadata": {},
   "source": [
    "## Form Classes"
   ]
  },
  {
   "cell_type": "markdown",
   "metadata": {},
   "source": [
    "# ~ P 58"
   ]
  },
  {
   "cell_type": "code",
   "execution_count": null,
   "metadata": {
    "collapsed": true
   },
   "outputs": [],
   "source": []
  }
 ],
 "metadata": {
  "kernelspec": {
   "display_name": "Python 3",
   "language": "python",
   "name": "python3"
  },
  "language_info": {
   "codemirror_mode": {
    "name": "ipython",
    "version": 3
   },
   "file_extension": ".py",
   "mimetype": "text/x-python",
   "name": "python",
   "nbconvert_exporter": "python",
   "pygments_lexer": "ipython3",
   "version": "3.6.2"
  }
 },
 "nbformat": 4,
 "nbformat_minor": 2
}
