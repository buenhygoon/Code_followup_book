{
 "cells": [
  {
   "cell_type": "markdown",
   "metadata": {},
   "source": [
    "## P.58 Form Classes"
   ]
  },
  {
   "cell_type": "markdown",
   "metadata": {},
   "source": [
    "- WTForms standard HTML fields"
   ]
  },
  {
   "cell_type": "markdown",
   "metadata": {},
   "source": [
    "- StringField, TextAreaField, passwordField, HiddenField, DateTimeField, IntegerField, DecimalField, FloatField, BooleanField, RadioField, SelectField, SelectMultipleField, FileField, SubmitField, FormField, FiledList"
   ]
  },
  {
   "cell_type": "markdown",
   "metadata": {},
   "source": [
    "> Validators\n",
    "- Email, EqualTo, IPAddress, Length, NumberRange, Optional, Required, Regexp, URL, AnyOf, NoneOf"
   ]
  },
  {
   "cell_type": "markdown",
   "metadata": {},
   "source": [
    "### HTML Rendering of Forms"
   ]
  },
  {
   "cell_type": "markdown",
   "metadata": {},
   "source": [
    "- Form fields are callables that, when invoked, from a template render themselves to HTMl. Assuming that the view function passes a NameForm instance to the template as an argument named form, the template can generate a simple HTML, form as follows:"
   ]
  },
  {
   "cell_type": "markdown",
   "metadata": {},
   "source": [
    "<form method=\"POST\">\n",
    "    {{ form.name.label }} {{ form.name() }}\n",
    "    {{ form.submit() }}\n",
    "</form>"
   ]
  },
  {
   "cell_type": "markdown",
   "metadata": {},
   "source": [
    "- Can give id"
   ]
  },
  {
   "cell_type": "markdown",
   "metadata": {},
   "source": [
    "<form method=\"POST\">\n",
    "    {{ form.name.label }} {{ form.name(id='my-text-field') }}\n",
    "    {{ form.submit() }}\n",
    "</form>"
   ]
  },
  {
   "cell_type": "markdown",
   "metadata": {},
   "source": [
    "- But even with HTML, attributes, the effort required to render a form in this way is significant, so it is best leverage Bootstrap's own set of form styles whenever possible. Flask-Bootstrap provides a very high-level helper function that renders an entire Flask-WTF form using Bootstrap's predefined form styles, all with a single call. Using Flask-Bootstrap, the previous form can be rendered as follows:\n"
   ]
  },
  {
   "cell_type": "markdown",
   "metadata": {},
   "source": [
    "{% import \"bootstrap/wtf.html\" as wtf %}\n",
    "{{ wtf.quick_form(form) }}"
   ]
  },
  {
   "cell_type": "markdown",
   "metadata": {},
   "source": [
    "- changes on html files(form style)\n",
    "- changes on view function (render form)\n",
    "- changes on form (make new form class to render)"
   ]
  },
  {
   "cell_type": "markdown",
   "metadata": {},
   "source": [
    "### Form handling in view functions"
   ]
  },
  {
   "cell_type": "markdown",
   "metadata": {},
   "source": [
    "- The methods argument added to the app.route decorator tells Flask to register the view function as a handler for GET and POST requests in the URL map. When methods is not given, the view function is registered to handle GET requests only."
   ]
  },
  {
   "cell_type": "markdown",
   "metadata": {},
   "source": [
    "- Adding POST to the method list is necessary because form submissions are much more conveniently handled as POST requests. It is possible to submit a form as a GET request, but as GET requests have no body, the data is appended to the URL as a query string and becomes visible in the browser's address bar. For this and several other reasons, form submissions are almost universally done as POST requests.\n",
    "\n",
    "- The local name variable is used to hold the name received from the form when available; when the name is not known the variable is initialized to None. The view function creates an instance of  the NameForm class shown previously to represent the form. THe validate_on_submit() method of the form returns True when the form was submitted and the data has been accepted by all the field validators. In all other cases, validate_on_submit() returns False. The return value of this method effectively serves to decide whether the form needs to be rendered or processed.\n",
    "\n",
    "- When a user navigates to the application for the first time, the server will receive a GET request with no form data, so validate_on_submit() will return False. The body of the if statement will be skipped and the request will be handled by rendering the template, which gets the form objects and the name variable set to None as arguments. User will now see the form displated in the borwser."
   ]
  },
  {
   "cell_type": "markdown",
   "metadata": {},
   "source": [
    "## Redirect and User Sessions"
   ]
  },
  {
   "cell_type": "markdown",
   "metadata": {},
   "source": [
    "![title](first/confirmation.png \"main\")"
   ]
  },
  {
   "cell_type": "markdown",
   "metadata": {},
   "source": [
    "- The last version of hello.py has a usability problem. If you enter your name and submit it and then clock the refresh button on your browser, you will likely get an obcure warning that asks for confirmation before submitting the form again. This happens because browsers repeat the last request they have sent when they are asked to refresh the page. When the last request sent is a POST request with form data, a refresh would cause a dupicate form submission, which in almost all cases is not desired action.\n",
    "\n",
    "- Many users do not understand the warning from the browser. For this reason, it is considered good pratice for web applications to never leave a POST request as a last request sent by the browser.\n",
    "\n",
    "- This practice can be achieved by responding to POST requests with a redirect instead of a normal response. A redirect is a special type of response that has a URL instead of a string with HTML code, and that is the page displayed. The page may take a few more milliseconds to load because of the second request that has to be sent to the server, but other than that, the user will not see any difference. Now the last request is a GET, so the refresh command works as expected. This trick is known as the POST/Redirect/Get pattern."
   ]
  },
  {
   "cell_type": "markdown",
   "metadata": {},
   "source": [
    "- But this approach brings a second problem. When the application handles the POST request, it has access to the name entered by the user in form.name.data, but as soon as that request ends the form data is lost. Because the POST request is handled with a redirect, the application needs to store the name so that the redirected can have it and use it to build the actual response."
   ]
  },
  {
   "cell_type": "markdown",
   "metadata": {},
   "source": [
    "- Applications can \"remember\" things from one request to the next by storing them in the user session,, private storage that is available to each connected client. The user session was introduced in Chap2 as one of the variables associated with the request context. It's called session and is accessed like a standard Python dictionary."
   ]
  },
  {
   "cell_type": "markdown",
   "metadata": {
    "collapsed": true
   },
   "source": [
    "- The redirect URL used in this case is the root URL, so the response could have been written more concisely as redicrect('/'), but instead Flask's URL generator function url_for() is used. The use of url_for() to generate URLs is encouraged because this function generate URLs using the URL map so URLs are guarantted to be compatible with defined routes and any changes made to route names will be automatically available when using this function."
   ]
  },
  {
   "cell_type": "markdown",
   "metadata": {},
   "source": [
    "### Message Flashing"
   ]
  },
  {
   "cell_type": "markdown",
   "metadata": {},
   "source": [
    "- Sometimes it is useful to give the user a status update after a request is completed. This could be a confirmation message, a warning, or an error. A typical example is when you submit a login form to a website with mistake and the server responds by rendering the login fomr again with a message above it that informs you that your username or password is invalid."
   ]
  },
  {
   "cell_type": "code",
   "execution_count": null,
   "metadata": {
    "collapsed": true
   },
   "outputs": [],
   "source": []
  }
 ],
 "metadata": {
  "kernelspec": {
   "display_name": "Python 3",
   "language": "python",
   "name": "python3"
  },
  "language_info": {
   "codemirror_mode": {
    "name": "ipython",
    "version": 3
   },
   "file_extension": ".py",
   "mimetype": "text/x-python",
   "name": "python",
   "nbconvert_exporter": "python",
   "pygments_lexer": "ipython3",
   "version": "3.6.2"
  }
 },
 "nbformat": 4,
 "nbformat_minor": 2
}
