{
 "cells": [
  {
   "cell_type": "markdown",
   "metadata": {},
   "source": [
    "# Chapter 6 : Email\n",
    "- pip install flask-mail\n"
   ]
  },
  {
   "cell_type": "markdown",
   "metadata": {},
   "source": [
    "# Chapter 7 : Large Application Structure"
   ]
  },
  {
   "cell_type": "markdown",
   "metadata": {},
   "source": [
    "- Unlike most other web frameworks, Flask does not impose a specific organization for large projects; the way to structure the application is left entirely to the developer."
   ]
  },
  {
   "cell_type": "markdown",
   "metadata": {},
   "source": [
    "## Project Structure"
   ]
  },
  {
   "cell_type": "markdown",
   "metadata": {},
   "source": [
    "|-flasky  \n",
    " |-app/    \n",
    "   |-templates/    \n",
    "   |-static/   \n",
    "   |-main/      \n",
    "     |-__init__.py      \n",
    "     |-errors.py      \n",
    "     |-forms.py      \n",
    "     |-views.py    \n",
    "   |-__init__.py   \n",
    "   |-email.py    \n",
    "   |-models.py  \n",
    " |-migrations/  \n",
    " |-tests/    \n",
    "   |-__init__.py    \n",
    "   |-test\\*.py  \n",
    " |-venv/  \n",
    " |-requirements.txt\n",
    " |-config.py  \n",
    " |-manage.py"
   ]
  },
  {
   "cell_type": "markdown",
   "metadata": {},
   "source": [
    "- The Flask application lives inside a package generically named app. \n",
    "- The migrations folder contains the database migration scripts, as before. \n",
    "- Unit tests are written in a tests package. \n",
    "- The venv folder contains the Python virtual environment, as before.\n",
    "-  requirements.txt lists the package dependencies so that it is easy to regenerate an identical virtual environment on a different computer. \n",
    "- config.py stores the configuration settings. \n",
    "- manage.py launches the application and other application tasks. "
   ]
  },
  {
   "cell_type": "markdown",
   "metadata": {},
   "source": [
    "## Configuration Options"
   ]
  },
  {
   "cell_type": "code",
   "execution_count": null,
   "metadata": {
    "collapsed": true
   },
   "outputs": [],
   "source": [
    "import os \n",
    "basedir = os.path.abspath(os.path.dirname(__file__))\n",
    "\n",
    "class Config:\n",
    "    SECRET_KEY = os.environ.get('SECRET_KEY') or 'hard to guess string'\n",
    "    SQLALCHEMY_COMMIT_ON_TEARDOWN = True\n",
    "    FLASKY_MAIL_SUBJECT_PREFIX = '[Falsky]'\n",
    "    FLASKY_MAIL_SENDER = 'Flasky Admin <flasky@examply.com>'\n",
    "    FLASKY_ADMIN = os.environ.get('FLASKY_ADMIN')\n",
    "    \n",
    "    @staticmethod\n",
    "    def init_App(app):\n",
    "        pass\n",
    "    \n",
    "\n",
    "class DevelopmentConfig(Config):\n",
    "    DEBUG = True\n",
    "    MAIL_SERVER = 'example@gam.com;\n",
    "    MAIL_PORT = 587\n",
    "    MAIL_USER_TLS = True\n",
    "    MAIL_USERNAME = os.environ.get('MAIL_USERNAME')\n",
    "    MAIL_PASSWORD = os.environ.get('MAIL_PASSWORD')\n",
    "    SQLALCHEMY_DATABASE_URI = os.environ.get('DEV_DATABASE_URL') or \\\n",
    "        'sqlite:///' + os.path.join(basedir, 'data-dev.sqlite')\n",
    "        \n",
    "        \n",
    "class TestingConfig(Config):\n",
    "    TESTING = True\n",
    "    SQLALCHEMY_DATABASE_URI = os.environ.get('TEST_DATABASE_URL') or \\\n",
    "        'sqlite:///' + os.path.join(basedir, 'data-dev.sqlite')\n",
    "    \n",
    "    \n",
    "class ProductionConfig(Config):    \n",
    "    SQLALCHEMY_DATABASE_URI = os.environ.get('DATABASE_URL') or \\        \n",
    "       'sqlite:///' + os.path.join(basedir, 'data.sqlite')\n",
    "\n",
    "    \n",
    "config = {    \n",
    "    'development': DevelopmentConfig,    \n",
    "    'testing': TestingConfig,    \n",
    "    'production': ProductionConfig,\n",
    "    'default': DevelopmentConfig } "
   ]
  },
  {
   "cell_type": "markdown",
   "metadata": {},
   "source": [
    "## Application Package"
   ]
  },
  {
   "cell_type": "markdown",
   "metadata": {},
   "source": [
    "- The application package is where all the application code, templates, and static files live. It is called simply app, though it can be given an application-specific name if desired. The templates and static folders are part of the application package, so these two folders are moved inside app. The database models and the email support functions are also moved inside this package, each in its own module as app/models.py and app/email.py. "
   ]
  },
  {
   "cell_type": "markdown",
   "metadata": {},
   "source": [
    "### Using an Application Factory"
   ]
  },
  {
   "cell_type": "markdown",
   "metadata": {},
   "source": [
    "- The way the application is created in the single-file version is very convenient, but it has one big drawback. Because the application is created in the global scope, there is no way to apply configuration changes dynamically: by the time the script is running, the application instance has already been created, so it is already too late to make configuration changes. This is particularly important for unit tests because sometimes it is necessary to run the application under different configuration settings for better test coverage. \n",
    "\n",
    "- The solution to this problem is to delay the creation of the application by moving it into a factory function that can be explicitly invoked from the script. This not only gives the script time to set the configuration but also the ability to create multiple application instances—something that can also be very useful during testing. The application factory function, shown in Example 7-3, is defined in the app package constructor."
   ]
  },
  {
   "cell_type": "markdown",
   "metadata": {},
   "source": [
    "- This constructor imports most of the Flask extensions currently in use, but because there is no application instance to initialize them with, it creates them uninitialized by passing no arguments into their constructors. The create_app() function is the application factory, which takes as an argument the name of a configuration to use for the application. The configuration settings stored in one of the classes defined in config.py can be imported directly into the application using the from_object() method available in Flask’s app.config configuration object. The configuration object is selected by name from the config dictionary. Once an application is created and configured, the extensions can be initialized. Calling init_app() on the extensions that were created earlier completes their initialization."
   ]
  },
  {
   "cell_type": "code",
   "execution_count": null,
   "metadata": {
    "collapsed": true
   },
   "outputs": [],
   "source": [
    "from flask import Flask, render_template\n",
    "from flask_bootstrap import Bootstrap\n",
    "from flask_mail import Mail\n",
    "from flask_moment import Moment\n",
    "from flask_sqlalchemy import SQLAlchemy\n",
    "from config import config\n",
    "\n",
    "bootstrap = Bootstrap()\n",
    "mail = Mail()\n",
    "moment = Moment()\n",
    "db = SQLAlchemy()\n",
    "\n",
    "\n",
    "def create_app(config_name):\n",
    "    app = Flask(__name__)\n",
    "    app.config.from_object(config[config_name])\n",
    "    config[config_name].init_app(app)\n",
    "    \n",
    "    bootstrap.init_app(app)\n",
    "    mail.init_app(app)\n",
    "    moment.init_app(app)\n",
    "    db.init_app(app)\n",
    "    \n",
    "    # attach routes and custom error pages here\n",
    "    \n",
    "    return app\n"
   ]
  },
  {
   "cell_type": "markdown",
   "metadata": {},
   "source": [
    "### Implementing Application Functionality in a Blueprint "
   ]
  },
  {
   "cell_type": "markdown",
   "metadata": {},
   "source": [
    "- The conversion to an application factory introduces a complication for routes. In singlescript applications, the application instance exists in the global scope, so routes can be easily defined using the app.route decorator. But now that the application is created at runtime, the app.route decorator begins to exist only after create_app() is invoked, which is too late. Like routes, custom error page handlers present the same problem, as these are defined with the app.errorhandler decorator."
   ]
  },
  {
   "cell_type": "markdown",
   "metadata": {},
   "source": [
    "- Luckily Flask offers a better solution using blueprints. A blueprint is similar to an application in that it can also define routes. The difference is that routes associated with a blueprint are in a dormant state until the blueprint is registered with an application, at which point the routes become part of it. Using a blueprint defined in the global scope, the routes of the application can be defined in almost the same way as in the singlescript application. "
   ]
  },
  {
   "cell_type": "markdown",
   "metadata": {},
   "source": [
    "- Like applications, blueprints can be defined all in a single file or can be created in a more structured way with multiple modules inside a package. To allow for the greatest flexibility, a subpackage inside the application package will be created to host the blueprint. Example 7-4 shows the package constructor, which creates the blueprint"
   ]
  },
  {
   "cell_type": "code",
   "execution_count": null,
   "metadata": {
    "collapsed": true
   },
   "outputs": [],
   "source": [
    "from flask import Blueprint\n",
    "\n",
    "main = Blueprint('main', __name__)\n",
    "\n",
    "from . import views, errors\n"
   ]
  },
  {
   "cell_type": "markdown",
   "metadata": {},
   "source": [
    "# ~ P. 99"
   ]
  },
  {
   "cell_type": "code",
   "execution_count": null,
   "metadata": {
    "collapsed": true
   },
   "outputs": [],
   "source": []
  }
 ],
 "metadata": {
  "kernelspec": {
   "display_name": "Python 3",
   "language": "python",
   "name": "python3"
  },
  "language_info": {
   "codemirror_mode": {
    "name": "ipython",
    "version": 3
   },
   "file_extension": ".py",
   "mimetype": "text/x-python",
   "name": "python",
   "nbconvert_exporter": "python",
   "pygments_lexer": "ipython3",
   "version": "3.6.2"
  }
 },
 "nbformat": 4,
 "nbformat_minor": 2
}
