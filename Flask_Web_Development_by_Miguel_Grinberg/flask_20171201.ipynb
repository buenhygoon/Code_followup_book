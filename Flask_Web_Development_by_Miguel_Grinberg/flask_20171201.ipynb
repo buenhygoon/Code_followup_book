{
 "cells": [
  {
   "cell_type": "markdown",
   "metadata": {
    "collapsed": true
   },
   "source": [
    "## Localization of Dates and Times with Flask-Moment \n",
    "- pip install flask-moment"
   ]
  },
  {
   "cell_type": "code",
   "execution_count": null,
   "metadata": {
    "collapsed": true
   },
   "outputs": [],
   "source": [
    "from flask.ext.moment import Moment\n",
    "moment = Moment(app)\n",
    "\n",
    "from datetime import datetime\n",
    "\n",
    "@app.route('/')\n",
    "def index():\n",
    "    return render_template('index.html', current_time=datetime.utcnow())"
   ]
  },
  {
   "cell_type": "markdown",
   "metadata": {},
   "source": [
    "# Chapter 4 : Web Forms\n",
    "- Although the support provided in Flask’s request object is sufficient for the handling of web forms, there are a number of tasks that can become tedious and repetitive. Two good examples are the generation of HTML code for forms and the validation of the submitted form data. \n",
    "- The Flask-WTF extension makes working with web forms a much more pleasant experience. This extension is a Flask integration wrapper around the framework-agnostic WTForms package. \n",
    "- pip install falsk-wtf"
   ]
  },
  {
   "cell_type": "markdown",
   "metadata": {},
   "source": [
    "## Cross-Site REquest Forgery (CSRF) Protection"
   ]
  },
  {
   "cell_type": "markdown",
   "metadata": {},
   "source": [
    "- To implement CSRF protection, Flask-WTF needs the application to configure an encryption key. Flask-WTF uses this key to generate encrypted tokens that are used to verify the authenticity of requests with form data. "
   ]
  },
  {
   "cell_type": "code",
   "execution_count": null,
   "metadata": {
    "collapsed": true
   },
   "outputs": [],
   "source": [
    "app = Flask(__name__)\n",
    "app.config['SECRET_KEY'] = 'hard to guess string'"
   ]
  },
  {
   "cell_type": "markdown",
   "metadata": {},
   "source": [
    "- The app.config dictionary is a general-purpose place to store configuration variables used by the framework, the extensions, or the application itself. Configuration values can be added to the app.config object using standard dictionary syntax. The configuration object also has methods to import configuration values from files or the environment"
   ]
  },
  {
   "cell_type": "markdown",
   "metadata": {},
   "source": [
    "## Form Classes"
   ]
  },
  {
   "cell_type": "markdown",
   "metadata": {},
   "source": [
    "- When using Flask-WTF, each web form is represented by a class that inherits from class Form. The class defines the list of fields in the form, each represented by an object. Each field object can have one or more validators attached; validators are functions that check whether the input submitted by the user is valid. "
   ]
  },
  {
   "cell_type": "code",
   "execution_count": null,
   "metadata": {
    "collapsed": true
   },
   "outputs": [],
   "source": [
    "from flask_wtf import FlaskForm\n",
    "from wtforms import StringField, SubmitField\n",
    "from wtforms.validators import Required\n",
    "\n",
    "class NameForm(Form):\n",
    "    name = StringField(\"Wht is your name?'\", validators=[Required()])\n",
    "    submit = SubmitField('Submit')\n",
    "    "
   ]
  },
  {
   "cell_type": "markdown",
   "metadata": {},
   "source": [
    "![alt text](wtforms_standard_html_fields.png 'wtforms_standard_html_fields')"
   ]
  },
  {
   "cell_type": "markdown",
   "metadata": {},
   "source": [
    "![alt text](wtforms_validators.png 'wtforms_validators')"
   ]
  },
  {
   "cell_type": "markdown",
   "metadata": {},
   "source": [
    "## HTML Rendeing of Forms"
   ]
  },
  {
   "cell_type": "code",
   "execution_count": null,
   "metadata": {
    "collapsed": true
   },
   "outputs": [],
   "source": [
    "<form method=\"POST\">\n",
    "    {{ form.name.label }} {{ form.name() }}\n",
    "    {{ form.submit() }}\n",
    "</form>"
   ]
  },
  {
   "cell_type": "code",
   "execution_count": null,
   "metadata": {
    "collapsed": true
   },
   "outputs": [],
   "source": [
    "<form method=\"POST\">\n",
    "    {{ form.name.label }} {{ form.name(id='my-text-field') }}\n",
    "    {{ form.submit() }}\n",
    "</form>"
   ]
  },
  {
   "cell_type": "markdown",
   "metadata": {},
   "source": [
    "But even with HTML attributes, the effort required to render a form in this way is significant, so it is best to leverage Bootstrap’s own set of form styles whenever possible. Flask-Bootstrap provides a very high-level helper function that renders an entire FlaskWTF form using Bootstrap’s predefined form styles, all with a single call. Using FlaskBootstrap, the previous form can be rendered as follows:\n"
   ]
  },
  {
   "cell_type": "code",
   "execution_count": null,
   "metadata": {
    "collapsed": true
   },
   "outputs": [],
   "source": [
    "{% import \"bootstrap/wtf.html\" as wtf %}\n",
    "{{ wtf.quich_form(form)}}"
   ]
  },
  {
   "cell_type": "markdown",
   "metadata": {},
   "source": [
    "The import directive works in the same way as regular Python scripts do and allows template elements to be imported and used in many templates. The imported bootstrap/ wtf.html file defines helper functions that render Flask-WTF forms using Bootstrap. "
   ]
  },
  {
   "cell_type": "markdown",
   "metadata": {},
   "source": [
    "- templates/index.html: Using Flask-WTF and Flask-Bootstrap to render a form \n",
    "\n",
    "<pre>\n",
    "{% extends \"base.html\" %}\n",
    "{% import \"bootstrap/wtf.html\" as wtf %}\n",
    "\n",
    "{% block title %}Flasky{% endblock %}\n",
    "\n",
    "{% block page_content %}\n",
    "<div class=\"page-header\">\n",
    "    <h1>Hello, {% if name %}{{ name }}{% else %}Stranger{% endif %}!</h1>\n",
    "</div>\n",
    "{{ wtf.quick_form(form) }}\n",
    "{% endblock %}\n",
    "\n"
   ]
  },
  {
   "cell_type": "markdown",
   "metadata": {},
   "source": [
    "## Form Handling in View Functions"
   ]
  },
  {
   "cell_type": "code",
   "execution_count": null,
   "metadata": {
    "collapsed": true
   },
   "outputs": [],
   "source": [
    "@app.route('/', methods=['GET', 'POST'])\n",
    "def index():\n",
    "    name = None\n",
    "    form = NameForm()\n",
    "    if form.validate_on_submit():\n",
    "        name = form.name.data\n",
    "        form.name.data = ''\n",
    "    return render_template('index.html', form=form, name=name)\n"
   ]
  },
  {
   "cell_type": "markdown",
   "metadata": {},
   "source": [
    "- The methods argument added to the app.route decorator tells Flask to register the view function as a handler for GET and POST requests in the URL map. When methods is not given, the view function is registered to handle GET requests only. "
   ]
  },
  {
   "cell_type": "markdown",
   "metadata": {},
   "source": [
    "- Adding POST to the method list is necessary because form submissions are much more conveniently handled as POST requests. It is possible to submit a form as a GET request, but as GET requests have no body, the data is appended to the URL as a query string and becomes visible in the browser’s address bar. For this and several other reasons, form submissions are almost universally done as POST requests. "
   ]
  },
  {
   "cell_type": "markdown",
   "metadata": {},
   "source": [
    "## Redirect and User Sessions"
   ]
  },
  {
   "cell_type": "code",
   "execution_count": null,
   "metadata": {
    "collapsed": true
   },
   "outputs": [],
   "source": [
    "from flask import Flask, render_template, session, redirect, url_for\n",
    "\n",
    "@app.route('/', methods=['GET', 'POST'])\n",
    "def index():\n",
    "    form = NameForm()\n",
    "    if form.validate_on_submit():\n",
    "        session['name'] = form.name.data\n",
    "        return redirect(url_for('index'))\n",
    "    return render_tamplate('index.html', form=form, name=session.get('name'))"
   ]
  },
  {
   "cell_type": "markdown",
   "metadata": {},
   "source": [
    "- In the previous version of the application, a local name variable was used to store the name entered by the user in the form. That variable is now placed in the user session as session['name'] so that it is remembered beyond the request. "
   ]
  },
  {
   "cell_type": "markdown",
   "metadata": {},
   "source": [
    "## Message Flashing"
   ]
  },
  {
   "cell_type": "code",
   "execution_count": null,
   "metadata": {
    "collapsed": true
   },
   "outputs": [],
   "source": [
    "from flask import Flask, render_template, session, redirect, url_for, flash\n",
    "\n",
    "@app.route('/', methods=['GET', 'POST'])\n",
    "def index():\n",
    "    form = NameForm()\n",
    "    if form.validate_on_submit():\n",
    "        old_name = session.get('name')\n",
    "        if old_nmae is not None old_name != form.name.data:\n",
    "            flash('Looks like you have changed your name!')\n",
    "        session['name'] = form.name.data\n",
    "        form.name.dara = ''\n",
    "        return redirect(url_for('index'))\n",
    "    return render_template('index.html',\n",
    "            form = form, name = sessionget('name'))"
   ]
  },
  {
   "cell_type": "markdown",
   "metadata": {},
   "source": [
    "- should put get_flashed_messages() function in the base or layout html"
   ]
  },
  {
   "cell_type": "markdown",
   "metadata": {},
   "source": [
    "# Chapter 5 : Databases\n",
    "- SQL & NoSQL"
   ]
  },
  {
   "cell_type": "markdown",
   "metadata": {},
   "source": [
    "- Easee of use \n",
    "- performance\n",
    "- portability\n",
    "- flask integration"
   ]
  },
  {
   "cell_type": "markdown",
   "metadata": {},
   "source": [
    "## Database Management with Flask-SQLAlchemy"
   ]
  },
  {
   "cell_type": "markdown",
   "metadata": {},
   "source": [
    "- pip install flask-sqlalchemy"
   ]
  },
  {
   "cell_type": "markdown",
   "metadata": {},
   "source": [
    "- SQLALCHEMY_DATABASE_URI, SQLALCHEMY_COMMIT_ON_TEARDOWN"
   ]
  },
  {
   "cell_type": "code",
   "execution_count": null,
   "metadata": {
    "collapsed": true
   },
   "outputs": [],
   "source": [
    "from flask_sqlalchemy improt SQLAlchemy\n",
    "\n",
    "basedir = os.path.abspath(os.path.dirname(__file__))\n",
    "\n",
    "app = Flask(__name__)\n",
    "app.config['SQLALCHEMY_DATABASE_URI'] = \\\n",
    "    'sqlite:///' + os.path.join(basefir, 'data.sqlite')\n",
    "app.config['SQLALCHEMY_COMMIT_ON_TEARDOWN'] = True\n",
    "\n",
    "db = SQLAlchemy(app)\n"
   ]
  },
  {
   "cell_type": "markdown",
   "metadata": {},
   "source": [
    "## Model Definition\n",
    "- The term model is used to refer to the persistent entities used by the application. In the context of an ORM, a model is typically a Python class with attributes that match the columns of a corresponding database table. "
   ]
  },
  {
   "cell_type": "code",
   "execution_count": null,
   "metadata": {
    "collapsed": true
   },
   "outputs": [],
   "source": [
    "class Role(db.Model):\n",
    "    __tablename__ = 'roles'\n",
    "    id = db.Column(db.Integer, primary_key=True)\n",
    "    name = db.Column(db.String(64), unique=True)\n",
    "    \n",
    "    def __repr__(self): # for debugging and testing purpose\n",
    "        return '<Role %r>' % self.name\n",
    "\n",
    "\n",
    "class User(db.Model):\n",
    "    __tablename__ = 'users'\n",
    "    id = db.Column(db.Integer, primary_key=True)\n",
    "    username = db.Column(db.String(64), unique=True, index=True)\n",
    "    \n",
    "    def __repr__(self):\n",
    "        return '<User %r>' % self.username"
   ]
  },
  {
   "cell_type": "markdown",
   "metadata": {},
   "source": [
    "![alt text](most_common_sqlalchemy_column_options.png 'most_common_sqlalchemy_column_options')"
   ]
  },
  {
   "cell_type": "markdown",
   "metadata": {},
   "source": [
    "## Relationships\n",
    "- "
   ]
  },
  {
   "cell_type": "code",
   "execution_count": null,
   "metadata": {
    "collapsed": true
   },
   "outputs": [],
   "source": [
    "class Role(db.Model):\n",
    "    # ...\n",
    "    users = db.relationship('User', backref='role')\n",
    "    \n",
    "    \n",
    "class User(db.Model):\n",
    "    # ...\n",
    "    role_id = db.Column(db.Integer, db.ForeignKey('roels.id'))"
   ]
  },
  {
   "cell_type": "markdown",
   "metadata": {},
   "source": [
    "- As seen in Figure 5-1, a relationship connects two rows through the user of a foreign key. The role_id column added to the User model is defined as a foreign key, and that establishes the relationship. The 'roles.id' argument to db.ForeignKey() specifies that the column should be interpreted as having id values from rows in the roles table. \n",
    "- The users attribute added to model Role represents the object-oriented view of the relationship. Given an instance of class Role, the users attribute will return the list of users associated with that role. The first argument to db.relationship() indicates what model is on the other side of the relationship. This model can be provided as a string if the class is not yet defined. \n",
    "- The backref argument to db.relationship() defines the reverse direction of the relationship by adding a role attribute to the User model. This attribute can be used instead of role_id to access the Role model as an object instead of as a foreign key. \n",
    "- In most cases db.relationship() can locate the relationship’s foreign key on its own, but sometimes it cannot determine what column to use as a foreign key. For example, if the User model had two or more columns defined as Role foreign keys, then SQLAlchemy would not know which one of the two to use. Whenever the foreign key configuration is ambiguous, additional arguments to db.relationship() need to be given. Table 5-4 lists some of the common configuration options that can be used to define a relationship.\n"
   ]
  },
  {
   "cell_type": "markdown",
   "metadata": {},
   "source": [
    "## Database Operations"
   ]
  },
  {
   "cell_type": "markdown",
   "metadata": {},
   "source": [
    "# P. 79"
   ]
  },
  {
   "cell_type": "markdown",
   "metadata": {
    "collapsed": true
   },
   "source": [
    "- Skip, cause of too much case-focused example"
   ]
  },
  {
   "cell_type": "markdown",
   "metadata": {},
   "source": []
  }
 ],
 "metadata": {
  "kernelspec": {
   "display_name": "Python 3",
   "language": "python",
   "name": "python3"
  },
  "language_info": {
   "codemirror_mode": {
    "name": "ipython",
    "version": 3
   },
   "file_extension": ".py",
   "mimetype": "text/x-python",
   "name": "python",
   "nbconvert_exporter": "python",
   "pygments_lexer": "ipython3",
   "version": "3.6.2"
  }
 },
 "nbformat": 4,
 "nbformat_minor": 2
}
