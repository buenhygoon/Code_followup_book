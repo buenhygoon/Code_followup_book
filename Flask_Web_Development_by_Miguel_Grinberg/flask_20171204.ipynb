{
 "cells": [
  {
   "cell_type": "markdown",
   "metadata": {},
   "source": [
    "# Chapter 7 : Large Application Structure"
   ]
  },
  {
   "cell_type": "markdown",
   "metadata": {},
   "source": [
    "## Project Structure"
   ]
  },
  {
   "cell_type": "markdown",
   "metadata": {},
   "source": [
    "|-flasky  \n",
    " |-app/    \n",
    "   |-templates/    \n",
    "   |-static/   \n",
    "   |-main/      \n",
    "     |-__init__.py      \n",
    "     |-errors.py      \n",
    "     |-forms.py      \n",
    "     |-views.py    \n",
    "   |-__init__.py   \n",
    "   |-email.py    \n",
    "   |-models.py  \n",
    " |-migrations/  \n",
    " |-tests/    \n",
    "   |-__init__.py    \n",
    "   |-test\\*.py  \n",
    " |-venv/  \n",
    " |-requirements.txt\n",
    " |-config.py  \n",
    " |-manage.py"
   ]
  },
  {
   "cell_type": "markdown",
   "metadata": {},
   "source": [
    "- Blueprints are created by instantiating an object of class Blueprint. The constructor for this class takes two required arguments: the blueprint name and the module or package where the blueprint is located. As with applications, Python’s __name__ variable is in most cases the correct value for the second argument. "
   ]
  },
  {
   "cell_type": "markdown",
   "metadata": {},
   "source": [
    "- The routes of the application are stored in an app/main/views.py module inside the package, and the error handlers are in app/main/errors.py. Importing these modules causes the routes and error handlers to be associated with the blueprint. It is important to note that the modules are imported at the bottom of the app/__init__.py script to avoid circular dependencies, because views.py and errors.py need to import the main blueprint. "
   ]
  },
  {
   "cell_type": "code",
   "execution_count": null,
   "metadata": {
    "collapsed": true
   },
   "outputs": [],
   "source": [
    "# in app/main/__init__.py\n",
    "from flask import Blueprint\n",
    "\n",
    "main = Blueprint('main', __name__)\n",
    "\n",
    "from . import views. errors"
   ]
  },
  {
   "cell_type": "code",
   "execution_count": null,
   "metadata": {
    "collapsed": true
   },
   "outputs": [],
   "source": [
    "# in app/__init__.py : blueprint registration\n",
    "def create_app(config_name):\n",
    "    # ...\n",
    "    \n",
    "    from main import main as main_blueprint\n",
    "    app.register_blueprint(main_blueprint)\n",
    "    \n",
    "    return app\n",
    "\n",
    "# in app/main/errors.py : blueprint with error handlers\n",
    "from flask import render_template\n",
    "from . import main\n",
    "\n",
    "@main.app_errorhandler(404)\n",
    "def page_not_found(e):\n",
    "    return render_template('404.html'), 404\n",
    "\n",
    "@main.app_errorhandler(500)\n",
    "def internal_server_error(e):\n",
    "    return render_template('500.html'), 500"
   ]
  },
  {
   "cell_type": "markdown",
   "metadata": {},
   "source": [
    "- A difference when writing error handlers inside a blueprint is that if the errorhandler decorator is used, the handler will only be invoked for errors that originate in the blueprint. To install application-wide error handlers, the app_errorhandler must be used instead. "
   ]
  },
  {
   "cell_type": "code",
   "execution_count": null,
   "metadata": {
    "collapsed": true
   },
   "outputs": [],
   "source": [
    "# in app/main/views.py : blueprint with application\n",
    "from datetime import datetime\n",
    "from flask import render_template, session, redirect, url_for\n",
    "from . import main\n",
    "from .forms import NameForm\n",
    "from .. import db\n",
    "from ..models import User\n",
    "\n",
    "@main.route('/', methods=['GET', 'POST'])\n",
    "def index():\n",
    "    form = NameForm()\n",
    "    if form.validate_on_submit():\n",
    "        # ...\n",
    "        return redirect(url_for('.index'))\n",
    "    return render_template('index.html',\n",
    "                          form=form, name=session.get('name'),\n",
    "                          known=session.get('known', False),\n",
    "                          current_time=datetime.utcnow())\n"
   ]
  },
  {
   "cell_type": "markdown",
   "metadata": {},
   "source": [
    "- There are two main differences when writing a view function inside a blueprint. First, **as was done for error handlers earlier, the route decorator comes from the blueprint**. The second difference is in **the usage of the url_for() function**. As you may recall, the first argument to this function is the endpoint name of the route, which for applicationbased routes defaults to the name of the view function. For example, in a single-script application the URL for an index() view function can be obtained with url_for('index'). "
   ]
  },
  {
   "cell_type": "markdown",
   "metadata": {},
   "source": [
    "- **The difference with blueprints is that Flask applies a namespace to all the endpoints coming from a blueprint so that multiple blueprints can define view functions with the same endpoint names without collisions**. The namespace is the name of the blueprint (the first argument to the Blueprint constructor), so the index() view function is registered with endpoint name main.index and its URL can be obtained with url_for('main.index'). "
   ]
  },
  {
   "cell_type": "markdown",
   "metadata": {},
   "source": [
    "- The url_for() function also supports a shorter format for endpoints in blueprints in **which the blueprint name is omitted, such as url_for('.index')**. With this notation, the blueprint for the current request is used. This effectively means that redirects **within the same blueprint can use the shorter form, while redirects across blueprints must use the namespaced endpoint name.** "
   ]
  },
  {
   "cell_type": "markdown",
   "metadata": {},
   "source": [
    "## Launch Script"
   ]
  },
  {
   "cell_type": "code",
   "execution_count": null,
   "metadata": {
    "collapsed": true
   },
   "outputs": [],
   "source": [
    "# in manage.py : launch script\n",
    "\n",
    "#!/usr/bin/env python\n",
    "import os\n",
    "from app import create_app, db\n",
    "from app.models import User, Role\n",
    "from flask_script import Manager, Shell\n",
    "from flask_migrate import Migrate, MigrateCommand\n",
    "\n",
    "app = create_app(os.getenv('FLASK_CONFIG') or 'default')\n",
    "manager = Manager(app)\n",
    "migrate = Migrate(app, db)\n",
    "\n",
    "def make_shell_context():\n",
    "    return dict(app=app, db=db, User=User, Role=Role)\n",
    "manager.add_command(\"shell\", Shell(make_context=make_shell_context))\n",
    "manager.add_command('db', MigrateCommand)\n",
    "\n",
    "if __name__ == '__main__':\n",
    "    \n",
    "    manager.run()\n",
    "    "
   ]
  },
  {
   "cell_type": "markdown",
   "metadata": {},
   "source": [
    "## Requirements File"
   ]
  },
  {
   "cell_type": "markdown",
   "metadata": {},
   "source": [
    "- Applications must include a requirements.txt file that records all the package dependencies, with the exact version numbers. This is important in case the virtual environment needs to be regenerated in a different machine, such as the machine on which the application will be deployed for production use. This file can be generated automatically by pip with the following command:\n",
    "- ** pip freeze > requirements.txt **"
   ]
  },
  {
   "cell_type": "markdown",
   "metadata": {},
   "source": [
    "- When you need to build a perfect replica of the virtual environment, you can create a new virtual environment and run the following command on it:\n",
    "\n",
    "- ** pip install -r requirements.txt **\n"
   ]
  },
  {
   "cell_type": "markdown",
   "metadata": {},
   "source": [
    "## Unit Tests"
   ]
  },
  {
   "cell_type": "code",
   "execution_count": null,
   "metadata": {
    "collapsed": true
   },
   "outputs": [],
   "source": [
    "# in tests/test_basics.py : unit tests\n",
    "\n",
    "import unittest\n",
    "from flask import current_app\n",
    "from app import create_app, db\n",
    "\n",
    "class BasicTestCase(unittest.TestCase):\n",
    "    def setUp(self):\n",
    "        self.app = create_app('testing')\n",
    "        self.app_context = self.app.app_context()\n",
    "        self.app_context.push()\n",
    "        db.create_all()\n",
    "        \n",
    "    def tearDown(self):\n",
    "        db.session.remove()\n",
    "        db.drop_all()\n",
    "        self.app_context.pop()\n",
    "        \n",
    "    def test_app_exists(self):\n",
    "        self.assertFalse(current_app is None)\n",
    "        \n",
    "    def test_app_is_testing(self):\n",
    "        self.assertTrue(current_app.config['TESTING'])\n",
    "            "
   ]
  },
  {
   "cell_type": "markdown",
   "metadata": {},
   "source": [
    "- The setUp() method tries to create an environment for the test that is close to that of a running application. It first creates an application configured for testing and activates its context. This step ensures that tests have access to current_app, like regular requests. Then it creates a brand-new database that the test can use when necessary. The database and the application context are removed in the tearDown() method. "
   ]
  },
  {
   "cell_type": "markdown",
   "metadata": {},
   "source": [
    "- The first test ensures that the application instance exists. The second test ensures that the application is running under the testing configuration. To make the tests folder a proper package, a tests/__init__.py file needs to be added, but this can be an empty file, as the unittest package can scan all the modules and locate the tests.\n"
   ]
  },
  {
   "cell_type": "code",
   "execution_count": null,
   "metadata": {
    "collapsed": true
   },
   "outputs": [],
   "source": [
    "# in manage.py : unittest launcher command\n",
    "\n",
    "@manager.command\n",
    "def test():\n",
    "    \"\"\"Run the unit tests.\"\"\"\n",
    "    import unittest\n",
    "    tests = unittest.TestLoader().discover('tests')\n",
    "    unittest.TextTestRunner(verbosity=2).run(tests)"
   ]
  },
  {
   "cell_type": "markdown",
   "metadata": {},
   "source": [
    "- The manager.command decorator makes it simple to implement custom commands. The name of the decorated function is used as the command name, and the function’s docstring is displayed in the help messages. The implementation of test() function invokes the test runner from the unittest package. \n",
    "\n",
    "- ** python manage.py test **"
   ]
  },
  {
   "cell_type": "markdown",
   "metadata": {},
   "source": [
    "## Database Setup"
   ]
  },
  {
   "cell_type": "markdown",
   "metadata": {},
   "source": [
    "- The database URL is taken from an environment variable as a first choice, with a default SQLite database as an alternative. The environment variables and SQLite database filenames are different for each of the three configurations. For example, in the development configuration the URL is obtained from environment variable DEV_DATABASE_URL, and if that is not defined then a SQLite database with the name data-dev.sqlite is used."
   ]
  },
  {
   "cell_type": "markdown",
   "metadata": {},
   "source": [
    "# Part 2 : A Social Blogging Application"
   ]
  },
  {
   "cell_type": "markdown",
   "metadata": {},
   "source": [
    "## Password Security"
   ]
  },
  {
   "cell_type": "markdown",
   "metadata": {},
   "source": [
    "- The key to storing user passwords securely in a database relies not on storing the password itself but a hash of it. "
   ]
  },
  {
   "cell_type": "markdown",
   "metadata": {},
   "source": [
    "## Hashing Passwords with Werkzeug \n",
    "- generate_password_hash(password, method=pbkdf2:sha1, salt_length=8) :This function takes a plain-text password and returns the password hash as a string that can be stored in the user database. The default values for method and salt_length are sufficient for most use cases. \n",
    "\n",
    "- check_password_hash(hash, password) : This function takes a password hash retrieved from the database and the password entered by the user. A return value of True indicates that the password is correct. "
   ]
  },
  {
   "cell_type": "markdown",
   "metadata": {},
   "source": [
    "  1 from werkzeug.security import generate_password_hash, check_password_hash\n",
    "  2\n",
    "  3\n",
    "  4\n",
    "  5 class User(db.Model):\n",
    "  6     # ...\n",
    "  7     password_hash = db.Column(db.String(128))\n",
    "  8\n",
    "  9     class Meta:\n",
    " 10         database = DATABASE\n",
    " 11\n",
    " 12     @property\n",
    " 13     def password(self):\n",
    " 14         raise AttributeError('password is not a readable attribute')\n",
    " 15\n",
    " 16     @password.setter\n",
    " 17     def password(self, password):\n",
    " 18         self.password_hash = generate_password_hash(password)\n",
    " 19\n",
    " 20     def verify_password(self, password):\n",
    " 21         return check_password_hash(self.password_hash, password)"
   ]
  },
  {
   "cell_type": "markdown",
   "metadata": {},
   "source": [
    "- The password hashing function is implemented through a write-only property called password. When this property is set, the setter method will call Werkzeug’s generate_password_hash() function and write the result to the password_hash field. Attempting to read the password property will return an error, as clearly the original password cannot be recovered once hashed. "
   ]
  },
  {
   "cell_type": "markdown",
   "metadata": {},
   "source": [
    "- The verify_password method takes a password and passes it to Werkzeug’s check_password_hash() function for verification against the hashed version stored in the User model. If this method returns True, then the password is correct."
   ]
  },
  {
   "cell_type": "markdown",
   "metadata": {},
   "source": [
    "## Creating an Authentication Blueprint"
   ]
  },
  {
   "cell_type": "markdown",
   "metadata": {},
   "source": [
    "- Blueprints were introduced in Chapter 7 as a way to define routes in the global scope after the creation of the application was moved into a factory function. The routes related to the user authentication system can be added to a auth blueprint. Using different blueprints for different sets of application functionality is a great way to keep the code neatly organized. "
   ]
  },
  {
   "cell_type": "markdown",
   "metadata": {},
   "source": [
    "- Note that the template file given to render_template() is stored inside the auth folder. This folder must be created inside app/templates, as Flask expects the templates to be relative to the application’s template folder. By storing the blueprint templates in their own folder, there is no risk of naming collisions with the main blueprint or any other blueprints that will be added in the future.\n"
   ]
  },
  {
   "cell_type": "markdown",
   "metadata": {},
   "source": [
    "## User Authentication with Flask-Login\n",
    "- When users log in to the application, their authenticated state has to be recorded so that it is remembered as they navigate through different pages. Flask-Login is a small but extremely useful extension that specializes in managing this particular aspect of a user authentication system, without being tied to a specific authentication mechanism. "
   ]
  },
  {
   "cell_type": "markdown",
   "metadata": {},
   "source": [
    "### Preparing the User Model for Logins\n",
    "- is_authenticated()\n",
    "- is_active()\n",
    "- is_anonymous()\n",
    "- get_id()"
   ]
  },
  {
   "cell_type": "code",
   "execution_count": null,
   "metadata": {
    "collapsed": true
   },
   "outputs": [],
   "source": [
    "# in app/models.py : updates to the User model to support user logins\n",
    "from flask.ext.login import UserMixin\n",
    "\n",
    "class User(UserMixin, db.Model):\n",
    "     __tablename__ = 'users'    \n",
    "    id = db.Column(db.Integer, primary_key = True)    \n",
    "    email = db.Column(db.String(64), unique=True, index=True)    \n",
    "    username = db.Column(db.String(64), unique=True, index=True)    \n",
    "    password_hash = db.Column(db.String(128))    \n",
    "    role_id = db.Column(db.Integer, db.ForeignKey('roles.id'))\n"
   ]
  },
  {
   "cell_type": "markdown",
   "metadata": {},
   "source": [
    "- The session_protection attribute of the LoginManager object can be set to None, 'basic', or 'strong' to provide different levels of security against user session tampering. With the 'strong' setting, Flask-Login will keep track of the client’s IP address and browser agent and will log the user out if it detects a change. The login_view attribute sets the endpoint for the login page. Recall that because the login route is inside a blueprint, it needs to be prefixed with the blueprint name. "
   ]
  },
  {
   "cell_type": "code",
   "execution_count": null,
   "metadata": {
    "collapsed": true
   },
   "outputs": [],
   "source": [
    "# in app/__init__.py : flask-login initialization\n",
    "from flask.ext.login import LoginManager\n",
    "\n",
    "login_manager = LoginManager() \n",
    "login_manager.session_protection = 'strong' \n",
    "login_manager.login_view = 'auth.login'\n",
    "\n",
    "def create_app(config_name):    \n",
    "    # ...    \n",
    "    login_manager.init_app(app)    \n",
    "    # ..."
   ]
  },
  {
   "cell_type": "code",
   "execution_count": null,
   "metadata": {
    "collapsed": true
   },
   "outputs": [],
   "source": [
    "# in app/models.py : User loader callback function\n",
    "from . import login_manager\n",
    "\n",
    "@login_manager.user_loader \n",
    "def load_user(user_id):    \n",
    "    return User.query.get(int(user_id))"
   ]
  },
  {
   "cell_type": "markdown",
   "metadata": {},
   "source": [
    "### Protecting Routes"
   ]
  },
  {
   "cell_type": "code",
   "execution_count": null,
   "metadata": {
    "collapsed": true
   },
   "outputs": [],
   "source": [
    "from flask.ext.login import login_required\n",
    "@app.route('/secret') \n",
    "@login_required \n",
    "def secret():    \n",
    "    return 'Only authenticated users are allowed!'\n"
   ]
  },
  {
   "cell_type": "markdown",
   "metadata": {},
   "source": [
    "# ~ p.117\n"
   ]
  },
  {
   "cell_type": "code",
   "execution_count": null,
   "metadata": {
    "collapsed": true
   },
   "outputs": [],
   "source": []
  }
 ],
 "metadata": {
  "kernelspec": {
   "display_name": "Python 3",
   "language": "python",
   "name": "python3"
  },
  "language_info": {
   "codemirror_mode": {
    "name": "ipython",
    "version": 3
   },
   "file_extension": ".py",
   "mimetype": "text/x-python",
   "name": "python",
   "nbconvert_exporter": "python",
   "pygments_lexer": "ipython3",
   "version": "3.6.2"
  }
 },
 "nbformat": 4,
 "nbformat_minor": 2
}
