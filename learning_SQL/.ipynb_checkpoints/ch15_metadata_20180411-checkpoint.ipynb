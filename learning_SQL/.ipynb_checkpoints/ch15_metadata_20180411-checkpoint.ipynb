{
 "cells": [
  {
   "cell_type": "markdown",
   "metadata": {},
   "source": [
    "## Information Schema"
   ]
  },
  {
   "cell_type": "markdown",
   "metadata": {},
   "source": [
    "All of hte objects available within the information_schema database (or schema, in the case of SQL Server) are views. Unlike the describe utility, which I used in several chapters of this book as a way to show the structure of various tables and views, the views within information_schema can be queried, and, thus, used programmatically."
   ]
  },
  {
   "cell_type": "markdown",
   "metadata": {},
   "source": [
    "## Schema Genaration Scripts"
   ]
  },
  {
   "cell_type": "markdown",
   "metadata": {},
   "source": [
    "While some projects teams include a full-time database designer who oversees the design and implementation of the database, many projects take the \"design-by-committee\" approach, allowing multiple people to create database objects. After several weeks or months of development, you may need to generate a script that will create the varuious tables, indexes, views, and so on that the team has deployed. Although a variety of tools and utilities will generate these types of scrips for you, you can also query the information_schema views and generate the script yourself."
   ]
  },
  {
   "cell_type": "markdown",
   "metadata": {},
   "source": [
    "## Deployment Verification"
   ]
  },
  {
   "cell_type": "markdown",
   "metadata": {},
   "source": [
    "Many organizations allow for database maintenance windows, wherein existing database objects may be administered and new schema objects and code can be deployed. After the deployment scripts have been run, it's a good idea to run a verification script to ensure that the new schema objects are in place with the appropriate colmns, indexes, primary keys, and so forth. Here's a query that returns the number of columns, number of indexes, and number of primary key constraints for each table in the bank schema:"
   ]
  },
  {
   "cell_type": "markdown",
   "metadata": {},
   "source": [
    "## Dynamic SQL Generation"
   ]
  },
  {
   "cell_type": "markdown",
   "metadata": {},
   "source": [
    "Some languages, such as Oracle's PL/SQL and Microspft's Transact-SQL, are supersets of the SQL language, meaning that they include SQL statements in their grammar along with the usual procedural constructs, such as \"if-then-else\" and \"while\". Other languages, such as Java include the ability to interface with a relational database, but do not include SQL statements in the grammar, meaning that all SQL statements must be contained within strings."
   ]
  },
  {
   "cell_type": "markdown",
   "metadata": {},
   "source": [
    "Therefore, most relational database servers, including SQL Server, Oracle Database, and MySQL, allow SQL statements to be submitted to the server as strings. Submitting strings to a database engine rather that utilizing its SQL interface is generally known as dynamic SQL execution. Oracle's PL/SQL language, for example, includes an execute immediate command, which you can use to submit a string for execution, while SQL Server includes a system stored procedure called sp_executesql for executing SQL statements dynamically."
   ]
  },
  {
   "cell_type": "markdown",
   "metadata": {},
   "source": [
    "# Transaction"
   ]
  },
  {
   "cell_type": "markdown",
   "metadata": {},
   "source": [
    "All of the examples thus far in this book have been individual, independent SQL stateements. While this may be the norm for ad hoc reporting or data maintenance scripts, application logic will frequently include multiple SQL statements that need to be execute together as a logical unit of work. This chapter explores the need and the infrastructue necessary to execute multiple SQL statements concurrently."
   ]
  },
  {
   "cell_type": "markdown",
   "metadata": {},
   "source": [
    "## Multiuser Databases"
   ]
  },
  {
   "cell_type": "markdown",
   "metadata": {},
   "source": [
    "Database management systems allow not only a single user to query and modify data, but multiple people to do so simultaneously. If every user is only executing queries, such as might be the case a data warehouse during normal business hours, then there are very few issues for the dataase server to deal with. If some of the users are adding and/or modifying data, however, the server must handle quite a bit more bookkeeping."
   ]
  },
  {
   "cell_type": "markdown",
   "metadata": {},
   "source": [
    "### Locking "
   ]
  },
  {
   "cell_type": "markdown",
   "metadata": {},
   "source": [
    "Locks are the mechanism the database server uses to control simultaneous use of data resources. When some portion of the database is locked, any other users wishing to modify that data must wait until the lock has been released. Most database servers uses one of two locking strategies:"
   ]
  },
  {
   "cell_type": "markdown",
   "metadata": {},
   "source": [
    "## Lock Granularities"
   ]
  },
  {
   "cell_type": "markdown",
   "metadata": {},
   "source": [
    "- Table locks\n",
    "- Page locks\n",
    "- Row locks"
   ]
  },
  {
   "cell_type": "markdown",
   "metadata": {},
   "source": [
    "## What is a Transaction?"
   ]
  },
  {
   "cell_type": "markdown",
   "metadata": {},
   "source": [
    "If database servers enjoyed 100% uptime, if users always allowed programs to finish executing, and if applications always comleted without encountering fatal errors that halt execution, then there would be nothing left to discuss regarding concurrent database access. However, we can rely on none of these things, so one more element is necessary to allow multiple users to access the same data."
   ]
  },
  {
   "cell_type": "markdown",
   "metadata": {},
   "source": [
    "This extra piece of the concurrency puzzle is the transaction, which is a divice for grouping together multiple SQL statements such that either all or none of the statements succeed. If you attempt to transfer \\$500 from your savings account to your checking account, you would be a bit upset if the money were successfullly withdrawn from your savings account but never made it to your checking account. Whatever the reason for the failure, you want your \\$500 back."
   ]
  },
  {
   "cell_type": "markdown",
   "metadata": {},
   "source": [
    "To protect against this kind of error, the program that handles your transfer request would first begin a transaction, then issue the SQL statements needed to move the money from your savings to your checking account, and, if everything succeeds, end the transaction by issuing the commit command. If something unexpected happens, however, the program would issue a rollback command, which instrucks the server to undo all changes made since the transaction began. The entire process might look something like the following:"
   ]
  },
  {
   "cell_type": "markdown",
   "metadata": {},
   "source": [
    "START TRANSACTION;\n",
    "/* withdraw money from first account, making sure balance is sufficient */ UPDATE account SET avail_balance = avail_balance - 500\n",
    "WHERE account_id = 9988\n",
    "AND avail_balance > 500;\n",
    "IF <exactly one row was updated by the previous statement> THEN /* deposit money into second account */\n",
    "UPDATE account SET avail_balance = avail_balance + 500\n",
    "WHERE account_id = 9989;\n",
    "IF <exactly one row was updated by the previous statement> THEN /* everything worked, make the changes permanent */\n",
    "COMMIT;\n",
    "ELSE\n",
    "/* something went wrong, undo all changes in this transaction */ ROLLBACK;\n",
    "END IF;"
   ]
  },
  {
   "cell_type": "markdown",
   "metadata": {},
   "source": [
    "By using a transaction, the program ensures that your $500 either stays in your savings account or moves to your checking account, without the possibility of it falling into a crack. Regardless of whether the transaction was committed or was rolled back, all resources acquired during the execution of the transaction are released when the transction completes."
   ]
  },
  {
   "cell_type": "markdown",
   "metadata": {},
   "source": [
    "## Starting a Transaction"
   ]
  },
  {
   "cell_type": "markdown",
   "metadata": {},
   "source": [
    "Database servers handle transaction creation in one of two ways:"
   ]
  },
  {
   "cell_type": "markdown",
   "metadata": {},
   "source": [
    "- An active transaction is always associated with a database session, so there is no need or method to explicitly begin a tracsaction. When the current transaction ends, the server automatically begins a new transaction for your session.\n",
    "\n",
    "- Unless you explicitly begin a transaction, individual SQL statements are automatically committed independently of one another. To begin a transaction, you must first issue a command"
   ]
  },
  {
   "cell_type": "code",
   "execution_count": null,
   "metadata": {},
   "outputs": [],
   "source": []
  }
 ],
 "metadata": {
  "kernelspec": {
   "display_name": "Python 3",
   "language": "python",
   "name": "python3"
  },
  "language_info": {
   "codemirror_mode": {
    "name": "ipython",
    "version": 3
   },
   "file_extension": ".py",
   "mimetype": "text/x-python",
   "name": "python",
   "nbconvert_exporter": "python",
   "pygments_lexer": "ipython3",
   "version": "3.6.4"
  }
 },
 "nbformat": 4,
 "nbformat_minor": 2
}
