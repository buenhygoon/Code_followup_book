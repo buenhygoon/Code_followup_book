{
 "cells": [
  {
   "cell_type": "markdown",
   "metadata": {},
   "source": [
    "# Web Scraping with Python"
   ]
  },
  {
   "cell_type": "markdown",
   "metadata": {},
   "source": [
    "- Ryan Mitchell"
   ]
  },
  {
   "cell_type": "markdown",
   "metadata": {},
   "source": [
    "## About non-JavaScript objects \n",
    "- Using urllib, requests and bs4 packages"
   ]
  },
  {
   "cell_type": "markdown",
   "metadata": {},
   "source": [
    "# Contents"
   ]
  },
  {
   "cell_type": "markdown",
   "metadata": {},
   "source": [
    "1. 기초\n",
    "  - 1.1 스크래핑 기초\n",
    "  - 1.2 고급 HTML 파싱\n",
    "  - 1.3 크롤링 \n",
    "  \n",
    "2. 고급\n",
    "  - 2.1 폼과 로그인 크롤링\n",
    "  - 2.2 이미지 및 텍스트 인식\n",
    "  - 2.3 기타"
   ]
  },
  {
   "cell_type": "markdown",
   "metadata": {},
   "source": [
    "# 1. 기초"
   ]
  },
  {
   "cell_type": "markdown",
   "metadata": {},
   "source": [
    "이 장에서는 다음과 같은 '웹 스크래퍼'를 말하면 떠올리는 기본적인 부분을 다룬다.\n",
    "\n",
    "- 해당 도메인에서 HTML 데이터를 받음\n",
    "- 타겟 정보를 위해 HTML 데이터 파싱\n",
    "- 타겟 정보를 저장함\n",
    "- (추가적으로) 위의 프로세스를 반복하기 위해 다른 페이지로 이동"
   ]
  },
  {
   "cell_type": "markdown",
   "metadata": {},
   "source": [
    "## 1.1 스크래핑 기초"
   ]
  },
  {
   "cell_type": "markdown",
   "metadata": {},
   "source": [
    "스크래핑을 시작할 때, 먼저 웹 브라우저가 해결해 주던 사소한 모든 것을 다시 체크하는 것으로 시작한다. HTML 포매팅, CSS 스타일링, JavaScript 실행 그리고 이미지 렌더링 없이 처음에는 매우 복잡해 보이지만 브라우저의 도움 없이 어떻게 포매팅 되고 해석되는지 이해한다면 스크래핑의 많은 부분에서 진전을 이룰 수 있다."
   ]
  },
  {
   "cell_type": "markdown",
   "metadata": {},
   "source": [
    "### 코넥션 Connection "
   ]
  },
  {
   "cell_type": "markdown",
   "metadata": {},
   "source": [
    "먼저 한 연결의 예를 들어보자."
   ]
  },
  {
   "cell_type": "markdown",
   "metadata": {},
   "source": [
    "₩1. 밥의 컴퓨터가 고, 저 전력으로 나타나는 0과 1의 스트림을 보낸다. 이 비트는 헤더와 바디를 가진 어떤 정보를 구성한다. 헤더는 밥의 로컬 라우터인 MAC 주소와 최종 목적지인 앨리스의 IP를 가지고 있다. 바디는 앨리스의 서버 애플리케이션에 요청할 내용을 담고 있다."
   ]
  },
  {
   "cell_type": "markdown",
   "metadata": {},
   "source": [
    "```python\n",
    "requests.get(url, params=None, headers=None, cookies=None, auth=None, timeout=None)\n",
    "```"
   ]
  },
  {
   "cell_type": "code",
   "execution_count": 31,
   "metadata": {},
   "outputs": [
    {
     "data": {
      "text/plain": [
       "31021392296862"
      ]
     },
     "execution_count": 31,
     "metadata": {},
     "output_type": "execute_result"
    }
   ],
   "source": [
    "from uuid import getnode as get_mac\n",
    "get_mac()"
   ]
  },
  {
   "cell_type": "code",
   "execution_count": 34,
   "metadata": {},
   "outputs": [
    {
     "data": {
      "text/plain": [
       "<Response [200]>"
      ]
     },
     "execution_count": 34,
     "metadata": {},
     "output_type": "execute_result"
    }
   ],
   "source": [
    "import requests\n",
    "sess = requests.Session()\n",
    "sess.get(\"https://www.naver.com\")"
   ]
  },
  {
   "cell_type": "code",
   "execution_count": 54,
   "metadata": {},
   "outputs": [
    {
     "name": "stdout",
     "output_type": "stream",
     "text": [
      "User-Agent : python-requests/2.18.4\n",
      "Accept-Encoding : gzip, deflate\n",
      "Accept : */*\n",
      "Connection : keep-alive\n"
     ]
    }
   ],
   "source": [
    "for k in sess.headers.keys():\n",
    "    print(k, ':', sess.headers.get(k))\n",
    "sess.close()"
   ]
  },
  {
   "cell_type": "code",
   "execution_count": 21,
   "metadata": {},
   "outputs": [
    {
     "name": "stdout",
     "output_type": "stream",
     "text": [
      "Server : NWS\n",
      "Date : Sun, 15 Apr 2018 12:52:51 GMT\n",
      "Content-Type : text/html; charset=UTF-8\n",
      "Transfer-Encoding : chunked\n",
      "Connection : keep-alive\n",
      "Set-Cookie : PM_CK_rcode=09440114; expires=Sun, 15 Apr 2018 13:52:51 GMT; path=/;\n",
      "Cache-Control : no-cache, no-store, must-revalidate\n",
      "Pragma : no-cache\n",
      "P3P : CP=\"CAO DSP CURa ADMa TAIa PSAa OUR LAW STP PHY ONL UNI PUR FIN COM NAV INT DEM STA PRE\"\n",
      "X-Frame-Options : SAMEORIGIN\n",
      "Content-Encoding : gzip\n",
      "Strict-Transport-Security : max-age=31536000; preload\n",
      "Referrer-Policy : unsafe-url\n"
     ]
    }
   ],
   "source": [
    "response = requests.get(\"https://www.naver.com\")\n",
    "for k in response.headers.keys():\n",
    "    print(k, ':', response.headers.get(k))"
   ]
  },
  {
   "cell_type": "markdown",
   "metadata": {},
   "source": [
    "₩2. 밥의 로컬 라우터는 밥의 MAC주소로부터 모든 0과 1의 데이터를 받아 패킷으로 재해석하고 앨리스의 IP를 향하도록 한다. 밥의 라우터는 패킷에 \"from\" IP로 자신의 IP를 기록하고 인터넷에 보낸다."
   ]
  },
  {
   "cell_type": "markdown",
   "metadata": {},
   "source": [
    "₩3. 밥의 패킷은 앨리스의 IP로 향하게 하는 몇몇 중간의 서버를 거친다.\n",
    "\n",
    "₩4. 앨리스의 서버는 그녀의 IP 주소로 패킷을 받는다.\n",
    "\n",
    "₩5. 앨리스의 서버는 패킷의 헤더에 있는 목적지 포트 번호(대부분 웹의 경우 80번)를 읽고 적절한 애플리케이션에 보낸다(웹 서버 애플리케이션)\n",
    "\n",
    "₩6. 웹 서버 애플리케이션은 서버 프로세서로부터 다음과 같은 데이터를 받는다:\n",
    "  - 이것은 GET 리퀘스트 입니다.\n",
    "  - 다음과 같은 파일이 요청되었습니다: index.html\n",
    "\n",
    "₩7. 웹 서버는 정확한 HTML 파일을 가져와 밥에게 보내기 위해 새로운 패킷으로 만듭니다. 위와 동일한 프로세스로 밥의 기계로 운송되기 위해 로컬 라우터를 통해 보냅니다."
   ]
  },
  {
   "cell_type": "markdown",
   "metadata": {},
   "source": [
    "> 이 과정에 웹 브라우저가 들어옵니까?"
   ]
  },
  {
   "cell_type": "markdown",
   "metadata": {},
   "source": [
    "아닙니다. 웹 브라우저는 인터넷 역사에서 최근 개발된 것입니다(1990년)."
   ]
  },
  {
   "cell_type": "code",
   "execution_count": 56,
   "metadata": {},
   "outputs": [
    {
     "name": "stdout",
     "output_type": "stream",
     "text": [
      "b'<html>\\n<head>\\n<title>A Useful Page</title>\\n</head>\\n<body>\\n<h1>An Interesting Title</h1>\\n<div>\\nLorem ipsum dolor sit amet, consectetur adipisicing elit, sed do eiusmod tempor incididunt ut labore et dolore magna aliqua. Ut enim ad minim veniam, quis nostrud exercitation ullamco laboris nisi ut aliquip ex ea commodo consequat. Duis aute irure dolor in reprehenderit in voluptate velit esse cillum dolore eu fugiat nulla pariatur. Excepteur sint occaecat cupidatat non proident, sunt in culpa qui officia deserunt mollit anim id est laborum.\\n</div>\\n</body>\\n</html>\\n'\n"
     ]
    }
   ],
   "source": [
    "from urllib.request import urlopen\n",
    "html = urlopen(\"http://pythonscraping.com/pages/page1.html\") \n",
    "print(html.read())"
   ]
  },
  {
   "cell_type": "markdown",
   "metadata": {},
   "source": [
    "### BeautifulSoup"
   ]
  },
  {
   "cell_type": "markdown",
   "metadata": {},
   "source": [
    "- 뷰티풀숩은 XML 구조를 나타내며 쉽게 이동할 수 있는 파이썬 객체를 제공하고 복잡한 HTML을 구조화하고 정리해줍니다."
   ]
  },
  {
   "cell_type": "code",
   "execution_count": 60,
   "metadata": {},
   "outputs": [
    {
     "name": "stdout",
     "output_type": "stream",
     "text": [
      "<h1>An Interesting Title</h1>\n"
     ]
    }
   ],
   "source": [
    "from urllib.request import urlopen\n",
    "from bs4 import BeautifulSoup\n",
    "html = urlopen(\"http://www.pythonscraping.com/pages/page1.html\") \n",
    "bsObj = BeautifulSoup(html.read(), \"html.parser\")\n",
    "print(bsObj.h1)"
   ]
  },
  {
   "cell_type": "markdown",
   "metadata": {},
   "source": [
    "> 태그단위로 객체화하여 다음과 같은 메써드와 어트리뷰트를 가집니다."
   ]
  },
  {
   "cell_type": "code",
   "execution_count": 63,
   "metadata": {
    "collapsed": true
   },
   "outputs": [
    {
     "name": "stdout",
     "output_type": "stream",
     "text": [
      "builder\n",
      "is_xml\n",
      "known_xml\n",
      "parse_only\n",
      "markup\n",
      "original_encoding\n",
      "declared_html_encoding\n",
      "contains_replacement_characters\n",
      "parser_class\n",
      "name\n",
      "namespace\n",
      "prefix\n",
      "preserve_whitespace_tags\n",
      "attrs\n",
      "contents\n",
      "parent\n",
      "previous_element\n",
      "next_element\n",
      "next_sibling\n",
      "previous_sibling\n",
      "hidden\n",
      "can_be_empty_element\n",
      "current_data\n",
      "currentTag\n",
      "tagStack\n",
      "preserve_whitespace_tag_stack\n",
      "_most_recent_element\n"
     ]
    }
   ],
   "source": [
    "for k in bsObj.__dict__.keys():\n",
    "    print(k)"
   ]
  },
  {
   "cell_type": "code",
   "execution_count": 90,
   "metadata": {},
   "outputs": [],
   "source": [
    "bsObj.htmm"
   ]
  },
  {
   "cell_type": "code",
   "execution_count": 91,
   "metadata": {},
   "outputs": [
    {
     "data": {
      "text/plain": [
       "<html>\n",
       "<head>\n",
       "<title>A Useful Page</title>\n",
       "</head>\n",
       "<body>\n",
       "<h1>An Interesting Title</h1>\n",
       "<div>\n",
       "Lorem ipsum dolor sit amet, consectetur adipisicing elit, sed do eiusmod tempor incididunt ut labore et dolore magna aliqua. Ut enim ad minim veniam, quis nostrud exercitation ullamco laboris nisi ut aliquip ex ea commodo consequat. Duis aute irure dolor in reprehenderit in voluptate velit esse cillum dolore eu fugiat nulla pariatur. Excepteur sint occaecat cupidatat non proident, sunt in culpa qui officia deserunt mollit anim id est laborum.\n",
       "</div>\n",
       "</body>\n",
       "</html>"
      ]
     },
     "execution_count": 91,
     "metadata": {},
     "output_type": "execute_result"
    }
   ],
   "source": [
    "bsObj.html"
   ]
  },
  {
   "cell_type": "markdown",
   "metadata": {},
   "source": [
    "### 안정적으로 코넥팅하자"
   ]
  },
  {
   "cell_type": "markdown",
   "metadata": {},
   "source": [
    "- 요청 및 파싱 시 발생할 수 있는 에러를 처리하여 안정적으로 스크래핑 하도록 하자."
   ]
  },
  {
   "cell_type": "markdown",
   "metadata": {},
   "source": [
    "> 특정 도메인 요청 시"
   ]
  },
  {
   "cell_type": "code",
   "execution_count": 92,
   "metadata": {},
   "outputs": [],
   "source": [
    "from urllib.request import urlopen\n",
    "html = urlopen(\"http://www.pythonscraping.com/pages/page1.html\")"
   ]
  },
  {
   "cell_type": "markdown",
   "metadata": {},
   "source": [
    "- 서버에서 페이지가 발견되지 않음(404 Page Not Found)\n",
    "- 서버가 발견되지 않음(500 Internal Server Error)"
   ]
  },
  {
   "cell_type": "markdown",
   "metadata": {},
   "source": [
    "> 파싱 시"
   ]
  },
  {
   "cell_type": "markdown",
   "metadata": {},
   "source": [
    "```python\n",
    "AttributeError: 'NoneType' object has no attribute 'someTag'\n",
    "```"
   ]
  },
  {
   "cell_type": "code",
   "execution_count": 97,
   "metadata": {},
   "outputs": [
    {
     "name": "stdout",
     "output_type": "stream",
     "text": [
      "<h1>An Interesting Title</h1>\n"
     ]
    }
   ],
   "source": [
    "from urllib.request import urlopen \n",
    "from urllib.error import HTTPError \n",
    "from bs4 import BeautifulSoup\n",
    "\n",
    "def getTitle(url): \n",
    "    try:\n",
    "        html = urlopen(url) \n",
    "    except HTTPError as e:\n",
    "        return None \n",
    "    try:\n",
    "        bsObj = BeautifulSoup(html.read(), \"html.parser\")\n",
    "        title = bsObj.body.h1 \n",
    "    except AttributeError as e:\n",
    "        return None \n",
    "    return title\n",
    "\n",
    "\n",
    "title = getTitle(\"http://www.pythonscraping.com/pages/page1.html\") \n",
    "if title == None:\n",
    "    print(\"Title could not be found\") \n",
    "else:\n",
    "    print(title)"
   ]
  },
  {
   "cell_type": "markdown",
   "metadata": {},
   "source": [
    "## 1.2 고급 HTML 파싱"
   ]
  },
  {
   "cell_type": "code",
   "execution_count": 100,
   "metadata": {},
   "outputs": [],
   "source": [
    "from urllib.request import urlopen\n",
    "from bs4 import BeautifulSoup\n",
    "html = urlopen(\"http://www.pythonscraping.com/pages/warandpeace.html\") \n",
    "bsObj = BeautifulSoup(html.read(), \"html.parser\")"
   ]
  },
  {
   "cell_type": "markdown",
   "metadata": {},
   "source": [
    "> find 와 find_all 메써드를 사용하여 다양한 파싱을 시도할 수 있음"
   ]
  },
  {
   "cell_type": "markdown",
   "metadata": {},
   "source": [
    "```python\n",
    "findAll(tag, attributes, recursive, text, limit, keywords)\n",
    "find(tag, attributes, recursive, text, keywords)\n",
    "```"
   ]
  },
  {
   "cell_type": "markdown",
   "metadata": {},
   "source": [
    "- tag에 세트를 넣어 해당 태그를 필터링 가능함"
   ]
  },
  {
   "cell_type": "code",
   "execution_count": 103,
   "metadata": {},
   "outputs": [
    {
     "data": {
      "text/plain": [
       "[<h1>War and Peace</h1>, <h2>Chapter 1</h2>]"
      ]
     },
     "execution_count": 103,
     "metadata": {},
     "output_type": "execute_result"
    }
   ],
   "source": [
    "bsObj.find_all({'h1', 'h2', 'h3', 'h4', 'h5', 'h6'})"
   ]
  },
  {
   "cell_type": "markdown",
   "metadata": {},
   "source": [
    "- 어트리뷰트를 통해 필터링 가능함"
   ]
  },
  {
   "cell_type": "markdown",
   "metadata": {},
   "source": [
    "```python\n",
    ".find_all(\"span\", {\"class\":\"green\", \"class\":\"red\"})\n",
    "```"
   ]
  },
  {
   "cell_type": "markdown",
   "metadata": {},
   "source": [
    "- recursive는 디폴트가 True, False 시 객체의 children만 탐색"
   ]
  },
  {
   "cell_type": "markdown",
   "metadata": {},
   "source": [
    "- text를 통해 필터링 가능함"
   ]
  },
  {
   "cell_type": "code",
   "execution_count": 105,
   "metadata": {},
   "outputs": [],
   "source": [
    "import requests\n",
    "from bs4 import BeautifulSoup\n",
    "res = requests.get('http://mutnam.com/product/detail.html?product_no=31114&cate_no=1&display_group=3')\n",
    "bsObj = BeautifulSoup(res.content, \"html.parser\")"
   ]
  },
  {
   "cell_type": "markdown",
   "metadata": {},
   "source": [
    "- text세팅과 넥스트 엘리먼트 조합을 통해 타겟 정보의 순서가 바뀌어도 정확히 추출"
   ]
  },
  {
   "cell_type": "code",
   "execution_count": 106,
   "metadata": {},
   "outputs": [],
   "source": [
    "price_prev = bsObj.find(text='판매가')"
   ]
  },
  {
   "cell_type": "code",
   "execution_count": 113,
   "metadata": {},
   "outputs": [
    {
     "data": {
      "text/plain": [
       "'22,800원 '"
      ]
     },
     "execution_count": 113,
     "metadata": {},
     "output_type": "execute_result"
    }
   ],
   "source": [
    "list(price_prev.next_elements)[1].text"
   ]
  },
  {
   "cell_type": "markdown",
   "metadata": {},
   "source": [
    "- limit은 추출 개수, find_all에만 존재"
   ]
  },
  {
   "cell_type": "markdown",
   "metadata": {},
   "source": [
    "- keyword는 모두 어트리뷰트를 통해 가능"
   ]
  },
  {
   "cell_type": "markdown",
   "metadata": {},
   "source": [
    "```python\n",
    "bsObj.findAll(id=\"text\") # 키워드\n",
    "bsObj.findAll(\"\", {\"id\":\"text\"}) # 어트리뷰트\n",
    "``` \n"
   ]
  },
  {
   "cell_type": "markdown",
   "metadata": {},
   "source": [
    "### BeautifulSoup objects"
   ]
  },
  {
   "cell_type": "markdown",
   "metadata": {},
   "source": [
    "- BeautifulSoup object\n",
    "- Tag object\n",
    "- Navigablestring object\n",
    "- Comment object"
   ]
  },
  {
   "cell_type": "code",
   "execution_count": 117,
   "metadata": {},
   "outputs": [
    {
     "name": "stdout",
     "output_type": "stream",
     "text": [
      "type <class 'bs4.element.Comment'>\n",
      "Hey, buddy. Want to buy a used parser?\n"
     ]
    }
   ],
   "source": [
    "markup = \"<b><!--Hey, buddy. Want to buy a used parser?--></b>\"\n",
    "soup = BeautifulSoup(markup, \"html.parser\")\n",
    "comment = soup.b.string\n",
    "print('type', type(comment))\n",
    "print(comment)"
   ]
  },
  {
   "cell_type": "markdown",
   "metadata": {},
   "source": [
    "### Navigating Trees\n"
   ]
  },
  {
   "cell_type": "markdown",
   "metadata": {},
   "source": [
    "- 현재까지 아래와 같이 일방향으로 네비게이팅 트리를 사용했으나:"
   ]
  },
  {
   "cell_type": "markdown",
   "metadata": {},
   "source": [
    "```python\n",
    "bsObj.tag.subTag.anotherSubTag\n",
    "```"
   ]
  },
  {
   "cell_type": "markdown",
   "metadata": {},
   "source": [
    "- 위, 아래, 사선으로 이동가능"
   ]
  },
  {
   "cell_type": "markdown",
   "metadata": {},
   "source": [
    "- 어떤 태그의 바로 아래 있는 태그들 : children"
   ]
  },
  {
   "cell_type": "code",
   "execution_count": 121,
   "metadata": {},
   "outputs": [
    {
     "name": "stdout",
     "output_type": "stream",
     "text": [
      "\n",
      "\n",
      "<tr><th>\n",
      "Item Title\n",
      "</th><th>\n",
      "Description\n",
      "</th><th>\n",
      "Cost\n",
      "</th><th>\n",
      "Image\n",
      "</th></tr>\n",
      "\n",
      "\n",
      "<tr class=\"gift\" id=\"gift1\"><td>\n",
      "Vegetable Basket\n",
      "</td><td>\n",
      "This vegetable basket is the perfect gift for your health conscious (or overweight) friends!\n",
      "<span class=\"excitingNote\">Now with super-colorful bell peppers!</span>\n",
      "</td><td>\n",
      "$15.00\n",
      "</td><td>\n",
      "<img src=\"../img/gifts/img1.jpg\"/>\n",
      "</td></tr>\n",
      "\n",
      "\n",
      "<tr class=\"gift\" id=\"gift2\"><td>\n",
      "Russian Nesting Dolls\n",
      "</td><td>\n",
      "Hand-painted by trained monkeys, these exquisite dolls are priceless! And by \"priceless,\" we mean \"extremely expensive\"! <span class=\"excitingNote\">8 entire dolls per set! Octuple the presents!</span>\n",
      "</td><td>\n",
      "$10,000.52\n",
      "</td><td>\n",
      "<img src=\"../img/gifts/img2.jpg\"/>\n",
      "</td></tr>\n",
      "\n",
      "\n",
      "<tr class=\"gift\" id=\"gift3\"><td>\n",
      "Fish Painting\n",
      "</td><td>\n",
      "If something seems fishy about this painting, it's because it's a fish! <span class=\"excitingNote\">Also hand-painted by trained monkeys!</span>\n",
      "</td><td>\n",
      "$10,005.00\n",
      "</td><td>\n",
      "<img src=\"../img/gifts/img3.jpg\"/>\n",
      "</td></tr>\n",
      "\n",
      "\n",
      "<tr class=\"gift\" id=\"gift4\"><td>\n",
      "Dead Parrot\n",
      "</td><td>\n",
      "This is an ex-parrot! <span class=\"excitingNote\">Or maybe he's only resting?</span>\n",
      "</td><td>\n",
      "$0.50\n",
      "</td><td>\n",
      "<img src=\"../img/gifts/img4.jpg\"/>\n",
      "</td></tr>\n",
      "\n",
      "\n",
      "<tr class=\"gift\" id=\"gift5\"><td>\n",
      "Mystery Box\n",
      "</td><td>\n",
      "If you love suprises, this mystery box is for you! Do not place on light-colored surfaces. May cause oil staining. <span class=\"excitingNote\">Keep your friends guessing!</span>\n",
      "</td><td>\n",
      "$1.50\n",
      "</td><td>\n",
      "<img src=\"../img/gifts/img6.jpg\"/>\n",
      "</td></tr>\n",
      "\n",
      "\n"
     ]
    }
   ],
   "source": [
    "from urllib.request import urlopen\n",
    "from bs4 import BeautifulSoup\n",
    "html = urlopen(\"http://www.pythonscraping.com/pages/page3.html\")\n",
    "bsObj = BeautifulSoup(html, \"html.parser\")\n",
    "for child in bsObj.find(\"table\",{\"id\":\"giftList\"}).children:\n",
    "    print(child)"
   ]
  },
  {
   "cell_type": "markdown",
   "metadata": {},
   "source": [
    "- 해당 태그 한 단계 위의 태그 : parent"
   ]
  },
  {
   "cell_type": "code",
   "execution_count": 123,
   "metadata": {},
   "outputs": [
    {
     "name": "stdout",
     "output_type": "stream",
     "text": [
      "\n",
      "\n",
      "<img src=\"../img/gifts/logo.jpg\" style=\"float:left;\"/>\n",
      "\n",
      "\n",
      "<h1>Totally Normal Gifts</h1>\n",
      "\n",
      "\n",
      "<div id=\"content\">Here is a collection of totally normal, totally reasonable gifts that your friends are sure to love! Our collection is\n",
      "hand-curated by well-paid, free-range Tibetan monks.<p>\n",
      "We haven't figured out how to make online shopping carts yet, but you can send us a check to:<br/>\n",
      "123 Main St.<br/>\n",
      "Abuja, Nigeria\n",
      "We will then send your totally amazing gift, pronto! Please include an extra $5.00 for gift wrapping.</p></div>\n",
      "\n",
      "\n",
      "<table id=\"giftList\">\n",
      "<tr><th>\n",
      "Item Title\n",
      "</th><th>\n",
      "Description\n",
      "</th><th>\n",
      "Cost\n",
      "</th><th>\n",
      "Image\n",
      "</th></tr>\n",
      "<tr class=\"gift\" id=\"gift1\"><td>\n",
      "Vegetable Basket\n",
      "</td><td>\n",
      "This vegetable basket is the perfect gift for your health conscious (or overweight) friends!\n",
      "<span class=\"excitingNote\">Now with super-colorful bell peppers!</span>\n",
      "</td><td>\n",
      "$15.00\n",
      "</td><td>\n",
      "<img src=\"../img/gifts/img1.jpg\"/>\n",
      "</td></tr>\n",
      "<tr class=\"gift\" id=\"gift2\"><td>\n",
      "Russian Nesting Dolls\n",
      "</td><td>\n",
      "Hand-painted by trained monkeys, these exquisite dolls are priceless! And by \"priceless,\" we mean \"extremely expensive\"! <span class=\"excitingNote\">8 entire dolls per set! Octuple the presents!</span>\n",
      "</td><td>\n",
      "$10,000.52\n",
      "</td><td>\n",
      "<img src=\"../img/gifts/img2.jpg\"/>\n",
      "</td></tr>\n",
      "<tr class=\"gift\" id=\"gift3\"><td>\n",
      "Fish Painting\n",
      "</td><td>\n",
      "If something seems fishy about this painting, it's because it's a fish! <span class=\"excitingNote\">Also hand-painted by trained monkeys!</span>\n",
      "</td><td>\n",
      "$10,005.00\n",
      "</td><td>\n",
      "<img src=\"../img/gifts/img3.jpg\"/>\n",
      "</td></tr>\n",
      "<tr class=\"gift\" id=\"gift4\"><td>\n",
      "Dead Parrot\n",
      "</td><td>\n",
      "This is an ex-parrot! <span class=\"excitingNote\">Or maybe he's only resting?</span>\n",
      "</td><td>\n",
      "$0.50\n",
      "</td><td>\n",
      "<img src=\"../img/gifts/img4.jpg\"/>\n",
      "</td></tr>\n",
      "<tr class=\"gift\" id=\"gift5\"><td>\n",
      "Mystery Box\n",
      "</td><td>\n",
      "If you love suprises, this mystery box is for you! Do not place on light-colored surfaces. May cause oil staining. <span class=\"excitingNote\">Keep your friends guessing!</span>\n",
      "</td><td>\n",
      "$1.50\n",
      "</td><td>\n",
      "<img src=\"../img/gifts/img6.jpg\"/>\n",
      "</td></tr>\n",
      "</table>\n",
      "\n",
      "\n"
     ]
    }
   ],
   "source": [
    "for parent in bsObj.find(\"table\",{\"id\":\"giftList\"}).parent:\n",
    "    print(parent)"
   ]
  },
  {
   "cell_type": "code",
   "execution_count": null,
   "metadata": {},
   "outputs": [],
   "source": []
  }
 ],
 "metadata": {
  "kernelspec": {
   "display_name": "Python 3",
   "language": "python",
   "name": "python3"
  },
  "language_info": {
   "codemirror_mode": {
    "name": "ipython",
    "version": 3
   },
   "file_extension": ".py",
   "mimetype": "text/x-python",
   "name": "python",
   "nbconvert_exporter": "python",
   "pygments_lexer": "ipython3",
   "version": "3.6.4"
  }
 },
 "nbformat": 4,
 "nbformat_minor": 2
}
