{
 "cells": [
  {
   "cell_type": "markdown",
   "metadata": {},
   "source": [
    "# C8 : Recommendation"
   ]
  },
  {
   "cell_type": "code",
   "execution_count": 2,
   "metadata": {
    "collapsed": true
   },
   "outputs": [],
   "source": [
    "def load():\n",
    "    import numpy as np\n",
    "    from scipy import sparse\n",
    "    \n",
    "    data = np.loadtxt('ml-100k/ml-100k/u.data')\n",
    "    ij = data[:, :2]\n",
    "    ij -1 \n",
    "    values = data[:, 2]\n",
    "    reviews = sparse.csc_matrix((values, ij.T)).astype(float)\n",
    "    return reviews.toarray()"
   ]
  },
  {
   "cell_type": "code",
   "execution_count": 3,
   "metadata": {
    "collapsed": true
   },
   "outputs": [],
   "source": [
    "reviews = load()"
   ]
  },
  {
   "cell_type": "code",
   "execution_count": 4,
   "metadata": {},
   "outputs": [
    {
     "data": {
      "text/plain": [
       "(array([  1,   1,   1, ..., 943, 943, 943]),\n",
       " array([   1,    2,    3, ..., 1188, 1228, 1330]))"
      ]
     },
     "execution_count": 4,
     "metadata": {},
     "output_type": "execute_result"
    }
   ],
   "source": [
    "np.where(reviews)"
   ]
  },
  {
   "cell_type": "code",
   "execution_count": 5,
   "metadata": {
    "collapsed": true
   },
   "outputs": [],
   "source": [
    "U, M = np.where(reviews)"
   ]
  },
  {
   "cell_type": "code",
   "execution_count": 6,
   "metadata": {},
   "outputs": [
    {
     "name": "stdout",
     "output_type": "stream",
     "text": [
      "(100000,)\n",
      "(100000,)\n"
     ]
    }
   ],
   "source": [
    "print(U.shape)\n",
    "print(M.shape)"
   ]
  },
  {
   "cell_type": "code",
   "execution_count": 7,
   "metadata": {},
   "outputs": [
    {
     "name": "stdout",
     "output_type": "stream",
     "text": [
      "943\n",
      "1\n"
     ]
    }
   ],
   "source": [
    "print(U.max())\n",
    "print(U.min())"
   ]
  },
  {
   "cell_type": "code",
   "execution_count": 8,
   "metadata": {},
   "outputs": [
    {
     "data": {
      "text/plain": [
       "array([  1,   1,   1, ..., 943, 943, 943])"
      ]
     },
     "execution_count": 8,
     "metadata": {},
     "output_type": "execute_result"
    }
   ],
   "source": [
    "U"
   ]
  },
  {
   "cell_type": "code",
   "execution_count": 9,
   "metadata": {},
   "outputs": [
    {
     "data": {
      "text/plain": [
       "array([   1,    2,    3, ..., 1188, 1228, 1330])"
      ]
     },
     "execution_count": 9,
     "metadata": {},
     "output_type": "execute_result"
    }
   ],
   "source": [
    "M"
   ]
  },
  {
   "cell_type": "code",
   "execution_count": 10,
   "metadata": {},
   "outputs": [
    {
     "data": {
      "text/plain": [
       "(944, 1683)"
      ]
     },
     "execution_count": 10,
     "metadata": {},
     "output_type": "execute_result"
    }
   ],
   "source": [
    "reviews.shape"
   ]
  },
  {
   "cell_type": "code",
   "execution_count": 11,
   "metadata": {
    "collapsed": true
   },
   "outputs": [],
   "source": [
    "import random"
   ]
  },
  {
   "cell_type": "code",
   "execution_count": 12,
   "metadata": {
    "collapsed": true
   },
   "outputs": [],
   "source": [
    "test_idxs = np.array(random.sample(range(len(U)), len(U)//10))"
   ]
  },
  {
   "cell_type": "code",
   "execution_count": 13,
   "metadata": {
    "collapsed": true
   },
   "outputs": [],
   "source": [
    "train = reviews.copy()\n",
    "train[U[test_idxs], M[test_idxs]] = 0"
   ]
  },
  {
   "cell_type": "code",
   "execution_count": 14,
   "metadata": {
    "collapsed": true
   },
   "outputs": [],
   "source": [
    "test = np.zeros_like(reviews)\n",
    "test[U[test_idxs], M[test_idxs]] = reviews[U[test_idxs], M[test_idxs]]"
   ]
  },
  {
   "cell_type": "code",
   "execution_count": 15,
   "metadata": {},
   "outputs": [
    {
     "data": {
      "text/plain": [
       "(944, 1683)"
      ]
     },
     "execution_count": 15,
     "metadata": {},
     "output_type": "execute_result"
    }
   ],
   "source": [
    "test.shape"
   ]
  },
  {
   "cell_type": "code",
   "execution_count": 16,
   "metadata": {
    "collapsed": true
   },
   "outputs": [],
   "source": [
    "class NormalizePositive(object):\n",
    "    def __init__(self, axis=0):\n",
    "        self.axis = axis\n",
    "    \n",
    "    def fit(self, features, y=None):\n",
    "        if self.axis == 1:\n",
    "            features = features.T\n",
    "        \n",
    "        binary = (features > 0)\n",
    "        count0 = binary.sum(axis=0)\n",
    "    \n",
    "        count0[count0 == 0] = 1.\n",
    "        \n",
    "        self.mean = features.sum(axis=0) / count0\n",
    "        \n",
    "        diff = (features - self.mean) * binary\n",
    "        diff **= 2\n",
    "        \n",
    "        self.std = np.sqrt(0.1 + diff.sum(axis=0) / count0)\n",
    "        return self\n",
    "    \n",
    "    def transform(self, features):\n",
    "        if self.axis == 1:\n",
    "            features = features.T\n",
    "        binary = (features > 0)\n",
    "        features = features - self.mean\n",
    "        features /= self.std\n",
    "        features *= binary\n",
    "        if self.axis == 1:\n",
    "            features = features.T\n",
    "        return features\n",
    "    \n",
    "    def inverse_transform(self, features, copy=True):\n",
    "        if copy:\n",
    "            features = features.copy()\n",
    "        if self.axis == 1:\n",
    "            features = features.T\n",
    "        features *= self.std\n",
    "        features += self.mean\n",
    "        if self.axis == 1:\n",
    "            features = features.T\n",
    "        return features\n",
    "    \n",
    "    def fit_transform(self, features):\n",
    "        return self.fit(features).transform(features)"
   ]
  },
  {
   "cell_type": "code",
   "execution_count": 17,
   "metadata": {
    "collapsed": true
   },
   "outputs": [],
   "source": [
    "a = np.array([[1, 2, 3, 4, 5, 6, 7, 8, 9, 10]])"
   ]
  },
  {
   "cell_type": "code",
   "execution_count": 18,
   "metadata": {},
   "outputs": [
    {
     "data": {
      "text/plain": [
       "array([[ 1,  2,  3,  4,  5,  6,  7,  8,  9, 10]])"
      ]
     },
     "execution_count": 18,
     "metadata": {},
     "output_type": "execute_result"
    }
   ],
   "source": [
    "a"
   ]
  },
  {
   "cell_type": "code",
   "execution_count": 19,
   "metadata": {},
   "outputs": [
    {
     "data": {
      "text/plain": [
       "(1, 10)"
      ]
     },
     "execution_count": 19,
     "metadata": {},
     "output_type": "execute_result"
    }
   ],
   "source": [
    "a.shape"
   ]
  },
  {
   "cell_type": "code",
   "execution_count": 20,
   "metadata": {},
   "outputs": [
    {
     "data": {
      "text/plain": [
       "array([7])"
      ]
     },
     "execution_count": 20,
     "metadata": {},
     "output_type": "execute_result"
    }
   ],
   "source": [
    "(a.T > 3).sum(axis=0)"
   ]
  },
  {
   "cell_type": "markdown",
   "metadata": {},
   "source": [
    "### A neighborhood approach to recommendations"
   ]
  },
  {
   "cell_type": "markdown",
   "metadata": {},
   "source": [
    "> black represents the absence of a rating"
   ]
  },
  {
   "cell_type": "code",
   "execution_count": 21,
   "metadata": {},
   "outputs": [
    {
     "data": {
      "text/plain": [
       "<matplotlib.image.AxesImage at 0x7f8abae79390>"
      ]
     },
     "execution_count": 21,
     "metadata": {},
     "output_type": "execute_result"
    },
    {
     "data": {
      "image/png": "[encoded data removed]",
      "text/plain": [
       "<matplotlib.figure.Figure at 0x7f8ac0493748>"
      ]
     },
     "metadata": {},
     "output_type": "display_data"
    }
   ],
   "source": [
    "from matplotlib import pyplot as plt\n",
    "norm = NormalizePositive(axis=1)\n",
    "binary = (train > 0)\n",
    "train = norm.fit_transform(train)\n",
    "plt.imshow(binary[:200, :200], interpolation='nearest')"
   ]
  },
  {
   "cell_type": "markdown",
   "metadata": {},
   "source": [
    "# P 203"
   ]
  },
  {
   "cell_type": "code",
   "execution_count": 24,
   "metadata": {
    "collapsed": true
   },
   "outputs": [],
   "source": [
    "from scipy.spatial import distance\n",
    "\n",
    "dists = distance.pdist(binary, 'correlation')\n",
    "\n",
    "dists = distance.squareform(dists)"
   ]
  },
  {
   "cell_type": "code",
   "execution_count": 23,
   "metadata": {},
   "outputs": [
    {
     "ename": "KeyboardInterrupt",
     "evalue": "",
     "output_type": "error",
     "traceback": [
      "\u001b[0;31m---------------------------------------------------------------------------\u001b[0m",
      "\u001b[0;31mKeyboardInterrupt\u001b[0m                         Traceback (most recent call last)",
      "\u001b[0;32m<ipython-input-23-8eeb09d6a55f>\u001b[0m in \u001b[0;36m<module>\u001b[0;34m()\u001b[0m\n\u001b[1;32m      7\u001b[0m     \u001b[0;32mfor\u001b[0m \u001b[0mm\u001b[0m \u001b[0;32min\u001b[0m \u001b[0mrange\u001b[0m\u001b[0;34m(\u001b[0m\u001b[0mfilled\u001b[0m\u001b[0;34m.\u001b[0m\u001b[0mshape\u001b[0m\u001b[0;34m[\u001b[0m\u001b[0;36m1\u001b[0m\u001b[0;34m]\u001b[0m\u001b[0;34m)\u001b[0m\u001b[0;34m:\u001b[0m\u001b[0;34m\u001b[0m\u001b[0m\n\u001b[1;32m      8\u001b[0m         revs = [train[neigh, m]\n\u001b[0;32m----> 9\u001b[0;31m                    \u001b[0;32mfor\u001b[0m \u001b[0mneigh\u001b[0m \u001b[0;32min\u001b[0m \u001b[0mn_u\u001b[0m\u001b[0;34m\u001b[0m\u001b[0m\n\u001b[0m\u001b[1;32m     10\u001b[0m                        if binary [neigh, m]]\n\u001b[1;32m     11\u001b[0m         \u001b[0;32mif\u001b[0m \u001b[0mlen\u001b[0m\u001b[0;34m(\u001b[0m\u001b[0mrevs\u001b[0m\u001b[0;34m)\u001b[0m\u001b[0;34m:\u001b[0m\u001b[0;34m\u001b[0m\u001b[0m\n",
      "\u001b[0;32m<ipython-input-23-8eeb09d6a55f>\u001b[0m in \u001b[0;36m<listcomp>\u001b[0;34m(.0)\u001b[0m\n\u001b[1;32m      8\u001b[0m         revs = [train[neigh, m]\n\u001b[1;32m      9\u001b[0m                    \u001b[0;32mfor\u001b[0m \u001b[0mneigh\u001b[0m \u001b[0;32min\u001b[0m \u001b[0mn_u\u001b[0m\u001b[0;34m\u001b[0m\u001b[0m\n\u001b[0;32m---> 10\u001b[0;31m                        if binary [neigh, m]]\n\u001b[0m\u001b[1;32m     11\u001b[0m         \u001b[0;32mif\u001b[0m \u001b[0mlen\u001b[0m\u001b[0;34m(\u001b[0m\u001b[0mrevs\u001b[0m\u001b[0;34m)\u001b[0m\u001b[0;34m:\u001b[0m\u001b[0;34m\u001b[0m\u001b[0m\n\u001b[1;32m     12\u001b[0m             \u001b[0mn\u001b[0m \u001b[0;34m=\u001b[0m \u001b[0mlen\u001b[0m\u001b[0;34m(\u001b[0m\u001b[0mrevs\u001b[0m\u001b[0;34m)\u001b[0m\u001b[0;34m\u001b[0m\u001b[0m\n",
      "\u001b[0;31mKeyboardInterrupt\u001b[0m: "
     ]
    }
   ],
   "source": [
    "neighbors = dists.argsort(axis=1)\n",
    "\n",
    "filled = train.copy()\n",
    "for u in range(filled.shape[0]):\n",
    "    n_u = neighbors[u, 1:]\n",
    "    \n",
    "    for m in range(filled.shape[1]):\n",
    "        revs = [train[neigh, m]\n",
    "                   for neigh in n_u\n",
    "                       if binary [neigh, m]]\n",
    "        if len(revs):\n",
    "            n = len(revs)\n",
    "            n //= 2\n",
    "            n += 1\n",
    "            revs = revs[:n]\n",
    "            filled[u, m] = np.mean(revs)"
   ]
  },
  {
   "cell_type": "code",
   "execution_count": null,
   "metadata": {
    "collapsed": true
   },
   "outputs": [],
   "source": [
    "predicted = norm.inverse_transform(filled)"
   ]
  },
  {
   "cell_type": "code",
   "execution_count": null,
   "metadata": {},
   "outputs": [],
   "source": [
    "filled.shape"
   ]
  },
  {
   "cell_type": "code",
   "execution_count": null,
   "metadata": {},
   "outputs": [],
   "source": [
    "predicted.shape"
   ]
  },
  {
   "cell_type": "code",
   "execution_count": null,
   "metadata": {},
   "outputs": [],
   "source": [
    "from sklearn import metrics\n",
    "r2 = metrics.r2_score(test[test > 0], predicted[test > 0])\n",
    "print(r2)"
   ]
  },
  {
   "cell_type": "markdown",
   "metadata": {
    "collapsed": true
   },
   "source": [
    "## A regression approach to recommendations"
   ]
  },
  {
   "cell_type": "markdown",
   "metadata": {},
   "source": [
    "- An alternative to neighborhoods is to formulate recommendations as a regression priblem and apply the methods that we learned in the previous chapter."
   ]
  },
  {
   "cell_type": "markdown",
   "metadata": {},
   "source": [
    "- We also consider wht this problem is not a good fit for a classification formulation. We could certainly attempt to learn a five-class model, using one class for each possible movie rating. There are two problems with this approach."
   ]
  },
  {
   "cell_type": "markdown",
   "metadata": {},
   "source": [
    "- The different possible errors are not at all the same. For example, mistaking a 5-star movie for a 4-star one is not as serious a mistake as mistaking a 5-star movie for a 1-star one."
   ]
  },
  {
   "cell_type": "markdown",
   "metadata": {},
   "source": [
    "- Intermeidate values make sense. Even if out inputs are only integer values, it is perfectly meaningful to say that the prediction is 4.3. We can see that this is a different prediction that 3.5, even if they both round to 4."
   ]
  },
  {
   "cell_type": "code",
   "execution_count": 37,
   "metadata": {
    "collapsed": true
   },
   "outputs": [],
   "source": [
    "from sklearn.linear_model import ElasticNetCV\n",
    "\n",
    "regression = ElasticNetCV()"
   ]
  },
  {
   "cell_type": "code",
   "execution_count": 26,
   "metadata": {
    "collapsed": true
   },
   "outputs": [],
   "source": [
    "filled = train.copy()"
   ]
  },
  {
   "cell_type": "code",
   "execution_count": 30,
   "metadata": {},
   "outputs": [],
   "source": [
    "def predict(train):\n",
    "    binary = (train > 0)\n",
    "    reg = ElasticNetCV(fit_intercept=True, alphas=[\n",
    "                       0.0125, 0.025, 0.05, .125, .25, .5, 1., 2., 4.])\n",
    "    norm = NormalizePositive()\n",
    "    train = norm.fit_transform(train)\n",
    "\n",
    "    filled = train.copy()\n",
    "    # iterate over all users\n",
    "    for u in range(train.shape[0]):\n",
    "        # remove the current user for training\n",
    "        curtrain = np.delete(train, u, axis=0)\n",
    "        bu = binary[u]\n",
    "        if np.sum(bu) > 5:\n",
    "            reg.fit(curtrain[:,bu].T, train[u, bu])\n",
    "\n",
    "            # Fill the values that were not there already\n",
    "            filled[u, ~bu] = reg.predict(curtrain[:,~bu].T)\n",
    "    return norm.inverse_transform(filled)"
   ]
  },
  {
   "cell_type": "code",
   "execution_count": 31,
   "metadata": {},
   "outputs": [
    {
     "data": {
      "text/plain": [
       "array([[ 0.        ,  0.40796283, -0.65306252, ..., -0.75848972,\n",
       "         0.01294775, -0.37882156],\n",
       "       [ 0.2036989 ,  1.0557044 ,  0.14518375, ..., -0.55479082,\n",
       "         0.21664664, -0.17512266],\n",
       "       [ 0.14105438,  0.29825809, -0.09544526, ..., -0.61743534,\n",
       "         0.15400213, -0.23776718],\n",
       "       ..., \n",
       "       [ 0.2804392 ,  1.05409255,  0.45557187, ..., -0.47805053,\n",
       "         0.29338694, -0.09838237],\n",
       "       [ 0.21946922,  0.83429584,  0.21454491, ..., -0.5390205 ,\n",
       "         0.23241697, -0.15935234],\n",
       "       [ 0.3156599 ,  0.83279234,  1.22356771, ..., -0.44282982,\n",
       "         0.32860765, -0.06316166]])"
      ]
     },
     "execution_count": 31,
     "metadata": {},
     "output_type": "execute_result"
    }
   ],
   "source": [
    "predict(train)"
   ]
  },
  {
   "cell_type": "markdown",
   "metadata": {},
   "source": [
    "## Combining multiple methods"
   ]
  },
  {
   "cell_type": "markdown",
   "metadata": {},
   "source": [
    "- ensemble\n",
    "- stacked learning"
   ]
  },
  {
   "cell_type": "code",
   "execution_count": 32,
   "metadata": {
    "collapsed": true
   },
   "outputs": [],
   "source": [
    "def get_train_test(reviews=None, random_state=None):\n",
    "    '''Split data into training & testing\n",
    "\n",
    "    Parameters\n",
    "    ----------\n",
    "    reviews : ndarray, optional\n",
    "        Input data\n",
    "\n",
    "    Returns\n",
    "    -------\n",
    "    train : ndarray\n",
    "        training data\n",
    "    test : ndarray\n",
    "        testing data\n",
    "    '''\n",
    "    import numpy as np\n",
    "    import random\n",
    "    r = random.Random(random_state)\n",
    "\n",
    "    if reviews is None:\n",
    "        reviews = load()\n",
    "    U,M = np.where(reviews)\n",
    "    test_idxs = np.array(r.sample(range(len(U)), len(U)//10))\n",
    "    train = reviews.copy()\n",
    "    train[U[test_idxs], M[test_idxs]] = 0\n",
    "\n",
    "    test = np.zeros_like(reviews)\n",
    "    test[U[test_idxs], M[test_idxs]] = reviews[U[test_idxs], M[test_idxs]]\n",
    "\n",
    "    return train, test"
   ]
  },
  {
   "cell_type": "code",
   "execution_count": 34,
   "metadata": {},
   "outputs": [],
   "source": [
    "train, test = get_train_test(random_state=12)"
   ]
  },
  {
   "cell_type": "code",
   "execution_count": 35,
   "metadata": {
    "collapsed": true
   },
   "outputs": [],
   "source": [
    "tr_train, tr_test = get_train_test(random_state=34)"
   ]
  },
  {
   "cell_type": "code",
   "execution_count": 39,
   "metadata": {},
   "outputs": [],
   "source": [
    "def predict(train):\n",
    "    tr_train,tr_test = load_ml100k.get_train_test(train, random_state=34)\n",
    "    tr_predicted0 = regression.predict(tr_train)\n",
    "    tr_predicted1 = regression.predict(tr_train.T).T\n",
    "    tr_predicted2 = corrneighbours.predict(tr_train)\n",
    "    tr_predicted3 = corrneighbours.predict(tr_train.T).T\n",
    "    tr_predicted4 = norm.predict(tr_train)\n",
    "    tr_predicted5 = norm.predict(tr_train.T).T\n",
    "    stack_tr = np.array([\n",
    "        tr_predicted0[tr_test > 0],\n",
    "        tr_predicted1[tr_test > 0],\n",
    "        tr_predicted2[tr_test > 0],\n",
    "        tr_predicted3[tr_test > 0],\n",
    "        tr_predicted4[tr_test > 0],\n",
    "        tr_predicted5[tr_test > 0],\n",
    "        ]).T\n",
    "\n",
    "    lr = linear_model.LinearRegression()\n",
    "    lr.fit(stack_tr, tr_test[tr_test > 0])\n",
    "\n",
    "    stack_te = np.array([\n",
    "        tr_predicted0.ravel(),\n",
    "        tr_predicted1.ravel(),\n",
    "        tr_predicted2.ravel(),\n",
    "        tr_predicted3.ravel(),\n",
    "        tr_predicted4.ravel(),\n",
    "        tr_predicted5.ravel(),\n",
    "        ]).T\n",
    "\n",
    "    return lr.predict(stack_te).reshape(train.shape)"
   ]
  },
  {
   "cell_type": "markdown",
   "metadata": {},
   "source": [
    "## Basket analysis"
   ]
  },
  {
   "cell_type": "markdown",
   "metadata": {},
   "source": [
    "### Obtaining usefull predictions"
   ]
  },
  {
   "cell_type": "markdown",
   "metadata": {},
   "source": [
    "- more like about \"customers who bought X, are statistically more likely to buy Y than the average suctomer who has not bought X\""
   ]
  },
  {
   "cell_type": "markdown",
   "metadata": {},
   "source": [
    "### Analyzing supermarket shopping baskets"
   ]
  },
  {
   "cell_type": "code",
   "execution_count": 40,
   "metadata": {
    "collapsed": true
   },
   "outputs": [],
   "source": [
    "from collections import defaultdict\n",
    "from itertools import chain"
   ]
  },
  {
   "cell_type": "code",
   "execution_count": 41,
   "metadata": {
    "collapsed": true
   },
   "outputs": [],
   "source": [
    "dataset = [[int(tok) for tok in line.strip().split()] for \\\n",
    "           line in open('retail.dat/retail.dat')]"
   ]
  },
  {
   "cell_type": "code",
   "execution_count": 42,
   "metadata": {
    "collapsed": true
   },
   "outputs": [],
   "source": [
    "dataset = [set(d) for d in dataset]"
   ]
  },
  {
   "cell_type": "code",
   "execution_count": 43,
   "metadata": {
    "collapsed": true
   },
   "outputs": [],
   "source": [
    "counts = defaultdict(int)\n",
    "for elem in chain(*dataset):\n",
    "    counts[elem] += 1"
   ]
  },
  {
   "cell_type": "code",
   "execution_count": 56,
   "metadata": {},
   "outputs": [
    {
     "data": {
      "text/plain": [
       "16470"
      ]
     },
     "execution_count": 56,
     "metadata": {},
     "output_type": "execute_result"
    }
   ],
   "source": [
    "len(counts.keys())"
   ]
  },
  {
   "cell_type": "markdown",
   "metadata": {},
   "source": [
    "- There are many products that have only been bought a few times. For example, 33 percent of products were bought four or fewer times. However, this represents only 1 percent of purchases. This phenomenon that many products are only purchased a small number of times is sometimes labeled the long tail and has only become more prominent as the Internet made it cheaper to stock and sell niche  items. In order to be able to provide recommendations for these products, we would need a lot more data."
   ]
  },
  {
   "cell_type": "markdown",
   "metadata": {},
   "source": [
    "- Formally, the Apriori algorithm takes a collection of sets and returns sets that are very frequent as subsets"
   ]
  },
  {
   "cell_type": "code",
   "execution_count": 57,
   "metadata": {
    "collapsed": true
   },
   "outputs": [],
   "source": [
    "minsupport = 80"
   ]
  },
  {
   "cell_type": "markdown",
   "metadata": {},
   "source": [
    "<img src=\"https://i-msdn.sec.s-msft.com/dynimg/IC702635.png\">"
   ]
  },
  {
   "cell_type": "code",
   "execution_count": 58,
   "metadata": {
    "collapsed": true
   },
   "outputs": [],
   "source": [
    "valid = set(k for k, v in counts.items() if (v >= minsupport))"
   ]
  },
  {
   "cell_type": "code",
   "execution_count": 60,
   "metadata": {},
   "outputs": [],
   "source": [
    "itemsets = [frozenset([v]) for v in valid]"
   ]
  },
  {
   "cell_type": "markdown",
   "metadata": {},
   "source": [
    "- The frozenset type is immutable and hashable -- its contents cannot be altered after is created; however, it can be used as a dictionary key or as an element of another set.\n",
    "- https://docs.python.org/2.4/lib/types-set.html"
   ]
  },
  {
   "cell_type": "code",
   "execution_count": 63,
   "metadata": {},
   "outputs": [
    {
     "ename": "KeyboardInterrupt",
     "evalue": "",
     "output_type": "error",
     "traceback": [
      "\u001b[0;31m---------------------------------------------------------------------------\u001b[0m",
      "\u001b[0;31mKeyboardInterrupt\u001b[0m                         Traceback (most recent call last)",
      "\u001b[0;32m<ipython-input-63-ef0864c437ab>\u001b[0m in \u001b[0;36m<module>\u001b[0;34m()\u001b[0m\n\u001b[1;32m     17\u001b[0m                 \u001b[0;31m# This step is slow.\u001b[0m\u001b[0;34m\u001b[0m\u001b[0;34m\u001b[0m\u001b[0m\n\u001b[1;32m     18\u001b[0m                 \u001b[0;31m# Check 'apriori.py' for a better implementation.\u001b[0m\u001b[0;34m\u001b[0m\u001b[0;34m\u001b[0m\u001b[0m\n\u001b[0;32m---> 19\u001b[0;31m                 \u001b[0msupport_c\u001b[0m \u001b[0;34m=\u001b[0m \u001b[0msum\u001b[0m\u001b[0;34m(\u001b[0m\u001b[0;36m1\u001b[0m \u001b[0;32mfor\u001b[0m \u001b[0md\u001b[0m \u001b[0;32min\u001b[0m \u001b[0mdataset\u001b[0m \u001b[0;32mif\u001b[0m \u001b[0md\u001b[0m\u001b[0;34m.\u001b[0m\u001b[0missuperset\u001b[0m\u001b[0;34m(\u001b[0m\u001b[0mc\u001b[0m\u001b[0;34m)\u001b[0m\u001b[0;34m)\u001b[0m\u001b[0;34m\u001b[0m\u001b[0m\n\u001b[0m\u001b[1;32m     20\u001b[0m                 \u001b[0;32mif\u001b[0m \u001b[0msupport_c\u001b[0m \u001b[0;34m>\u001b[0m \u001b[0mminsupport\u001b[0m\u001b[0;34m:\u001b[0m\u001b[0;34m\u001b[0m\u001b[0m\n\u001b[1;32m     21\u001b[0m                     \u001b[0mnextsets\u001b[0m\u001b[0;34m.\u001b[0m\u001b[0mappend\u001b[0m\u001b[0;34m(\u001b[0m\u001b[0mc\u001b[0m\u001b[0;34m)\u001b[0m\u001b[0;34m\u001b[0m\u001b[0m\n",
      "\u001b[0;32m<ipython-input-63-ef0864c437ab>\u001b[0m in \u001b[0;36m<genexpr>\u001b[0;34m(.0)\u001b[0m\n\u001b[1;32m     17\u001b[0m                 \u001b[0;31m# This step is slow.\u001b[0m\u001b[0;34m\u001b[0m\u001b[0;34m\u001b[0m\u001b[0m\n\u001b[1;32m     18\u001b[0m                 \u001b[0;31m# Check 'apriori.py' for a better implementation.\u001b[0m\u001b[0;34m\u001b[0m\u001b[0;34m\u001b[0m\u001b[0m\n\u001b[0;32m---> 19\u001b[0;31m                 \u001b[0msupport_c\u001b[0m \u001b[0;34m=\u001b[0m \u001b[0msum\u001b[0m\u001b[0;34m(\u001b[0m\u001b[0;36m1\u001b[0m \u001b[0;32mfor\u001b[0m \u001b[0md\u001b[0m \u001b[0;32min\u001b[0m \u001b[0mdataset\u001b[0m \u001b[0;32mif\u001b[0m \u001b[0md\u001b[0m\u001b[0;34m.\u001b[0m\u001b[0missuperset\u001b[0m\u001b[0;34m(\u001b[0m\u001b[0mc\u001b[0m\u001b[0;34m)\u001b[0m\u001b[0;34m)\u001b[0m\u001b[0;34m\u001b[0m\u001b[0m\n\u001b[0m\u001b[1;32m     20\u001b[0m                 \u001b[0;32mif\u001b[0m \u001b[0msupport_c\u001b[0m \u001b[0;34m>\u001b[0m \u001b[0mminsupport\u001b[0m\u001b[0;34m:\u001b[0m\u001b[0;34m\u001b[0m\u001b[0m\n\u001b[1;32m     21\u001b[0m                     \u001b[0mnextsets\u001b[0m\u001b[0;34m.\u001b[0m\u001b[0mappend\u001b[0m\u001b[0;34m(\u001b[0m\u001b[0mc\u001b[0m\u001b[0;34m)\u001b[0m\u001b[0;34m\u001b[0m\u001b[0m\n",
      "\u001b[0;31mKeyboardInterrupt\u001b[0m: "
     ]
    }
   ],
   "source": [
    "freqsets = []\n",
    "for i in range(16):\n",
    "    nextsets = []\n",
    "    tested = set()\n",
    "    for it in itemsets:\n",
    "        for v in valid:\n",
    "            if v not in it:\n",
    "                # Create a new candidate set by adding v to it\n",
    "                c = (it | frozenset([v]))\n",
    "                \n",
    "                # check If we have tested it already\n",
    "                if c in tested:\n",
    "                    continue\n",
    "                tested.add(c)\n",
    "                \n",
    "                # Count support by looping over dataset\n",
    "                # This step is slow.\n",
    "                # Check 'apriori.py' for a better implementation.\n",
    "                support_c = sum(1 for d in dataset if d.issuperset(c))\n",
    "                if support_c > minsupport:\n",
    "                    nextsets.append(c)\n",
    "\n",
    "freqsets.extend(nextsets)\n",
    "itemsets = nextsets"
   ]
  },
  {
   "cell_type": "code",
   "execution_count": null,
   "metadata": {
    "collapsed": true
   },
   "outputs": [],
   "source": []
  }
 ],
 "metadata": {
  "kernelspec": {
   "display_name": "Python 3",
   "language": "python",
   "name": "python3"
  },
  "language_info": {
   "codemirror_mode": {
    "name": "ipython",
    "version": 3
   },
   "file_extension": ".py",
   "mimetype": "text/x-python",
   "name": "python",
   "nbconvert_exporter": "python",
   "pygments_lexer": "ipython3",
   "version": "3.6.2"
  }
 },
 "nbformat": 4,
 "nbformat_minor": 2
}
