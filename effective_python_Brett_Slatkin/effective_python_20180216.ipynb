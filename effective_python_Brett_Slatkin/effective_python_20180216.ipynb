{
 "cells": [
  {
   "cell_type": "markdown",
   "metadata": {},
   "source": [
    "# I47: Use decimal When Precision Is Paramount"
   ]
  },
  {
   "cell_type": "markdown",
   "metadata": {},
   "source": [
    "- Python is an excellent language for writing code that interacts with numerical data. Python's integer type can represent values of any practical size. Its double-precision floating point type compiles with the IEEE 754 standard. The language also provides a standard complex number type for imaginary values However, these aren't enough for every situation."
   ]
  },
  {
   "cell_type": "markdown",
   "metadata": {},
   "source": [
    "- For example, say you want to compute the amount to charge a customer for an international phone call. You know the time in minutes and seconds that the customer was on the phone. You also have a set rate for the cost of calling Antarctica from the United States. What should the charge be?"
   ]
  },
  {
   "cell_type": "markdown",
   "metadata": {},
   "source": [
    "- With floating point math, the computed charge seems reasonable."
   ]
  },
  {
   "cell_type": "code",
   "execution_count": 1,
   "metadata": {},
   "outputs": [
    {
     "name": "stdout",
     "output_type": "stream",
     "text": [
      "5.364999999999999\n"
     ]
    }
   ],
   "source": [
    "rate = 1.45\n",
    "seconds = 3*60 + 42\n",
    "cost = rate * seconds / 60\n",
    "print(cost)"
   ]
  },
  {
   "cell_type": "markdown",
   "metadata": {},
   "source": [
    "- But rounding it to the nearset while cent rounds down when you want it to round up to properly cover all costs incurred by the customer."
   ]
  },
  {
   "cell_type": "code",
   "execution_count": 3,
   "metadata": {},
   "outputs": [
    {
     "name": "stdout",
     "output_type": "stream",
     "text": [
      "5.36\n"
     ]
    }
   ],
   "source": [
    "print(round(cost, 2))"
   ]
  },
  {
   "cell_type": "markdown",
   "metadata": {},
   "source": [
    "- Say you also want to support very short phone calls between places that are much cheaper to connect. Here, I compute the charge for a phone call that was 5 seconds long with a rate of $0.05/minute:"
   ]
  },
  {
   "cell_type": "code",
   "execution_count": 4,
   "metadata": {},
   "outputs": [
    {
     "name": "stdout",
     "output_type": "stream",
     "text": [
      "0.004166666666666667\n"
     ]
    }
   ],
   "source": [
    "rate = 0.05\n",
    "seconds = 5\n",
    "cost = rate * seconds / 60\n",
    "print(cost)"
   ]
  },
  {
   "cell_type": "markdown",
   "metadata": {},
   "source": [
    "- The resulting float is so low that it rounds down to zero. This won't do!"
   ]
  },
  {
   "cell_type": "code",
   "execution_count": 5,
   "metadata": {},
   "outputs": [
    {
     "name": "stdout",
     "output_type": "stream",
     "text": [
      "0.0\n"
     ]
    }
   ],
   "source": [
    "print(round(cost, 2))"
   ]
  },
  {
   "cell_type": "markdown",
   "metadata": {},
   "source": [
    "- The solution is to use the Decimal class from the decimal built-in module. The Decimal class provides fixed point math of 28 decimal points by default. It can go even higher if required. This works around the precision issues in IEEE 754 floating point numbers. The class also gives you more control over rounding behaviors."
   ]
  },
  {
   "cell_type": "markdown",
   "metadata": {},
   "source": [
    "- For example, redoing the Antarctica calculation with Decimal results in an exact charge instead of an approximation."
   ]
  },
  {
   "cell_type": "code",
   "execution_count": 9,
   "metadata": {},
   "outputs": [
    {
     "name": "stdout",
     "output_type": "stream",
     "text": [
      "5.365\n"
     ]
    }
   ],
   "source": [
    "from decimal import *\n",
    "rate = Decimal('1.45')\n",
    "seconds = Decimal('222')\n",
    "cost = rate * seconds / Decimal('60')\n",
    "print(cost)"
   ]
  },
  {
   "cell_type": "markdown",
   "metadata": {},
   "source": [
    "- The Decimal class has a built-in function for rounding to exactly the decimal place you need with the rounding behavior you want."
   ]
  },
  {
   "cell_type": "code",
   "execution_count": 10,
   "metadata": {},
   "outputs": [
    {
     "name": "stdout",
     "output_type": "stream",
     "text": [
      "5.37\n"
     ]
    }
   ],
   "source": [
    "rounded = cost.quantize(Decimal('0.01'), rounding=ROUND_UP)\n",
    "print(rounded)"
   ]
  },
  {
   "cell_type": "code",
   "execution_count": 11,
   "metadata": {},
   "outputs": [
    {
     "name": "stdout",
     "output_type": "stream",
     "text": [
      "0.004166666666666666666666666667\n"
     ]
    }
   ],
   "source": [
    "rate = Decimal('0.05')\n",
    "seconds = Decimal('5')\n",
    "cost = rate * seconds / Decimal('60')\n",
    "print(cost)"
   ]
  },
  {
   "cell_type": "markdown",
   "metadata": {},
   "source": [
    "- But the quantize behavior ensures that this is rounded up to one whole cent."
   ]
  },
  {
   "cell_type": "code",
   "execution_count": 12,
   "metadata": {},
   "outputs": [
    {
     "name": "stdout",
     "output_type": "stream",
     "text": [
      "0.01\n"
     ]
    }
   ],
   "source": [
    "rounded = cost.quantize(Decimal('0.01'), rounding=ROUND_UP)\n",
    "print(rounded)"
   ]
  },
  {
   "cell_type": "markdown",
   "metadata": {},
   "source": [
    "- While Decimal works great for fixed point numbers, it still has limitations in tis precision. For representing rational numbers with no limit to precision, consider using the Fraction class from the fractions built-in module."
   ]
  },
  {
   "cell_type": "markdown",
   "metadata": {},
   "source": [
    "## Things to Remember\n",
    "- Python has built-in types and classes in modules that can represent practically every type of numerical value.\n",
    "- The Decimal class is ideal for situations that require high precision and exact rounding behavior, such as computations of monetary values"
   ]
  },
  {
   "cell_type": "markdown",
   "metadata": {},
   "source": [
    "# I48 : Know Where to Find Community-Built Modules"
   ]
  },
  {
   "cell_type": "markdown",
   "metadata": {},
   "source": [
    "- Python has a central repository of modules for you to install and use in your programs. These modules are built and maintained by people like you: the Python community. When you find yourself facing an unfamiliar challenge, the Python Package Index is a great place to look for code that will get you closer to your goal."
   ]
  },
  {
   "cell_type": "markdown",
   "metadata": {},
   "source": [
    "- To use hte Package Index, you'll need to use a command-line tool named pip. pip is installed by default in Python 3.4 and above. For earlier versions, you can find instructions for installing pip on the Python Packaging website."
   ]
  },
  {
   "cell_type": "markdown",
   "metadata": {},
   "source": [
    "- Once installed, using pip to install a new module is simple. For example, here I install the pytz module that I used in another item in this chapter:"
   ]
  },
  {
   "cell_type": "markdown",
   "metadata": {},
   "source": [
    "## Things to Remember\n",
    "- The Python Package Index (PyPI) contains a wealth of common packages that are built and maintained by the Python community.\n",
    "- pip is the commnad-line tool to use for installing pachages from PyPI.\n",
    "- pip is installed by default in Python 3.4 and above; you must install it yourself for older versions.\n",
    "- The majority of PyPI modules are free and open source."
   ]
  },
  {
   "cell_type": "markdown",
   "metadata": {},
   "source": [
    "# Collaboration"
   ]
  },
  {
   "cell_type": "markdown",
   "metadata": {},
   "source": [
    "- There are language features in Python to help you construct well-defined APIs with clear interface boundaries. The Python community has established best practices that maximize the maintainability of code over time. There are also standard tools that ship with Python that enable large teams to work together across disparate environments."
   ]
  },
  {
   "cell_type": "markdown",
   "metadata": {},
   "source": [
    "- Collaborating with others on Python programs requires being deliberate about how you write your code. Even if you're working on your own, chances are you'll be using code written by someone else via the standard library or open source packages. It's important to unserstand the mechanisms that make it easy to collaborate with other Python programmers."
   ]
  },
  {
   "cell_type": "markdown",
   "metadata": {},
   "source": [
    "# I49 : Write Docstrings for Every Function, Class, and Module"
   ]
  },
  {
   "cell_type": "markdown",
   "metadata": {},
   "source": [
    "- Documentation in Python is extremely important because of the dynamic nature of the language. Python provides built-in support for attaching documentation to blocks of code. Unlike many ither languages, the documentation from a program's source code is directly accessible as the program runs."
   ]
  },
  {
   "cell_type": "markdown",
   "metadata": {},
   "source": [
    "- For example, you can add documentation by providing a *docstring* immediately after the def statement of a function."
   ]
  },
  {
   "cell_type": "code",
   "execution_count": 13,
   "metadata": {
    "collapsed": true
   },
   "outputs": [],
   "source": [
    "def palindrome(word):\n",
    "    \"\"\"Return True if the given word is a palindrome.\"\"\"\n",
    "    return word == word[::-1]"
   ]
  },
  {
   "cell_type": "markdown",
   "metadata": {},
   "source": [
    "- You can retrueve the docstring from within the Python program itself by accessing the function's \\_\\_doc\\_\\_ special attribute."
   ]
  },
  {
   "cell_type": "code",
   "execution_count": 14,
   "metadata": {},
   "outputs": [
    {
     "name": "stdout",
     "output_type": "stream",
     "text": [
      "'Return True if the given word is a palindrome.'\n"
     ]
    }
   ],
   "source": [
    "print(repr(palindrome.__doc__))"
   ]
  },
  {
   "cell_type": "markdown",
   "metadata": {},
   "source": [
    "- Docstrings can be attached to functions, classes, and modules. This connection is part of the process of compiling and running a Python program. Support for docstrings and the \\_\\_doc\\_\\_ attribute has three consequences:"
   ]
  },
  {
   "cell_type": "markdown",
   "metadata": {},
   "source": [
    "- The accessibility of documentation makes interactive development easier. You can inspect functions, classes, and modules to see their documentation by using the help built-in function. This makes the Python interactive interpreter (the Python \"shell\") and tools like IPython Notebook a joy to use while you're developing algorithms, testing APIs, and writing code snippets."
   ]
  },
  {
   "cell_type": "markdown",
   "metadata": {},
   "source": [
    "- A standard way of defining documentation makes it easy to build tools that convert the text into more appealing formats. This has led to excellent documentation-generation tools for the Python community, such as Sphinx. It's also enabled community-funded sites like Read the Docs that provide free hosting of beautiful-loogin documentation for open source Python projects."
   ]
  },
  {
   "cell_type": "markdown",
   "metadata": {},
   "source": [
    "- Python's first-class, accessible, and good-looking documentation encourages people to write more documentation. The members of the Python community have a strong belief in the importance of documentation. There's an assumption that \"good code\" also means well-documented code. This means that you can expect most open source Python libraries to have decent documentation."
   ]
  },
  {
   "cell_type": "markdown",
   "metadata": {},
   "source": [
    "- To participate in this excellent culture of documentation, you need to follow a few guidelines when you write docstrings. The full details are discussed online in PEP 257. There are a few best-practices you should be sure to follow.\""
   ]
  },
  {
   "cell_type": "markdown",
   "metadata": {},
   "source": [
    "** Documenting Modules **"
   ]
  },
  {
   "cell_type": "markdown",
   "metadata": {},
   "source": [
    "- Each module should have a top-level docstring. This is a string literal that is the first statement in a source file. It should use three double quotes. The goal of this docstring is to introduce the module and its contents."
   ]
  },
  {
   "cell_type": "markdown",
   "metadata": {},
   "source": [
    "- The first line of the docstring should be a single sentence describing the module's purpose. The paragraphs that follow should contain the details that all users of the module should know about its operation. The module docstring is also a jumping-off point where you can highlight important classes and functions found in the module."
   ]
  },
  {
   "cell_type": "markdown",
   "metadata": {},
   "source": [
    "** Documenting Classes **"
   ]
  },
  {
   "cell_type": "markdown",
   "metadata": {},
   "source": [
    "** Documenting Functions **"
   ]
  },
  {
   "cell_type": "markdown",
   "metadata": {},
   "source": [
    "## Things to Remember \n",
    "- Write documentation for every module, class, and function using docstrings. Keep them up to date your code changes.\n",
    "- For modules: Introduce the contents of the module and any important classes or functions all users should know about.\n",
    "- For classes: Document behavior, important attributes, and subclass behavior in the docstring following the class statement.\n",
    "- For functions and methods: Document every argument, returned value, raised exception, and other behaviors in the docstring following the def statement."
   ]
  },
  {
   "cell_type": "markdown",
   "metadata": {},
   "source": [
    "# I50 : Use Packages to Organize Modules and Provide Stable APIs"
   ]
  },
  {
   "cell_type": "markdown",
   "metadata": {},
   "source": [
    "- As the size of a program's codebase grows, it's natural for you to reorganize its structure. You split larger functions into smaller functions. You refactor data structures into helper classes. You separate functionality into various modules that depend on each other."
   ]
  },
  {
   "cell_type": "markdown",
   "metadata": {},
   "source": [
    "- At some point, you'll find yourself with so many modules that you need another layer in your program to make it understandable. For this purpose, Python provides *packages*. Packages are modules that contain other modules."
   ]
  },
  {
   "cell_type": "markdown",
   "metadata": {},
   "source": [
    "- In most cases, packages are defined by putting an empty file name \\_\\_init\\_\\_.py into a directory. Once \\_\\_init\\_\\_.py is present, any other Python files in that directory will be avialable for import using a path relative to the directory. For example, imagine that you have the following directory structure in your program."
   ]
  },
  {
   "cell_type": "markdown",
   "metadata": {},
   "source": [
    "** Namespaces **"
   ]
  },
  {
   "cell_type": "markdown",
   "metadata": {},
   "source": [
    "- The first use of packages is to help divide your modules into separate namespaces. This allows you to have many modules with the same filename but different absolute paths that are unique. For example, here's a program that imports attributes from two modules with the same name, utils.py. This works because the modules can be addressed by their absolute paths."
   ]
  },
  {
   "cell_type": "code",
   "execution_count": 15,
   "metadata": {},
   "outputs": [
    {
     "ename": "ModuleNotFoundError",
     "evalue": "No module named 'analysis'",
     "output_type": "error",
     "traceback": [
      "\u001b[0;31m---------------------------------------------------------------------------\u001b[0m",
      "\u001b[0;31mModuleNotFoundError\u001b[0m                       Traceback (most recent call last)",
      "\u001b[0;32m<ipython-input-15-46cff5a18b99>\u001b[0m in \u001b[0;36m<module>\u001b[0;34m()\u001b[0m\n\u001b[0;32m----> 1\u001b[0;31m \u001b[0;32mfrom\u001b[0m \u001b[0manalysis\u001b[0m\u001b[0;34m.\u001b[0m\u001b[0mutils\u001b[0m \u001b[0;32mimport\u001b[0m \u001b[0mlog_base2_bucket\u001b[0m\u001b[0;34m\u001b[0m\u001b[0m\n\u001b[0m",
      "\u001b[0;31mModuleNotFoundError\u001b[0m: No module named 'analysis'"
     ]
    }
   ],
   "source": [
    "from analysis.utils import log_base2_bucket\n",
    "from frontend.utils import stringify\n",
    "bucket = stringify(log_base2_bucket(33))"
   ]
  },
  {
   "cell_type": "markdown",
   "metadata": {},
   "source": [
    "- This approach breaks down when the functions, classes, or submodules defined in packages have the same names. For example, say you want to use the inspect function from both the analysis.utils and frontend.utils modules. Importing the attributes directly won't work because the second import statement will overwrite the value of inspect in the current scope."
   ]
  },
  {
   "cell_type": "code",
   "execution_count": null,
   "metadata": {
    "collapsed": true
   },
   "outputs": [],
   "source": [
    "from analysis.utils import inspect\n",
    "from frontend.utils import inspect\n"
   ]
  },
  {
   "cell_type": "markdown",
   "metadata": {},
   "source": [
    "- The solution is to use the as clause of the import statement to rename whatever you've imported for the current scope."
   ]
  },
  {
   "cell_type": "code",
   "execution_count": null,
   "metadata": {
    "collapsed": true
   },
   "outputs": [],
   "source": [
    "from analysis.utils import inspect as analysis_inspect\n",
    "from frontend.utils import inspect as frontend_inspect\n",
    "\n",
    "value = 33\n",
    "if analysis_inspect(value) == frontend_inspect(value):\n",
    "    print(\"Inspection equal!\")"
   ]
  },
  {
   "cell_type": "markdown",
   "metadata": {},
   "source": [
    "- The as clause can be used to rename anything you retrieve with the import statement, including entire modules. This makes it easy to access namespaced code and make its identity clear when you use it."
   ]
  },
  {
   "cell_type": "markdown",
   "metadata": {},
   "source": [
    "** Stable APIs **"
   ]
  },
  {
   "cell_type": "markdown",
   "metadata": {},
   "source": [
    "- The second use of packages in Python is to provide strict, stable APIs for external consumers."
   ]
  },
  {
   "cell_type": "markdown",
   "metadata": {},
   "source": [
    "- When you're writing an API for wider consumption, like an open source package, you'll want to provide stable functionality that doesn't change between releases. To ensure that happens, it's important to hide your internal code organization from external users. This enables you to refactor and improve your package's internal modules without breaking existing users."
   ]
  },
  {
   "cell_type": "markdown",
   "metadata": {},
   "source": [
    "- Python can limit the surface area exposed to API consumer by using the \\_\\_all\\_\\_ special attribute of a module or package. The value of \\_\\_all\\_\\_ is a list of every name to export from the module as part of its public API. When consuming code does from foo import \\*, only the attributes in foo.\\_\\_all\\_\\_ will be imported from foo. If \\_\\_all\\_\\_ isn't present in foo, then only public attributes, those without a leading underscore, are imported."
   ]
  },
  {
   "cell_type": "markdown",
   "metadata": {},
   "source": [
    "- For example, say you want to provide a package for calculating collisions between moving projectiles. Here, I define the models module of mypackage to contain the representation of projectiles:"
   ]
  },
  {
   "cell_type": "code",
   "execution_count": 16,
   "metadata": {
    "collapsed": true
   },
   "outputs": [],
   "source": [
    "__all__ = ['Projectile']\n",
    "\n",
    "class Projectile(object):\n",
    "    def __init__(self, mass, velocity):\n",
    "        self.mass = mass\n",
    "        self.velocity = velocity"
   ]
  },
  {
   "cell_type": "markdown",
   "metadata": {},
   "source": [
    "- I also define a utils module in mypackage to perform operations on the Projectile instances, such as simulating collisions between them."
   ]
  },
  {
   "cell_type": "code",
   "execution_count": 17,
   "metadata": {},
   "outputs": [
    {
     "ename": "ModuleNotFoundError",
     "evalue": "No module named '__main__.models'; '__main__' is not a package",
     "output_type": "error",
     "traceback": [
      "\u001b[0;31m---------------------------------------------------------------------------\u001b[0m",
      "\u001b[0;31mModuleNotFoundError\u001b[0m                       Traceback (most recent call last)",
      "\u001b[0;32m<ipython-input-17-62cb29b0e143>\u001b[0m in \u001b[0;36m<module>\u001b[0;34m()\u001b[0m\n\u001b[0;32m----> 1\u001b[0;31m \u001b[0;32mfrom\u001b[0m \u001b[0;34m.\u001b[0m\u001b[0mmodels\u001b[0m \u001b[0;32mimport\u001b[0m \u001b[0mProjectile\u001b[0m\u001b[0;34m\u001b[0m\u001b[0m\n\u001b[0m\u001b[1;32m      2\u001b[0m \u001b[0;34m\u001b[0m\u001b[0m\n\u001b[1;32m      3\u001b[0m \u001b[0m__all__\u001b[0m \u001b[0;34m=\u001b[0m \u001b[0;34m[\u001b[0m\u001b[0;34m'simulate_collision'\u001b[0m\u001b[0;34m]\u001b[0m\u001b[0;34m\u001b[0m\u001b[0m\n\u001b[1;32m      4\u001b[0m \u001b[0;34m\u001b[0m\u001b[0m\n\u001b[1;32m      5\u001b[0m \u001b[0;32mdef\u001b[0m \u001b[0m_dot_product\u001b[0m\u001b[0;34m(\u001b[0m\u001b[0ma\u001b[0m\u001b[0;34m,\u001b[0m \u001b[0mb\u001b[0m\u001b[0;34m)\u001b[0m\u001b[0;34m:\u001b[0m\u001b[0;34m\u001b[0m\u001b[0m\n",
      "\u001b[0;31mModuleNotFoundError\u001b[0m: No module named '__main__.models'; '__main__' is not a package"
     ]
    }
   ],
   "source": [
    "from .models import Projectile\n",
    "\n",
    "__all__ = ['simulate_collision']\n",
    "\n",
    "def _dot_product(a, b):\n",
    "    pass\n",
    "\n",
    "def simulate_collision(a, b):\n",
    "    pass"
   ]
  },
  {
   "cell_type": "markdown",
   "metadata": {},
   "source": [
    "- Now, I'd like to provide all of the public parts of this API as a set of attributes that are available on the mypackage module. This will allow downstream consumers to always import directly from mypackage instead of importing from mypackage.models or mypackage.utils. This ensures that the API consumer's code will continue to work even if the internal organization of mypackage changes.\n",
    "\n",
    "- To do this with Python packages, you need to modify the \\_\\_init\\_\\_.py file in the mypackage directory. This file actually becomes the contents of the mypackage module when it's imported. Thus, you can specify explicit API for mypackage by specify \\_\\_all\\_\\_, I can expose the public interface of mypackage by simply importing everything from the internal modules and updating \\_\\_all\\_\\_accordingly."
   ]
  },
  {
   "cell_type": "code",
   "execution_count": null,
   "metadata": {
    "collapsed": true
   },
   "outputs": [],
   "source": [
    "# __init__.py\n",
    "__all__ = []\n",
    "from . models import *\n",
    "__all__ += models.__all__\n",
    "from . utils import *\n",
    "__all__ += utils.__all__"
   ]
  },
  {
   "cell_type": "markdown",
   "metadata": {},
   "source": [
    "- Here's a consumer of the API that directly imports from mypackage instead of accessing the inner modules:"
   ]
  },
  {
   "cell_type": "code",
   "execution_count": null,
   "metadata": {
    "collapsed": true
   },
   "outputs": [],
   "source": [
    "from mypackage import *\n",
    "\n",
    "a = Projectile(1.5, 3)\n",
    "b = Projectile(4, 1.7)\n",
    "after_a, after_b = simulate_collision(a, b)"
   ]
  },
  {
   "cell_type": "markdown",
   "metadata": {},
   "source": [
    "- Notably, internal-only functions like mypackage.utils.\\_dot\\_product will not be available to the API consumer on mypackage because ther weren't present in \\_\\_all\\_\\_. Being omitted from \\_\\_all\\_\\_ means they weren't imported by the from mypakcage import \\* statement. The internal-only names are effectively hidden."
   ]
  },
  {
   "cell_type": "markdown",
   "metadata": {},
   "source": [
    "- This whole approach works great when it's important to provide an explicit, stable API. However, if you're building an API for use between your own modules, the functionality of \\_\\_all\\_\\_ is probably unnecessary and should be avoided. The namespacing provided by packages is usually enough for a team of programmers to collaborate on large amounts of code they control while maintaining reasonable interface boundaries."
   ]
  },
  {
   "cell_type": "markdown",
   "metadata": {},
   "source": [
    "## Things to Remember\n",
    "- Packages in Python are modules that contain other modules. Packages allow you to organize your code into separate, non-conflicting namespaces with unique absolute module names.\n",
    "- Simple packages are defined by adding an \\_\\_init\\_\\_.py file to a directory that contains other source files. These files become the child modules of the directory's package. Package directories may also contain other packages.\n",
    "- You can provide an explicit API for a module by listing its publicly visible names in its \\_\\_all\\_\\_ special attribute.\n",
    "- You can hide a package's internal implementation by only importing public names in the package's \\_\\_init\\_\\_.py file or by naming internal-only members with a leading underscore.\n",
    "- When collaborating within a single team or on a single codebase, using \\_\\_all\\_\\_ for explicit APIs is probably unnecessary."
   ]
  },
  {
   "cell_type": "code",
   "execution_count": null,
   "metadata": {
    "collapsed": true
   },
   "outputs": [],
   "source": []
  }
 ],
 "metadata": {
  "kernelspec": {
   "display_name": "Python 3",
   "language": "python",
   "name": "python3"
  },
  "language_info": {
   "codemirror_mode": {
    "name": "ipython",
    "version": 3
   },
   "file_extension": ".py",
   "mimetype": "text/x-python",
   "name": "python",
   "nbconvert_exporter": "python",
   "pygments_lexer": "ipython3",
   "version": "3.6.2"
  }
 },
 "nbformat": 4,
 "nbformat_minor": 2
}
