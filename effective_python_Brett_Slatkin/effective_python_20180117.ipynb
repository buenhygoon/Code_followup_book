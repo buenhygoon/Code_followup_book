{
 "cells": [
  {
   "cell_type": "markdown",
   "metadata": {},
   "source": [
    "# Item 30: Consider @property Instead of Refactoring Attributes"
   ]
  },
  {
   "cell_type": "markdown",
   "metadata": {},
   "source": [
    "- The built-in @porperty decoraton makes it easy for simple accesses of an instance's attributes to act smarter. One advanced but common use of @property is transitioning what was once a simple numerical attribute into an on-the-fly calcaulation. This is extremely helpful because it lets you migrate all existing usage of a class to have new behaviors without rewriting any of the call sites. It also provides an important stopgap for improving your interfaces over time.\n",
    "\n",
    "- For example, say you want to implement a leaky bucket quota using plain Python obejcts. Here, the Bucket class represents how much quota remains and the duration for which the quota will be available:\n"
   ]
  },
  {
   "cell_type": "code",
   "execution_count": 7,
   "metadata": {
    "collapsed": true
   },
   "outputs": [],
   "source": [
    "from datetime import datetime\n",
    "from datetime import timedelta"
   ]
  },
  {
   "cell_type": "code",
   "execution_count": 8,
   "metadata": {
    "collapsed": true
   },
   "outputs": [],
   "source": [
    "class Bucket(object):\n",
    "    def __init__(self, period):\n",
    "        self.period_delta = timedelta(seconds=period)\n",
    "        self.reset_time = datetime.now()\n",
    "        self.quota = 0\n",
    "        \n",
    "    def __repr__(self):\n",
    "        return 'Bucket(quota=%d)' % self.quota"
   ]
  },
  {
   "cell_type": "markdown",
   "metadata": {},
   "source": [
    "- The leaky bucket algorithm works by ensuring that, whenever the bucket is filled, the amount of quota does not carry over from one period to the next."
   ]
  },
  {
   "cell_type": "code",
   "execution_count": 22,
   "metadata": {
    "collapsed": true
   },
   "outputs": [],
   "source": [
    "def fill(bucket, amount):\n",
    "    now = datetime.now()\n",
    "    if now - bucket.reset_time > bucket.period_delta:\n",
    "        bucket.quota = 0\n",
    "        bucket.reset_time = now\n",
    "    bucket.quota += amount"
   ]
  },
  {
   "cell_type": "markdown",
   "metadata": {},
   "source": [
    "- Each time a quota consumer wants to do something, it first must ensure that it can deduct the amount of quota it needs to use.\n"
   ]
  },
  {
   "cell_type": "code",
   "execution_count": 23,
   "metadata": {
    "collapsed": true
   },
   "outputs": [],
   "source": [
    "def deduct(bucket, amount):\n",
    "    now = datetime.now()\n",
    "    if now - bucket.reset_time > bucket.period_delta:\n",
    "        return False\n",
    "    if bucket.quota - amount < 0:\n",
    "        return False\n",
    "    bucket.quota -= amount\n",
    "    return True"
   ]
  },
  {
   "cell_type": "markdown",
   "metadata": {},
   "source": [
    "- To use this class, first I fill the bucket."
   ]
  },
  {
   "cell_type": "code",
   "execution_count": 24,
   "metadata": {},
   "outputs": [
    {
     "ename": "AssertionError",
     "evalue": "",
     "output_type": "error",
     "traceback": [
      "\u001b[0;31m---------------------------------------------------------------------------\u001b[0m",
      "\u001b[0;31mAssertionError\u001b[0m                            Traceback (most recent call last)",
      "\u001b[0;32m<ipython-input-24-04ade0f53475>\u001b[0m in \u001b[0;36m<module>\u001b[0;34m()\u001b[0m\n\u001b[1;32m      1\u001b[0m \u001b[0mbucket\u001b[0m \u001b[0;34m=\u001b[0m \u001b[0mBucket\u001b[0m\u001b[0;34m(\u001b[0m\u001b[0;36m60\u001b[0m\u001b[0;34m)\u001b[0m\u001b[0;34m\u001b[0m\u001b[0m\n\u001b[0;32m----> 2\u001b[0;31m \u001b[0mfill\u001b[0m\u001b[0;34m(\u001b[0m\u001b[0mbucket\u001b[0m\u001b[0;34m,\u001b[0m \u001b[0;36m100\u001b[0m\u001b[0;34m)\u001b[0m\u001b[0;34m\u001b[0m\u001b[0m\n\u001b[0m\u001b[1;32m      3\u001b[0m \u001b[0mprint\u001b[0m\u001b[0;34m(\u001b[0m\u001b[0mbucket\u001b[0m\u001b[0;34m)\u001b[0m\u001b[0;34m\u001b[0m\u001b[0m\n",
      "\u001b[0;32m<ipython-input-22-92e277c2c443>\u001b[0m in \u001b[0;36mfill\u001b[0;34m(bucket, amount)\u001b[0m\n\u001b[1;32m      4\u001b[0m         \u001b[0mbucket\u001b[0m\u001b[0;34m.\u001b[0m\u001b[0mquota\u001b[0m \u001b[0;34m=\u001b[0m \u001b[0;36m0\u001b[0m\u001b[0;34m\u001b[0m\u001b[0m\n\u001b[1;32m      5\u001b[0m         \u001b[0mbucket\u001b[0m\u001b[0;34m.\u001b[0m\u001b[0mreset_time\u001b[0m \u001b[0;34m=\u001b[0m \u001b[0mnow\u001b[0m\u001b[0;34m\u001b[0m\u001b[0m\n\u001b[0;32m----> 6\u001b[0;31m     \u001b[0mbucket\u001b[0m\u001b[0;34m.\u001b[0m\u001b[0mquota\u001b[0m \u001b[0;34m+=\u001b[0m \u001b[0mamount\u001b[0m\u001b[0;34m\u001b[0m\u001b[0m\n\u001b[0m",
      "\u001b[0;32m<ipython-input-20-b24dfbfdb2db>\u001b[0m in \u001b[0;36mquota\u001b[0;34m(self, amount)\u001b[0m\n\u001b[1;32m     23\u001b[0m         \u001b[0;32melif\u001b[0m \u001b[0mdelta\u001b[0m \u001b[0;34m<\u001b[0m \u001b[0;36m0\u001b[0m\u001b[0;34m:\u001b[0m\u001b[0;34m\u001b[0m\u001b[0m\n\u001b[1;32m     24\u001b[0m             \u001b[0;31m# Quota being filled for the new period\u001b[0m\u001b[0;34m\u001b[0m\u001b[0;34m\u001b[0m\u001b[0m\n\u001b[0;32m---> 25\u001b[0;31m             \u001b[0;32massert\u001b[0m \u001b[0mself\u001b[0m\u001b[0;34m.\u001b[0m\u001b[0mquota_consumed\u001b[0m\u001b[0;34m\u001b[0m\u001b[0m\n\u001b[0m\u001b[1;32m     26\u001b[0m             \u001b[0mself\u001b[0m\u001b[0;34m.\u001b[0m\u001b[0mmax_quota\u001b[0m \u001b[0;34m=\u001b[0m \u001b[0mamount\u001b[0m\u001b[0;34m\u001b[0m\u001b[0m\n\u001b[1;32m     27\u001b[0m         \u001b[0;32melse\u001b[0m\u001b[0;34m:\u001b[0m\u001b[0;34m\u001b[0m\u001b[0m\n",
      "\u001b[0;31mAssertionError\u001b[0m: "
     ]
    }
   ],
   "source": [
    "bucket = Bucket(60)\n",
    "fill(bucket, 100)\n",
    "print(bucket)"
   ]
  },
  {
   "cell_type": "code",
   "execution_count": 25,
   "metadata": {},
   "outputs": [
    {
     "name": "stdout",
     "output_type": "stream",
     "text": [
      "Not enough for 99 quota\n",
      "Bucket(max_quota=0, quota_consumed=0)\n"
     ]
    }
   ],
   "source": [
    "if deduct(bucket, 99):\n",
    "    print('Had 99 quota')\n",
    "else:\n",
    "    print('Not enough for 99 quota')\n",
    "print(bucket)"
   ]
  },
  {
   "cell_type": "markdown",
   "metadata": {},
   "source": [
    "- Eventually, I'm prevented from making progress because I try to deduct more quota than is available. In this case, the bucket's quota level remains unchanged."
   ]
  },
  {
   "cell_type": "code",
   "execution_count": 26,
   "metadata": {},
   "outputs": [
    {
     "name": "stdout",
     "output_type": "stream",
     "text": [
      "Not enough for 3 quota\n",
      "Bucket(max_quota=0, quota_consumed=0)\n"
     ]
    }
   ],
   "source": [
    "if deduct(bucket, 3):\n",
    "    print('Had 3 quota')\n",
    "else:\n",
    "    print('Not enough for 3 quota')\n",
    "print(bucket)"
   ]
  },
  {
   "cell_type": "markdown",
   "metadata": {},
   "source": [
    "- The problem with this implementation is that I never know what quota level the bucket started with. The quota is deducted over the course of the period until it reaches zero. At that point, deduct will alwats return False. When that happens, it would be useful to know whether callers to deduct are being blocked because the Bucket ran out of quota or because the Bucket never had quota in the first place."
   ]
  },
  {
   "cell_type": "markdown",
   "metadata": {},
   "source": [
    "- To fix this, I can change the class to keep track of the max_quota issued in the period and the quota_consumed in the period."
   ]
  },
  {
   "cell_type": "code",
   "execution_count": 29,
   "metadata": {
    "collapsed": true
   },
   "outputs": [],
   "source": [
    "class Bucket(object):\n",
    "    def __init__(self, period):\n",
    "        self.period_delta = timedelta(seconds=period)\n",
    "        self.reset_time = datetime.now()\n",
    "        self.max_quota = 0\n",
    "        self.quota_consumed = 0\n",
    "        \n",
    "    def __repr__(self):\n",
    "        return ('Bucket(max_quota=%d, quota_consumed=%d)' %\n",
    "                (self.max_quota, self.quota_consumed))\n",
    "    \n",
    "    @property\n",
    "    def quota(self):\n",
    "        return self.max_quota - self.quota_consumed\n",
    "    \n",
    "    @quota.setter\n",
    "    def quota(self, amount):\n",
    "        delta = self.max_quota - amount\n",
    "        if amount == 0:\n",
    "            # Quota being reset for a new period\n",
    "            self.quota_consumed = 0\n",
    "            self.max_quota = 0\n",
    "        elif delta < 0:\n",
    "            # Quota being filled for the new period\n",
    "            assert self.quota_consumed == 0\n",
    "            self.max_quota = amount\n",
    "        else:\n",
    "            # Quota being consumed during the period\n",
    "            assert self.max_quota >= self.quota_consumed\n",
    "            self.quota_consumed += delta"
   ]
  },
  {
   "cell_type": "markdown",
   "metadata": {},
   "source": [
    "- I use @property method to compute the current level of quota on-the-fly using these new attributes."
   ]
  },
  {
   "cell_type": "markdown",
   "metadata": {},
   "source": [
    "- When the quota attribute is assigned, I take special action matching the current interface of the class used by fill and deduct."
   ]
  },
  {
   "cell_type": "markdown",
   "metadata": {},
   "source": [
    "- Rerunning the demo code from above produces the same results."
   ]
  },
  {
   "cell_type": "code",
   "execution_count": 30,
   "metadata": {},
   "outputs": [
    {
     "name": "stdout",
     "output_type": "stream",
     "text": [
      "Initial Bucket(max_quota=0, quota_consumed=0)\n",
      "Filled Bucket(max_quota=100, quota_consumed=0)\n",
      "Had 99 quota\n",
      "Now Bucket(max_quota=100, quota_consumed=99)\n",
      "Now enough for 3 quota\n",
      "Still Bucket(max_quota=100, quota_consumed=99)\n"
     ]
    }
   ],
   "source": [
    "bucket = Bucket(60)\n",
    "print('Initial', bucket)\n",
    "fill(bucket, 100)\n",
    "print('Filled', bucket)\n",
    "\n",
    "if deduct(bucket, 99):\n",
    "    print('Had 99 quota')\n",
    "else:\n",
    "    print('Now enough for 99 quota')\n",
    "    \n",
    "print('Now', bucket)\n",
    "\n",
    "if deduct(bucket, 3):\n",
    "    print('Had 3 quota')\n",
    "else:\n",
    "    print('Now enough for 3 quota')\n",
    "    \n",
    "print('Still', bucket)    "
   ]
  },
  {
   "cell_type": "markdown",
   "metadata": {},
   "source": [
    "- The best part is that the code using Bucket.quota doesn't have to change or know that the class has changed. New usage of Bucket can do the right thing and access max_quota and quota_consumed directly."
   ]
  },
  {
   "cell_type": "markdown",
   "metadata": {},
   "source": [
    "- I especially like @property because it lets you make incremental progress toward a better data model over time. Reading the Bucket example above, you may have thought toyourself, \"fill and deduct should have been implemented as instance methods in the fir place.\" Although you're probably right, in practice there are many situations in which objects start with poorly defined intergfaces or act as dumb data containers. This happens when code grows over time, scope increases, multiple authors contribute without anyone considering long-term hygiene, etc."
   ]
  },
  {
   "cell_type": "markdown",
   "metadata": {},
   "source": [
    "- @property is a toll to help you address problems you'll come across in real-world code. Don't overuse it. When you ffind yourself repeatedly extending @property methods,  it's probably time to refactoring your class instead of further paving over your code's poor design."
   ]
  },
  {
   "cell_type": "markdown",
   "metadata": {},
   "source": [
    "## Things to Remember "
   ]
  },
  {
   "cell_type": "markdown",
   "metadata": {},
   "source": [
    "- Use @property to give existing instance attributes new functionality\n",
    "- Make incremental progress toward better data models by using @property\n",
    "- Consider refactoring a class and all call sites when you find yourself using @property too heavily."
   ]
  },
  {
   "cell_type": "markdown",
   "metadata": {},
   "source": [
    "# Item 31: Use Descriptors for Reuasble @property Methods"
   ]
  },
  {
   "cell_type": "markdown",
   "metadata": {},
   "source": [
    "- The big problem with the @properrty built-in is reuse. The methods it decorates can't be reused for multiple attributes of the same class. They also can't be reused by unrelated classes."
   ]
  },
  {
   "cell_type": "markdown",
   "metadata": {},
   "source": [
    "- For example, say you want a class to validate that the grade received by a student on a homework assignment is a percentage."
   ]
  },
  {
   "cell_type": "code",
   "execution_count": 31,
   "metadata": {
    "collapsed": true
   },
   "outputs": [],
   "source": [
    "class Homework(object):\n",
    "    def __init__(self):\n",
    "        self._grade = 0\n",
    "    @property \n",
    "    def grade(self):\n",
    "        return self._grade\n",
    "    \n",
    "    @grade.setter\n",
    "    def grade(self, value):\n",
    "        if not (0 <= value <= 100):\n",
    "            raise ValueError('Grade must be between 0 and 100')\n",
    "        self._grade = value"
   ]
  },
  {
   "cell_type": "code",
   "execution_count": 32,
   "metadata": {
    "collapsed": true
   },
   "outputs": [],
   "source": [
    "galileo = Homework()\n",
    "galileo.grade = 95"
   ]
  },
  {
   "cell_type": "code",
   "execution_count": 34,
   "metadata": {},
   "outputs": [
    {
     "data": {
      "text/plain": [
       "__main__.Homework"
      ]
     },
     "execution_count": 34,
     "metadata": {},
     "output_type": "execute_result"
    }
   ],
   "source": [
    "type(galileo)"
   ]
  },
  {
   "cell_type": "markdown",
   "metadata": {},
   "source": [
    "- Say you also want to give the student a grade for an exam, where the exam has multiple subjects, each with a separate grade."
   ]
  },
  {
   "cell_type": "code",
   "execution_count": 37,
   "metadata": {
    "collapsed": true
   },
   "outputs": [],
   "source": [
    "class Exam(object):\n",
    "    def __init__(self):\n",
    "        self._writing_grade = 0\n",
    "        self._math_grade = 0\n",
    "        \n",
    "    @staticmethod\n",
    "    def _check_grade(value):\n",
    "        if not (0 <= value <= 100):\n",
    "            raise ValueError('Grade must be between 0 and 100')\n",
    "            \n",
    "    @property \n",
    "    def writing_grade(self):\n",
    "        return self._writing_grade\n",
    "    \n",
    "    @writing_grade.setter\n",
    "    def writing_grade(self, value):\n",
    "        self._check_grade(value)\n",
    "        self._writing_grade = value\n",
    "    \n",
    "    @property\n",
    "    def math_grade(self):\n",
    "        return self._math_grade\n",
    "    \n",
    "    @math_grade.setter\n",
    "    def math_grade(self, value):\n",
    "        self._check_grade(value)\n",
    "        self._math_grade = value"
   ]
  },
  {
   "cell_type": "markdown",
   "metadata": {},
   "source": [
    "- This quickly gets tedious. Each section of the exam requires addinga new @property and related validation."
   ]
  },
  {
   "cell_type": "markdown",
   "metadata": {},
   "source": [
    "- Also, this approach is now general. If you want to reuse this percentage validation beyond homework and exams, you'd need to write the @property boilerplate and \\_check\\_grade repeatdly."
   ]
  },
  {
   "cell_type": "markdown",
   "metadata": {},
   "source": [
    "- The better way to do this in Python is to use a *descriptor*. The descriptor protocol defines how attribute access is interpreted by the language. A descriptor class can provide \\_\\_get\\_\\_ and \\_\\_set\\_\\_ methods that let you reuse the grade validation behavior without any boilerplate. For this purpose, descriptors are also better than mix-ins because they let you reuse the same logic for many different attributes in a single class."
   ]
  },
  {
   "cell_type": "markdown",
   "metadata": {},
   "source": [
    "- Here, I define a new class called Exam with class attributes that are Grade instances. The Grade class implements the descriptor protocol. Before I explain how the Grade class works, it's important to understand what Python will do when your code accesses such descriptor attibutes on an Exam instance."
   ]
  },
  {
   "cell_type": "code",
   "execution_count": 50,
   "metadata": {
    "collapsed": true
   },
   "outputs": [],
   "source": [
    "class Grade(object):\n",
    "    def __get__(*args, **kwargs):\n",
    "        # ...\n",
    "        pass\n",
    "        \n",
    "    def __set__(*args, **kwargs):\n",
    "        # ...\n",
    "        pass\n",
    "    \n",
    "class Exam(object):\n",
    "    # Class attributes\n",
    "    math_grade = Grade()\n",
    "    writing_grade = Grade()\n",
    "    science_grade = Grade()"
   ]
  },
  {
   "cell_type": "markdown",
   "metadata": {},
   "source": [
    "- When you assign a property:"
   ]
  },
  {
   "cell_type": "code",
   "execution_count": 51,
   "metadata": {
    "collapsed": true
   },
   "outputs": [],
   "source": [
    "exam = Exam()\n",
    "exam.writing_grade = 40"
   ]
  },
  {
   "cell_type": "markdown",
   "metadata": {},
   "source": [
    "- it will be interpreted as:"
   ]
  },
  {
   "cell_type": "code",
   "execution_count": 41,
   "metadata": {
    "collapsed": true
   },
   "outputs": [
    {
     "ename": "AttributeError",
     "evalue": "type object 'Exam' has no attribute '__dict'",
     "output_type": "error",
     "traceback": [
      "\u001b[0;31m---------------------------------------------------------------------------\u001b[0m",
      "\u001b[0;31mAttributeError\u001b[0m                            Traceback (most recent call last)",
      "\u001b[0;32m<ipython-input-41-5bc27b9a21af>\u001b[0m in \u001b[0;36m<module>\u001b[0;34m()\u001b[0m\n\u001b[0;32m----> 1\u001b[0;31m \u001b[0mExam\u001b[0m\u001b[0;34m.\u001b[0m\u001b[0m__dict\u001b[0m\u001b[0;34m[\u001b[0m\u001b[0;34m'writing_grade'\u001b[0m\u001b[0;34m]\u001b[0m\u001b[0;34m.\u001b[0m\u001b[0m__set__\u001b[0m\u001b[0;34m(\u001b[0m\u001b[0mexam\u001b[0m\u001b[0;34m,\u001b[0m \u001b[0;36m40\u001b[0m\u001b[0;34m)\u001b[0m\u001b[0;34m\u001b[0m\u001b[0m\n\u001b[0m",
      "\u001b[0;31mAttributeError\u001b[0m: type object 'Exam' has no attribute '__dict'"
     ]
    }
   ],
   "source": [
    "Exam.__dict['writing_grade'].__set__(exam, 40)"
   ]
  },
  {
   "cell_type": "markdown",
   "metadata": {},
   "source": [
    "- When you retrieve a property:"
   ]
  },
  {
   "cell_type": "code",
   "execution_count": 54,
   "metadata": {},
   "outputs": [
    {
     "name": "stdout",
     "output_type": "stream",
     "text": [
      "None\n"
     ]
    }
   ],
   "source": [
    "print(exam.writing_grade)"
   ]
  },
  {
   "cell_type": "markdown",
   "metadata": {},
   "source": [
    "- it will be interpreted as:"
   ]
  },
  {
   "cell_type": "code",
   "execution_count": null,
   "metadata": {
    "collapsed": true
   },
   "outputs": [],
   "source": [
    "print(Exam.__dict__['writing_grade'].__get__(exam, Exam))"
   ]
  },
  {
   "cell_type": "markdown",
   "metadata": {},
   "source": [
    "- What drives this behavior is the \\_\\_getattribute\\_\\_ methods of object. In short, when an Exam instance doesn't have an attribute named writing\\_grade, Python will fall back to the Exam class's attribute instead. If this class attribute is an object that has \\_\\_get\\_\\_ and \\_\\_set\\_\\_ methods, Python will  assume you want to follow the sescriptor protocol."
   ]
  },
  {
   "cell_type": "markdown",
   "metadata": {},
   "source": [
    "- Knowing this behavior and how I used @property for grade validation in the Homework calss, here's a reasonable first attempt at implementing the Grade descriptor."
   ]
  },
  {
   "cell_type": "code",
   "execution_count": 57,
   "metadata": {
    "collapsed": true
   },
   "outputs": [],
   "source": [
    "class Grade(object):\n",
    "    def __init__(self):\n",
    "        self._value = 0\n",
    "        \n",
    "    def __get__(self, instance, instance_type):\n",
    "        return self._value\n",
    "    \n",
    "    def __set__(self, instance, value):\n",
    "        if not (0 <= value <= 100):\n",
    "            raise ValueError('Grade must be between 0 and 100')\n",
    "        self._value = value\n",
    "        \n",
    "        \n",
    "class Exam(object):\n",
    "    # Class attributes\n",
    "    math_grade = Grade()\n",
    "    writing_grade = Grade()\n",
    "    science_grade = Grade()"
   ]
  },
  {
   "cell_type": "code",
   "execution_count": 58,
   "metadata": {},
   "outputs": [
    {
     "name": "stdout",
     "output_type": "stream",
     "text": [
      "Writing 82\n",
      "Science 99\n"
     ]
    }
   ],
   "source": [
    "first_exam = Exam()\n",
    "first_exam.writing_grade = 82\n",
    "first_exam.science_grade = 99\n",
    "print('Writing', first_exam.writing_grade)\n",
    "print('Science', first_exam.science_grade)"
   ]
  },
  {
   "cell_type": "markdown",
   "metadata": {},
   "source": [
    "- But accessing these attributes on multiple Exam instances will have unexpected behavior."
   ]
  },
  {
   "cell_type": "code",
   "execution_count": 59,
   "metadata": {},
   "outputs": [
    {
     "name": "stdout",
     "output_type": "stream",
     "text": [
      "Second 75 is right\n",
      "First 75 is wrong\n"
     ]
    }
   ],
   "source": [
    "second_exam = Exam()\n",
    "second_exam.writing_grade = 75\n",
    "print('Second', second_exam.writing_grade, 'is right')\n",
    "print('First', first_exam.writing_grade, 'is wrong')"
   ]
  },
  {
   "cell_type": "markdown",
   "metadata": {},
   "source": [
    "- The problem is that a single Grade instance is shared across all Exam instances for the class attribute writing_grade. The Grade instance for this attibute is constucted once in the program lifetime when the Exam class is first defined, not each time an Exam instance is created."
   ]
  },
  {
   "cell_type": "markdown",
   "metadata": {},
   "source": [
    "- To solve this, I need the Grade class to keep track of its value for each unique Exam instance. I can do this by saving the per-instance state in a dictionary."
   ]
  },
  {
   "cell_type": "code",
   "execution_count": 62,
   "metadata": {
    "collapsed": true
   },
   "outputs": [],
   "source": [
    "class Grade(object):\n",
    "    def __init__(self):\n",
    "        self._values = {}\n",
    "        \n",
    "    def __get__(self, instance, instance_type):\n",
    "        if instance is None: return self\n",
    "        return self._values.get(instance, 0)\n",
    "    \n",
    "    def __set__(self, instance, value):\n",
    "        if not (0 <= value <= 100):\n",
    "            raise ValueError('Grade must be between 0 and 100')\n",
    "        self._values[instance] = value\n",
    "        \n",
    "        \n",
    "class Exam(object):\n",
    "    # Class attributes\n",
    "    math_grade = Grade()\n",
    "    writing_grade = Grade()\n",
    "    science_grade = Grade()"
   ]
  },
  {
   "cell_type": "markdown",
   "metadata": {},
   "source": [
    "- This implementation is simple and works well, but there's still one gotcha: It leaks memory. The \\_values dictionary will hold a reference to every instance of Exam ever passed to \\_\\_set\\_\\_ over the lifetime of the program. This causes instances to never have their reference count go to zero, preventing cleanup by the garbage collector."
   ]
  },
  {
   "cell_type": "markdown",
   "metadata": {},
   "source": [
    "- To fix this, I can use Python's weakref built-in module, This module provides a special class called WeakKeyDictionary that can take the place of the simple dictionary used for \\_values. The unique behavior of WeakKeyDictionary is that it will remove last remaining reference in the program. Python will do the bookkeeping for you and ensure that the \\_values dictionary will be empty when all Exam instances are no longer in use."
   ]
  },
  {
   "cell_type": "code",
   "execution_count": 65,
   "metadata": {
    "collapsed": true
   },
   "outputs": [],
   "source": [
    "from weakref import WeakKeyDictionary\n",
    "\n",
    "class Grade(object):\n",
    "    def __init__(self):\n",
    "        self._values = WeakKeyDictionary()\n",
    "        \n",
    "    def __get__(self, instance, instance_type):\n",
    "        if instance is None: return self\n",
    "        return self._values.get(instance, 0)\n",
    "    \n",
    "    def __set__(self, instance, value):\n",
    "        if not (0 <= value <= 100):\n",
    "            raise ValueError('Grade must be between 0 and 100')\n",
    "        self._values[instance] = value\n",
    "        \n",
    "        \n",
    "class Exam(object):\n",
    "    # Class attributes\n",
    "    math_grade = Grade()\n",
    "    writing_grade = Grade()\n",
    "    science_grade = Grade()"
   ]
  },
  {
   "cell_type": "markdown",
   "metadata": {},
   "source": [
    "- Using this implementatiion of the Grade descriptor, everything works as expected."
   ]
  },
  {
   "cell_type": "code",
   "execution_count": 66,
   "metadata": {},
   "outputs": [
    {
     "name": "stdout",
     "output_type": "stream",
     "text": [
      "First 82 is right\n",
      "Second 75 is right\n"
     ]
    }
   ],
   "source": [
    "first_exam = Exam()\n",
    "first_exam.writing_grade = 82\n",
    "second_exam = Exam()\n",
    "second_exam.writing_grade = 75\n",
    "print('First', first_exam.writing_grade, 'is right')\n",
    "print('Second', second_exam.writing_grade, 'is right')"
   ]
  },
  {
   "cell_type": "markdown",
   "metadata": {},
   "source": [
    "## Things to Remember"
   ]
  },
  {
   "cell_type": "markdown",
   "metadata": {},
   "source": [
    "- Reuse the behavior and validation of @property methods by defining your own descriptor classes.\n",
    "- Use WeakKeyDictionary to ensure that your descriptor classes don't cause memory leaks\n",
    "- Don't get bogged down trying to understand exactly how \\_\\_getattribute\\_\\_ uses the descriptor protocol for getting and setting attributes."
   ]
  },
  {
   "cell_type": "markdown",
   "metadata": {},
   "source": [
    "# Item 32: Use \\_\\_getattr\\_\\_, \\_\\_getattribute\\_\\_, and \\_\\_setattr\\_\\_ for Lazy Attributes"
   ]
  },
  {
   "cell_type": "markdown",
   "metadata": {},
   "source": [
    "- Python;s language hooks make it easy to write generic code for gluing systems together. For example, say you want to represent the rows of your database as Python objects. Your database has its schema set. Your code that uses objects corresponding to those rows must also know what your database looks like. However, in Python, the code that connects your Python objects to the database doesn't nees to know the scheman of your rows; it can be generic."
   ]
  },
  {
   "cell_type": "markdown",
   "metadata": {},
   "source": [
    "- How is that possible? Plain instance attributes, @property methods, and descriptor can't do this because they all need to be defined in advance. Python makes this dynamic behavior possible with the \\_\\_getattr\\_\\_ speical method. If your class defines \\_\\_getattr\\_\\_, that method is called every time an attribute can't be found in an object's instance dictionary."
   ]
  },
  {
   "cell_type": "code",
   "execution_count": 69,
   "metadata": {
    "collapsed": true
   },
   "outputs": [],
   "source": [
    "class LazyDB(object):\n",
    "    def __init__(self):\n",
    "        self.exists = 5\n",
    "        \n",
    "    def __getattr__(self, name):\n",
    "        value = 'Value for %s' % name\n",
    "        setattr(self, name, value)\n",
    "        return value"
   ]
  },
  {
   "cell_type": "markdown",
   "metadata": {},
   "source": [
    "- Here, I access the missing property foo. This causes Python to call the \\_\\_getattr\\_\\_ method above, which mutates the instance dictionary \\_\\_dict\\_\\_:"
   ]
  },
  {
   "cell_type": "code",
   "execution_count": 70,
   "metadata": {},
   "outputs": [
    {
     "name": "stdout",
     "output_type": "stream",
     "text": [
      "Before: {'exists': 5}\n",
      "foo:    Value for foo\n",
      "After:  {'exists': 5, 'foo': 'Value for foo'}\n"
     ]
    }
   ],
   "source": [
    "data = LazyDB()\n",
    "print('Before:', data.__dict__)\n",
    "print('foo:   ', data.foo)\n",
    "print('After: ', data.__dict__)"
   ]
  },
  {
   "cell_type": "markdown",
   "metadata": {},
   "source": [
    "- Here, I add logging to LazyDB to show when \\_\\_getattr\\_\\_ is actually called. Note that I use super().\\_\\_getattr\\_\\_() to get the real property value in order to avoid infinite recursion."
   ]
  },
  {
   "cell_type": "code",
   "execution_count": 72,
   "metadata": {},
   "outputs": [
    {
     "name": "stdout",
     "output_type": "stream",
     "text": [
      "exists: 5\n",
      "Called __getattr__(foo)\n",
      "foo:    Value for foo\n",
      "foo:    Value for foo\n"
     ]
    }
   ],
   "source": [
    "class LoggingLazyDB(LazyDB):\n",
    "    def __getattr__(self, name):\n",
    "        print('Called __getattr__(%s)' % name)\n",
    "        return super().__getattr__(name)\n",
    "    \n",
    "data = LoggingLazyDB()\n",
    "print('exists:', data.exists)\n",
    "print('foo:   ', data.foo)\n",
    "print('foo:   ', data.foo)"
   ]
  },
  {
   "cell_type": "code",
   "execution_count": 73,
   "metadata": {},
   "outputs": [
    {
     "name": "stdout",
     "output_type": "stream",
     "text": [
      "foo:    Value for foo\n"
     ]
    }
   ],
   "source": [
    "print('foo:   ', data.foo)"
   ]
  },
  {
   "cell_type": "markdown",
   "metadata": {},
   "source": [
    "- The exists attribute is present in the instance dictionary, so \\_\\_getattr\\_\\_ is never called for it. The foo attribute is not in the instance dictionary initailly, so \\_\\_getattr\\_\\_ is called the first time. But the call to \\_\\_getattr\\_\\_ for foo also does a setattr, which populates foo in the instance dictionary. This is why the second time I access foo there isn't a call to \\_\\_getattr\\_\\_.\n",
    "\n",
    "- This behavior is especially helpfil for use cases like lazily accessing schemaless data. \\_\\_getattr\\_\\_ runs once to do the hard work of loading a property; all subsequent accesses retrieve the existing result.\n",
    "\n",
    "- Say you also want transactions in this database system. The next time the user accesses a property, you want to know whether the corresponding row in the database is still valid and whether the transaction is still open. The \\_\\_getattr\\_\\_ hook won't let you do this reliably because it will use the object's instance dictionary as the fasy path for existing attibutes.\n",
    "\n",
    "- To enable this use case, Python has another language hook called \\_\\_getattribute\\_\\_. This special mehtod is called every time an attribute is accessed on an object, even in cases where is *does* exist in the attribute dictionary. This enables you to do things like check global transaction state on every property access. Here, I define ValidatingDB to log each time \\_\\_getattribute\\_\\_ is called:"
   ]
  },
  {
   "cell_type": "code",
   "execution_count": 76,
   "metadata": {
    "collapsed": true
   },
   "outputs": [],
   "source": [
    "class ValidatingDB(object):\n",
    "    def __init__(self):\n",
    "        self.exists = 5\n",
    "        \n",
    "    def __getattribute__(self, name):\n",
    "        print('Called __getattribute__(%s)' % name)\n",
    "        try:\n",
    "            return super().__getattribute__(name)\n",
    "        except AttributeError:\n",
    "            value = 'Value for %s' % name\n",
    "            setattr(self, name, value)\n",
    "            return value"
   ]
  },
  {
   "cell_type": "code",
   "execution_count": 78,
   "metadata": {},
   "outputs": [
    {
     "name": "stdout",
     "output_type": "stream",
     "text": [
      "Called __getattribute__(exists)\n",
      "exists: 5\n",
      "Called __getattribute__(foo)\n",
      "foo:    Value for foo\n",
      "Called __getattribute__(foo)\n",
      "foo:    Value for foo\n"
     ]
    }
   ],
   "source": [
    "data = ValidatingDB()\n",
    "print('exists:', data.exists)\n",
    "print('foo:   ', data.foo)\n",
    "print('foo:   ', data.foo)"
   ]
  },
  {
   "cell_type": "markdown",
   "metadata": {},
   "source": [
    "- In the event that a dynamically accessed property shouldn'y exist, you can raise an AttributeError to cause Python's standard missing property behavior for both \\_\\_getattr\\_\\_ and \\_\\_getattribute\\_\\_."
   ]
  },
  {
   "cell_type": "code",
   "execution_count": 81,
   "metadata": {},
   "outputs": [
    {
     "name": "stdout",
     "output_type": "stream",
     "text": [
      "Called __getattribute__(bad_name)\n"
     ]
    },
    {
     "data": {
      "text/plain": [
       "'Value for bad_name'"
      ]
     },
     "execution_count": 81,
     "metadata": {},
     "output_type": "execute_result"
    }
   ],
   "source": [
    "class MissingPropertyDB(object):\n",
    "    def __getattr__(self, name):\n",
    "        if name == 'bad_name':\n",
    "            raise AttributeError('%s is missing' % name)\n",
    "    def __init__(self):\n",
    "        self.exists = 5\n",
    "        \n",
    "    def __getattribute__(self, name):\n",
    "        print('Called __getattribute__(%s)' % name)\n",
    "        try:\n",
    "            return super().__getattribute__(name)\n",
    "        except AttributeError:\n",
    "            value = 'Value for %s' % name\n",
    "            setattr(self, name, value)\n",
    "            return value\n",
    "\n",
    "data = MissingPropertyDB()\n",
    "data.bad_name"
   ]
  },
  {
   "cell_type": "markdown",
   "metadata": {},
   "source": [
    "- Python code implementing generic functionality often relies on the hasattr built-in function to determine when properties exist, and the getattr built-in function to retrieve property values. These functions also look in the instance dictionary for an attribute name before calling \\_\\_getattr\\_\\_"
   ]
  },
  {
   "cell_type": "code",
   "execution_count": 83,
   "metadata": {},
   "outputs": [
    {
     "name": "stdout",
     "output_type": "stream",
     "text": [
      "Before:       {'exists': 5}\n",
      "Called __getattr__(foo)\n",
      "foo exists:   True\n",
      "After:        {'exists': 5, 'foo': 'Value for foo'}\n",
      "foo exists:   True\n"
     ]
    }
   ],
   "source": [
    "data = LoggingLazyDB()\n",
    "print('Before:      ', data.__dict__)\n",
    "print('foo exists:  ', hasattr(data, 'foo'))\n",
    "print('After:       ', data.__dict__)\n",
    "print('foo exists:  ', hasattr(data, 'foo'))"
   ]
  },
  {
   "cell_type": "markdown",
   "metadata": {},
   "source": [
    "- In the example above, \\_\\_getattr\\_\\_ is only called once, In contrast, classses that implement \\_\\_getattribute\\_\\_ will have that method called each time hasattr or getattr is run on an object."
   ]
  },
  {
   "cell_type": "code",
   "execution_count": 84,
   "metadata": {},
   "outputs": [
    {
     "name": "stdout",
     "output_type": "stream",
     "text": [
      "Called __getattribute__(foo)\n",
      "foo exists:  True\n",
      "Called __getattribute__(foo)\n",
      "foo exists:  True\n"
     ]
    }
   ],
   "source": [
    "data = ValidatingDB()\n",
    "print('foo exists: ', hasattr(data, 'foo'))\n",
    "print('foo exists: ', hasattr(data, 'foo'))"
   ]
  },
  {
   "cell_type": "markdown",
   "metadata": {
    "collapsed": true
   },
   "source": [
    "- Now, say you want to lazily push data back to the database when values are assigned to your Python object. You can do this with \\_\\_setattr\\_\\_, a similar language hook that lets you intercept arbitrary attribute assignments. Unlike retrieving an attribute with \\_\\_getattr\\_\\_ and \\_\\_getattribute\\_\\_, there's no need for two separate methods. The \\_\\_setter\\_\\_ method is always called every time an attribute is assigned on an instance(either directly or through the setattr built-in function)."
   ]
  },
  {
   "cell_type": "code",
   "execution_count": 1,
   "metadata": {
    "collapsed": true
   },
   "outputs": [],
   "source": [
    "class SavingDB(object):\n",
    "    def __setattr__(self, name, value):\n",
    "        # Save some data to the DB log\n",
    "        # ...\n",
    "        super().__setattr__(name, value)"
   ]
  },
  {
   "cell_type": "markdown",
   "metadata": {},
   "source": [
    "- Here, I define a logging subclass of SavingDB. Its \\_\\_setattr\\_\\_ method is alwats called on each attribute assignment:"
   ]
  },
  {
   "cell_type": "code",
   "execution_count": 5,
   "metadata": {},
   "outputs": [
    {
     "name": "stdout",
     "output_type": "stream",
     "text": [
      "Before:  {}\n",
      "Called __setattr__(foo, 5)\n",
      "After:   {'foo': 5}\n",
      "Called __setattr__(foo, 7)\n",
      "Finally: {'foo': 7}\n"
     ]
    }
   ],
   "source": [
    "class LoggingSavingDB(SavingDB):\n",
    "    def __setattr__(self, name, value):\n",
    "        print('Called __setattr__(%s, %r)' % (name, value))\n",
    "        super().__setattr__(name, value)\n",
    "\n",
    "\n",
    "data = LoggingSavingDB()\n",
    "print('Before: ', data.__dict__)\n",
    "data.foo = 5\n",
    "print('After:  ', data.__dict__)\n",
    "data.foo = 7\n",
    "print('Finally:', data.__dict__)\n"
   ]
  },
  {
   "cell_type": "markdown",
   "metadata": {},
   "source": [
    "- The problem with \\_\\_getattribute\\_\\_ and \\_\\_setattr\\_\\_ is that they're called on every attribute access for an object, even when you may not want that to happen. For example, say you want attribute accesses on your object to actually look up keys in an associated dictionary."
   ]
  },
  {
   "cell_type": "code",
   "execution_count": 6,
   "metadata": {
    "collapsed": true
   },
   "outputs": [],
   "source": [
    "class BrokenDictionaryDB(object):\n",
    "    def __init__(self, data):\n",
    "        self._data = {}\n",
    "        \n",
    "    def __getattribute__(self, name):\n",
    "        print('Called __getattribute__(%s)' % name)\n",
    "        return self._data[name]"
   ]
  },
  {
   "cell_type": "markdown",
   "metadata": {},
   "source": [
    "- This requires accessing self.\\_data from the \\_\\_getattribute\\_\\_ method. Howeber, if you actually try to do that, Python will recurse until it reaches its stack limit, and then it'll die."
   ]
  },
  {
   "cell_type": "code",
   "execution_count": 7,
   "metadata": {
    "collapsed": true
   },
   "outputs": [
    {
     "name": "stdout",
     "output_type": "stream",
     "text": [
      "Called __getattribute__(foo)\n",
      "Called __getattribute__(_data)\n",
      "Called __getattribute__(_data)\n",
      "Called __getattribute__(_data)\n",
      "Called __getattribute__(_data)\n",
      "Called __getattribute__(_data)\n",
      "Called __getattribute__(_data)\n",
      "Called __getattribute__(_data)\n",
      "Called __getattribute__(_data)\n",
      "Called __getattribute__(_data)\n",
      "Called __getattribute__(_data)\n",
      "Called __getattribute__(_data)\n",
      "Called __getattribute__(_data)\n",
      "Called __getattribute__(_data)\n",
      "Called __getattribute__(_data)\n",
      "Called __getattribute__(_data)\n",
      "Called __getattribute__(_data)\n",
      "Called __getattribute__(_data)\n",
      "Called __getattribute__(_data)\n",
      "Called __getattribute__(_data)\n",
      "Called __getattribute__(_data)\n",
      "Called __getattribute__(_data)\n",
      "Called __getattribute__(_data)\n",
      "Called __getattribute__(_data)\n",
      "Called __getattribute__(_data)\n",
      "Called __getattribute__(_data)\n",
      "Called __getattribute__(_data)\n",
      "Called __getattribute__(_data)\n",
      "Called __getattribute__(_data)\n",
      "Called __getattribute__(_data)\n",
      "Called __getattribute__(_data)\n",
      "Called __getattribute__(_data)\n",
      "Called __getattribute__(_data)\n",
      "Called __getattribute__(_data)\n",
      "Called __getattribute__(_data)\n",
      "Called __getattribute__(_data)\n",
      "Called __getattribute__(_data)\n",
      "Called __getattribute__(_data)\n",
      "Called __getattribute__(_data)\n",
      "Called __getattribute__(_data)\n",
      "Called __getattribute__(_data)\n",
      "Called __getattribute__(_data)\n",
      "Called __getattribute__(_data)\n",
      "Called __getattribute__(_data)\n",
      "Called __getattribute__(_data)\n",
      "Called __getattribute__(_data)\n",
      "Called __getattribute__(_data)\n",
      "Called __getattribute__(_data)\n",
      "Called __getattribute__(_data)\n",
      "Called __getattribute__(_data)\n",
      "Called __getattribute__(_data)\n",
      "Called __getattribute__(_data)\n",
      "Called __getattribute__(_data)\n",
      "Called __getattribute__(_data)\n",
      "Called __getattribute__(_data)\n",
      "Called __getattribute__(_data)\n",
      "Called __getattribute__(_data)\n",
      "Called __getattribute__(_data)\n",
      "Called __getattribute__(_data)\n",
      "Called __getattribute__(_data)\n",
      "Called __getattribute__(_data)\n",
      "Called __getattribute__(_data)\n",
      "Called __getattribute__(_data)\n",
      "Called __getattribute__(_data)\n",
      "Called __getattribute__(_data)\n",
      "Called __getattribute__(_data)\n",
      "Called __getattribute__(_data)\n",
      "Called __getattribute__(_data)\n",
      "Called __getattribute__(_data)\n",
      "Called __getattribute__(_data)\n",
      "Called __getattribute__(_data)\n",
      "Called __getattribute__(_data)\n",
      "Called __getattribute__(_data)\n",
      "Called __getattribute__(_data)\n",
      "Called __getattribute__(_data)\n",
      "Called __getattribute__(_data)\n",
      "Called __getattribute__(_data)\n",
      "Called __getattribute__(_data)\n",
      "Called __getattribute__(_data)\n",
      "Called __getattribute__(_data)\n",
      "Called __getattribute__(_data)\n",
      "Called __getattribute__(_data)\n",
      "Called __getattribute__(_data)\n",
      "Called __getattribute__(_data)\n",
      "Called __getattribute__(_data)\n",
      "Called __getattribute__(_data)\n",
      "Called __getattribute__(_data)\n",
      "Called __getattribute__(_data)\n",
      "Called __getattribute__(_data)\n",
      "Called __getattribute__(_data)\n",
      "Called __getattribute__(_data)\n",
      "Called __getattribute__(_data)\n",
      "Called __getattribute__(_data)\n",
      "Called __getattribute__(_data)\n",
      "Called __getattribute__(_data)\n",
      "Called __getattribute__(_data)\n",
      "Called __getattribute__(_data)\n",
      "Called __getattribute__(_data)\n",
      "Called __getattribute__(_data)\n",
      "Called __getattribute__(_data)\n",
      "Called __getattribute__(_data)\n",
      "Called __getattribute__(_data)\n",
      "Called __getattribute__(_data)\n",
      "Called __getattribute__(_data)\n",
      "Called __getattribute__(_data)\n",
      "Called __getattribute__(_data)\n",
      "Called __getattribute__(_data)\n",
      "Called __getattribute__(_data)\n",
      "Called __getattribute__(_data)\n",
      "Called __getattribute__(_data)\n",
      "Called __getattribute__(_data)\n",
      "Called __getattribute__(_data)\n",
      "Called __getattribute__(_data)\n",
      "Called __getattribute__(_data)\n",
      "Called __getattribute__(_data)\n",
      "Called __getattribute__(_data)\n",
      "Called __getattribute__(_data)\n",
      "Called __getattribute__(_data)\n",
      "Called __getattribute__(_data)\n",
      "Called __getattribute__(_data)\n",
      "Called __getattribute__(_data)\n",
      "Called __getattribute__(_data)\n",
      "Called __getattribute__(_data)\n",
      "Called __getattribute__(_data)\n",
      "Called __getattribute__(_data)\n",
      "Called __getattribute__(_data)\n",
      "Called __getattribute__(_data)\n",
      "Called __getattribute__(_data)\n",
      "Called __getattribute__(_data)\n",
      "Called __getattribute__(_data)\n",
      "Called __getattribute__(_data)\n",
      "Called __getattribute__(_data)\n",
      "Called __getattribute__(_data)\n",
      "Called __getattribute__(_data)\n",
      "Called __getattribute__(_data)\n",
      "Called __getattribute__(_data)\n",
      "Called __getattribute__(_data)\n",
      "Called __getattribute__(_data)\n",
      "Called __getattribute__(_data)\n",
      "Called __getattribute__(_data)\n",
      "Called __getattribute__(_data)\n",
      "Called __getattribute__(_data)\n",
      "Called __getattribute__(_data)\n",
      "Called __getattribute__(_data)\n",
      "Called __getattribute__(_data)\n",
      "Called __getattribute__(_data)\n",
      "Called __getattribute__(_data)\n",
      "Called __getattribute__(_data)\n",
      "Called __getattribute__(_data)\n",
      "Called __getattribute__(_data)\n",
      "Called __getattribute__(_data)\n",
      "Called __getattribute__(_data)\n",
      "Called __getattribute__(_data)\n",
      "Called __getattribute__(_data)\n",
      "Called __getattribute__(_data)\n",
      "Called __getattribute__(_data)\n",
      "Called __getattribute__(_data)\n",
      "Called __getattribute__(_data)\n",
      "Called __getattribute__(_data)\n",
      "Called __getattribute__(_data)\n",
      "Called __getattribute__(_data)\n",
      "Called __getattribute__(_data)\n",
      "Called __getattribute__(_data)\n",
      "Called __getattribute__(_data)\n",
      "Called __getattribute__(_data)\n",
      "Called __getattribute__(_data)\n",
      "Called __getattribute__(_data)\n",
      "Called __getattribute__(_data)\n",
      "Called __getattribute__(_data)\n",
      "Called __getattribute__(_data)\n",
      "Called __getattribute__(_data)\n",
      "Called __getattribute__(_data)\n",
      "Called __getattribute__(_data)\n",
      "Called __getattribute__(_data)\n",
      "Called __getattribute__(_data)\n",
      "Called __getattribute__(_data)\n",
      "Called __getattribute__(_data)\n",
      "Called __getattribute__(_data)\n",
      "Called __getattribute__(_data)\n",
      "Called __getattribute__(_data)\n",
      "Called __getattribute__(_data)\n",
      "Called __getattribute__(_data)\n",
      "Called __getattribute__(_data)\n",
      "Called __getattribute__(_data)\n",
      "Called __getattribute__(_data)\n",
      "Called __getattribute__(_data)\n",
      "Called __getattribute__(_data)\n",
      "Called __getattribute__(_data)\n",
      "Called __getattribute__(_data)\n",
      "Called __getattribute__(_data)\n",
      "Called __getattribute__(_data)\n",
      "Called __getattribute__(_data)\n",
      "Called __getattribute__(_data)\n",
      "Called __getattribute__(_data)\n",
      "Called __getattribute__(_data)\n",
      "Called __getattribute__(_data)\n",
      "Called __getattribute__(_data)\n",
      "Called __getattribute__(_data)\n",
      "Called __getattribute__(_data)\n",
      "Called __getattribute__(_data)\n",
      "Called __getattribute__(_data)\n",
      "Called __getattribute__(_data)\n",
      "Called __getattribute__(_data)\n",
      "Called __getattribute__(_data)\n",
      "Called __getattribute__(_data)\n",
      "Called __getattribute__(_data)\n",
      "Called __getattribute__(_data)\n",
      "Called __getattribute__(_data)\n",
      "Called __getattribute__(_data)\n",
      "Called __getattribute__(_data)\n",
      "Called __getattribute__(_data)\n",
      "Called __getattribute__(_data)\n",
      "Called __getattribute__(_data)\n",
      "Called __getattribute__(_data)\n",
      "Called __getattribute__(_data)\n",
      "Called __getattribute__(_data)\n",
      "Called __getattribute__(_data)\n",
      "Called __getattribute__(_data)\n",
      "Called __getattribute__(_data)\n",
      "Called __getattribute__(_data)\n",
      "Called __getattribute__(_data)\n",
      "Called __getattribute__(_data)\n",
      "Called __getattribute__(_data)\n",
      "Called __getattribute__(_data)\n",
      "Called __getattribute__(_data)\n",
      "Called __getattribute__(_data)\n",
      "Called __getattribute__(_data)\n",
      "Called __getattribute__(_data)\n",
      "Called __getattribute__(_data)\n",
      "Called __getattribute__(_data)\n",
      "Called __getattribute__(_data)\n",
      "Called __getattribute__(_data)\n",
      "Called __getattribute__(_data)\n",
      "Called __getattribute__(_data)\n",
      "Called __getattribute__(_data)\n",
      "Called __getattribute__(_data)\n",
      "Called __getattribute__(_data)\n",
      "Called __getattribute__(_data)\n",
      "Called __getattribute__(_data)\n",
      "Called __getattribute__(_data)\n",
      "Called __getattribute__(_data)\n",
      "Called __getattribute__(_data)\n",
      "Called __getattribute__(_data)\n",
      "Called __getattribute__(_data)\n",
      "Called __getattribute__(_data)\n",
      "Called __getattribute__(_data)\n",
      "Called __getattribute__(_data)\n",
      "Called __getattribute__(_data)\n",
      "Called __getattribute__(_data)\n",
      "Called __getattribute__(_data)\n",
      "Called __getattribute__(_data)\n",
      "Called __getattribute__(_data)\n",
      "Called __getattribute__(_data)\n",
      "Called __getattribute__(_data)\n",
      "Called __getattribute__(_data)\n",
      "Called __getattribute__(_data)\n",
      "Called __getattribute__(_data)\n",
      "Called __getattribute__(_data)\n",
      "Called __getattribute__(_data)\n",
      "Called __getattribute__(_data)\n",
      "Called __getattribute__(_data)\n",
      "Called __getattribute__(_data)\n",
      "Called __getattribute__(_data)\n",
      "Called __getattribute__(_data)\n",
      "Called __getattribute__(_data)\n",
      "Called __getattribute__(_data)\n",
      "Called __getattribute__(_data)\n",
      "Called __getattribute__(_data)\n",
      "Called __getattribute__(_data)\n",
      "Called __getattribute__(_data)\n",
      "Called __getattribute__(_data)\n",
      "Called __getattribute__(_data)\n",
      "Called __getattribute__(_data)\n",
      "Called __getattribute__(_data)\n",
      "Called __getattribute__(_data)\n",
      "Called __getattribute__(_data)\n",
      "Called __getattribute__(_data)\n",
      "Called __getattribute__(_data)\n",
      "Called __getattribute__(_data)\n",
      "Called __getattribute__(_data)\n",
      "Called __getattribute__(_data)\n",
      "Called __getattribute__(_data)\n",
      "Called __getattribute__(_data)\n",
      "Called __getattribute__(_data)\n",
      "Called __getattribute__(_data)\n",
      "Called __getattribute__(_data)\n",
      "Called __getattribute__(_data)\n",
      "Called __getattribute__(_data)\n",
      "Called __getattribute__(_data)\n",
      "Called __getattribute__(_data)\n",
      "Called __getattribute__(_data)\n",
      "Called __getattribute__(_data)\n",
      "Called __getattribute__(_data)\n",
      "Called __getattribute__(_data)\n",
      "Called __getattribute__(_data)\n",
      "Called __getattribute__(_data)\n",
      "Called __getattribute__(_data)\n",
      "Called __getattribute__(_data)\n",
      "Called __getattribute__(_data)\n",
      "Called __getattribute__(_data)\n",
      "Called __getattribute__(_data)\n",
      "Called __getattribute__(_data)\n",
      "Called __getattribute__(_data)\n",
      "Called __getattribute__(_data)\n",
      "Called __getattribute__(_data)\n",
      "Called __getattribute__(_data)\n",
      "Called __getattribute__(_data)\n",
      "Called __getattribute__(_data)\n",
      "Called __getattribute__(_data)\n",
      "Called __getattribute__(_data)\n",
      "Called __getattribute__(_data)\n",
      "Called __getattribute__(_data)\n",
      "Called __getattribute__(_data)\n",
      "Called __getattribute__(_data)\n",
      "Called __getattribute__(_data)\n",
      "Called __getattribute__(_data)\n",
      "Called __getattribute__(_data)\n",
      "Called __getattribute__(_data)\n",
      "Called __getattribute__(_data)\n",
      "Called __getattribute__(_data)\n",
      "Called __getattribute__(_data)\n",
      "Called __getattribute__(_data)\n",
      "Called __getattribute__(_data)\n",
      "Called __getattribute__(_data)\n",
      "Called __getattribute__(_data)\n",
      "Called __getattribute__(_data)\n",
      "Called __getattribute__(_data)\n",
      "Called __getattribute__(_data)\n",
      "Called __getattribute__(_data)\n",
      "Called __getattribute__(_data)\n",
      "Called __getattribute__(_data)\n",
      "Called __getattribute__(_data)\n",
      "Called __getattribute__(_data)\n",
      "Called __getattribute__(_data)\n",
      "Called __getattribute__(_data)\n",
      "Called __getattribute__(_data)\n",
      "Called __getattribute__(_data)\n",
      "Called __getattribute__(_data)\n",
      "Called __getattribute__(_data)\n",
      "Called __getattribute__(_data)\n",
      "Called __getattribute__(_data)\n",
      "Called __getattribute__(_data)\n",
      "Called __getattribute__(_data)\n",
      "Called __getattribute__(_data)\n",
      "Called __getattribute__(_data)\n",
      "Called __getattribute__(_data)\n",
      "Called __getattribute__(_data)\n",
      "Called __getattribute__(_data)\n",
      "Called __getattribute__(_data)\n",
      "Called __getattribute__(_data)\n",
      "Called __getattribute__(_data)\n",
      "Called __getattribute__(_data)\n",
      "Called __getattribute__(_data)\n",
      "Called __getattribute__(_data)\n",
      "Called __getattribute__(_data)\n",
      "Called __getattribute__(_data)\n",
      "Called __getattribute__(_data)\n",
      "Called __getattribute__(_data)\n",
      "Called __getattribute__(_data)\n",
      "Called __getattribute__(_data)\n",
      "Called __getattribute__(_data)\n",
      "Called __getattribute__(_data)\n",
      "Called __getattribute__(_data)\n",
      "Called __getattribute__(_data)\n",
      "Called __getattribute__(_data)\n",
      "Called __getattribute__(_data)\n",
      "Called __getattribute__(_data)\n",
      "Called __getattribute__(_data)\n",
      "Called __getattribute__(_data)\n",
      "Called __getattribute__(_data)\n",
      "Called __getattribute__(_data)\n",
      "Called __getattribute__(_data)\n",
      "Called __getattribute__(_data)\n",
      "Called __getattribute__(_data)\n",
      "Called __getattribute__(_data)\n",
      "Called __getattribute__(_data)\n",
      "Called __getattribute__(_data)\n",
      "Called __getattribute__(_data)\n",
      "Called __getattribute__(_data)\n",
      "Called __getattribute__(_data)\n",
      "Called __getattribute__(_data)\n",
      "Called __getattribute__(_data)\n",
      "Called __getattribute__(_data)\n",
      "Called __getattribute__(_data)\n",
      "Called __getattribute__(_data)\n",
      "Called __getattribute__(_data)\n",
      "Called __getattribute__(_data)\n",
      "Called __getattribute__(_data)\n",
      "Called __getattribute__(_data)\n",
      "Called __getattribute__(_data)\n",
      "Called __getattribute__(_data)\n",
      "Called __getattribute__(_data)\n",
      "Called __getattribute__(_data)\n",
      "Called __getattribute__(_data)\n",
      "Called __getattribute__(_data)\n",
      "Called __getattribute__(_data)\n",
      "Called __getattribute__(_data)\n",
      "Called __getattribute__(_data)\n",
      "Called __getattribute__(_data)\n",
      "Called __getattribute__(_data)\n",
      "Called __getattribute__(_data)\n",
      "Called __getattribute__(_data)\n",
      "Called __getattribute__(_data)\n",
      "Called __getattribute__(_data)\n",
      "Called __getattribute__(_data)\n",
      "Called __getattribute__(_data)\n",
      "Called __getattribute__(_data)\n",
      "Called __getattribute__(_data)\n",
      "Called __getattribute__(_data)\n",
      "Called __getattribute__(_data)\n",
      "Called __getattribute__(_data)\n",
      "Called __getattribute__(_data)\n",
      "Called __getattribute__(_data)\n",
      "Called __getattribute__(_data)\n",
      "Called __getattribute__(_data)\n",
      "Called __getattribute__(_data)\n",
      "Called __getattribute__(_data)\n",
      "Called __getattribute__(_data)\n",
      "Called __getattribute__(_data)\n",
      "Called __getattribute__(_data)\n",
      "Called __getattribute__(_data)\n",
      "Called __getattribute__(_data)\n",
      "Called __getattribute__(_data)\n",
      "Called __getattribute__(_data)\n",
      "Called __getattribute__(_data)\n",
      "Called __getattribute__(_data)\n",
      "Called __getattribute__(_data)\n",
      "Called __getattribute__(_data)\n",
      "Called __getattribute__(_data)\n",
      "Called __getattribute__(_data)\n",
      "Called __getattribute__(_data)\n",
      "Called __getattribute__(_data)\n",
      "Called __getattribute__(_data)\n",
      "Called __getattribute__(_data)\n",
      "Called __getattribute__(_data)\n",
      "Called __getattribute__(_data)\n",
      "Called __getattribute__(_data)\n",
      "Called __getattribute__(_data)\n",
      "Called __getattribute__(_data)\n",
      "Called __getattribute__(_data)\n",
      "Called __getattribute__(_data)\n",
      "Called __getattribute__(_data)\n",
      "Called __getattribute__(_data)\n",
      "Called __getattribute__(_data)\n",
      "Called __getattribute__(_data)\n",
      "Called __getattribute__(_data)\n",
      "Called __getattribute__(_data)\n",
      "Called __getattribute__(_data)\n",
      "Called __getattribute__(_data)\n",
      "Called __getattribute__(_data)\n",
      "Called __getattribute__(_data)\n",
      "Called __getattribute__(_data)\n",
      "Called __getattribute__(_data)\n",
      "Called __getattribute__(_data)\n",
      "Called __getattribute__(_data)\n",
      "Called __getattribute__(_data)\n",
      "Called __getattribute__(_data)\n",
      "Called __getattribute__(_data)\n",
      "Called __getattribute__(_data)\n",
      "Called __getattribute__(_data)\n",
      "Called __getattribute__(_data)\n",
      "Called __getattribute__(_data)\n",
      "Called __getattribute__(_data)\n",
      "Called __getattribute__(_data)\n",
      "Called __getattribute__(_data)\n",
      "Called __getattribute__(_data)\n",
      "Called __getattribute__(_data)\n",
      "Called __getattribute__(_data)\n",
      "Called __getattribute__(_data)\n",
      "Called __getattribute__(_data)\n",
      "Called __getattribute__(_data)\n",
      "Called __getattribute__(_data)\n",
      "Called __getattribute__(_data)\n",
      "Called __getattribute__(_data)\n",
      "Called __getattribute__(_data)\n",
      "Called __getattribute__(_data)\n",
      "Called __getattribute__(_data)\n",
      "Called __getattribute__(_data)\n",
      "Called __getattribute__(_data)\n",
      "Called __getattribute__(_data)\n",
      "Called __getattribute__(_data)\n",
      "Called __getattribute__(_data)\n",
      "Called __getattribute__(_data)\n",
      "Called __getattribute__(_data)\n",
      "Called __getattribute__(_data)\n",
      "Called __getattribute__(_data)\n",
      "Called __getattribute__(_data)\n",
      "Called __getattribute__(_data)\n",
      "Called __getattribute__(_data)\n",
      "Called __getattribute__(_data)\n",
      "Called __getattribute__(_data)\n",
      "Called __getattribute__(_data)\n",
      "Called __getattribute__(_data)\n",
      "Called __getattribute__(_data)\n",
      "Called __getattribute__(_data)\n",
      "Called __getattribute__(_data)\n",
      "Called __getattribute__(_data)\n",
      "Called __getattribute__(_data)\n",
      "Called __getattribute__(_data)\n",
      "Called __getattribute__(_data)\n",
      "Called __getattribute__(_data)\n",
      "Called __getattribute__(_data)\n",
      "Called __getattribute__(_data)\n",
      "Called __getattribute__(_data)\n",
      "Called __getattribute__(_data)\n",
      "Called __getattribute__(_data)\n",
      "Called __getattribute__(_data)\n",
      "Called __getattribute__(_data)\n",
      "Called __getattribute__(_data)\n",
      "Called __getattribute__(_data)\n",
      "Called __getattribute__(_data)\n",
      "Called __getattribute__(_data)\n",
      "Called __getattribute__(_data)\n",
      "Called __getattribute__(_data)\n",
      "Called __getattribute__(_data)\n",
      "Called __getattribute__(_data)\n",
      "Called __getattribute__(_data)\n",
      "Called __getattribute__(_data)\n",
      "Called __getattribute__(_data)\n",
      "Called __getattribute__(_data)\n",
      "Called __getattribute__(_data)\n",
      "Called __getattribute__(_data)\n",
      "Called __getattribute__(_data)\n",
      "Called __getattribute__(_data)\n",
      "Called __getattribute__(_data)\n",
      "Called __getattribute__(_data)\n",
      "Called __getattribute__(_data)\n",
      "Called __getattribute__(_data)\n",
      "Called __getattribute__(_data)\n",
      "Called __getattribute__(_data)\n",
      "Called __getattribute__(_data)\n",
      "Called __getattribute__(_data)\n",
      "Called __getattribute__(_data)\n",
      "Called __getattribute__(_data)\n",
      "Called __getattribute__(_data)\n",
      "Called __getattribute__(_data)\n",
      "Called __getattribute__(_data)\n",
      "Called __getattribute__(_data)\n",
      "Called __getattribute__(_data)\n",
      "Called __getattribute__(_data)\n",
      "Called __getattribute__(_data)\n",
      "Called __getattribute__(_data)\n",
      "Called __getattribute__(_data)\n",
      "Called __getattribute__(_data)\n",
      "Called __getattribute__(_data)\n",
      "Called __getattribute__(_data)\n",
      "Called __getattribute__(_data)\n",
      "Called __getattribute__(_data)\n",
      "Called __getattribute__(_data)\n",
      "Called __getattribute__(_data)\n",
      "Called __getattribute__(_data)\n",
      "Called __getattribute__(_data)\n",
      "Called __getattribute__(_data)\n",
      "Called __getattribute__(_data)\n",
      "Called __getattribute__(_data)\n",
      "Called __getattribute__(_data)\n",
      "Called __getattribute__(_data)\n",
      "Called __getattribute__(_data)\n",
      "Called __getattribute__(_data)\n",
      "Called __getattribute__(_data)\n",
      "Called __getattribute__(_data)\n",
      "Called __getattribute__(_data)\n",
      "Called __getattribute__(_data)\n",
      "Called __getattribute__(_data)\n",
      "Called __getattribute__(_data)\n",
      "Called __getattribute__(_data)\n",
      "Called __getattribute__(_data)\n",
      "Called __getattribute__(_data)\n",
      "Called __getattribute__(_data)\n",
      "Called __getattribute__(_data)\n",
      "Called __getattribute__(_data)\n",
      "Called __getattribute__(_data)\n",
      "Called __getattribute__(_data)\n",
      "Called __getattribute__(_data)\n",
      "Called __getattribute__(_data)\n",
      "Called __getattribute__(_data)\n",
      "Called __getattribute__(_data)\n",
      "Called __getattribute__(_data)\n",
      "Called __getattribute__(_data)\n",
      "Called __getattribute__(_data)\n",
      "Called __getattribute__(_data)\n",
      "Called __getattribute__(_data)\n",
      "Called __getattribute__(_data)\n",
      "Called __getattribute__(_data)\n",
      "Called __getattribute__(_data)\n",
      "Called __getattribute__(_data)\n",
      "Called __getattribute__(_data)\n",
      "Called __getattribute__(_data)\n",
      "Called __getattribute__(_data)\n",
      "Called __getattribute__(_data)\n",
      "Called __getattribute__(_data)\n",
      "Called __getattribute__(_data)\n",
      "Called __getattribute__(_data)\n",
      "Called __getattribute__(_data)\n",
      "Called __getattribute__(_data)\n",
      "Called __getattribute__(_data)\n",
      "Called __getattribute__(_data)\n",
      "Called __getattribute__(_data)\n",
      "Called __getattribute__(_data)\n",
      "Called __getattribute__(_data)\n",
      "Called __getattribute__(_data)\n",
      "Called __getattribute__(_data)\n",
      "Called __getattribute__(_data)\n",
      "Called __getattribute__(_data)\n",
      "Called __getattribute__(_data)\n",
      "Called __getattribute__(_data)\n",
      "Called __getattribute__(_data)\n",
      "Called __getattribute__(_data)\n",
      "Called __getattribute__(_data)\n",
      "Called __getattribute__(_data)\n",
      "Called __getattribute__(_data)\n",
      "Called __getattribute__(_data)\n",
      "Called __getattribute__(_data)\n",
      "Called __getattribute__(_data)\n",
      "Called __getattribute__(_data)\n",
      "Called __getattribute__(_data)\n",
      "Called __getattribute__(_data)\n",
      "Called __getattribute__(_data)\n",
      "Called __getattribute__(_data)\n",
      "Called __getattribute__(_data)\n",
      "Called __getattribute__(_data)\n",
      "Called __getattribute__(_data)\n",
      "Called __getattribute__(_data)\n",
      "Called __getattribute__(_data)\n",
      "Called __getattribute__(_data)\n",
      "Called __getattribute__(_data)\n",
      "Called __getattribute__(_data)\n",
      "Called __getattribute__(_data)\n",
      "Called __getattribute__(_data)\n",
      "Called __getattribute__(_data)\n",
      "Called __getattribute__(_data)\n",
      "Called __getattribute__(_data)\n",
      "Called __getattribute__(_data)\n",
      "Called __getattribute__(_data)\n",
      "Called __getattribute__(_data)\n",
      "Called __getattribute__(_data)\n",
      "Called __getattribute__(_data)\n",
      "Called __getattribute__(_data)\n",
      "Called __getattribute__(_data)\n",
      "Called __getattribute__(_data)\n",
      "Called __getattribute__(_data)\n",
      "Called __getattribute__(_data)\n",
      "Called __getattribute__(_data)\n",
      "Called __getattribute__(_data)\n",
      "Called __getattribute__(_data)\n",
      "Called __getattribute__(_data)\n",
      "Called __getattribute__(_data)\n",
      "Called __getattribute__(_data)\n",
      "Called __getattribute__(_data)\n",
      "Called __getattribute__(_data)\n",
      "Called __getattribute__(_data)\n",
      "Called __getattribute__(_data)\n",
      "Called __getattribute__(_data)\n",
      "Called __getattribute__(_data)\n",
      "Called __getattribute__(_data)\n"
     ]
    },
    {
     "ename": "RecursionError",
     "evalue": "maximum recursion depth exceeded in comparison",
     "output_type": "error",
     "traceback": [
      "\u001b[0;31m---------------------------------------------------------------------------\u001b[0m",
      "\u001b[0;31mRecursionError\u001b[0m                            Traceback (most recent call last)",
      "\u001b[0;32m<ipython-input-7-8a79631aa596>\u001b[0m in \u001b[0;36m<module>\u001b[0;34m()\u001b[0m\n\u001b[1;32m      1\u001b[0m \u001b[0mdata\u001b[0m \u001b[0;34m=\u001b[0m \u001b[0mBrokenDictionaryDB\u001b[0m\u001b[0;34m(\u001b[0m\u001b[0;34m{\u001b[0m\u001b[0;34m'foo'\u001b[0m\u001b[0;34m:\u001b[0m \u001b[0;36m3\u001b[0m\u001b[0;34m}\u001b[0m\u001b[0;34m)\u001b[0m\u001b[0;34m\u001b[0m\u001b[0m\n\u001b[0;32m----> 2\u001b[0;31m \u001b[0mdata\u001b[0m\u001b[0;34m.\u001b[0m\u001b[0mfoo\u001b[0m\u001b[0;34m\u001b[0m\u001b[0m\n\u001b[0m",
      "\u001b[0;32m<ipython-input-6-586e95c8f8b1>\u001b[0m in \u001b[0;36m__getattribute__\u001b[0;34m(self, name)\u001b[0m\n\u001b[1;32m      5\u001b[0m     \u001b[0;32mdef\u001b[0m \u001b[0m__getattribute__\u001b[0m\u001b[0;34m(\u001b[0m\u001b[0mself\u001b[0m\u001b[0;34m,\u001b[0m \u001b[0mname\u001b[0m\u001b[0;34m)\u001b[0m\u001b[0;34m:\u001b[0m\u001b[0;34m\u001b[0m\u001b[0m\n\u001b[1;32m      6\u001b[0m         \u001b[0mprint\u001b[0m\u001b[0;34m(\u001b[0m\u001b[0;34m'Called __getattribute__(%s)'\u001b[0m \u001b[0;34m%\u001b[0m \u001b[0mname\u001b[0m\u001b[0;34m)\u001b[0m\u001b[0;34m\u001b[0m\u001b[0m\n\u001b[0;32m----> 7\u001b[0;31m         \u001b[0;32mreturn\u001b[0m \u001b[0mself\u001b[0m\u001b[0;34m.\u001b[0m\u001b[0m_data\u001b[0m\u001b[0;34m[\u001b[0m\u001b[0mname\u001b[0m\u001b[0;34m]\u001b[0m\u001b[0;34m\u001b[0m\u001b[0m\n\u001b[0m",
      "... last 1 frames repeated, from the frame below ...\n",
      "\u001b[0;32m<ipython-input-6-586e95c8f8b1>\u001b[0m in \u001b[0;36m__getattribute__\u001b[0;34m(self, name)\u001b[0m\n\u001b[1;32m      5\u001b[0m     \u001b[0;32mdef\u001b[0m \u001b[0m__getattribute__\u001b[0m\u001b[0;34m(\u001b[0m\u001b[0mself\u001b[0m\u001b[0;34m,\u001b[0m \u001b[0mname\u001b[0m\u001b[0;34m)\u001b[0m\u001b[0;34m:\u001b[0m\u001b[0;34m\u001b[0m\u001b[0m\n\u001b[1;32m      6\u001b[0m         \u001b[0mprint\u001b[0m\u001b[0;34m(\u001b[0m\u001b[0;34m'Called __getattribute__(%s)'\u001b[0m \u001b[0;34m%\u001b[0m \u001b[0mname\u001b[0m\u001b[0;34m)\u001b[0m\u001b[0;34m\u001b[0m\u001b[0m\n\u001b[0;32m----> 7\u001b[0;31m         \u001b[0;32mreturn\u001b[0m \u001b[0mself\u001b[0m\u001b[0;34m.\u001b[0m\u001b[0m_data\u001b[0m\u001b[0;34m[\u001b[0m\u001b[0mname\u001b[0m\u001b[0;34m]\u001b[0m\u001b[0;34m\u001b[0m\u001b[0m\n\u001b[0m",
      "\u001b[0;31mRecursionError\u001b[0m: maximum recursion depth exceeded in comparison"
     ]
    }
   ],
   "source": [
    "data = BrokenDictionaryDB({'foo': 3})\n",
    "data.foo"
   ]
  },
  {
   "cell_type": "code",
   "execution_count": 8,
   "metadata": {
    "collapsed": true
   },
   "outputs": [],
   "source": [
    "class DictionaryDB(object):\n",
    "    def __init__(self, data):\n",
    "        self._data = data\n",
    "    \n",
    "    def __getatttribute__(self, name):\n",
    "        data_dict = super().__getattribute__('_data')\n",
    "        return data_dict[name]"
   ]
  },
  {
   "cell_type": "markdown",
   "metadata": {},
   "source": [
    "- Similarly, you'll need \\_\\_setattr\\_\\_ methods that modify attributes on an object to use super().\\_\\_setattr\\_\\_."
   ]
  },
  {
   "cell_type": "markdown",
   "metadata": {},
   "source": [
    "## Things to Remember"
   ]
  },
  {
   "cell_type": "markdown",
   "metadata": {},
   "source": [
    "- Use \\_\\_getattr\\_\\_ and \\_\\_setattr\\_\\_ to lazily load and save attributes for an object.\n",
    "- Undenstand that \\_\\_getattr\\_\\_ only gets called once when accessing a missing attributes, whereas \\_\\_getattribute\\_\\_ gets called every time an attribute is accessed.\n",
    "- Avoid infinite recuresion in \\_\\_getattribute\\_\\_ and \\_\\_setattr\\_\\_ by using methods from super() (i.e., the object class) to access instance attributes directly."
   ]
  }
 ],
 "metadata": {
  "kernelspec": {
   "display_name": "Python 3",
   "language": "python",
   "name": "python3"
  },
  "language_info": {
   "codemirror_mode": {
    "name": "ipython",
    "version": 3
   },
   "file_extension": ".py",
   "mimetype": "text/x-python",
   "name": "python",
   "nbconvert_exporter": "python",
   "pygments_lexer": "ipython3",
   "version": "3.6.2"
  }
 },
 "nbformat": 4,
 "nbformat_minor": 2
}
