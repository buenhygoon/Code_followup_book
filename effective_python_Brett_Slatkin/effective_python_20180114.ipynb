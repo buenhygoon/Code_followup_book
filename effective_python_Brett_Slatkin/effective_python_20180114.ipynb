{
 "cells": [
  {
   "cell_type": "markdown",
   "metadata": {},
   "source": [
    "# Item 25: Initialize Parent Classes with super"
   ]
  },
  {
   "cell_type": "markdown",
   "metadata": {},
   "source": [
    "- The old way to initialize a parent class from a child class is to directly call the parent calss's \\_\\_init\\_\\_ mehtod with the child instance."
   ]
  },
  {
   "cell_type": "code",
   "execution_count": 1,
   "metadata": {
    "collapsed": true
   },
   "outputs": [],
   "source": [
    "class MyBaseClass(object):\n",
    "    def __init__(self, value):\n",
    "        self.value = value\n",
    "        \n",
    "\n",
    "class MyChildClass(MyBaseClass):\n",
    "    def __init__(self):\n",
    "        MyBaseClass.__init__(self, 5)"
   ]
  },
  {
   "cell_type": "markdown",
   "metadata": {},
   "source": [
    "- This approach works fine for simple hierarchies but breaks down in many cases.\n",
    "- If your class is affected by multiple inheritance (something to avoid in general), calling the superclasses' \\_\\_init\\_\\_ mehotds directly can lead to unpredictable behavior."
   ]
  },
  {
   "cell_type": "markdown",
   "metadata": {},
   "source": [
    "- One problem is that the \\_\\_init\\_\\_ call order isn't specified across all subclasses. For example, here I define two parent classes that operate on the instance's value field:"
   ]
  },
  {
   "cell_type": "code",
   "execution_count": 3,
   "metadata": {
    "collapsed": true
   },
   "outputs": [],
   "source": [
    "class TimesTwo(object):\n",
    "    def __init__(self):\n",
    "        self.value *= 2\n",
    "    \n",
    "    \n",
    "class PlusFive(object):\n",
    "    def __init__(self):\n",
    "        self.value += 5"
   ]
  },
  {
   "cell_type": "markdown",
   "metadata": {},
   "source": [
    "- This class defines its parent classes in one ordering."
   ]
  },
  {
   "cell_type": "code",
   "execution_count": 4,
   "metadata": {
    "collapsed": true
   },
   "outputs": [],
   "source": [
    "class OneWay(MyBaseClass, TimesTwo, PlusFive):\n",
    "    def __init__(self, value):\n",
    "        MyBaseClass.__init__(self, value)\n",
    "        TimesTwo.__init__(self)\n",
    "        PlusFive.__init__(self)"
   ]
  },
  {
   "cell_type": "markdown",
   "metadata": {},
   "source": [
    "- And constructing it produces a result that matches the parent class ordering."
   ]
  },
  {
   "cell_type": "code",
   "execution_count": 5,
   "metadata": {},
   "outputs": [
    {
     "name": "stdout",
     "output_type": "stream",
     "text": [
      "First ordering is (5 * 2) + 5 = 15\n"
     ]
    }
   ],
   "source": [
    "foo = OneWay(5)\n",
    "print('First ordering is (5 * 2) + 5 =', foo.value)"
   ]
  },
  {
   "cell_type": "markdown",
   "metadata": {},
   "source": [
    "- Here's another class that defines the same parent classes but in a different ordering:"
   ]
  },
  {
   "cell_type": "code",
   "execution_count": 12,
   "metadata": {
    "collapsed": true
   },
   "outputs": [],
   "source": [
    "class AnotherWay(MyBaseClass, PlusFive, TimesTwo):\n",
    "    def __init__(self, value):\n",
    "        MyBaseClass.__init__(self, value)\n",
    "        TimesTwo.__init__(self)\n",
    "        PlusFive.__init__(self)"
   ]
  },
  {
   "cell_type": "markdown",
   "metadata": {},
   "source": [
    "- However, I left the calls to the parent class constructors PlusFive.\\_\\_init\\_\\_ and TimesTwo.\\_\\_init\\_\\_ in the same order as before, causing this class's behavior not to match the order of the parent classes in its definition."
   ]
  },
  {
   "cell_type": "code",
   "execution_count": 13,
   "metadata": {},
   "outputs": [
    {
     "name": "stdout",
     "output_type": "stream",
     "text": [
      "Second ordring still is 15\n"
     ]
    }
   ],
   "source": [
    "bar = AnotherWay(5)\n",
    "print('Second ordring still is', bar.value)"
   ]
  },
  {
   "cell_type": "markdown",
   "metadata": {},
   "source": [
    "- Another problem occurs with diamond inheritance. Diamond inheritance happens when a subclass inherits from two separate classes that have the same superclass somewhere in the hierarchy. Diamond inheritance causes the commom superclss's \\_\\_init\\_\\_ method to run multiple times, causing unexpected behavior. For example, here I define two child classes that inherit from MyBaseClass."
   ]
  },
  {
   "cell_type": "code",
   "execution_count": 14,
   "metadata": {
    "collapsed": true
   },
   "outputs": [],
   "source": [
    "class TimesFive(MyBaseClass):\n",
    "    def __init__(self, value):\n",
    "        MyBaseClass.__init__(self, value)\n",
    "        self.value *= 5\n",
    "        \n",
    "    \n",
    "class PlusTwo(MyBaseClass):\n",
    "    def __init__(self, value):\n",
    "        MyBaseClass.__init__(self, value)\n",
    "        self.value += 2    "
   ]
  },
  {
   "cell_type": "markdown",
   "metadata": {},
   "source": [
    "- Then, I define a child class that inherits from both of these classes, making MyBaseClass the top of the diamond."
   ]
  },
  {
   "cell_type": "code",
   "execution_count": 15,
   "metadata": {},
   "outputs": [
    {
     "name": "stdout",
     "output_type": "stream",
     "text": [
      "Should be (5 * 5) + 2 = 27 but is 7\n"
     ]
    }
   ],
   "source": [
    "class ThisWay(TimesFive, PlusTwo):\n",
    "    def __init__(self, value):\n",
    "        TimesFive.__init__(self, value)\n",
    "        PlusTwo.__init__(self, value)\n",
    "        \n",
    "\n",
    "foo = ThisWay(5)\n",
    "print('Should be (5 * 5) + 2 = 27 but is', foo.value)"
   ]
  },
  {
   "cell_type": "markdown",
   "metadata": {},
   "source": [
    "- The output should be 27 because (5 * 5) + 2 = 27. But the call to the second parent class's constructor, PlusTwo.\\_\\_init\\_\\_, causes self.value to be reset back to 5 when MyBaseClass.\\_\\_init\\_\\_ gets called a second time."
   ]
  },
  {
   "cell_type": "markdown",
   "metadata": {},
   "source": [
    "- To solve these problems, Python 2.2 added the super built-in function and defined the method resolution order (MRO). The MRO standardizes which superclasses are initialized before orthers."
   ]
  },
  {
   "cell_type": "markdown",
   "metadata": {},
   "source": [
    "- Here, I create a diamond-shaped class hierarchy again, but this time I use super (in the Python 2 style) to initialize the parent class."
   ]
  },
  {
   "cell_type": "code",
   "execution_count": 16,
   "metadata": {
    "collapsed": true
   },
   "outputs": [],
   "source": [
    "# Python 2\n",
    "class TimesFiveCorrect(MyBaseClass):\n",
    "    def __init__(self, value):\n",
    "        super(TimesFiveCorrect, self).__init__(value)\n",
    "        self.value *= 5\n",
    "        \n",
    "\n",
    "class PlusTwoCorrect(MyBaseClass):\n",
    "    def __init__(self, value):\n",
    "        super(PlusTwoCorrect, self).__init__(value)\n",
    "        self.value += 2"
   ]
  },
  {
   "cell_type": "markdown",
   "metadata": {},
   "source": [
    "- Now the top part of the diamond, MyBaseCalss.\\_\\_init\\_\\_, is only run a single time. The other parent classes are run in the order specified in the class statement."
   ]
  },
  {
   "cell_type": "code",
   "execution_count": 17,
   "metadata": {
    "collapsed": true
   },
   "outputs": [],
   "source": [
    "# Python 2\n",
    "class GoodWay(TimesFiveCorrect, PlusTwoCorrect):\n",
    "    def __init__(self, value):\n",
    "        super(GoodWay, self).__init__(value)"
   ]
  },
  {
   "cell_type": "code",
   "execution_count": 18,
   "metadata": {},
   "outputs": [
    {
     "name": "stdout",
     "output_type": "stream",
     "text": [
      "Should be 5 * (5 + 2) = 35 and is 35\n"
     ]
    }
   ],
   "source": [
    "foo = GoodWay(5)\n",
    "print('Should be 5 * (5 + 2) = 35 and is', foo.value)"
   ]
  },
  {
   "cell_type": "markdown",
   "metadata": {},
   "source": [
    "- This order may seem backwards at first. Shouldn't TimesFiveCorrect.\\_\\_init\\_\\_ have unr first? Shouldn't the result be (5 * 5) + 2 = 27? The answer is no. This ordering matches what the MRO defines for this class. The MRO ordering is available on a class method called mro."
   ]
  },
  {
   "cell_type": "code",
   "execution_count": 20,
   "metadata": {},
   "outputs": [
    {
     "name": "stdout",
     "output_type": "stream",
     "text": [
      "[<class '__main__.GoodWay'>,\n",
      " <class '__main__.TimesFiveCorrect'>,\n",
      " <class '__main__.PlusTwoCorrect'>,\n",
      " <class '__main__.MyBaseClass'>,\n",
      " <class 'object'>]\n"
     ]
    }
   ],
   "source": [
    "from pprint import pprint\n",
    "pprint(GoodWay.mro())"
   ]
  },
  {
   "cell_type": "markdown",
   "metadata": {},
   "source": [
    "- When I call GoodWay(5), it in turn calls TimesFiveCorrect.\\_\\_init\\_\\_, which calls PlusTwoCorrect.\\_\\_init\\_\\_, which calls MyBaseClass.\\_\\_init\\_\\_. Once this reaches the top of the diamond, then all of the initialization methods actually do their work in the opposite order from how their \\_\\_init\\_\\_ functions were called."
   ]
  },
  {
   "cell_type": "markdown",
   "metadata": {},
   "source": [
    "- MyBaseClass.\\_\\_init\\_\\_ assigns the value to 5. PlusTwoCorrect.\\_\\_init\\_\\_ adds 2 to make value equal 7. TimesFiveCorrect.\\_\\_init\\_\\_ multiplies it by 5 to make value equal 35."
   ]
  },
  {
   "cell_type": "markdown",
   "metadata": {},
   "source": [
    "- The super built-in function works well, but it still has two noticeable problems in Python 2:"
   ]
  },
  {
   "cell_type": "markdown",
   "metadata": {},
   "source": [
    "- Its syntax is a nit verbose. You ahve to specify the class you're in, the self object, the method name(usually \\_\\_init\\_\\_), and all the arguments. This construction can be confusing to new Python programmers.\n",
    "- You have to specify the current class by name in the call to super. If you ever change the class's name-a very common activity when improving a class hierarchy - you also need to update every call to super."
   ]
  },
  {
   "cell_type": "markdown",
   "metadata": {},
   "source": [
    "- Thankfully, Python 3 fixes these issues by making calls to super with no arguments equivalent to calling super with \\_\\_class\\_\\_ and self specified. In Python 3, you should always use super because it's clear, concise, and always does the right thing."
   ]
  },
  {
   "cell_type": "code",
   "execution_count": 21,
   "metadata": {
    "collapsed": true
   },
   "outputs": [],
   "source": [
    "class Explicit(MyBaseClass):\n",
    "    def __init__(self, value):\n",
    "        super(__class__, self).__init__(value * 2)\n",
    "        \n",
    "    \n",
    "class Implicit(MyBaseClass):\n",
    "    def __init__(self, value):\n",
    "        super().__init__(value * 2)\n",
    "        \n",
    "assert Explicit(10).value == Implicit(10).value"
   ]
  },
  {
   "cell_type": "markdown",
   "metadata": {},
   "source": [
    "- This works because Python 3 lets you reliably reference the current class in methods using the \\_\\_class\\_\\_ variablew. This doesn't work in Python 2 because \\_\\_class\\_\\_ isn't defined. You may guess that you could use self.\\_\\_class\\_\\_ as an argument to super, but this breaks because of the way super is implemented in Python 2."
   ]
  },
  {
   "cell_type": "markdown",
   "metadata": {},
   "source": [
    "## Things to Remember"
   ]
  },
  {
   "cell_type": "markdown",
   "metadata": {},
   "source": [
    "- Python's standard method resolution order (MRO) solves the problems of superclass initialization order and diamond inheritance.\n",
    "- Always use the super built-in function to initialize parent classes."
   ]
  },
  {
   "cell_type": "markdown",
   "metadata": {},
   "source": [
    "# Item 26: Use Multiple Inheritance Only for Mix-in Utility Classes"
   ]
  },
  {
   "cell_type": "markdown",
   "metadata": {},
   "source": [
    "- Python is an object-oriented language with built-in facilities for making multiple inheritance tractable. However, it's better to avoid multiple inheritance altogether."
   ]
  },
  {
   "cell_type": "markdown",
   "metadata": {},
   "source": [
    "- If you find yourself desiring the convenience and encapsulation that comes with multiple inheritance, consider wrinting a *mix-in* instead. A mix-in is a small class that only define their own instance attributes nor require their \\_\\_init\\_\\_ constructor to be called."
   ]
  },
  {
   "cell_type": "markdown",
   "metadata": {},
   "source": [
    "- Writing mix-ins is easy because Python makes it trivial to inspect the current state of any object regardless of its type. Dynamic inspection lets you write generic functionality a single time, in a mix-in, that can be applied to many other classes. Mix-ins can be composed and layered to minimize repetitive code and maximize reuse."
   ]
  },
  {
   "cell_type": "markdown",
   "metadata": {},
   "source": [
    "- For example, say you want the ability to convert a Python object from its in-memory representation to a dictionary so you can use it with all of your classes?\n",
    "\n",
    "- Here, I define an example mix-in that accomplishes this with a new public method that's added to any class that inherits from it:"
   ]
  },
  {
   "cell_type": "code",
   "execution_count": 26,
   "metadata": {
    "collapsed": true
   },
   "outputs": [],
   "source": [
    "class ToDictMixin(object):\n",
    "    def to_dict(self):\n",
    "        return self._traverse_dict(self.__dict__)\n",
    "    \n",
    "    def _traverse_dict(self, instance_dict):\n",
    "        output = {}\n",
    "        for key, value in instance_dict.items():\n",
    "            output[key] = self._traverse(key, value)\n",
    "        return output\n",
    "    \n",
    "    def _traverse(self, key, value):\n",
    "        if isinstance(value, ToDictMixin):\n",
    "            return value.to_dict()\n",
    "        elif isinstance(value, dict):\n",
    "            return self._traverse_dict(value)\n",
    "        elif isinstance(value, list):\n",
    "            return [self._traverse(key, i) for i in value]\n",
    "        elif hasattr(value, '__dict__'):\n",
    "            return self._traverse_dict(value.__dict__)\n",
    "        else:\n",
    "            return value"
   ]
  },
  {
   "cell_type": "markdown",
   "metadata": {},
   "source": [
    "- The implementation details are straightforward and rely on dynamic attribute access using hasattr, dynamic type inspection with isinstance, and accessing the instance dictionary \\_\\_dict\\_\\_."
   ]
  },
  {
   "cell_type": "markdown",
   "metadata": {},
   "source": [
    "- Here, I define an example class that uses the mix-in to make a dictionary representation of a binary tree:"
   ]
  },
  {
   "cell_type": "code",
   "execution_count": 27,
   "metadata": {
    "collapsed": true
   },
   "outputs": [],
   "source": [
    "class BinaryTree(ToDictMixin):\n",
    "    def __init__(self, value, left=None, right=None):\n",
    "        self.value = value\n",
    "        self.left = left\n",
    "        self.right = right"
   ]
  },
  {
   "cell_type": "markdown",
   "metadata": {},
   "source": [
    "- Translating a large number of related Python objects into a dictionary becomes easy."
   ]
  },
  {
   "cell_type": "code",
   "execution_count": 28,
   "metadata": {},
   "outputs": [
    {
     "name": "stdout",
     "output_type": "stream",
     "text": [
      "{'value': 10, 'left': {'value': 7, 'left': None, 'right': {'value': 9, 'left': None, 'right': None}}, 'right': {'value': 13, 'left': {'value': 11, 'left': None, 'right': None}, 'right': None}}\n"
     ]
    }
   ],
   "source": [
    "tree = BinaryTree(10,\n",
    "                  left=BinaryTree(7, right=BinaryTree(9)),\n",
    "                  right=BinaryTree(13, left=BinaryTree(11)))\n",
    "print(tree.to_dict())"
   ]
  },
  {
   "cell_type": "markdown",
   "metadata": {},
   "source": [
    "- The best part about mix-ins is that you can make their generic functionality pluggable so behaviors can be overridden when required. For example, here I define a subclass of BinaryTree that holds a reference to tis parent. This circular reference would cause the default implementation of ToDictMixin.to\\_dict to loop forever. "
   ]
  },
  {
   "cell_type": "code",
   "execution_count": 39,
   "metadata": {},
   "outputs": [],
   "source": [
    "class BinaryTreeWithParent(BinaryTree):\n",
    "    def __init__(self, value, left=None,\n",
    "                right=None, parent=None):\n",
    "        super().__init__(value, left=left, right=right)\n",
    "        self.parent = parent\n",
    "        \n",
    "    def _traverse(self, key, value):\n",
    "        if (isinstance(value, BinaryTreeWithParent) and \n",
    "               key == 'parent'):\n",
    "            return value.value \n",
    "        else:\n",
    "            return super()._traverse(key, value)"
   ]
  },
  {
   "cell_type": "markdown",
   "metadata": {},
   "source": [
    "- The solution is to override the ToDictMixin.\\_traversee method in thhe BinaryTreeWithParent class to only process values that matter, preventing cycles encountered by the mix-in. Here, I override the \\_traverse method to not traverse the parent and just dinsert its numerical value:"
   ]
  },
  {
   "cell_type": "markdown",
   "metadata": {},
   "source": [
    "- Calling BinaryTreeWithParent.to\\_dict will work without issue because the circular referencing properties aren't followed."
   ]
  },
  {
   "cell_type": "code",
   "execution_count": 40,
   "metadata": {},
   "outputs": [
    {
     "name": "stdout",
     "output_type": "stream",
     "text": [
      "{'value': 10, 'left': {'value': 7, 'left': None, 'right': {'value': 9, 'left': None, 'right': None, 'parent': 7}, 'parent': 10}, 'right': None, 'parent': None}\n"
     ]
    }
   ],
   "source": [
    "root = BinaryTreeWithParent(10)\n",
    "root.left = BinaryTreeWithParent(7, parent=root)\n",
    "root.left.right = BinaryTreeWithParent(9, parent=root.left)\n",
    "print(root.to_dict())"
   ]
  },
  {
   "cell_type": "markdown",
   "metadata": {},
   "source": [
    "- By defining BinaryTreeWithParent.\\_traverse, I've also enabled any class that has an attribute of tpye BinaryTreeWithParent to automatically work with ToDictMixin."
   ]
  },
  {
   "cell_type": "code",
   "execution_count": 41,
   "metadata": {},
   "outputs": [
    {
     "name": "stdout",
     "output_type": "stream",
     "text": [
      "{'name': 'foobar', 'tree_with_parent': {'value': 9, 'left': None, 'right': None, 'parent': 7}}\n"
     ]
    }
   ],
   "source": [
    "class NamedSubTree(ToDictMixin):\n",
    "    def __init__(self, name, tree_with_parent):\n",
    "        self.name = name\n",
    "        self.tree_with_parent = tree_with_parent\n",
    "        \n",
    "my_tree = NamedSubTree('foobar', root.left.right)\n",
    "print(my_tree.to_dict())"
   ]
  },
  {
   "cell_type": "markdown",
   "metadata": {},
   "source": [
    "- Mix- ins can also be composed together. For example, say you want a mix-in that provides generic JSON serialization for any class. You can do this by assuming that a class provides a to\\_dict method( which may or may not be provided by the ToDictMixin class),"
   ]
  },
  {
   "cell_type": "code",
   "execution_count": 42,
   "metadata": {
    "collapsed": true
   },
   "outputs": [],
   "source": [
    "class JsonMixin(object):\n",
    "    @classmethod\n",
    "    def from_json(cls, data):\n",
    "        kwargs = json.loads(data)\n",
    "        return cls(**kwargs)\n",
    "    \n",
    "    def to_json(self):\n",
    "        return json.dumps(self.to_dict())"
   ]
  },
  {
   "cell_type": "markdown",
   "metadata": {},
   "source": [
    "- Note how the JsonMixin class defines both instance methods and class methods. Mix-ins let you add either kind of behavior. In this example, the only requirements of the JsonMixin are that the class has a to\\_dict method and its \\_\\_init\\_\\_ method takes keyword arguments."
   ]
  },
  {
   "cell_type": "markdown",
   "metadata": {},
   "source": [
    "- This mix-in makes it simple to create hierarchies of utility classes that can be serialized to and from JSON with little boilerplate. For example, here I have a hierarchy of data classes representing part of a datacenter topology:"
   ]
  },
  {
   "cell_type": "code",
   "execution_count": 43,
   "metadata": {},
   "outputs": [
    {
     "ename": "IndentationError",
     "evalue": "expected an indented block (<ipython-input-43-bab5f43f7f3a>, line 11)",
     "output_type": "error",
     "traceback": [
      "\u001b[0;36m  File \u001b[0;32m\"<ipython-input-43-bab5f43f7f3a>\"\u001b[0;36m, line \u001b[0;32m11\u001b[0m\n\u001b[0;31m    class Machine(ToDictMixin, JsonMixin):\u001b[0m\n\u001b[0m        ^\u001b[0m\n\u001b[0;31mIndentationError\u001b[0m\u001b[0;31m:\u001b[0m expected an indented block\n"
     ]
    }
   ],
   "source": [
    "class DatacenterRack(ToDictMixin, JsonMixin):\n",
    "    def __init__(self, switch=None, machines=None):\n",
    "        self.switch = Switch(**switch)\n",
    "        self.machines = [\n",
    "            Machine(**kwargs) for kwargs in machines]\n",
    "    \n",
    "class Switch(ToDictMixin, JsonMixin):\n",
    "    #...\n",
    "    \n",
    "    \n",
    "class Machine(ToDictMixin, JsonMixin):\n",
    "    # ...."
   ]
  },
  {
   "cell_type": "markdown",
   "metadata": {},
   "source": [
    "- Serializing these claases to and from JSON is simple. Here, I verify that the data is able to be sent round-trip through serializing and deserializing:"
   ]
  },
  {
   "cell_type": "code",
   "execution_count": 44,
   "metadata": {
    "collapsed": true
   },
   "outputs": [],
   "source": [
    "serialized = \"\"\"{\n",
    "    \"switch\": {\"ports\": 5, \"speed\": 1e9},\n",
    "    \"machines\": [\n",
    "        {\"cores\": 8, \"ram\": 32e9, \"disk\": 5e12},\n",
    "        {\"cores\": 8, \"ram\": 32e9, \"disk\": 5e12},\n",
    "        {\"cores\": 8, \"ram\": 32e9, \"disk\": 5e12},        \n",
    "    ]\n",
    "}\"\"\"\n",
    "\n",
    "deserialized = DatacenterRack.from_json(serialized)\n",
    "roundtrip = deserialized.to_json()\n",
    "assert json.loads(serialized) == json.loads(roundtrip)"
   ]
  },
  {
   "cell_type": "markdown",
   "metadata": {},
   "source": [
    "- When you use mix-ins like this, it's also fine if the class already inherits from JsonMixin higher up in the object hierarchy. The resulting class will behave the same way."
   ]
  },
  {
   "cell_type": "markdown",
   "metadata": {},
   "source": [
    "## Things to Remember"
   ]
  },
  {
   "cell_type": "markdown",
   "metadata": {},
   "source": [
    "- Avoid using multiple inheritance if mix-in classes can achieve the same outcome.\n",
    "- Use pluggable behaviors at the instance level to provide per-class customization when mix-in classes may require it.\n",
    "- Compose mix-ins to create complex functionality from simple behaviors"
   ]
  },
  {
   "cell_type": "code",
   "execution_count": null,
   "metadata": {
    "collapsed": true
   },
   "outputs": [],
   "source": []
  }
 ],
 "metadata": {
  "kernelspec": {
   "display_name": "Python 3",
   "language": "python",
   "name": "python3"
  },
  "language_info": {
   "codemirror_mode": {
    "name": "ipython",
    "version": 3
   },
   "file_extension": ".py",
   "mimetype": "text/x-python",
   "name": "python",
   "nbconvert_exporter": "python",
   "pygments_lexer": "ipython3",
   "version": "3.6.2"
  }
 },
 "nbformat": 4,
 "nbformat_minor": 2
}
