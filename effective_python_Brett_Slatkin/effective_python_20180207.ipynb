{
 "cells": [
  {
   "cell_type": "markdown",
   "metadata": {},
   "source": [
    "# I40 : Consider Coroutines to Run Many Functions Concurrently"
   ]
  },
  {
   "cell_type": "markdown",
   "metadata": {},
   "source": [
    "- More about : https://www.geeksforgeeks.org/coroutine-in-python/"
   ]
  },
  {
   "cell_type": "markdown",
   "metadata": {},
   "source": [
    "- Threads give Python programmers a way to run multiple functions seemingly at the same time. But there are three big problems with threads:"
   ]
  },
  {
   "cell_type": "markdown",
   "metadata": {},
   "source": [
    "- They require special tools to coodinate with each other safely. This makes code that uses threads harder to reason about than procedural, single-treaded code. This complexity makes threaded code more difficult to extend and maintain over time."
   ]
  },
  {
   "cell_type": "markdown",
   "metadata": {},
   "source": [
    "- Thread requirea a lot of memory, about 8 MB per executing thread. On many computers, that amount of memory doesn't matter for a dozen threads or so. But what if you want your program to run tens of thousands of functions \"simultaneously\"? These functions may correspond to user requests to a server pixels oon a screen, particles in a simulation, etc. Running a thread per unique activity just won't work.\n",
    "- Theads are costly to start. If you want to constantly be creating new concurrent functions and finishign them, the overhead of using threads becomes large and slows everything down."
   ]
  },
  {
   "cell_type": "markdown",
   "metadata": {},
   "source": [
    "- Python can work around all these issues with *coroutines*. Coroutines let you have many seemingly sumultaneous functions in your Python programs. They're implemented as an extension to generators. The cost of starting a generator coroutine is a function call. Once active, they each use less that 1KB of memory until they're exhausted."
   ]
  },
  {
   "cell_type": "markdown",
   "metadata": {},
   "source": [
    "- Coroutines work by enabling the code consuing a generator to send a value back into the generator function after each yield expression. The generator function receives the value passed to the send function as the result of the corresponding yield expression."
   ]
  },
  {
   "cell_type": "code",
   "execution_count": 28,
   "metadata": {},
   "outputs": [
    {
     "name": "stdout",
     "output_type": "stream",
     "text": [
      "Received: First\n",
      "Received: Second\n",
      "Received: yield\n",
      "None\n"
     ]
    }
   ],
   "source": [
    "def my_coroutine():\n",
    "    while True:\n",
    "        received = yield\n",
    "#         value = yield received\n",
    "        print('Received:', received)\n",
    "        \n",
    "it = my_coroutine()\n",
    "next(it)\n",
    "it.send('First')\n",
    "it.send('Second')\n",
    "print(it.send('yield'))"
   ]
  },
  {
   "cell_type": "markdown",
   "metadata": {},
   "source": [
    "- The initail call to next is required to prepare the generator for receiving the first send by advancing it to the first yield expression. Together, yield and send provide generators with a standard way to vary their next yielded value in response to external input.\n",
    "\n",
    "- For example, say you want to implement a generator coroutine that yields the minimum value it's been sent so far. Here, the bare yield prepares the coroutine with the initial minumum value sent in from the outside. Then the generator repeatedly yields the new munimum in exchange for the next value to consider."
   ]
  },
  {
   "cell_type": "code",
   "execution_count": 16,
   "metadata": {
    "scrolled": true
   },
   "outputs": [
    {
     "name": "stdout",
     "output_type": "stream",
     "text": [
      "10\n",
      "4\n",
      "4\n",
      "-1\n"
     ]
    }
   ],
   "source": [
    "def minimize():\n",
    "    current = yield\n",
    "    while True:\n",
    "        value = yield current\n",
    "        current = min(value, current)\n",
    "        \n",
    "it = minimize()\n",
    "next(it)\n",
    "print(it.send(10))\n",
    "print(it.send(4))\n",
    "print(it.send(22))\n",
    "print(it.send(-1))"
   ]
  },
  {
   "cell_type": "markdown",
   "metadata": {},
   "source": [
    "- The generator function will seemingly run forever, making forward progress with each new call to send. Like threads, coroutines are independent functions that can consume inputs from their environment and produce resulting outputs. The difference is that coroutines pause at each yield expression in the generator function and resume after each call to send from the outside. This is the magical mechanism of coroutines."
   ]
  },
  {
   "cell_type": "code",
   "execution_count": 32,
   "metadata": {},
   "outputs": [
    {
     "name": "stdout",
     "output_type": "stream",
     "text": [
      "Searching prefix:Dear\n",
      "Dear Atul\n"
     ]
    }
   ],
   "source": [
    "def print_name(prefix):\n",
    "    print(\"Searching prefix:{}\".format(prefix))\n",
    "    while True:\n",
    "        name = (yield)\n",
    "        if prefix in name:\n",
    "            print(name)\n",
    " \n",
    "# calling coroutine, nothing will happen\n",
    "corou = print_name(\"Dear\")\n",
    " \n",
    "# This will start execution of coroutine and \n",
    "# Prints first line \"Searchig prefix...\"\n",
    "# and advance execution to the first yield expression\n",
    "corou.__next__()\n",
    " \n",
    "# sending inputs\n",
    "corou.send(\"Atul\")\n",
    "corou.send(\"Dear Atul\")\n"
   ]
  },
  {
   "cell_type": "code",
   "execution_count": null,
   "metadata": {
    "collapsed": true
   },
   "outputs": [],
   "source": []
  }
 ],
 "metadata": {
  "kernelspec": {
   "display_name": "Python 3",
   "language": "python",
   "name": "python3"
  },
  "language_info": {
   "codemirror_mode": {
    "name": "ipython",
    "version": 3
   },
   "file_extension": ".py",
   "mimetype": "text/x-python",
   "name": "python",
   "nbconvert_exporter": "python",
   "pygments_lexer": "ipython3",
   "version": "3.6.2"
  }
 },
 "nbformat": 4,
 "nbformat_minor": 2
}
