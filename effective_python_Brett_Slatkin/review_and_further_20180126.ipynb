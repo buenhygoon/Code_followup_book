{
 "cells": [
  {
   "cell_type": "markdown",
   "metadata": {},
   "source": [
    "# I32 : Use \\_\\_getattr\\_\\_, \\_\\_getattribute\\_\\_, and \\_\\_setattr\\_\\_ for Lazy Attributes"
   ]
  },
  {
   "cell_type": "code",
   "execution_count": 5,
   "metadata": {
    "collapsed": true
   },
   "outputs": [],
   "source": [
    "class LazyDB(object):\n",
    "    def __init__(self):\n",
    "        self.exists = 5\n",
    "        \n",
    "    def __getattr__(self, name):\n",
    "        value = 'Value for %s' % name\n",
    "        setattr(self, name, value)\n",
    "        return value"
   ]
  },
  {
   "cell_type": "code",
   "execution_count": 6,
   "metadata": {},
   "outputs": [
    {
     "name": "stdout",
     "output_type": "stream",
     "text": [
      "{'exists': 5}\n",
      "Value for foo\n",
      "{'exists': 5, 'foo': 'Value for foo'}\n"
     ]
    }
   ],
   "source": [
    "data = LazyDB()\n",
    "print(data.__dict__)\n",
    "print(data.foo)\n",
    "print(data.__dict__)"
   ]
  },
  {
   "cell_type": "code",
   "execution_count": 7,
   "metadata": {
    "collapsed": true
   },
   "outputs": [],
   "source": [
    "class LoggingLazyDB(LazyDB):\n",
    "    def __getattr__(self, name):\n",
    "        print('Called __getattr__(%s)' % name)\n",
    "        return super().__getattr__(name)"
   ]
  },
  {
   "cell_type": "code",
   "execution_count": 8,
   "metadata": {},
   "outputs": [
    {
     "name": "stdout",
     "output_type": "stream",
     "text": [
      "exists: 5\n",
      "Called __getattr__(foo)\n",
      "foo:    Value for foo\n",
      "foo:    Value for foo\n"
     ]
    }
   ],
   "source": [
    "data = LoggingLazyDB()\n",
    "print('exists:', data.exists)\n",
    "print('foo:   ', data.foo)\n",
    "print('foo:   ', data.foo)"
   ]
  },
  {
   "cell_type": "code",
   "execution_count": 11,
   "metadata": {
    "collapsed": true
   },
   "outputs": [],
   "source": [
    "class ValidatingDB(object):\n",
    "    def __init__(self):\n",
    "        self.exists = 5\n",
    "        \n",
    "    def __getattribute__(self, name):\n",
    "        print('Called __getattribute__(%s)' % name)\n",
    "        try:\n",
    "            return super().__getattribute__(name)\n",
    "        except AttributeError:\n",
    "            value = 'Value for %s' % name\n",
    "            setattr(self, name, value)\n",
    "            return value"
   ]
  },
  {
   "cell_type": "code",
   "execution_count": 12,
   "metadata": {},
   "outputs": [
    {
     "name": "stdout",
     "output_type": "stream",
     "text": [
      "Called __getattribute__(exists)\n",
      "exists: 5\n",
      "Called __getattribute__(foo)\n",
      "foo:    Value for foo\n",
      "Called __getattribute__(foo)\n",
      "foo:    Value for foo\n"
     ]
    }
   ],
   "source": [
    "data = ValidatingDB()\n",
    "print('exists:', data.exists)\n",
    "print('foo:   ', data.foo)\n",
    "print('foo:   ', data.foo)"
   ]
  },
  {
   "cell_type": "code",
   "execution_count": 13,
   "metadata": {
    "collapsed": true
   },
   "outputs": [],
   "source": [
    "class MissingPropertyDB(object):\n",
    "    def __getattr__(self, name):\n",
    "        if name == 'bad_name':\n",
    "            raise AttributeError('%s is missing' % name)"
   ]
  },
  {
   "cell_type": "code",
   "execution_count": 14,
   "metadata": {},
   "outputs": [
    {
     "ename": "AttributeError",
     "evalue": "bad_name is missing",
     "output_type": "error",
     "traceback": [
      "\u001b[0;31m---------------------------------------------------------------------------\u001b[0m",
      "\u001b[0;31mAttributeError\u001b[0m                            Traceback (most recent call last)",
      "\u001b[0;32m<ipython-input-14-d77f2773bda1>\u001b[0m in \u001b[0;36m<module>\u001b[0;34m()\u001b[0m\n\u001b[1;32m      1\u001b[0m \u001b[0mdata\u001b[0m \u001b[0;34m=\u001b[0m \u001b[0mMissingPropertyDB\u001b[0m\u001b[0;34m(\u001b[0m\u001b[0;34m)\u001b[0m\u001b[0;34m\u001b[0m\u001b[0m\n\u001b[0;32m----> 2\u001b[0;31m \u001b[0mdata\u001b[0m\u001b[0;34m.\u001b[0m\u001b[0mbad_name\u001b[0m\u001b[0;34m\u001b[0m\u001b[0m\n\u001b[0m",
      "\u001b[0;32m<ipython-input-13-1c215cbbf615>\u001b[0m in \u001b[0;36m__getattr__\u001b[0;34m(self, name)\u001b[0m\n\u001b[1;32m      2\u001b[0m     \u001b[0;32mdef\u001b[0m \u001b[0m__getattr__\u001b[0m\u001b[0;34m(\u001b[0m\u001b[0mself\u001b[0m\u001b[0;34m,\u001b[0m \u001b[0mname\u001b[0m\u001b[0;34m)\u001b[0m\u001b[0;34m:\u001b[0m\u001b[0;34m\u001b[0m\u001b[0m\n\u001b[1;32m      3\u001b[0m         \u001b[0;32mif\u001b[0m \u001b[0mname\u001b[0m \u001b[0;34m==\u001b[0m \u001b[0;34m'bad_name'\u001b[0m\u001b[0;34m:\u001b[0m\u001b[0;34m\u001b[0m\u001b[0m\n\u001b[0;32m----> 4\u001b[0;31m             \u001b[0;32mraise\u001b[0m \u001b[0mAttributeError\u001b[0m\u001b[0;34m(\u001b[0m\u001b[0;34m'%s is missing'\u001b[0m \u001b[0;34m%\u001b[0m \u001b[0mname\u001b[0m\u001b[0;34m)\u001b[0m\u001b[0;34m\u001b[0m\u001b[0m\n\u001b[0m",
      "\u001b[0;31mAttributeError\u001b[0m: bad_name is missing"
     ]
    }
   ],
   "source": [
    "data = MissingPropertyDB()\n",
    "data.bad_name"
   ]
  },
  {
   "cell_type": "markdown",
   "metadata": {},
   "source": [
    "- Python\tcode\timplementing\tgeneric\tfunctionality\toften\trelies\ton\tthe\thasattr\tbuilt-in function\tto\tdetermine\twhen\tproperties\texist,\tand\tthe\tgetattr\tbuilt-in\tfunction\tto retrieve\tproperty\tvalues.\t"
   ]
  },
  {
   "cell_type": "code",
   "execution_count": 15,
   "metadata": {},
   "outputs": [
    {
     "name": "stdout",
     "output_type": "stream",
     "text": [
      "{'exists': 5}\n",
      "Called __getattr__(foo)\n",
      "True\n",
      "{'exists': 5, 'foo': 'Value for foo'}\n"
     ]
    }
   ],
   "source": [
    "data = LoggingLazyDB()\n",
    "print(data.__dict__)\n",
    "print(hasattr(data, 'foo'))\n",
    "print(data.__dict__)"
   ]
  },
  {
   "cell_type": "markdown",
   "metadata": {},
   "source": [
    "- in case of \\_\\_getattribute\\_\\_ method called each time hasattr or getattr is run on an object"
   ]
  },
  {
   "cell_type": "code",
   "execution_count": 16,
   "metadata": {},
   "outputs": [
    {
     "name": "stdout",
     "output_type": "stream",
     "text": [
      "Called __getattribute__(foo)\n",
      "True\n",
      "Called __getattribute__(foo)\n",
      "True\n"
     ]
    }
   ],
   "source": [
    "data = ValidatingDB()\n",
    "print(hasattr(data, 'foo'))\n",
    "print(hasattr(data, 'foo'))"
   ]
  },
  {
   "cell_type": "markdown",
   "metadata": {},
   "source": [
    "- The\t\\_\\_setattr\\_\\_\tmethod\tis\talways\tcalled\tevery\ttime\tan\tattribute\tis\tassigned\ton\tan instance\t(either\tdirectly\tor\tthrough\tthe\tsetattr\tbuilt-in\tfunction). "
   ]
  },
  {
   "cell_type": "code",
   "execution_count": 17,
   "metadata": {
    "collapsed": true
   },
   "outputs": [],
   "source": [
    "class SavingDB(object):\n",
    "    def __setattr__(self, name, value):\n",
    "        # Save some data to the DB log\n",
    "        # ...\n",
    "        super().__setattr__(name, value)\n",
    "        \n",
    "        \n",
    "class LoggingSavingDB(SavingDB):\n",
    "    def __setattr__(self, name, value):\n",
    "        print('Called __setattr__(%s, %r)' % (name, value))\n",
    "        super().__setattr__(name, value)"
   ]
  },
  {
   "cell_type": "code",
   "execution_count": 18,
   "metadata": {},
   "outputs": [
    {
     "name": "stdout",
     "output_type": "stream",
     "text": [
      "{}\n",
      "Called __setattr__(foo, 5)\n",
      "{'foo': 5}\n",
      "Called __setattr__(foo, 7)\n",
      "{'foo': 7}\n"
     ]
    }
   ],
   "source": [
    "data = LoggingSavingDB()\n",
    "print(data.__dict__)\n",
    "data.foo = 5\n",
    "print(data.__dict__)\n",
    "data.foo = 7\n",
    "print(data.__dict__)"
   ]
  },
  {
   "cell_type": "code",
   "execution_count": 19,
   "metadata": {
    "collapsed": true
   },
   "outputs": [],
   "source": [
    "class BrokenDictionaryDB(object):\n",
    "    def __init__(self, data):\n",
    "        self_data = {}\n",
    "        \n",
    "    def __getattribute__(self, name):\n",
    "        print('Called __getattribute__(%s)' % name)\n",
    "        return self._data[name]"
   ]
  },
  {
   "cell_type": "code",
   "execution_count": 20,
   "metadata": {},
   "outputs": [
    {
     "name": "stdout",
     "output_type": "stream",
     "text": [
      "Called __getattribute__(foo)\n",
      "Called __getattribute__(_data)\n",
      "Called __getattribute__(_data)\n",
      "Called __getattribute__(_data)\n",
      "Called __getattribute__(_data)\n",
      "Called __getattribute__(_data)\n",
      "Called __getattribute__(_data)\n",
      "Called __getattribute__(_data)\n",
      "Called __getattribute__(_data)\n",
      "Called __getattribute__(_data)\n",
      "Called __getattribute__(_data)\n",
      "Called __getattribute__(_data)\n",
      "Called __getattribute__(_data)\n",
      "Called __getattribute__(_data)\n",
      "Called __getattribute__(_data)\n",
      "Called __getattribute__(_data)\n",
      "Called __getattribute__(_data)\n",
      "Called __getattribute__(_data)\n",
      "Called __getattribute__(_data)\n",
      "Called __getattribute__(_data)\n",
      "Called __getattribute__(_data)\n",
      "Called __getattribute__(_data)\n",
      "Called __getattribute__(_data)\n",
      "Called __getattribute__(_data)\n",
      "Called __getattribute__(_data)\n",
      "Called __getattribute__(_data)\n",
      "Called __getattribute__(_data)\n",
      "Called __getattribute__(_data)\n",
      "Called __getattribute__(_data)\n",
      "Called __getattribute__(_data)\n",
      "Called __getattribute__(_data)\n",
      "Called __getattribute__(_data)\n",
      "Called __getattribute__(_data)\n",
      "Called __getattribute__(_data)\n",
      "Called __getattribute__(_data)\n",
      "Called __getattribute__(_data)\n",
      "Called __getattribute__(_data)\n",
      "Called __getattribute__(_data)\n",
      "Called __getattribute__(_data)\n",
      "Called __getattribute__(_data)\n",
      "Called __getattribute__(_data)\n",
      "Called __getattribute__(_data)\n",
      "Called __getattribute__(_data)\n",
      "Called __getattribute__(_data)\n",
      "Called __getattribute__(_data)\n",
      "Called __getattribute__(_data)\n",
      "Called __getattribute__(_data)\n",
      "Called __getattribute__(_data)\n",
      "Called __getattribute__(_data)\n",
      "Called __getattribute__(_data)\n",
      "Called __getattribute__(_data)\n",
      "Called __getattribute__(_data)\n",
      "Called __getattribute__(_data)\n",
      "Called __getattribute__(_data)\n",
      "Called __getattribute__(_data)\n",
      "Called __getattribute__(_data)\n",
      "Called __getattribute__(_data)\n",
      "Called __getattribute__(_data)\n",
      "Called __getattribute__(_data)\n",
      "Called __getattribute__(_data)\n",
      "Called __getattribute__(_data)\n",
      "Called __getattribute__(_data)\n",
      "Called __getattribute__(_data)\n",
      "Called __getattribute__(_data)\n",
      "Called __getattribute__(_data)\n",
      "Called __getattribute__(_data)\n",
      "Called __getattribute__(_data)\n",
      "Called __getattribute__(_data)\n",
      "Called __getattribute__(_data)\n",
      "Called __getattribute__(_data)\n",
      "Called __getattribute__(_data)\n",
      "Called __getattribute__(_data)\n",
      "Called __getattribute__(_data)\n",
      "Called __getattribute__(_data)\n",
      "Called __getattribute__(_data)\n",
      "Called __getattribute__(_data)\n",
      "Called __getattribute__(_data)\n",
      "Called __getattribute__(_data)\n",
      "Called __getattribute__(_data)\n",
      "Called __getattribute__(_data)\n",
      "Called __getattribute__(_data)\n",
      "Called __getattribute__(_data)\n",
      "Called __getattribute__(_data)\n",
      "Called __getattribute__(_data)\n",
      "Called __getattribute__(_data)\n",
      "Called __getattribute__(_data)\n",
      "Called __getattribute__(_data)\n",
      "Called __getattribute__(_data)\n",
      "Called __getattribute__(_data)\n",
      "Called __getattribute__(_data)\n",
      "Called __getattribute__(_data)\n",
      "Called __getattribute__(_data)\n",
      "Called __getattribute__(_data)\n",
      "Called __getattribute__(_data)\n",
      "Called __getattribute__(_data)\n",
      "Called __getattribute__(_data)\n",
      "Called __getattribute__(_data)\n",
      "Called __getattribute__(_data)\n",
      "Called __getattribute__(_data)\n",
      "Called __getattribute__(_data)\n",
      "Called __getattribute__(_data)\n",
      "Called __getattribute__(_data)\n",
      "Called __getattribute__(_data)\n",
      "Called __getattribute__(_data)\n",
      "Called __getattribute__(_data)\n",
      "Called __getattribute__(_data)\n",
      "Called __getattribute__(_data)\n",
      "Called __getattribute__(_data)\n",
      "Called __getattribute__(_data)\n",
      "Called __getattribute__(_data)\n",
      "Called __getattribute__(_data)\n",
      "Called __getattribute__(_data)\n",
      "Called __getattribute__(_data)\n",
      "Called __getattribute__(_data)\n",
      "Called __getattribute__(_data)\n",
      "Called __getattribute__(_data)\n",
      "Called __getattribute__(_data)\n",
      "Called __getattribute__(_data)\n",
      "Called __getattribute__(_data)\n",
      "Called __getattribute__(_data)\n",
      "Called __getattribute__(_data)\n",
      "Called __getattribute__(_data)\n",
      "Called __getattribute__(_data)\n",
      "Called __getattribute__(_data)\n",
      "Called __getattribute__(_data)\n",
      "Called __getattribute__(_data)\n",
      "Called __getattribute__(_data)\n",
      "Called __getattribute__(_data)\n",
      "Called __getattribute__(_data)\n",
      "Called __getattribute__(_data)\n",
      "Called __getattribute__(_data)\n",
      "Called __getattribute__(_data)\n",
      "Called __getattribute__(_data)\n",
      "Called __getattribute__(_data)\n",
      "Called __getattribute__(_data)\n",
      "Called __getattribute__(_data)\n",
      "Called __getattribute__(_data)\n",
      "Called __getattribute__(_data)\n",
      "Called __getattribute__(_data)\n",
      "Called __getattribute__(_data)\n",
      "Called __getattribute__(_data)\n",
      "Called __getattribute__(_data)\n",
      "Called __getattribute__(_data)\n",
      "Called __getattribute__(_data)\n",
      "Called __getattribute__(_data)\n",
      "Called __getattribute__(_data)\n",
      "Called __getattribute__(_data)\n",
      "Called __getattribute__(_data)\n",
      "Called __getattribute__(_data)\n",
      "Called __getattribute__(_data)\n",
      "Called __getattribute__(_data)\n",
      "Called __getattribute__(_data)\n",
      "Called __getattribute__(_data)\n",
      "Called __getattribute__(_data)\n",
      "Called __getattribute__(_data)\n",
      "Called __getattribute__(_data)\n",
      "Called __getattribute__(_data)\n",
      "Called __getattribute__(_data)\n",
      "Called __getattribute__(_data)\n",
      "Called __getattribute__(_data)\n",
      "Called __getattribute__(_data)\n",
      "Called __getattribute__(_data)\n",
      "Called __getattribute__(_data)\n",
      "Called __getattribute__(_data)\n",
      "Called __getattribute__(_data)\n",
      "Called __getattribute__(_data)\n",
      "Called __getattribute__(_data)\n",
      "Called __getattribute__(_data)\n",
      "Called __getattribute__(_data)\n",
      "Called __getattribute__(_data)\n",
      "Called __getattribute__(_data)\n",
      "Called __getattribute__(_data)\n",
      "Called __getattribute__(_data)\n",
      "Called __getattribute__(_data)\n",
      "Called __getattribute__(_data)\n",
      "Called __getattribute__(_data)\n",
      "Called __getattribute__(_data)\n",
      "Called __getattribute__(_data)\n",
      "Called __getattribute__(_data)\n",
      "Called __getattribute__(_data)\n",
      "Called __getattribute__(_data)\n",
      "Called __getattribute__(_data)\n",
      "Called __getattribute__(_data)\n",
      "Called __getattribute__(_data)\n",
      "Called __getattribute__(_data)\n",
      "Called __getattribute__(_data)\n",
      "Called __getattribute__(_data)\n",
      "Called __getattribute__(_data)\n",
      "Called __getattribute__(_data)\n",
      "Called __getattribute__(_data)\n",
      "Called __getattribute__(_data)\n",
      "Called __getattribute__(_data)\n",
      "Called __getattribute__(_data)\n",
      "Called __getattribute__(_data)\n",
      "Called __getattribute__(_data)\n",
      "Called __getattribute__(_data)\n",
      "Called __getattribute__(_data)\n",
      "Called __getattribute__(_data)\n",
      "Called __getattribute__(_data)\n",
      "Called __getattribute__(_data)\n",
      "Called __getattribute__(_data)\n",
      "Called __getattribute__(_data)\n",
      "Called __getattribute__(_data)\n",
      "Called __getattribute__(_data)\n",
      "Called __getattribute__(_data)\n",
      "Called __getattribute__(_data)\n",
      "Called __getattribute__(_data)\n",
      "Called __getattribute__(_data)\n",
      "Called __getattribute__(_data)\n",
      "Called __getattribute__(_data)\n",
      "Called __getattribute__(_data)\n",
      "Called __getattribute__(_data)\n",
      "Called __getattribute__(_data)\n",
      "Called __getattribute__(_data)\n",
      "Called __getattribute__(_data)\n",
      "Called __getattribute__(_data)\n",
      "Called __getattribute__(_data)\n",
      "Called __getattribute__(_data)\n",
      "Called __getattribute__(_data)\n",
      "Called __getattribute__(_data)\n",
      "Called __getattribute__(_data)\n",
      "Called __getattribute__(_data)\n",
      "Called __getattribute__(_data)\n",
      "Called __getattribute__(_data)\n",
      "Called __getattribute__(_data)\n",
      "Called __getattribute__(_data)\n",
      "Called __getattribute__(_data)\n",
      "Called __getattribute__(_data)\n",
      "Called __getattribute__(_data)\n",
      "Called __getattribute__(_data)\n",
      "Called __getattribute__(_data)\n",
      "Called __getattribute__(_data)\n",
      "Called __getattribute__(_data)\n",
      "Called __getattribute__(_data)\n",
      "Called __getattribute__(_data)\n",
      "Called __getattribute__(_data)\n",
      "Called __getattribute__(_data)\n",
      "Called __getattribute__(_data)\n",
      "Called __getattribute__(_data)\n",
      "Called __getattribute__(_data)\n",
      "Called __getattribute__(_data)\n",
      "Called __getattribute__(_data)\n",
      "Called __getattribute__(_data)\n",
      "Called __getattribute__(_data)\n",
      "Called __getattribute__(_data)\n",
      "Called __getattribute__(_data)\n",
      "Called __getattribute__(_data)\n",
      "Called __getattribute__(_data)\n",
      "Called __getattribute__(_data)\n",
      "Called __getattribute__(_data)\n",
      "Called __getattribute__(_data)\n",
      "Called __getattribute__(_data)\n",
      "Called __getattribute__(_data)\n",
      "Called __getattribute__(_data)\n",
      "Called __getattribute__(_data)\n",
      "Called __getattribute__(_data)\n",
      "Called __getattribute__(_data)\n",
      "Called __getattribute__(_data)\n",
      "Called __getattribute__(_data)\n",
      "Called __getattribute__(_data)\n",
      "Called __getattribute__(_data)\n",
      "Called __getattribute__(_data)\n",
      "Called __getattribute__(_data)\n",
      "Called __getattribute__(_data)\n",
      "Called __getattribute__(_data)\n",
      "Called __getattribute__(_data)\n",
      "Called __getattribute__(_data)\n",
      "Called __getattribute__(_data)\n",
      "Called __getattribute__(_data)\n",
      "Called __getattribute__(_data)\n",
      "Called __getattribute__(_data)\n",
      "Called __getattribute__(_data)\n",
      "Called __getattribute__(_data)\n",
      "Called __getattribute__(_data)\n",
      "Called __getattribute__(_data)\n",
      "Called __getattribute__(_data)\n",
      "Called __getattribute__(_data)\n",
      "Called __getattribute__(_data)\n",
      "Called __getattribute__(_data)\n",
      "Called __getattribute__(_data)\n",
      "Called __getattribute__(_data)\n",
      "Called __getattribute__(_data)\n",
      "Called __getattribute__(_data)\n",
      "Called __getattribute__(_data)\n",
      "Called __getattribute__(_data)\n",
      "Called __getattribute__(_data)\n",
      "Called __getattribute__(_data)\n",
      "Called __getattribute__(_data)\n",
      "Called __getattribute__(_data)\n",
      "Called __getattribute__(_data)\n",
      "Called __getattribute__(_data)\n",
      "Called __getattribute__(_data)\n",
      "Called __getattribute__(_data)\n",
      "Called __getattribute__(_data)\n",
      "Called __getattribute__(_data)\n",
      "Called __getattribute__(_data)\n",
      "Called __getattribute__(_data)\n",
      "Called __getattribute__(_data)\n",
      "Called __getattribute__(_data)\n",
      "Called __getattribute__(_data)\n",
      "Called __getattribute__(_data)\n",
      "Called __getattribute__(_data)\n",
      "Called __getattribute__(_data)\n",
      "Called __getattribute__(_data)\n",
      "Called __getattribute__(_data)\n",
      "Called __getattribute__(_data)\n",
      "Called __getattribute__(_data)\n",
      "Called __getattribute__(_data)\n",
      "Called __getattribute__(_data)\n",
      "Called __getattribute__(_data)\n",
      "Called __getattribute__(_data)\n",
      "Called __getattribute__(_data)\n",
      "Called __getattribute__(_data)\n",
      "Called __getattribute__(_data)\n",
      "Called __getattribute__(_data)\n",
      "Called __getattribute__(_data)\n",
      "Called __getattribute__(_data)\n",
      "Called __getattribute__(_data)\n",
      "Called __getattribute__(_data)\n",
      "Called __getattribute__(_data)\n",
      "Called __getattribute__(_data)\n",
      "Called __getattribute__(_data)\n",
      "Called __getattribute__(_data)\n",
      "Called __getattribute__(_data)\n",
      "Called __getattribute__(_data)\n",
      "Called __getattribute__(_data)\n",
      "Called __getattribute__(_data)\n",
      "Called __getattribute__(_data)\n",
      "Called __getattribute__(_data)\n",
      "Called __getattribute__(_data)\n",
      "Called __getattribute__(_data)\n",
      "Called __getattribute__(_data)\n",
      "Called __getattribute__(_data)\n",
      "Called __getattribute__(_data)\n",
      "Called __getattribute__(_data)\n",
      "Called __getattribute__(_data)\n",
      "Called __getattribute__(_data)\n",
      "Called __getattribute__(_data)\n",
      "Called __getattribute__(_data)\n",
      "Called __getattribute__(_data)\n",
      "Called __getattribute__(_data)\n",
      "Called __getattribute__(_data)\n",
      "Called __getattribute__(_data)\n",
      "Called __getattribute__(_data)\n",
      "Called __getattribute__(_data)\n",
      "Called __getattribute__(_data)\n",
      "Called __getattribute__(_data)\n",
      "Called __getattribute__(_data)\n",
      "Called __getattribute__(_data)\n",
      "Called __getattribute__(_data)\n",
      "Called __getattribute__(_data)\n",
      "Called __getattribute__(_data)\n",
      "Called __getattribute__(_data)\n",
      "Called __getattribute__(_data)\n",
      "Called __getattribute__(_data)\n",
      "Called __getattribute__(_data)\n",
      "Called __getattribute__(_data)\n",
      "Called __getattribute__(_data)\n",
      "Called __getattribute__(_data)\n",
      "Called __getattribute__(_data)\n",
      "Called __getattribute__(_data)\n",
      "Called __getattribute__(_data)\n",
      "Called __getattribute__(_data)\n",
      "Called __getattribute__(_data)\n",
      "Called __getattribute__(_data)\n",
      "Called __getattribute__(_data)\n",
      "Called __getattribute__(_data)\n",
      "Called __getattribute__(_data)\n",
      "Called __getattribute__(_data)\n",
      "Called __getattribute__(_data)\n",
      "Called __getattribute__(_data)\n",
      "Called __getattribute__(_data)\n",
      "Called __getattribute__(_data)\n",
      "Called __getattribute__(_data)\n",
      "Called __getattribute__(_data)\n",
      "Called __getattribute__(_data)\n",
      "Called __getattribute__(_data)\n",
      "Called __getattribute__(_data)\n",
      "Called __getattribute__(_data)\n",
      "Called __getattribute__(_data)\n",
      "Called __getattribute__(_data)\n",
      "Called __getattribute__(_data)\n",
      "Called __getattribute__(_data)\n",
      "Called __getattribute__(_data)\n",
      "Called __getattribute__(_data)\n",
      "Called __getattribute__(_data)\n",
      "Called __getattribute__(_data)\n",
      "Called __getattribute__(_data)\n",
      "Called __getattribute__(_data)\n",
      "Called __getattribute__(_data)\n",
      "Called __getattribute__(_data)\n",
      "Called __getattribute__(_data)\n",
      "Called __getattribute__(_data)\n",
      "Called __getattribute__(_data)\n",
      "Called __getattribute__(_data)\n",
      "Called __getattribute__(_data)\n",
      "Called __getattribute__(_data)\n",
      "Called __getattribute__(_data)\n",
      "Called __getattribute__(_data)\n",
      "Called __getattribute__(_data)\n",
      "Called __getattribute__(_data)\n",
      "Called __getattribute__(_data)\n",
      "Called __getattribute__(_data)\n",
      "Called __getattribute__(_data)\n",
      "Called __getattribute__(_data)\n",
      "Called __getattribute__(_data)\n",
      "Called __getattribute__(_data)\n",
      "Called __getattribute__(_data)\n",
      "Called __getattribute__(_data)\n",
      "Called __getattribute__(_data)\n",
      "Called __getattribute__(_data)\n",
      "Called __getattribute__(_data)\n",
      "Called __getattribute__(_data)\n",
      "Called __getattribute__(_data)\n",
      "Called __getattribute__(_data)\n",
      "Called __getattribute__(_data)\n",
      "Called __getattribute__(_data)\n",
      "Called __getattribute__(_data)\n",
      "Called __getattribute__(_data)\n",
      "Called __getattribute__(_data)\n",
      "Called __getattribute__(_data)\n",
      "Called __getattribute__(_data)\n",
      "Called __getattribute__(_data)\n",
      "Called __getattribute__(_data)\n",
      "Called __getattribute__(_data)\n",
      "Called __getattribute__(_data)\n",
      "Called __getattribute__(_data)\n",
      "Called __getattribute__(_data)\n",
      "Called __getattribute__(_data)\n",
      "Called __getattribute__(_data)\n",
      "Called __getattribute__(_data)\n",
      "Called __getattribute__(_data)\n",
      "Called __getattribute__(_data)\n",
      "Called __getattribute__(_data)\n",
      "Called __getattribute__(_data)\n",
      "Called __getattribute__(_data)\n",
      "Called __getattribute__(_data)\n",
      "Called __getattribute__(_data)\n",
      "Called __getattribute__(_data)\n",
      "Called __getattribute__(_data)\n",
      "Called __getattribute__(_data)\n",
      "Called __getattribute__(_data)\n",
      "Called __getattribute__(_data)\n",
      "Called __getattribute__(_data)\n",
      "Called __getattribute__(_data)\n",
      "Called __getattribute__(_data)\n",
      "Called __getattribute__(_data)\n",
      "Called __getattribute__(_data)\n",
      "Called __getattribute__(_data)\n",
      "Called __getattribute__(_data)\n",
      "Called __getattribute__(_data)\n",
      "Called __getattribute__(_data)\n",
      "Called __getattribute__(_data)\n",
      "Called __getattribute__(_data)\n",
      "Called __getattribute__(_data)\n",
      "Called __getattribute__(_data)\n",
      "Called __getattribute__(_data)\n",
      "Called __getattribute__(_data)\n",
      "Called __getattribute__(_data)\n",
      "Called __getattribute__(_data)\n",
      "Called __getattribute__(_data)\n",
      "Called __getattribute__(_data)\n",
      "Called __getattribute__(_data)\n",
      "Called __getattribute__(_data)\n",
      "Called __getattribute__(_data)\n",
      "Called __getattribute__(_data)\n",
      "Called __getattribute__(_data)\n",
      "Called __getattribute__(_data)\n",
      "Called __getattribute__(_data)\n",
      "Called __getattribute__(_data)\n",
      "Called __getattribute__(_data)\n",
      "Called __getattribute__(_data)\n",
      "Called __getattribute__(_data)\n",
      "Called __getattribute__(_data)\n",
      "Called __getattribute__(_data)\n",
      "Called __getattribute__(_data)\n",
      "Called __getattribute__(_data)\n",
      "Called __getattribute__(_data)\n",
      "Called __getattribute__(_data)\n",
      "Called __getattribute__(_data)\n",
      "Called __getattribute__(_data)\n",
      "Called __getattribute__(_data)\n",
      "Called __getattribute__(_data)\n",
      "Called __getattribute__(_data)\n",
      "Called __getattribute__(_data)\n",
      "Called __getattribute__(_data)\n",
      "Called __getattribute__(_data)\n",
      "Called __getattribute__(_data)\n",
      "Called __getattribute__(_data)\n",
      "Called __getattribute__(_data)\n",
      "Called __getattribute__(_data)\n",
      "Called __getattribute__(_data)\n",
      "Called __getattribute__(_data)\n",
      "Called __getattribute__(_data)\n",
      "Called __getattribute__(_data)\n",
      "Called __getattribute__(_data)\n",
      "Called __getattribute__(_data)\n",
      "Called __getattribute__(_data)\n",
      "Called __getattribute__(_data)\n",
      "Called __getattribute__(_data)\n",
      "Called __getattribute__(_data)\n",
      "Called __getattribute__(_data)\n",
      "Called __getattribute__(_data)\n",
      "Called __getattribute__(_data)\n",
      "Called __getattribute__(_data)\n",
      "Called __getattribute__(_data)\n",
      "Called __getattribute__(_data)\n",
      "Called __getattribute__(_data)\n",
      "Called __getattribute__(_data)\n",
      "Called __getattribute__(_data)\n",
      "Called __getattribute__(_data)\n",
      "Called __getattribute__(_data)\n",
      "Called __getattribute__(_data)\n",
      "Called __getattribute__(_data)\n",
      "Called __getattribute__(_data)\n",
      "Called __getattribute__(_data)\n",
      "Called __getattribute__(_data)\n",
      "Called __getattribute__(_data)\n",
      "Called __getattribute__(_data)\n",
      "Called __getattribute__(_data)\n",
      "Called __getattribute__(_data)\n",
      "Called __getattribute__(_data)\n",
      "Called __getattribute__(_data)\n",
      "Called __getattribute__(_data)\n",
      "Called __getattribute__(_data)\n",
      "Called __getattribute__(_data)\n",
      "Called __getattribute__(_data)\n",
      "Called __getattribute__(_data)\n",
      "Called __getattribute__(_data)\n",
      "Called __getattribute__(_data)\n",
      "Called __getattribute__(_data)\n",
      "Called __getattribute__(_data)\n",
      "Called __getattribute__(_data)\n",
      "Called __getattribute__(_data)\n",
      "Called __getattribute__(_data)\n",
      "Called __getattribute__(_data)\n",
      "Called __getattribute__(_data)\n",
      "Called __getattribute__(_data)\n",
      "Called __getattribute__(_data)\n",
      "Called __getattribute__(_data)\n",
      "Called __getattribute__(_data)\n",
      "Called __getattribute__(_data)\n",
      "Called __getattribute__(_data)\n",
      "Called __getattribute__(_data)\n",
      "Called __getattribute__(_data)\n",
      "Called __getattribute__(_data)\n",
      "Called __getattribute__(_data)\n",
      "Called __getattribute__(_data)\n",
      "Called __getattribute__(_data)\n",
      "Called __getattribute__(_data)\n",
      "Called __getattribute__(_data)\n",
      "Called __getattribute__(_data)\n",
      "Called __getattribute__(_data)\n",
      "Called __getattribute__(_data)\n",
      "Called __getattribute__(_data)\n",
      "Called __getattribute__(_data)\n",
      "Called __getattribute__(_data)\n",
      "Called __getattribute__(_data)\n",
      "Called __getattribute__(_data)\n",
      "Called __getattribute__(_data)\n",
      "Called __getattribute__(_data)\n",
      "Called __getattribute__(_data)\n",
      "Called __getattribute__(_data)\n",
      "Called __getattribute__(_data)\n",
      "Called __getattribute__(_data)\n",
      "Called __getattribute__(_data)\n",
      "Called __getattribute__(_data)\n",
      "Called __getattribute__(_data)\n",
      "Called __getattribute__(_data)\n",
      "Called __getattribute__(_data)\n",
      "Called __getattribute__(_data)\n",
      "Called __getattribute__(_data)\n",
      "Called __getattribute__(_data)\n",
      "Called __getattribute__(_data)\n",
      "Called __getattribute__(_data)\n",
      "Called __getattribute__(_data)\n",
      "Called __getattribute__(_data)\n",
      "Called __getattribute__(_data)\n",
      "Called __getattribute__(_data)\n",
      "Called __getattribute__(_data)\n",
      "Called __getattribute__(_data)\n",
      "Called __getattribute__(_data)\n",
      "Called __getattribute__(_data)\n",
      "Called __getattribute__(_data)\n",
      "Called __getattribute__(_data)\n",
      "Called __getattribute__(_data)\n",
      "Called __getattribute__(_data)\n",
      "Called __getattribute__(_data)\n",
      "Called __getattribute__(_data)\n",
      "Called __getattribute__(_data)\n",
      "Called __getattribute__(_data)\n",
      "Called __getattribute__(_data)\n",
      "Called __getattribute__(_data)\n",
      "Called __getattribute__(_data)\n",
      "Called __getattribute__(_data)\n",
      "Called __getattribute__(_data)\n",
      "Called __getattribute__(_data)\n",
      "Called __getattribute__(_data)\n",
      "Called __getattribute__(_data)\n",
      "Called __getattribute__(_data)\n",
      "Called __getattribute__(_data)\n",
      "Called __getattribute__(_data)\n",
      "Called __getattribute__(_data)\n",
      "Called __getattribute__(_data)\n",
      "Called __getattribute__(_data)\n",
      "Called __getattribute__(_data)\n",
      "Called __getattribute__(_data)\n",
      "Called __getattribute__(_data)\n",
      "Called __getattribute__(_data)\n",
      "Called __getattribute__(_data)\n",
      "Called __getattribute__(_data)\n",
      "Called __getattribute__(_data)\n",
      "Called __getattribute__(_data)\n",
      "Called __getattribute__(_data)\n",
      "Called __getattribute__(_data)\n",
      "Called __getattribute__(_data)\n",
      "Called __getattribute__(_data)\n",
      "Called __getattribute__(_data)\n",
      "Called __getattribute__(_data)\n",
      "Called __getattribute__(_data)\n",
      "Called __getattribute__(_data)\n",
      "Called __getattribute__(_data)\n",
      "Called __getattribute__(_data)\n",
      "Called __getattribute__(_data)\n",
      "Called __getattribute__(_data)\n",
      "Called __getattribute__(_data)\n",
      "Called __getattribute__(_data)\n",
      "Called __getattribute__(_data)\n",
      "Called __getattribute__(_data)\n",
      "Called __getattribute__(_data)\n",
      "Called __getattribute__(_data)\n",
      "Called __getattribute__(_data)\n",
      "Called __getattribute__(_data)\n",
      "Called __getattribute__(_data)\n",
      "Called __getattribute__(_data)\n",
      "Called __getattribute__(_data)\n",
      "Called __getattribute__(_data)\n",
      "Called __getattribute__(_data)\n",
      "Called __getattribute__(_data)\n",
      "Called __getattribute__(_data)\n",
      "Called __getattribute__(_data)\n",
      "Called __getattribute__(_data)\n",
      "Called __getattribute__(_data)\n",
      "Called __getattribute__(_data)\n",
      "Called __getattribute__(_data)\n",
      "Called __getattribute__(_data)\n",
      "Called __getattribute__(_data)\n",
      "Called __getattribute__(_data)\n",
      "Called __getattribute__(_data)\n",
      "Called __getattribute__(_data)\n",
      "Called __getattribute__(_data)\n",
      "Called __getattribute__(_data)\n",
      "Called __getattribute__(_data)\n",
      "Called __getattribute__(_data)\n",
      "Called __getattribute__(_data)\n"
     ]
    },
    {
     "name": "stderr",
     "output_type": "stream",
     "text": [
      "ERROR:root:Internal Python error in the inspect module.\n",
      "Below is the traceback from this internal error.\n",
      "\n"
     ]
    },
    {
     "name": "stdout",
     "output_type": "stream",
     "text": [
      "Traceback (most recent call last):\n",
      "  File \"/home/dockeruser/anaconda3/lib/python3.6/site-packages/IPython/core/interactiveshell.py\", line 2862, in run_code\n",
      "    exec(code_obj, self.user_global_ns, self.user_ns)\n",
      "  File \"<ipython-input-20-cc294e2cef0f>\", line 3, in <module>\n",
      "    data.foo\n",
      "  File \"<ipython-input-19-fe9dbb5efef0>\", line 7, in __getattribute__\n",
      "    return self._data[name]\n",
      "  File \"<ipython-input-19-fe9dbb5efef0>\", line 7, in __getattribute__\n",
      "    return self._data[name]\n",
      "  File \"<ipython-input-19-fe9dbb5efef0>\", line 7, in __getattribute__\n",
      "    return self._data[name]\n",
      "  [Previous line repeated 651 more times]\n",
      "  File \"<ipython-input-19-fe9dbb5efef0>\", line 6, in __getattribute__\n",
      "    print('Called __getattribute__(%s)' % name)\n",
      "  File \"/home/dockeruser/anaconda3/lib/python3.6/site-packages/ipykernel/iostream.py\", line 350, in write\n",
      "    is_child = (not self._is_master_process())\n",
      "  File \"/home/dockeruser/anaconda3/lib/python3.6/site-packages/ipykernel/iostream.py\", line 285, in _is_master_process\n",
      "    return os.getpid() == self._master_pid\n",
      "RecursionError: maximum recursion depth exceeded in comparison\n",
      "\n",
      "During handling of the above exception, another exception occurred:\n",
      "\n",
      "Traceback (most recent call last):\n",
      "  File \"/home/dockeruser/anaconda3/lib/python3.6/site-packages/IPython/core/interactiveshell.py\", line 1806, in showtraceback\n",
      "    stb = value._render_traceback_()\n",
      "AttributeError: 'RecursionError' object has no attribute '_render_traceback_'\n",
      "\n",
      "During handling of the above exception, another exception occurred:\n",
      "\n",
      "Traceback (most recent call last):\n",
      "  File \"/home/dockeruser/anaconda3/lib/python3.6/site-packages/IPython/core/ultratb.py\", line 1090, in get_records\n",
      "    return _fixed_getinnerframes(etb, number_of_lines_of_context, tb_offset)\n",
      "  File \"/home/dockeruser/anaconda3/lib/python3.6/site-packages/IPython/core/ultratb.py\", line 311, in wrapped\n",
      "    return f(*args, **kwargs)\n",
      "  File \"/home/dockeruser/anaconda3/lib/python3.6/site-packages/IPython/core/ultratb.py\", line 345, in _fixed_getinnerframes\n",
      "    records = fix_frame_records_filenames(inspect.getinnerframes(etb, context))\n",
      "  File \"/home/dockeruser/anaconda3/lib/python3.6/inspect.py\", line 1480, in getinnerframes\n",
      "    frameinfo = (tb.tb_frame,) + getframeinfo(tb, context)\n",
      "  File \"/home/dockeruser/anaconda3/lib/python3.6/inspect.py\", line 1438, in getframeinfo\n",
      "    filename = getsourcefile(frame) or getfile(frame)\n",
      "  File \"/home/dockeruser/anaconda3/lib/python3.6/inspect.py\", line 693, in getsourcefile\n",
      "    if getattr(getmodule(object, filename), '__loader__', None) is not None:\n",
      "  File \"/home/dockeruser/anaconda3/lib/python3.6/inspect.py\", line 729, in getmodule\n",
      "    for modname, module in list(sys.modules.items()):\n",
      "KeyboardInterrupt\n"
     ]
    },
    {
     "ename": "RecursionError",
     "evalue": "maximum recursion depth exceeded in comparison",
     "output_type": "error",
     "traceback": [
      "\u001b[0;31m---------------------------------------------------------------------------\u001b[0m"
     ]
    }
   ],
   "source": [
    "# recursice reference\n",
    "data = BrokenDictionaryDB({'foo': 3})\n",
    "data.foo"
   ]
  },
  {
   "cell_type": "markdown",
   "metadata": {},
   "source": [
    "- ** The problem is tha \\_\\_getattribute\\_\\_ accesses self.\\_data, which causes \\_\\_getattribute\\_\\_ to run again, which accesses self.\\_data again, and so on. The solution is to use the super().\\_\\_getattribute\\_\\_ method on your instance to fetch values from the instance attribute dictionary. This avoids the recursion. **"
   ]
  },
  {
   "cell_type": "code",
   "execution_count": 21,
   "metadata": {
    "collapsed": true
   },
   "outputs": [],
   "source": [
    "class DictionaryDB(object):\n",
    "    def __init__(self, data):\n",
    "        self._data = data\n",
    "        \n",
    "    def __getattribute__(self, name):\n",
    "        data_dict = super().__getattribute__('_data')\n",
    "        return data_dict[name]"
   ]
  },
  {
   "cell_type": "markdown",
   "metadata": {},
   "source": [
    "- Similarly,\tyou’ll\tneed\t\\_\\_setattr\\_\\_\tmethods\tthat\tmodify\tattributes\ton\tan\tobject\tto\tuse super().\\_\\_setattr\\_\\_. "
   ]
  },
  {
   "cell_type": "markdown",
   "metadata": {},
   "source": [
    "# I33: Validate Subclasses with Metaclasses "
   ]
  },
  {
   "cell_type": "markdown",
   "metadata": {},
   "source": [
    "- One of the simplest applicatios of metaclasses is verifying that a class was defined correctly. When you're building a complex class hierarchy, you may want to enforce style, require overriding methods, or have strict relationships between class attributes. Metaclasses enable these use cases by providing a reliable way to run your validation code each time a new subclass is defined."
   ]
  },
  {
   "cell_type": "markdown",
   "metadata": {},
   "source": [
    "- Often\ta\tclass’s\tvalidation\tcode\truns\tin\tthe\t\\_\\_init\\_\\_\tmethod,\twhen\tan\tobject\tof\tthe class’s\ttype\tis\tconstructed. Using\tmetaclasses\tfor\tvalidation\tcan\traise\terrors\tmuch earlier."
   ]
  },
  {
   "cell_type": "markdown",
   "metadata": {},
   "source": [
    "- Before\tI\tget\tinto\thow\tto\tdefine\ta\tmetaclass\tfor\tvalidating\tsubclasses,\tit’s\timportant\tto understand\tthe\tmetaclass\taction\tfor\tstandard\tobjects.\tA\tmetaclass\tis\tdefined\tby\tinheriting from\ttype.\tIn\tthe\tdefault\tcase,\ta\tmetaclass\treceives\tthe\tcontents\tof\tassociated\tclass statements\tin\tits\t\\_\\_new\\_\\_\tmethod.\tHere,\tyou\tcan\tmodify\tthe\tclass\tinformation\tbefore\tthe type\tis\tactually\tconstructed: "
   ]
  },
  {
   "cell_type": "code",
   "execution_count": 22,
   "metadata": {
    "scrolled": true
   },
   "outputs": [
    {
     "name": "stdout",
     "output_type": "stream",
     "text": [
      "(<class '__main__.Meta'>, 'MyClass', (<class 'object'>,), {'__module__': '__main__', '__qualname__': 'MyClass', 'stuff': 123, 'foo': <function MyClass.foo at 0x7fa9d7d9dea0>})\n"
     ]
    }
   ],
   "source": [
    "class Meta(type):\n",
    "    def __new__(meta, name, bases, class_dict):\n",
    "        print((meta, name, bases, class_dict))\n",
    "        return type.__new__(meta, name, bases, class_dict)\n",
    "    \n",
    "\n",
    "class MyClass(object, metaclass=Meta):\n",
    "    stuff = 123\n",
    "    \n",
    "    def foo(self):\n",
    "        pass"
   ]
  },
  {
   "cell_type": "code",
   "execution_count": 23,
   "metadata": {
    "collapsed": true
   },
   "outputs": [],
   "source": [
    "class ValidatePolygon(type):\n",
    "    def __new__(meta, name, bases, class_dict):\n",
    "        # Don't validate the abstract Polygon class\n",
    "        if bases != (object,):\n",
    "            if class_dict['sides'] > 3:\n",
    "                raise ValueError('Polygons need 3+ sides')\n",
    "        return type.__new__(meta, name, bases, class_dict)\n",
    "    \n",
    "\n",
    "class Polygon(object, metaclass=ValidatePolygon):\n",
    "    sides = None # 서브클래스에 의해 정의됨\n",
    "\n",
    "    @classmethod\n",
    "    def interior_angles(cls):\n",
    "        return (cls.sides - 2) * 180\n",
    "    \n",
    "    \n",
    "class Triangle(Polygon):\n",
    "    sides = 3"
   ]
  },
  {
   "cell_type": "markdown",
   "metadata": {},
   "source": [
    "- If you try to define a polygon with fewer than three sides, the validation will cause the class statement to fail immediately after the class statement body. This means your program will not even be able to start running when you define such a class."
   ]
  },
  {
   "cell_type": "code",
   "execution_count": null,
   "metadata": {
    "collapsed": true
   },
   "outputs": [],
   "source": [
    "print('Before')\n",
    "class Line(Polygon):\n",
    "    print('Before sides')\n",
    "    sides = 1\n",
    "    print('After sides')"
   ]
  },
  {
   "cell_type": "markdown",
   "metadata": {},
   "source": [
    "# I34 : Register Class Existence with Metaclasses"
   ]
  },
  {
   "cell_type": "markdown",
   "metadata": {},
   "source": [
    "- Another common use of metaclasses is to automatically register types in your program."
   ]
  },
  {
   "cell_type": "markdown",
   "metadata": {},
   "source": [
    "- Registration is useful for doing reverse lookups, where you need to map a simple identifier back to a corresponding class."
   ]
  },
  {
   "cell_type": "code",
   "execution_count": 27,
   "metadata": {
    "collapsed": true
   },
   "outputs": [],
   "source": [
    "import json\n",
    "\n",
    "class Serializable(object):\n",
    "    def __init__(self, *args):\n",
    "        self.args = args\n",
    "        \n",
    "    def serialize(self):\n",
    "        return json.dumps({'args': self.args})"
   ]
  },
  {
   "cell_type": "code",
   "execution_count": 28,
   "metadata": {
    "collapsed": true
   },
   "outputs": [],
   "source": [
    "# immutable 2D\n",
    "class Point2D(Serializable):\n",
    "    def __init__(self, x, y):\n",
    "        super().__init__(x, y)\n",
    "        self.x = x\n",
    "        self.y = y\n",
    "        \n",
    "    def __repr__(self):\n",
    "        return 'Point@D(%d, %d)' % (self.x, self.y)"
   ]
  },
  {
   "cell_type": "code",
   "execution_count": 29,
   "metadata": {},
   "outputs": [
    {
     "name": "stdout",
     "output_type": "stream",
     "text": [
      "Object:     Point@D(5, 3)\n",
      "Serialized: {\"args\": [5, 3]}\n"
     ]
    }
   ],
   "source": [
    "point = Point2D(5, 3)\n",
    "print('Object:    ', point)\n",
    "print('Serialized:', point.serialize())"
   ]
  },
  {
   "cell_type": "code",
   "execution_count": 30,
   "metadata": {
    "collapsed": true
   },
   "outputs": [],
   "source": [
    "class Deserializable(Serializable):\n",
    "    @classmethod\n",
    "    def deserialize(cls, json_data):\n",
    "        params = json.loads(json_data)\n",
    "        return cls(*params['args'])"
   ]
  },
  {
   "cell_type": "code",
   "execution_count": 32,
   "metadata": {},
   "outputs": [],
   "source": [
    "class BetterPoint2D(Deserializable):\n",
    "    #...\n",
    "    pass"
   ]
  },
  {
   "cell_type": "code",
   "execution_count": 35,
   "metadata": {},
   "outputs": [
    {
     "name": "stdout",
     "output_type": "stream",
     "text": [
      "B <__main__.BetterPoint2D object at 0x7fa9d7e41048>\n",
      "S {\"args\": [5, 3]}\n",
      "A <__main__.BetterPoint2D object at 0x7fa9d7e41080>\n"
     ]
    }
   ],
   "source": [
    "point = BetterPoint2D(5, 3)\n",
    "print('B', point)\n",
    "data = point.serialize()\n",
    "print('S', data)\n",
    "after = BetterPoint2D.deserialize(data)\n",
    "print('A', after)"
   ]
  },
  {
   "cell_type": "code",
   "execution_count": 36,
   "metadata": {
    "collapsed": true
   },
   "outputs": [],
   "source": [
    "class BetterSerializable(object):\n",
    "    def __init__(self, *args):\n",
    "        self.args = args\n",
    "        \n",
    "    def serialize(self):\n",
    "        return json.dumps({\n",
    "            'class': self.__class__.__name__,\n",
    "            'args': self.args,\n",
    "        })\n",
    "    \n",
    "    def __repr__(self):\n",
    "        pass\n",
    "\n",
    "    "
   ]
  },
  {
   "cell_type": "markdown",
   "metadata": {},
   "source": [
    "# P.112 "
   ]
  },
  {
   "cell_type": "code",
   "execution_count": null,
   "metadata": {
    "collapsed": true
   },
   "outputs": [],
   "source": []
  }
 ],
 "metadata": {
  "kernelspec": {
   "display_name": "Python 3",
   "language": "python",
   "name": "python3"
  },
  "language_info": {
   "codemirror_mode": {
    "name": "ipython",
    "version": 3
   },
   "file_extension": ".py",
   "mimetype": "text/x-python",
   "name": "python",
   "nbconvert_exporter": "python",
   "pygments_lexer": "ipython3",
   "version": "3.6.2"
  }
 },
 "nbformat": 4,
 "nbformat_minor": 2
}
