{
 "cells": [
  {
   "cell_type": "markdown",
   "metadata": {},
   "source": [
    "# Item 1 : Know Which Version of Python You're Using"
   ]
  },
  {
   "cell_type": "code",
   "execution_count": 7,
   "metadata": {},
   "outputs": [
    {
     "data": {
      "text/plain": [
       "'3.6.2 |Anaconda custom (64-bit)| (default, Sep 30 2017, 18:42:57) \\n[GCC 7.2.0]'"
      ]
     },
     "execution_count": 7,
     "metadata": {},
     "output_type": "execute_result"
    }
   ],
   "source": [
    "import sys\n",
    "sys.version"
   ]
  },
  {
   "cell_type": "code",
   "execution_count": 8,
   "metadata": {},
   "outputs": [
    {
     "data": {
      "text/plain": [
       "sys.version_info(major=3, minor=6, micro=2, releaselevel='final', serial=0)"
      ]
     },
     "execution_count": 8,
     "metadata": {},
     "output_type": "execute_result"
    }
   ],
   "source": [
    "sys.version_info"
   ]
  },
  {
   "cell_type": "markdown",
   "metadata": {},
   "source": [
    "## Things to Remember\n",
    "- There are two major versions of Python still in active use: Python 2 and Python 3.\n",
    "- There are multiple popular reuntimes for Python: CPython, JPython, IronPython, PyPy, etc.\n",
    "- Be sure that teh command-line for running Python on your system is the version you expect it to be.\n",
    "- Prefer Python 3 for your next project because that is the primary focus of the Python community."
   ]
  },
  {
   "cell_type": "markdown",
   "metadata": {},
   "source": [
    "# Item 2: Follow the PEP8 Style Guide\n",
    "- Python Enhancement Proposal #8"
   ]
  },
  {
   "cell_type": "markdown",
   "metadata": {},
   "source": [
    "> Whitespace : In Python, whitespace is syntactically significant. Python programmers are especially sensitive to the effects of whitespace on code clarity.\n",
    "- Use spaces instead of tabs for indentation.\n",
    "- Use four spaces for each level of syntactically significant indenting. Lines should be 79 characters in length or less.\n",
    "- Continuations of long expressions onto additional lines should be indented by four extra spaces from their normal indentation level.\n",
    "- In a file, functions and classes should be separated by two blank lines. In a class, methods should be separated by one black line.\n",
    "- Don't put spaces around list indexes, function calls, or keyword argument assignments.\n",
    "- Put one-and only one-space before and after variable assignments."
   ]
  },
  {
   "cell_type": "markdown",
   "metadata": {},
   "source": [
    "> Naming : PEP8 suggests unique styles of naming for different parts in the language. This makes it easy to distinguish which type corresponds to each name when reading code.\n",
    "- Functions, variables, and attributes should be in lowercase_underscore format.\n",
    "- Protected instance attributes should be in \\_leading\\_underscore format.\n",
    "- Private instance attributes should be in \\_\\_double\\_leading\\_underscore format.\n",
    "- Classes and exceptions should be in CapitalizedWord format. Module- level constants should be in ALL_CAPS format.\n",
    "- Instance methods in classes should use self as the name of the first parameter (which refers to the object).\n",
    "- Class methods should use cls as the name of the first parameter (which refers the class).\n"
   ]
  },
  {
   "cell_type": "markdown",
   "metadata": {},
   "source": [
    "> Expressions and Statements: The Zen of Python states: \"There should be one-and preferably only one-obvious way to do it.\" PEP8 attempts to codify this style in its guidance for expressions and statements. \n",
    "- Use inline negation (if a is not b) instead of negation of positive expressions (if not a is b).\n",
    "- Don't check for empty values (like [] or \") by checking the length (if len(somelist) == 0). Use if not somelist and assume empty values implicitly evaluate to False.\n",
    "- The same thing goes for non-empty values (like [1] or \"hi\"). The statement if somelist is implicitly True for non-empty values.\n",
    "- Avoid single-line if statements, for and while loops, and except compound statements. Spread these over multiple lines for clarity.\n",
    "- Always put import statements at the top of a file.\n",
    "- Always use absolute names for modules when importing them, not names relatives to the current module's own path. For example, to import the foo module from the bar package, you should do from bar import foo, not just import foo.\n",
    "- If you must do relative imports, use the explicit syntax from . import foo.\n",
    "- Imports should be in sections in the following order: standard library modules, third-party modules, your own modules. Each subsection should have imports in alphabetical order."
   ]
  },
  {
   "cell_type": "markdown",
   "metadata": {},
   "source": [
    "* Note * \n",
    "- The Pylint tool (http://www.pylint.org/) is a popular static analyzer for Python source code. Pylint provides automated enforcement of the PEP8 style guide and detexts many other types of common errors in Python programs."
   ]
  },
  {
   "cell_type": "markdown",
   "metadata": {},
   "source": [
    "## Things to Remember\n",
    "- Always follow the PEP8 style guide when writing Python code.\n",
    "- Sharing a common style with the larger Python community facilitates collaboration with others.\n",
    "- Using a consistent style makes it easier to modify your own code later."
   ]
  },
  {
   "cell_type": "markdown",
   "metadata": {},
   "source": [
    "# Item 3: Know the Differences Between bytes, str, and unicode"
   ]
  },
  {
   "cell_type": "markdown",
   "metadata": {},
   "source": [
    "- In Python 3, there are two types that represent sequences of characters: bytes and str. Instances of bytes contain raw 8-bit values. Instances of str contain Unicode characters.\n",
    "- In Python 2, there are two types that represent sequences of characters: str and unicode. In contrast to Python 3, instances of str contain raw 8-bit values. Instances of unicode contain Unicode chracters.\n",
    "- There are many ways to represent Unicode characters as binary data (raw 8-bigt values). The most common encoding is UTF-8. importantly, str instances in Python 3 and unicode instances in Python 2 do not have an associated binary encoding. To convert Unicode characters to binary data, you must use the encode method. To convert binary data to Unicode characters, you must use the decode method.\n",
    "\n",
    "- When your're writing Python programs, it's important to do encoding and decoding of Unicode at the furthest boundary of your interfaces. The core of your program should use Unicode character types (str in Python 3, unicode in Python 2) and should not assume anything about character encodings. This approach allows you to be very accepting of alternative text encodings (such as Latin-1, Shift JIS, and Big 5) while being strict about your output text encoding(ideally, UTF-8)\n",
    "\n",
    "- The split between character types leads to two common situations in Python code:\n",
    "\n",
    "1. You want to operate on raw 8-bit values that are UTF-8-encoded charaters (or some other encoding).\n",
    "2. You want to operate on Unicode characters that have no specific encoding."
   ]
  },
  {
   "cell_type": "code",
   "execution_count": 10,
   "metadata": {
    "collapsed": true
   },
   "outputs": [],
   "source": [
    "# In Python 3\n",
    "def to_str(bytes_or_str):\n",
    "    if isinstance(bytes_or_str, bytes):\n",
    "        value = bytes_or_str.decode('utf-8')\n",
    "    else:\n",
    "        value = bytes_or_str\n",
    "    return value # Instance of str\n",
    "\n",
    "\n",
    "def to_bytes(bytes_or_str):\n",
    "    if isinstance(bytes_or_str, str):\n",
    "        value = bytes_or_str.encode('utf-8')\n",
    "    else: \n",
    "        value = bytes_or_str\n",
    "    return value # Instance of bytes"
   ]
  },
  {
   "cell_type": "code",
   "execution_count": 11,
   "metadata": {
    "collapsed": true
   },
   "outputs": [],
   "source": [
    "# In Python 2\n",
    "def to_unicode(unicode_or_str):\n",
    "    if isinstance(unicode_or_str, str):\n",
    "        value = unicode_or_str.decode('utf-8')\n",
    "    else:\n",
    "        value = unicode_or_str\n",
    "    return value # Instance of unicode\n",
    "\n",
    "\n",
    "def to_str(unicode_or_str):\n",
    "    if isinstance(unicode_or_str, unicode):\n",
    "        value = unicode_or_str.encode('utf-8')\n",
    "    else:\n",
    "        value = unicode_or_str\n",
    "    return value # Instance of str"
   ]
  },
  {
   "cell_type": "markdown",
   "metadata": {},
   "source": [
    "- There are two big gotchas when dealing with raw 8-bit values and Unicode characters in Python.\n",
    "\n",
    "- The first issue is that in Python 2, unicode and str instances seem to be the same type when a str only contains 7-bit ASCII characters.\n",
    "\n",
    "1. You can combine such a str and unicode together using the + operator.\n",
    "2. You can compare such str and unicode instances using equality and inequality operators.\n",
    "3. You can use unicode instances for format strins like '%s'\n",
    "\n",
    "- All of this behavior means that you can often pass a str unicode instance to a function expecting one or the other and things will just work (as long as you're only deaaling with 7-bit ASCII). In Python 3, bytes and str instances are never equivalent- not even the empty string- so you must be more deliberate about the types of character sequences that you're passing around.\n",
    "\n",
    "- The second issue is that in Python 3, operations involving file handles (returned by the open built-in function) default to UTF-8 encoding. In Python 2, file operations default to binary encoding. This causes surprising failures, especially for progammers accustomed to Python 2.\n",
    "\n",
    "- For example, say you want to write some random binary data to a file. In Pytho n 2, this works. In Python 3, this breaks."
   ]
  },
  {
   "cell_type": "code",
   "execution_count": 13,
   "metadata": {},
   "outputs": [
    {
     "ename": "TypeError",
     "evalue": "write() argument must be str, not bytes",
     "output_type": "error",
     "traceback": [
      "\u001b[0;31m---------------------------------------------------------------------------\u001b[0m",
      "\u001b[0;31mTypeError\u001b[0m                                 Traceback (most recent call last)",
      "\u001b[0;32m<ipython-input-13-0464ed84dcee>\u001b[0m in \u001b[0;36m<module>\u001b[0;34m()\u001b[0m\n\u001b[1;32m      1\u001b[0m \u001b[0;32mimport\u001b[0m \u001b[0mos\u001b[0m\u001b[0;34m\u001b[0m\u001b[0m\n\u001b[1;32m      2\u001b[0m \u001b[0;32mwith\u001b[0m \u001b[0mopen\u001b[0m\u001b[0;34m(\u001b[0m\u001b[0;34m'/tmp/random.bin'\u001b[0m\u001b[0;34m,\u001b[0m \u001b[0;34m'w'\u001b[0m\u001b[0;34m)\u001b[0m \u001b[0;32mas\u001b[0m \u001b[0mf\u001b[0m\u001b[0;34m:\u001b[0m\u001b[0;34m\u001b[0m\u001b[0m\n\u001b[0;32m----> 3\u001b[0;31m     \u001b[0mf\u001b[0m\u001b[0;34m.\u001b[0m\u001b[0mwrite\u001b[0m\u001b[0;34m(\u001b[0m\u001b[0mos\u001b[0m\u001b[0;34m.\u001b[0m\u001b[0murandom\u001b[0m\u001b[0;34m(\u001b[0m\u001b[0;36m10\u001b[0m\u001b[0;34m)\u001b[0m\u001b[0;34m)\u001b[0m\u001b[0;34m\u001b[0m\u001b[0m\n\u001b[0m",
      "\u001b[0;31mTypeError\u001b[0m: write() argument must be str, not bytes"
     ]
    }
   ],
   "source": [
    "import os\n",
    "with open('/tmp/random.bin', 'w') as f:\n",
    "    f.write(os.urandom(10))"
   ]
  },
  {
   "cell_type": "markdown",
   "metadata": {},
   "source": [
    "- The cause of this exception is the new encoding argument for open that was added in Python 3. This parameter defaults to 'utf-8'. That makes read and write operations on file handles expect str instances containing Unicode characters instead of bytes instances containing binary data.\n",
    "\n",
    "- To make this work properly, you must indicate that the data is being opened in write binary mode ('wb') instead of write character mode ('w'). Here, I use open in a way that works correctly in Python 2 and Python 3."
   ]
  },
  {
   "cell_type": "code",
   "execution_count": 14,
   "metadata": {
    "collapsed": true
   },
   "outputs": [],
   "source": [
    "with open('/tmp/random.bin', 'wb') as f:\n",
    "    f.write(os.urandom(10))"
   ]
  },
  {
   "cell_type": "markdown",
   "metadata": {},
   "source": [
    "- On reading data, too. Same solution."
   ]
  },
  {
   "cell_type": "markdown",
   "metadata": {},
   "source": [
    "## Things to Remember"
   ]
  },
  {
   "cell_type": "markdown",
   "metadata": {},
   "source": [
    "- In Python 3, bytes contains sequences of 8-bit values, unicode contains sequences of Unicode characters. str and unicode can be used together with operators if the str only contains 7-bit ASCII characters.\n",
    "- Use helper functions to ensure that the inputs you operate on are the type of character sequence you expect (8-bit values, UTF-8 encoded characters, Unicode characters, etc.)\n",
    "- If you want to read or write binary data to/from a file, always open the file using a binary mode (like 'b' or 'wb')"
   ]
  },
  {
   "cell_type": "markdown",
   "metadata": {
    "collapsed": true
   },
   "source": [
    "# Item 4: Write helper function Instead of Complex Expressions"
   ]
  },
  {
   "cell_type": "markdown",
   "metadata": {},
   "source": [
    "- Python;s pythy syntaw makes it easy to write single-line expressions that implement a lot of logic. For example, say you want to decode the query string from a URL. Here, each query string parameter represents an integer value:"
   ]
  },
  {
   "cell_type": "code",
   "execution_count": 1,
   "metadata": {},
   "outputs": [
    {
     "name": "stdout",
     "output_type": "stream",
     "text": [
      "{'red': ['5'], 'blue': ['0'], 'green': ['']}\n"
     ]
    }
   ],
   "source": [
    "from urllib.parse import parse_qs\n",
    "my_values = parse_qs('red=5&blue=0&green=',\n",
    "                    keep_blank_values=True)\n",
    "print(repr(my_values))"
   ]
  },
  {
   "cell_type": "markdown",
   "metadata": {},
   "source": [
    "- Some query string parameters may have multiple values, some may have single values, some may be present but have black values, and some may be missing entirely. Using the get method on the result dictionary will return different values in each circumstance."
   ]
  },
  {
   "cell_type": "code",
   "execution_count": 2,
   "metadata": {},
   "outputs": [
    {
     "name": "stdout",
     "output_type": "stream",
     "text": [
      "Red:       ['5']\n",
      "Green:     ['']\n",
      "Opacity:   None\n"
     ]
    }
   ],
   "source": [
    "print('Red:      ', my_values.get('red'))\n",
    "print('Green:    ', my_values.get('green'))\n",
    "print('Opacity:  ', my_values.get('opacity'))"
   ]
  },
  {
   "cell_type": "markdown",
   "metadata": {},
   "source": [
    "- It'd be nice if a default value of 0 was assigned when a parameter isn't supplied or is blank. You might choose to do this with Boolean expressions because it feels like this logic doesn't merit a whole if statement or helper function quite yet.\n",
    "\n",
    "- Python's syntax makes this choice all too easy. The trick here is that the empty string, the empty list and zero all evaluate to False implicitly. Thus, the expressions below will evaluate to the subexpression after the or operator when the first expression is False."
   ]
  },
  {
   "cell_type": "code",
   "execution_count": 3,
   "metadata": {},
   "outputs": [
    {
     "name": "stdout",
     "output_type": "stream",
     "text": [
      "Red:      '5'\n",
      "Green:    0\n",
      "Opacity:  0\n"
     ]
    }
   ],
   "source": [
    "red = my_values.get('red', [''])[0] or 0\n",
    "green = my_values.get('green', [''])[0] or 0\n",
    "opacity = my_values.get('opacity', [''])[0] or 0\n",
    "print('Red:      %r' % red)\n",
    "print('Green:    %r' % green)\n",
    "print('Opacity:  %r'% opacity)"
   ]
  },
  {
   "cell_type": "code",
   "execution_count": 4,
   "metadata": {},
   "outputs": [
    {
     "data": {
      "text/plain": [
       "str"
      ]
     },
     "execution_count": 4,
     "metadata": {},
     "output_type": "execute_result"
    }
   ],
   "source": [
    "type(red)"
   ]
  },
  {
   "cell_type": "markdown",
   "metadata": {
    "collapsed": true
   },
   "source": [
    "- The red case works because the key is present in the my_values dictionary. The value is a list with one member: the string '5'. This string implicitly evaluates to True, so red is assigned to the first part of the or expression.\n",
    "\n",
    "- The green case works because the value in the my_values dictionary is a list with one member: an empty string. The empty string implicitly evaluates to False, causing the or expression to evaluate to 0.\n",
    " \n",
    "- The opcity case works because the balue in the my_values dictionary is missing altogether. The behavior of the get method is to return its second argument if the key doesn't exist in the dictionary. The default value in this case is a list with one member, an empty string. When opacity isn't found in the dictionary, this code does exactly the same thing as the green case."
   ]
  },
  {
   "cell_type": "code",
   "execution_count": 5,
   "metadata": {
    "collapsed": true
   },
   "outputs": [],
   "source": [
    "red = int(my_values.get('red', [''])[0] or 0)"
   ]
  },
  {
   "cell_type": "code",
   "execution_count": 6,
   "metadata": {
    "collapsed": true
   },
   "outputs": [],
   "source": [
    "red = my_values.get('red', [''])\n",
    "red = int(red[0]) if red[0] else 0"
   ]
  },
  {
   "cell_type": "code",
   "execution_count": 7,
   "metadata": {
    "collapsed": true
   },
   "outputs": [],
   "source": [
    "green = my_values.get('green', [''])\n",
    "if green[0]:\n",
    "    green = int(green[0])\n",
    "else:\n",
    "    green = 0"
   ]
  },
  {
   "cell_type": "code",
   "execution_count": 10,
   "metadata": {
    "collapsed": true
   },
   "outputs": [],
   "source": [
    "def get_first_int(values, key, default=0):\n",
    "    found = values.get(key, [''])\n",
    "    if found[0]:\n",
    "        found = int(found[0])\n",
    "    else:\n",
    "        found = default\n",
    "    return found"
   ]
  },
  {
   "cell_type": "code",
   "execution_count": 11,
   "metadata": {},
   "outputs": [],
   "source": [
    "green = get_first_int(my_values, 'green')"
   ]
  },
  {
   "cell_type": "markdown",
   "metadata": {},
   "source": [
    "## Things to Remember"
   ]
  },
  {
   "cell_type": "markdown",
   "metadata": {},
   "source": [
    "- Python's syntax makes it all to easy to wrtie single-line expressions that are overly complicated and difficult to read.\n",
    "- Move complex expressions into helper functions, especially if you need to use the same logic repeatedly.\n",
    "- The if/else expression provides a more readable alternative to using Boolean operators like or and and in expressions."
   ]
  }
 ],
 "metadata": {
  "kernelspec": {
   "display_name": "Python 3",
   "language": "python",
   "name": "python3"
  },
  "language_info": {
   "codemirror_mode": {
    "name": "ipython",
    "version": 3
   },
   "file_extension": ".py",
   "mimetype": "text/x-python",
   "name": "python",
   "nbconvert_exporter": "python",
   "pygments_lexer": "ipython3",
   "version": "3.6.2"
  }
 },
 "nbformat": 4,
 "nbformat_minor": 2
}
