{
 "cells": [
  {
   "cell_type": "markdown",
   "metadata": {},
   "source": [
    "# Item 22: Prefer Helper Classes Over Bookkeeping with Dictionaries and Tuples"
   ]
  },
  {
   "cell_type": "markdown",
   "metadata": {},
   "source": [
    "- Python's built-in dictionary type is wonderful for maintaining dynamic internal state over the lifetime of an object. By dynamic, I mean situations in which you need to do bookkeeping for an unexpected set of identifiers. For example, say you want to record the grades of a set of students whose names aren't known in advance. You can define a class to sotre the names in a dictionary instead of using a predefined attribute for each student."
   ]
  },
  {
   "cell_type": "code",
   "execution_count": 3,
   "metadata": {
    "collapsed": true
   },
   "outputs": [],
   "source": [
    "class SimpleGradebook(object):\n",
    "    def __init__(self):\n",
    "        self._grades = {}\n",
    "        \n",
    "    def add_student(self, name):\n",
    "        self._grades[name] = []\n",
    "    \n",
    "    def report_grade(self, name, score):\n",
    "        self._grades[name].append(score)\n",
    "    \n",
    "    def average_grade(self, name):\n",
    "        grades = self._grades[name]\n",
    "        return sum(grades) / len(grades)"
   ]
  },
  {
   "cell_type": "code",
   "execution_count": 7,
   "metadata": {},
   "outputs": [
    {
     "name": "stdout",
     "output_type": "stream",
     "text": [
      "90.0\n"
     ]
    }
   ],
   "source": [
    "book = SimpleGradebook()\n",
    "book.add_student('Isaac Newton')\n",
    "book.report_grade('Isaac Newton', 90)\n",
    "print(book.average_grade('Isaac Newton'))"
   ]
  },
  {
   "cell_type": "markdown",
   "metadata": {},
   "source": [
    "- Dictionaries are so easy to use there's a danger of overextending them to write brittle code. For example, say you want to extend the SimpleGradebook class to keep a list of grades by subject, not just overall. You can do this by chaging \\_grades dictionary to map student names (the keys) to yet another dictionary (the values). The innermost dictionary will map subjects (the keys) to grades (the values)."
   ]
  },
  {
   "cell_type": "code",
   "execution_count": 11,
   "metadata": {},
   "outputs": [],
   "source": [
    "class BySubjectGradebook(object):\n",
    "    def __init__(self):\n",
    "        self._grades = {}\n",
    "        \n",
    "    def add_student(self, name):\n",
    "        self._grades[name] = {}\n",
    "        \n",
    "    def report_grade(self, name, subject, grade):\n",
    "        by_subject = self._grades[name]\n",
    "        grade_list = by_subject.setdefault(subject, [])\n",
    "        grade_list.append(grade)\n",
    "        \n",
    "    def average_grade(self, name):\n",
    "        by_subject = self._grades[name]\n",
    "        total, count = 0, 0\n",
    "        for grades in by_subject.values():\n",
    "            total += sum(grades)\n",
    "            count += len(grades)\n",
    "        return total / count"
   ]
  },
  {
   "cell_type": "markdown",
   "metadata": {},
   "source": [
    "- This seems straightforward enough. The report_grade and average_grade methods will gain quite a bit of complexity to deal with the multilevel dictionary, but it's manageable."
   ]
  },
  {
   "cell_type": "code",
   "execution_count": 13,
   "metadata": {},
   "outputs": [],
   "source": [
    "book = BySubjectGradebook()\n",
    "book.add_student('Albert Einstein')\n",
    "book.report_grade('Albert Einstein', 'Math', 75)\n",
    "book.report_grade('Albert Einstein', 'Math', 65)\n",
    "book.report_grade('Albert Einstein', 'Gym', 90)\n",
    "book.report_grade('Albert Einstein', 'Gym', 95)"
   ]
  },
  {
   "cell_type": "markdown",
   "metadata": {},
   "source": [
    "- Now, imagine your requirements change again. You also want to track the weight of each score towardd the overall grade in the class so midterms and finals are more important than pop quizzes. One way to implement this feature is to change the innrtmost dictionary; instead of mapping subjects (the keys) to grades (the values), I can use the tuple (score, weight) as values."
   ]
  },
  {
   "cell_type": "code",
   "execution_count": 15,
   "metadata": {
    "collapsed": true
   },
   "outputs": [],
   "source": [
    "class WeightedGradebook(object):\n",
    "    def __init__(self):\n",
    "        self._grades = {}\n",
    "        \n",
    "    def add_student(self, name):\n",
    "        self._grades[name] = {}\n",
    "        \n",
    "    def report_grade(self, name, subject, score, weight):\n",
    "        by_subject = self._grades[name]\n",
    "        grade_list = by_subject.setdefault(subject, [])\n",
    "        grade_list.append((score, weight))\n",
    "        \n",
    "    def average_grade(self, name):\n",
    "        by_subject = self._grades[name]\n",
    "        score_sum, score_count = 0, 0\n",
    "        for subject, scores in by_subject.items():\n",
    "            subject_avg, total_weight = 0, 0\n",
    "            for score, weight in scores:\n",
    "                subject_total_score += score * weight\n",
    "                total_weight += weight\n",
    "                subject_avg = subject_total_score / total_weight\n",
    "                score_sum += subject_avg\n",
    "                score_count += len(score)                \n",
    "        return score_sum / score_count"
   ]
  },
  {
   "cell_type": "code",
   "execution_count": 19,
   "metadata": {},
   "outputs": [],
   "source": [
    "book = WeightedGradebook()\n",
    "book.add_student('Albert Einstein')\n",
    "book.report_grade('Albert Einstein', 'Math', 80, 0.10)"
   ]
  },
  {
   "cell_type": "markdown",
   "metadata": {},
   "source": [
    "- When you see complexity like this happen, it's time to make the leap from dictionaries and tuples to a hierarchy of classes."
   ]
  },
  {
   "cell_type": "markdown",
   "metadata": {},
   "source": [
    "- At first, you didn't know you'd need to support weighted grades, so the complexity of additional helper classes seemed unwarranted. Python's built-in dictionary and tuple types made it easy to keep going, adding layer after layer to the internal bookkeeping. But you should avoid doing this for more than one level of nesting(i.e., avoid dictionaries that contain dictionaries). It makes your code hard to read by other programmers and sets you up for a maintenance nightmare.\n",
    "\n",
    "- As soon as you realize the bookkeeping is getting complicated, break it all out into classes. This lets you provide well-defined interfaces that better encapsulate your data. This also enables you to create a layer of abstraction between your interfaces and your concrete implementations."
   ]
  },
  {
   "cell_type": "markdown",
   "metadata": {},
   "source": [
    "### Refactoring to Classes"
   ]
  },
  {
   "cell_type": "markdown",
   "metadata": {},
   "source": [
    "- You can start moving to classes at the bottom of the dependency tree: a single grade. A class seems too heavyweight for such simple information. A tuple, though, seems appropriate because grades are immutable. Here, I use the tuple (score, weight) to track grades in a list:"
   ]
  },
  {
   "cell_type": "code",
   "execution_count": 21,
   "metadata": {
    "collapsed": true
   },
   "outputs": [],
   "source": [
    "grades = []\n",
    "grades.append((95, 0.45))\n",
    "total = sum(score * weight for score, weight in grades)\n",
    "total_weight = sum(weight for _, weight in grades)\n",
    "average_grade = total / total_weight"
   ]
  },
  {
   "cell_type": "code",
   "execution_count": 22,
   "metadata": {},
   "outputs": [
    {
     "data": {
      "text/plain": [
       "95.0"
      ]
     },
     "execution_count": 22,
     "metadata": {},
     "output_type": "execute_result"
    }
   ],
   "source": [
    "average_grade"
   ]
  },
  {
   "cell_type": "markdown",
   "metadata": {},
   "source": [
    "- The problem is that plain tuples are positional. When you want to associate more information with a grade, like a set of notes from the teacher, you'll need to rewrite every usage of the two-tuple to be aware that there are now three items present instead of two. Here, I use \\_ (the unserscore variable name, a Python convention for unused variables) to capture the third entry in the tuple and just ignore it:"
   ]
  },
  {
   "cell_type": "code",
   "execution_count": 23,
   "metadata": {
    "collapsed": true
   },
   "outputs": [],
   "source": [
    "grades = []\n",
    "grades.append((95, 0.45, 'Great job'))\n",
    "total = sum(score * weight for score, weight, _ in grades)\n",
    "total_weight = sum(weight for _, weight, _ in grades)\n",
    "average_grade = total / total_weight"
   ]
  },
  {
   "cell_type": "markdown",
   "metadata": {},
   "source": [
    "- This pattern of extending tuples longer and long is similar to deepening layers of dictionaries. As soon as you find yourself going longer than a two-tuple, it's time to condifer another approach."
   ]
  },
  {
   "cell_type": "markdown",
   "metadata": {},
   "source": [
    "- The namedtuple type in the collections module does exactly what you need. It lets you easily define tiny, ummutable data classes."
   ]
  },
  {
   "cell_type": "code",
   "execution_count": 25,
   "metadata": {},
   "outputs": [],
   "source": [
    "import collections \n",
    "Grade = collections.namedtuple('Grade', ('score', 'weight'))"
   ]
  },
  {
   "cell_type": "markdown",
   "metadata": {},
   "source": [
    "- These classes can be constructed with positional or keyword arguments. The fields are accessible with named attributes. Having named attributes makes it easy to move from a namedtuple to your own class later if your requirements change again and you need to add behaviors to the simple data containers.\n"
   ]
  },
  {
   "cell_type": "markdown",
   "metadata": {},
   "source": [
    "** Limitations of namedtuple **\n",
    "Although useful in many circumstances, it's important to understand when namedtuple can cause more harm than good.\n",
    "\n",
    "- You can't specify default argument values for namedtuple classes. This makes them unwieldy when your data may have many optional properties. If you find yourself using more than a handful of attributes, defining your own class may be a better choice.\n",
    "\n",
    "- The attributes values of namedtuple instances are still accessible using numerical indexes and iteration. Especially in externalized APIs, this can lead to unintentional usage that makes it harder to move to a real class later. If you're not in control of all of the usage of your namedtuple instances, it's better to define your own class."
   ]
  },
  {
   "cell_type": "markdown",
   "metadata": {},
   "source": [
    "- Next, you can write a class to represent a single subject that contains a set of grades."
   ]
  },
  {
   "cell_type": "code",
   "execution_count": 26,
   "metadata": {
    "collapsed": true
   },
   "outputs": [],
   "source": [
    "class Subject(object):\n",
    "    def __init__(self):\n",
    "        self._grades = []\n",
    "        \n",
    "    def report_grade(self, score, weight):\n",
    "        self._grades.append(Grade(score, weight))\n",
    "        \n",
    "    def average_grade(self):\n",
    "        total, total_weight = 0, 0\n",
    "        for grade in self._grades:\n",
    "            total += grade.score * grade.weight \n",
    "            total_weight += grade.weight\n",
    "        return total / total_weight"
   ]
  },
  {
   "cell_type": "markdown",
   "metadata": {},
   "source": [
    "- Then you would write a class to represent a set of subjects that are being studied by a single student."
   ]
  },
  {
   "cell_type": "code",
   "execution_count": 27,
   "metadata": {
    "collapsed": true
   },
   "outputs": [],
   "source": [
    "class Student(object):\n",
    "    def __init__(self):\n",
    "        self._subjects = {}\n",
    "        \n",
    "    def subject(self, name):\n",
    "        if name not in self._subjects:\n",
    "            self._subjects[name] = Subject()\n",
    "        return self._subjects[name]\n",
    "    \n",
    "    def average_grade(self):\n",
    "        total, count = 0, 0\n",
    "        for subject in self._subjects.values():\n",
    "            total += subject.average_grade()\n",
    "            count += 1\n",
    "        return total / count"
   ]
  },
  {
   "cell_type": "markdown",
   "metadata": {},
   "source": [
    "- Finally, you'd write a container for all of the students keyed dynamically by their names"
   ]
  },
  {
   "cell_type": "code",
   "execution_count": 28,
   "metadata": {
    "collapsed": true
   },
   "outputs": [],
   "source": [
    "class Gradebook(object):\n",
    "    def __init__(self):\n",
    "        self._students = {}\n",
    "    \n",
    "    def student(self, name):\n",
    "        if name not in self._students:\n",
    "            self._students[name] = Student()\n",
    "        return self._students[name]"
   ]
  },
  {
   "cell_type": "markdown",
   "metadata": {},
   "source": [
    "- The line count of these classes is almost double the previous implementation's size. But this code is much easier to read. The example driving the classes is also more clear and extensible."
   ]
  },
  {
   "cell_type": "code",
   "execution_count": 29,
   "metadata": {},
   "outputs": [
    {
     "name": "stdout",
     "output_type": "stream",
     "text": [
      "80.0\n"
     ]
    }
   ],
   "source": [
    "book = Gradebook()\n",
    "albert = book.student('Albert Einstein')\n",
    "math = albert.subject('Math')\n",
    "math.report_grade(80, 0.10)\n",
    "print(albert.average_grade())"
   ]
  },
  {
   "cell_type": "markdown",
   "metadata": {},
   "source": [
    "- If necessary, you can write backwards-compatible methods to help migrate usage of the old API style to the new hierarchy of objects."
   ]
  },
  {
   "cell_type": "markdown",
   "metadata": {},
   "source": [
    "## Things to Remember"
   ]
  },
  {
   "cell_type": "markdown",
   "metadata": {},
   "source": [
    "- Avoid making dictionaries with values that are other dictionaries or long tuples.\n",
    "- Use namedtuple for lightweight, immutable data containers before you need the flexibility of a full class.\n",
    "- Move your bookkeeping code to use muliple helper classes when your internal state dictionaries get complicated."
   ]
  },
  {
   "cell_type": "markdown",
   "metadata": {},
   "source": [
    "# Item 23: Accept Functions for Simple Interfaces Instead of Classes"
   ]
  },
  {
   "cell_type": "markdown",
   "metadata": {},
   "source": [
    "- Many of Python's built-in APIs allow you to customize bahavior by passing in a function. These hooks are used by APIs to call back your code while they execute. For example, the list type's sort method takes an optional key argument that's used to determine each index's value for sorting. Here, I sort a list of names based on their lengths by providing a lambda expression as the key hook:"
   ]
  },
  {
   "cell_type": "code",
   "execution_count": 30,
   "metadata": {},
   "outputs": [
    {
     "name": "stdout",
     "output_type": "stream",
     "text": [
      "['Plato', 'Socrates', 'Aristotle', 'Archimedes']\n"
     ]
    }
   ],
   "source": [
    "names = ['Socrates', 'Archimedes', 'Plato', 'Aristotle']\n",
    "names.sort(key=lambda x: len(x))\n",
    "print(names)"
   ]
  },
  {
   "cell_type": "markdown",
   "metadata": {},
   "source": [
    "- In other languages, you might expect hooks to be defined by an abstract calss. In Python, many hooks are just stateless functions with well-defined arguments and return values. Functions are ideal for hooks because they are easier to describe and simpler to define than classes. Functions workd as hooks because Python has *first-class* functions: Functions and methods can be passed around and referenced like any other value in the language."
   ]
  },
  {
   "cell_type": "markdown",
   "metadata": {},
   "source": [
    "- For example, say you want to customize the behavior of the defaultdict class. This data structure allows you to supply a function that will be called each time a missing key is accessed. The function must return the default value the missing key should have in the dictionary. Here,  I define a hook that logs each tiem a key is missing and returns 0 for the default value:\n"
   ]
  },
  {
   "cell_type": "code",
   "execution_count": 31,
   "metadata": {
    "collapsed": true
   },
   "outputs": [],
   "source": [
    "def log_missing():\n",
    "    print('key added')\n",
    "    return 0"
   ]
  },
  {
   "cell_type": "markdown",
   "metadata": {},
   "source": [
    "- Given an initail dictionary and a set of desired increments, I can cause the log_missing function to run and print twice(for 'red' and 'orange')."
   ]
  },
  {
   "cell_type": "code",
   "execution_count": 33,
   "metadata": {},
   "outputs": [
    {
     "name": "stdout",
     "output_type": "stream",
     "text": [
      "Before: {'green': 12, 'blue': 3}\n",
      "key added\n",
      "key added\n",
      "After:  {'green': 12, 'blue': 20, 'red': 5, 'orange': 9}\n"
     ]
    }
   ],
   "source": [
    "from collections import defaultdict\n",
    "\n",
    "current = {'green': 12, 'blue': 3}\n",
    "increments = [\n",
    "    ('red', 5),\n",
    "    ('blue', 17),\n",
    "    ('orange', 9),\n",
    "]\n",
    "result = defaultdict(log_missing, current)\n",
    "print('Before:', dict(result))\n",
    "for key, amount in increments:\n",
    "    result[key] += amount\n",
    "print('After: ', dict(result))"
   ]
  },
  {
   "cell_type": "markdown",
   "metadata": {},
   "source": [
    "- Supplying functions like log_missing makes APIs easy to build and test because it separates effects from deterministic behavior. For example, say you now want the default value hook passed to defaultdict to count the total number of keys that were missing. One way to achieve this is using a stateful closure. Here, I define a helper function that uses such a closure as the default value hook:"
   ]
  },
  {
   "cell_type": "code",
   "execution_count": 35,
   "metadata": {
    "collapsed": true
   },
   "outputs": [],
   "source": [
    "def increment_with_report(current, increments):\n",
    "    added_count = 0\n",
    "    \n",
    "    def missing():\n",
    "        nonlocal added_count # Stateful closure\n",
    "        added_count += 1\n",
    "        return 0\n",
    "    \n",
    "    result = defaultdict(missing, current)\n",
    "    for key, amount in increments:\n",
    "        result[key] += amount\n",
    "        \n",
    "    return result, added_count"
   ]
  },
  {
   "cell_type": "markdown",
   "metadata": {},
   "source": [
    "- Running this function produces the expected result (2), even though the defaultdict has no idea that the missing hook maintains state. This is another benefit of accepting simple functions for interfaces. It's easy to add functionality later by hiding state in a closure."
   ]
  },
  {
   "cell_type": "code",
   "execution_count": 36,
   "metadata": {
    "collapsed": true
   },
   "outputs": [],
   "source": [
    "result, count = increment_with_report(current, increments)\n",
    "assert count == 2"
   ]
  },
  {
   "cell_type": "markdown",
   "metadata": {},
   "source": [
    "- The problem with defining a closure for stateful hooks is that it's harder to read than the stateless function example. Another approach is to define a small class that encapsulates the state you want to track."
   ]
  },
  {
   "cell_type": "code",
   "execution_count": 37,
   "metadata": {
    "collapsed": true
   },
   "outputs": [],
   "source": [
    "class CountMissing(object):\n",
    "    def __init__(self):\n",
    "        self.added = 0\n",
    "        \n",
    "    def missing(self):\n",
    "        self.added += 1\n",
    "        return 0"
   ]
  },
  {
   "cell_type": "markdown",
   "metadata": {},
   "source": [
    "- In other languages, you might expect that now defaultdict would have to be modified to accommodate the interface of CountMissing. But in Python, thanks to first-class functions, you can reference the CountMissing.missing method directly on an object and pass it to defaultdict as the default value hook. It's trivial to have a methodd satisfy a function interface."
   ]
  },
  {
   "cell_type": "code",
   "execution_count": 38,
   "metadata": {
    "collapsed": true
   },
   "outputs": [],
   "source": [
    "counter = CountMissing()\n",
    "result = defaultdict(counter.missing, current) # Method ref\n",
    "\n",
    "for key, amount in increments:\n",
    "    result[key] += amount\n",
    "assert counter.added == 2"
   ]
  },
  {
   "cell_type": "markdown",
   "metadata": {},
   "source": [
    "- Using a helper class like this to provide the behavior of a stateful closure is clearer than the increment_with_report function above. However, in isolation it's still not immediately obvious what the purpose of the CountMissing class is. Who constructs a CountMissing object? Who calls the missing method? Will the class need other public methods to be added in the futuer? Until you see its usage with defaultdict, the class is a mystery."
   ]
  },
  {
   "cell_type": "code",
   "execution_count": 39,
   "metadata": {
    "collapsed": true
   },
   "outputs": [],
   "source": [
    "class BetterCountMissing(object):\n",
    "    def __init__(self):\n",
    "        self.added = 0\n",
    "        \n",
    "    def __call__(self):\n",
    "        self.added += 1\n",
    "        return\n",
    "    \n",
    "counter = BetterCountMissing()\n",
    "counter()\n",
    "assert callable(counter)"
   ]
  },
  {
   "cell_type": "markdown",
   "metadata": {},
   "source": [
    "- Here, I use a BetterCountMissing instance as the default value hook for a defaultdict to track the number of missing keys that were added:"
   ]
  },
  {
   "cell_type": "code",
   "execution_count": 47,
   "metadata": {},
   "outputs": [],
   "source": [
    "counter = BetterCountMissing()\n",
    "result = defaultdict(counter, current) # relies on __call__\n",
    "for key, amount in increments:\n",
    "    if result[key]:\n",
    "        result[key] += amount\n",
    "    else: \n",
    "        result[key] = 0\n",
    "        result[key] += amount\n",
    "assert counter.added == 2"
   ]
  },
  {
   "cell_type": "markdown",
   "metadata": {},
   "source": [
    "- This is much clearer than the CountMissing.missing example. The \\_\\_call\\_\\_ method indicates that a class's instances will be used somewhere a function argument would also be suitable (like API hooks). It directs new readers of the code to the entry point that's reponsible for the class's primary behavior. It provides a strong hint that the goal of the class is to act as a statefull closure.\n"
   ]
  },
  {
   "cell_type": "markdown",
   "metadata": {},
   "source": [
    "- Best of all, defaultdict still has no view into what's going on when you use \\_\\_call\\_\\_. All that defaultdict requires is a function for the default value hook. Python provdes many different ways to satisft a simple function interface depending on what you need to accomplish"
   ]
  },
  {
   "cell_type": "markdown",
   "metadata": {},
   "source": [
    "## Things to Remember"
   ]
  },
  {
   "cell_type": "markdown",
   "metadata": {},
   "source": [
    "- Instead of defining and instantiating classes, functions are often all you need for simple interfaces between components in Python.\n",
    "- References to functions and methods in Python are first class, meaning they can be used in expression like any other type.\n",
    "- The \\_\\_call\\_\\_ special method enables instances of a class to be called like plain Python functions.\n",
    "- When you need a function to maintain state, consider defining a class that provides the \\_\\_call\\_\\_ method insteadd of defining a stateful closure."
   ]
  },
  {
   "cell_type": "code",
   "execution_count": null,
   "metadata": {
    "collapsed": true
   },
   "outputs": [],
   "source": []
  }
 ],
 "metadata": {
  "kernelspec": {
   "display_name": "Python 3",
   "language": "python",
   "name": "python3"
  },
  "language_info": {
   "codemirror_mode": {
    "name": "ipython",
    "version": 3
   },
   "file_extension": ".py",
   "mimetype": "text/x-python",
   "name": "python",
   "nbconvert_exporter": "python",
   "pygments_lexer": "ipython3",
   "version": "3.6.2"
  }
 },
 "nbformat": 4,
 "nbformat_minor": 2
}
