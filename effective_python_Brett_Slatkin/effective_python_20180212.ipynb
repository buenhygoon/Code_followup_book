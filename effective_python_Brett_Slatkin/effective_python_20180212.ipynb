{
 "cells": [
  {
   "cell_type": "markdown",
   "metadata": {},
   "source": [
    "# Built-in Modules"
   ]
  },
  {
   "cell_type": "markdown",
   "metadata": {},
   "source": [
    "Python takes a \"batteries included\" approach to the standard library. Many other languages ship with a small number of common packages and require you to look elsewhere for important functionality. Although Python also has an impressive repository of community-built modules, it strives to provide, in tis default installation, the most important modules, for common uses of the language.\n",
    "\n",
    "The full set of standard modules is too large to cover in this book. But some of these built-in packages are so closely interwined with idiomatic Python that they may as well be part of the language specification. These essential built-iin modules are especially important when writing the intricate, error-prone parts of programs."
   ]
  },
  {
   "cell_type": "markdown",
   "metadata": {},
   "source": [
    "# I42 : Define Function Decorators with functools.wraps"
   ]
  },
  {
   "cell_type": "markdown",
   "metadata": {},
   "source": [
    "- Python has special syntax for *decorators* taht can be applied to functions. Decorators have the ability to run additional code before and after any calls to the functions they wrap. This allows them to access and modify input arguments and return values. This functioinality can be useful for enforcing semantics, debuggin, registering functions, and more.\n",
    "\n",
    "- For example, say you want to print the arguments and return value of a function call. This is especially helpful when debugging a stack of function calls from a recursive function. Here, I define such a decorator:"
   ]
  },
  {
   "cell_type": "code",
   "execution_count": 1,
   "metadata": {
    "collapsed": true
   },
   "outputs": [],
   "source": [
    "def trace(func):\n",
    "    def wrapper(*args, **kwargs):\n",
    "        result = func(*args, **kwargs)\n",
    "        print('%s(%r, %r) -> %r' %\n",
    "             (func.__name__, args, kwargs, result))\n",
    "        return result\n",
    "    return wrapper"
   ]
  },
  {
   "cell_type": "markdown",
   "metadata": {},
   "source": [
    "- I can apply this to a function using the @ symbol"
   ]
  },
  {
   "cell_type": "code",
   "execution_count": 2,
   "metadata": {
    "collapsed": true
   },
   "outputs": [],
   "source": [
    "@trace\n",
    "def fibonacci(n):\n",
    "    \"\"\"Return the n-th Fibonacci number\"\"\"\n",
    "    if n in (0, 1):\n",
    "        return n\n",
    "    return (fibonacci(n-2) + fibonacci(n-1))"
   ]
  },
  {
   "cell_type": "markdown",
   "metadata": {},
   "source": [
    "- The @ symbol is equivalent to calling the decorator on the function it wraps and assigning the return value to the original name in the same scope."
   ]
  },
  {
   "cell_type": "code",
   "execution_count": 3,
   "metadata": {
    "collapsed": true
   },
   "outputs": [],
   "source": [
    "fibonacci = trace(fibonacci)"
   ]
  },
  {
   "cell_type": "markdown",
   "metadata": {},
   "source": [
    "- Callling this decorated function will run the wrapper code before and after fibonacci runs, printing the arguments and return value at each level in the recursive stack."
   ]
  },
  {
   "cell_type": "code",
   "execution_count": 4,
   "metadata": {},
   "outputs": [
    {
     "name": "stdout",
     "output_type": "stream",
     "text": [
      "fibonacci((1,), {}) -> 1\n",
      "wrapper((1,), {}) -> 1\n",
      "fibonacci((0,), {}) -> 0\n",
      "wrapper((0,), {}) -> 0\n",
      "fibonacci((1,), {}) -> 1\n",
      "wrapper((1,), {}) -> 1\n",
      "fibonacci((2,), {}) -> 1\n",
      "wrapper((2,), {}) -> 1\n",
      "fibonacci((3,), {}) -> 2\n",
      "wrapper((3,), {}) -> 2\n"
     ]
    },
    {
     "data": {
      "text/plain": [
       "2"
      ]
     },
     "execution_count": 4,
     "metadata": {},
     "output_type": "execute_result"
    }
   ],
   "source": [
    "fibonacci(3)"
   ]
  },
  {
   "cell_type": "markdown",
   "metadata": {},
   "source": [
    "- This works well, but it has an unintended side effect. The value returned by the decorator - the function that's called above - doesn't think it's named fibonacci."
   ]
  },
  {
   "cell_type": "code",
   "execution_count": 5,
   "metadata": {},
   "outputs": [
    {
     "name": "stdout",
     "output_type": "stream",
     "text": [
      "<function trace.<locals>.wrapper at 0x7f01c5301bf8>\n"
     ]
    }
   ],
   "source": [
    "print(fibonacci)"
   ]
  },
  {
   "cell_type": "markdown",
   "metadata": {},
   "source": [
    "- The cause of this isn't hard to see. The trace function returns the wrapper it defines. The wrapper function is what's assigned to the fibonacci name in the containing module because of the decorator. This behavior is problematic because it undermines tools that do introspection, such as debuggers and object serializers."
   ]
  },
  {
   "cell_type": "markdown",
   "metadata": {},
   "source": [
    "- For example, the help built-in function is useless on the decorated fibonacci function."
   ]
  },
  {
   "cell_type": "code",
   "execution_count": 7,
   "metadata": {},
   "outputs": [
    {
     "name": "stdout",
     "output_type": "stream",
     "text": [
      "Help on function wrapper in module __main__:\n",
      "\n",
      "wrapper(*args, **kwargs)\n",
      "\n"
     ]
    }
   ],
   "source": [
    "help(fibonacci)"
   ]
  },
  {
   "cell_type": "markdown",
   "metadata": {},
   "source": [
    "- The solution is to use the wraps helper function from the functools built-in module. This is a decorator that helps you write decorators. Applying it to the wrapper function will copy all of the important metadata about the inner function to the outer function."
   ]
  },
  {
   "cell_type": "code",
   "execution_count": 13,
   "metadata": {},
   "outputs": [],
   "source": [
    "from functools import wraps\n",
    "\n",
    "def trace(func):\n",
    "    @wraps(func)\n",
    "    def wrapper(*args, **kwargs):\n",
    "        #...\n",
    "        pass\n",
    "    return wrapper\n",
    "\n",
    "@trace\n",
    "def fibonacci(n):\n",
    "    \"\"\"Return the n-th Fibonacci number\"\"\"\n",
    "    if n in (0, 1):\n",
    "        return n\n",
    "    return (fibonacci(n-2) + fibonacci(n-1))"
   ]
  },
  {
   "cell_type": "markdown",
   "metadata": {},
   "source": [
    "- Now, running the help function produces the expected result, even though the function is decorated."
   ]
  },
  {
   "cell_type": "code",
   "execution_count": 14,
   "metadata": {},
   "outputs": [
    {
     "name": "stdout",
     "output_type": "stream",
     "text": [
      "Help on function fibonacci in module __main__:\n",
      "\n",
      "fibonacci(n)\n",
      "    Return the n-th Fibonacci number\n",
      "\n"
     ]
    }
   ],
   "source": [
    "help(fibonacci)"
   ]
  },
  {
   "cell_type": "markdown",
   "metadata": {},
   "source": [
    "- Calling help is just one example of how decorators can subtly cause problems. Python functions have many other standard attributes that must be preserved to maintain the interface of functions in the language. Using wraps ensures that you'll always get the correct behavior."
   ]
  },
  {
   "cell_type": "markdown",
   "metadata": {},
   "source": [
    "## Things to Remember\n",
    "- Decorators are Python syntax for allowing function to modify another function at runtime.\n",
    "- Using decorators can cause strange behaviors in tools that do introspection, such as debuggers.\n",
    "- Use the wraps decorator from the functools built-in module when you define your own decorators to avoid any issues."
   ]
  },
  {
   "cell_type": "markdown",
   "metadata": {},
   "source": [
    "# I43 : Consider contextlib and with statements for Reusable try/finally Behavior\n"
   ]
  },
  {
   "cell_type": "markdown",
   "metadata": {},
   "source": [
    "- The with statement in Python is used to indicate when code is running in a special context. For example, mutual exclusion locks can be used in with statements to indicate that the indented code only runs while the lock is held."
   ]
  },
  {
   "cell_type": "code",
   "execution_count": 15,
   "metadata": {},
   "outputs": [
    {
     "name": "stdout",
     "output_type": "stream",
     "text": [
      "Lock is held\n"
     ]
    }
   ],
   "source": [
    "from threading import Lock\n",
    "lock = Lock()\n",
    "with lock:\n",
    "    print('Lock is held')"
   ]
  },
  {
   "cell_type": "markdown",
   "metadata": {},
   "source": [
    "- The example above is equivalent to this try/finally construction because the Lock class properly enables the with statement."
   ]
  },
  {
   "cell_type": "code",
   "execution_count": 16,
   "metadata": {},
   "outputs": [
    {
     "name": "stdout",
     "output_type": "stream",
     "text": [
      "Lock is held\n"
     ]
    }
   ],
   "source": [
    "lock.acquire()\n",
    "try:\n",
    "    print('Lock is held')\n",
    "finally:\n",
    "    lock.release()"
   ]
  },
  {
   "cell_type": "markdown",
   "metadata": {},
   "source": [
    "- The with statement version of this is better because it eliminates the need to write the repetitive code of the try/finally construction. It's easy to make your objects and functions capable of use in with statements by using the contextlib built-in module. This module contains the contextmanager decorator, which lets a simple function be used in with satetements. This is much easier than defining a new class with the special methods \\_\\_enter\\_\\_ and \\_\\_exit\\_\\_."
   ]
  },
  {
   "cell_type": "markdown",
   "metadata": {},
   "source": [
    "- For example, say you want a region of your code to have more debug logging sometimes. Here, I define a function that does logging at two severity levels:"
   ]
  },
  {
   "cell_type": "code",
   "execution_count": 19,
   "metadata": {
    "collapsed": true
   },
   "outputs": [],
   "source": [
    "import logging\n",
    "\n",
    "def my_function():\n",
    "    logging.debug('Some debug data')\n",
    "    logging.error('Error log here')\n",
    "    logging.debug('More debug data')"
   ]
  },
  {
   "cell_type": "markdown",
   "metadata": {},
   "source": [
    "- The default log level for my program is WARNING, so only the error message will print to screen when I run the function."
   ]
  },
  {
   "cell_type": "code",
   "execution_count": 20,
   "metadata": {},
   "outputs": [
    {
     "name": "stderr",
     "output_type": "stream",
     "text": [
      "ERROR:root:Error log here\n"
     ]
    }
   ],
   "source": [
    "my_function()"
   ]
  },
  {
   "cell_type": "markdown",
   "metadata": {},
   "source": [
    "- I can elevate the log level of this function temporarily by defining a context manager. This helper function boosts the logging severity level before running the code in the with block and reduces the logging severity lebel afterward."
   ]
  },
  {
   "cell_type": "code",
   "execution_count": 25,
   "metadata": {},
   "outputs": [],
   "source": [
    "from contextlib import contextmanager\n",
    "\n",
    "@contextmanager\n",
    "def debug_logging(level):\n",
    "    logger = logging.getLogger()\n",
    "    old_level = logger.getEffectiveLevel()\n",
    "    logger.setLevel(level)\n",
    "    try:\n",
    "        yield\n",
    "    finally:\n",
    "        logger.setLevel(old_level)"
   ]
  },
  {
   "cell_type": "markdown",
   "metadata": {},
   "source": [
    "- The yield expression is the point at which the with block's contents will execute. Any exceptions that happen in the with block will be re-raised by the yield expression for you to catch in the helper function.\n",
    "\n",
    "- Now, I can call the same logging function again, but in the debug\\_logging context. This time, all of the debug messages are printed to the screen during the with block. The same function running outside the with block won't print debug messages."
   ]
  },
  {
   "cell_type": "code",
   "execution_count": 26,
   "metadata": {},
   "outputs": [
    {
     "name": "stderr",
     "output_type": "stream",
     "text": [
      "DEBUG:root:Some debug data\n",
      "ERROR:root:Error log here\n",
      "DEBUG:root:More debug data\n",
      "ERROR:root:Error log here\n"
     ]
    },
    {
     "name": "stdout",
     "output_type": "stream",
     "text": [
      "Inside:\n",
      "After:\n"
     ]
    }
   ],
   "source": [
    "with debug_logging(logging.DEBUG):\n",
    "    print('Inside:')\n",
    "    my_function()\n",
    "print('After:')\n",
    "my_function()"
   ]
  },
  {
   "cell_type": "markdown",
   "metadata": {},
   "source": [
    "** Using with Targets **"
   ]
  },
  {
   "cell_type": "markdown",
   "metadata": {},
   "source": [
    "- The context manager passed to a with statement may also return an object. This object is assigned to a local variable in the as part of the compound statement. This gives the code running in the with block the ability to directly interact with its context."
   ]
  },
  {
   "cell_type": "markdown",
   "metadata": {},
   "source": [
    "- For example, say you want to write a file and ensure that it's always closed correctly. You can do this by passing open to the with statement. Open returns a file handle for the as target of with and will close the handle when the with block exits."
   ]
  },
  {
   "cell_type": "code",
   "execution_count": 27,
   "metadata": {
    "collapsed": true
   },
   "outputs": [],
   "source": [
    "with open('/tmp/my_output.txt', 'w') as handle:\n",
    "    handle.write('This is some data!')"
   ]
  },
  {
   "cell_type": "markdown",
   "metadata": {},
   "source": [
    "- This approach is preferable to manually opening and closing the file handle every time. It gives you confidence that the file is eventually closed when execution leaves the with statement. It also encourages you to reduce the amount of code that executes while the file handle is open, which is good practice in general."
   ]
  },
  {
   "cell_type": "markdown",
   "metadata": {},
   "source": [
    "- To enable your own functions to supply values for as targets, all you need to do is yield a value from your context mangaer. For example, here I define a context manager to fetch a Logger instance, set its level, and then yield it for the as target."
   ]
  },
  {
   "cell_type": "code",
   "execution_count": 28,
   "metadata": {
    "collapsed": true
   },
   "outputs": [],
   "source": [
    "@contextmanager\n",
    "def log_level(level, name):\n",
    "    logger = logging.getLogger(name)\n",
    "    old_level = logger.getEffectiveLevel()\n",
    "    logger.setLevel(level)\n",
    "    try:\n",
    "        yield logger\n",
    "    finally:\n",
    "        logger.setLevel(old_level)"
   ]
  },
  {
   "cell_type": "markdown",
   "metadata": {},
   "source": [
    "- Calling logging methods like debug on the as target will produce output because the logging severity level is set low enough in the with block. Using the logging module directly won't print anything becuase the default logging severity level for the default program logger is WARNING."
   ]
  },
  {
   "cell_type": "code",
   "execution_count": 29,
   "metadata": {},
   "outputs": [
    {
     "name": "stderr",
     "output_type": "stream",
     "text": [
      "DEBUG:my-log:This is my message!\n"
     ]
    }
   ],
   "source": [
    "with log_level(logging.DEBUG, 'my-log') as logger:\n",
    "    logger.debug('This is my message!')\n",
    "    logging.debug('This will not print')"
   ]
  },
  {
   "cell_type": "markdown",
   "metadata": {},
   "source": [
    "- After the with statement exits, calling debug logging methods on the Logger named 'my-log' will not print anyhing because the default logging severity level has been restored. Error log messages will always print."
   ]
  },
  {
   "cell_type": "code",
   "execution_count": 30,
   "metadata": {},
   "outputs": [
    {
     "name": "stderr",
     "output_type": "stream",
     "text": [
      "ERROR:my-log:Error will print\n"
     ]
    }
   ],
   "source": [
    "logger = logging.getLogger('my-log')\n",
    "logger.debug('Debug will not print')\n",
    "logger.error('Error will print')"
   ]
  },
  {
   "cell_type": "markdown",
   "metadata": {},
   "source": [
    "## Things to Remember \n",
    "- The with statement allows you to reuse logic from try/finally blocks and reduce visual noise.\n",
    "- The contextlib built-in module provides a contextmanager decorator that makes it easy to use your own functions in with statements.\n",
    "- The value yielded by context managers is supplied to the as part of the with statement. It's useful for letting your code directly access the cause of the special context."
   ]
  },
  {
   "cell_type": "markdown",
   "metadata": {},
   "source": [
    "# I44 : make pickle Reliable with copyreg"
   ]
  },
  {
   "cell_type": "code",
   "execution_count": null,
   "metadata": {
    "collapsed": true
   },
   "outputs": [],
   "source": []
  }
 ],
 "metadata": {
  "kernelspec": {
   "display_name": "Python 3",
   "language": "python",
   "name": "python3"
  },
  "language_info": {
   "codemirror_mode": {
    "name": "ipython",
    "version": 3
   },
   "file_extension": ".py",
   "mimetype": "text/x-python",
   "name": "python",
   "nbconvert_exporter": "python",
   "pygments_lexer": "ipython3",
   "version": "3.6.2"
  }
 },
 "nbformat": 4,
 "nbformat_minor": 2
}
