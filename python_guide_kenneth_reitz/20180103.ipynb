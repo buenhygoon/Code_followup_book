{
 "cells": [
  {
   "cell_type": "markdown",
   "metadata": {},
   "source": [
    "# Test : The Basics\n",
    "- Unittest"
   ]
  },
  {
   "cell_type": "code",
   "execution_count": null,
   "metadata": {
    "collapsed": true
   },
   "outputs": [],
   "source": [
    "import unittest\n",
    "\n",
    "def fund(x):\n",
    "    return x + 1\n",
    "\n",
    "class MyTest(unittest.TestCase):\n",
    "    def test(self):\n",
    "        self.assertEqual(fun(3), 4)"
   ]
  },
  {
   "cell_type": "markdown",
   "metadata": {},
   "source": [
    "- Doctest\n",
    "- The doctest module searches for pieces of text that look like interactive Python sessions in docstrings, and then executes those sessions verify that they work exactly as shown.\n",
    "\n",
    "- Doctests have a different use case than proper unit tests: they are usually less detailed and don't catch special cases or obscure regression bugs. They are useful as an expressive documentation of the main use cases of a module and its components. However, doctests should run automatically each time the full test suite runs. \n",
    "\n",
    "- A simple doctest in a function:"
   ]
  },
  {
   "cell_type": "code",
   "execution_count": null,
   "metadata": {
    "collapsed": true
   },
   "outputs": [],
   "source": [
    "def square(x):\n",
    "    \"\"\"Return the square of x.\n",
    "    \n",
    "    >>> square(2)\n",
    "    4\n",
    "    >>> square(-2)\n",
    "    4\n",
    "    \"\"\"\n",
    "    \n",
    "    return x * x\n",
    "\n",
    "if __name__ == '__main__':\n",
    "    import doctest\n",
    "    doctest.testmod()"
   ]
  },
  {
   "cell_type": "markdown",
   "metadata": {},
   "source": [
    "## Tools"
   ]
  },
  {
   "cell_type": "markdown",
   "metadata": {},
   "source": [
    "- py.test\n",
    "- pip install pytest"
   ]
  },
  {
   "cell_type": "code",
   "execution_count": null,
   "metadata": {
    "collapsed": true
   },
   "outputs": [],
   "source": [
    "# content of test_sample.py\n",
    "def func(x):\n",
    "    return x + 1\n",
    "\n",
    "def test_answer():\n",
    "    assert func(3) == 5"
   ]
  },
  {
   "cell_type": "markdown",
   "metadata": {},
   "source": [
    "#### Hypothesis\n",
    "- Hypothesis is a library which lets you write tests that are parameetrized by a source of examples. It then generates simple and comprehensible examples that make your test fail , letting you find more bugs with less work.\n",
    "- pip install hypothesis"
   ]
  },
  {
   "cell_type": "code",
   "execution_count": null,
   "metadata": {
    "collapsed": true
   },
   "outputs": [],
   "source": [
    "@given(lists(floats(allow_nan=False, allow_infinity=False), min_size=1))\n",
    "def test_mean(xs):\n",
    "    mean = sum(xs) / len(xs)\n",
    "    assert min(xs) <= mean(xs) <= max(xs)"
   ]
  },
  {
   "cell_type": "markdown",
   "metadata": {},
   "source": [
    "#### tox\n",
    "- pip install tox"
   ]
  },
  {
   "cell_type": "markdown",
   "metadata": {},
   "source": [
    "#### Unittest2\n",
    "#### Mock"
   ]
  },
  {
   "cell_type": "markdown",
   "metadata": {},
   "source": [
    "## Logging\n",
    "- Diagnostic logging : records evenets related to the application's operation. \n",
    "- Audit logging : records events for vusiness analysis."
   ]
  },
  {
   "cell_type": "markdown",
   "metadata": {
    "collapsed": true
   },
   "source": [
    "### or Prinrt ?\n",
    "- only when the goal is to display a help statement for API, print is better\n",
    "**else**\n",
    "- log record, which is created with every logging event, contains readily available diagnostic information such as filename, full path, function and line number\n",
    "- Events logged in included modules are automatically accessible via the root logger to your application's loggin stream\n",
    "- Logging can be selectively silenced by using the method logging.Logger.setLevel() or disabled by setting the attribute logging.Logger.disable to True"
   ]
  },
  {
   "cell_type": "markdown",
   "metadata": {},
   "source": [
    "- Best pratice when instantiating loggers in a library is to only create them using the __name__ global variable: the logging module creates a hierarchy of loggers using dot notation, so using __name__ ensures no name collision."
   ]
  },
  {
   "cell_type": "code",
   "execution_count": null,
   "metadata": {
    "collapsed": true
   },
   "outputs": [],
   "source": [
    "import logging\n",
    "logging.getLogger(__name__).addHandler(logging.NullHandler())"
   ]
  },
  {
   "cell_type": "markdown",
   "metadata": {},
   "source": [
    "## Logging in an Application\n",
    "- It emphatically advocates for treating log events as an event stream, and for sending that event stream to standard output to be handled by the application environment."
   ]
  },
  {
   "cell_type": "markdown",
   "metadata": {},
   "source": [
    "#### 3 Ways\n",
    "- https://docs.python.org/3/howto/logging.html\n",
    "\n",
    "> Using an INI-formatted file:\n",
    "- Pro : possible to update configuration while running using the function logging.config.listen()\n",
    "- Con : less control than possible when configuring a logger in code.\n",
    "\n",
    "> Using a dictionary or a JSON-formatted file:\n",
    "- Pro : in addition to updating while running, it is possible to load a file using the json module in the standard library since Python 2.6\n",
    "- Con : less control than when confguring a logger in code.\n",
    "\n",
    "> Using code:\n",
    "- Pro : complete control over the configuration\n",
    "- Con : modifications require a change to source code.\n"
   ]
  },
  {
   "cell_type": "markdown",
   "metadata": {},
   "source": [
    "#### Example Configuration via an INI file"
   ]
  },
  {
   "cell_type": "markdown",
   "metadata": {},
   "source": [
    "[loggers]\n",
    "keys=root\n",
    "\n",
    "[handlers]\n",
    "keys=stream_handler\n",
    "\n",
    "[formatters]\n",
    "keys=formatter\n",
    "\n",
    "[logger_root]\n",
    "levvel=DEBUG\n",
    "handlers=stream_handler\n",
    "\n",
    "[handler_stream_handler]\n",
    "class=StreamHandler\n",
    "level=DEBUG\n",
    "formatter=formatter\n",
    "args=(sys.stderr,)\n",
    "\n",
    "[formatter_formatter]\n",
    "format=%(asctime)s %(name)-12s %(levelname)-8s %(message)s"
   ]
  },
  {
   "cell_type": "code",
   "execution_count": null,
   "metadata": {
    "collapsed": true
   },
   "outputs": [],
   "source": [
    "import logging\n",
    "from logging.config import fileConfig\n",
    "\n",
    "fileConfig('logging_config.ini')\n",
    "logger = logging.getLogger()\n",
    "logger.debug('ofter makes a very good meal of %s', 'visiting tourists')"
   ]
  },
  {
   "cell_type": "markdown",
   "metadata": {},
   "source": [
    "#### Example Configuration via a Dictionary"
   ]
  },
  {
   "cell_type": "code",
   "execution_count": null,
   "metadata": {
    "collapsed": true
   },
   "outputs": [],
   "source": [
    "import loggin \n",
    "from logging.config import dictConfig\n",
    "\n",
    "logging_config = dict(\n",
    "    version = 1,\n",
    "    formatters = {\n",
    "        'f' : {'format':\n",
    "               '%(asctime)s %(name)-12s %(levelname)-8s %(message)s'}\n",
    "        },\n",
    "    handlers = {\n",
    "        'h': {'class': 'logging.StreamHandler',\n",
    "              'formatter': 'f',\n",
    "              'level': logging.DEBUG}\n",
    "        },\n",
    "    root = {\n",
    "        'handlers': ['h'],\n",
    "        'level': logging.DEBUG,\n",
    "        },\n",
    ")\n",
    "\n",
    "dictConfig(logging_config)\n",
    "\n",
    "logger = logging.getLogger()\n",
    "logger.debug('often makes a very good meal of %s', 'visiting tourists')"
   ]
  },
  {
   "cell_type": "markdown",
   "metadata": {},
   "source": [
    "#### Examplt Configuration Directly in Code"
   ]
  },
  {
   "cell_type": "code",
   "execution_count": null,
   "metadata": {
    "collapsed": true
   },
   "outputs": [],
   "source": [
    "import logging\n",
    "\n",
    "logger = logging.getLogger()\n",
    "handler = logging.StreamHandler()\n",
    "formatter = logging.Formatter(\n",
    "        '%(asctime)s %(name)-12s %(levelname)-8s %(message)s')\n",
    "handler.setFormatter(formatter)\n",
    "logger.addHandler(handler)\n",
    "logger.setLevel(logging.DEBUG)\n",
    "\n",
    "logger.debug('often makes a very good meal of %s', 'visiting tourists')"
   ]
  },
  {
   "cell_type": "markdown",
   "metadata": {},
   "source": [
    "## Common Gotchas"
   ]
  },
  {
   "cell_type": "markdown",
   "metadata": {},
   "source": [
    "#### Mutable Default Arguments"
   ]
  },
  {
   "cell_type": "code",
   "execution_count": null,
   "metadata": {
    "collapsed": true
   },
   "outputs": [],
   "source": [
    "def append_to(element, to=[]):\n",
    "    to.append(element)\n",
    "    return to"
   ]
  },
  {
   "cell_type": "code",
   "execution_count": null,
   "metadata": {
    "collapsed": true
   },
   "outputs": [],
   "source": [
    "my_list = append_to(12)\n",
    "print(my_list)\n",
    "\n",
    "my_other_list = append_to(42)\n",
    "print(my_other_list)"
   ]
  },
  {
   "cell_type": "markdown",
   "metadata": {},
   "source": [
    "- Python's default arguments are evaluated once when the function is defined, not each time the function is called (like it is in say, Ruby). This means that if you use a mutable default argument and mutate it, you will and have mutated that object for all future calls to the function as well."
   ]
  },
  {
   "cell_type": "markdown",
   "metadata": {},
   "source": [
    "#### What You Should Do Instead"
   ]
  },
  {
   "cell_type": "code",
   "execution_count": null,
   "metadata": {
    "collapsed": true
   },
   "outputs": [],
   "source": [
    "def append_to(element, to=None):\n",
    "    if to is None:\n",
    "        to = []\n",
    "    to.append(element)\n",
    "    return to"
   ]
  },
  {
   "cell_type": "markdown",
   "metadata": {},
   "source": [
    "### Late Binding Closures"
   ]
  },
  {
   "cell_type": "code",
   "execution_count": null,
   "metadata": {
    "collapsed": true
   },
   "outputs": [],
   "source": [
    "def create_multipliers():\n",
    "    return [lambda x : i * x for i in range(5)]"
   ]
  },
  {
   "cell_type": "code",
   "execution_count": null,
   "metadata": {
    "collapsed": true
   },
   "outputs": [],
   "source": [
    "for multiplier in create_multipliers():\n",
    "    print(multiplier(2))"
   ]
  },
  {
   "cell_type": "markdown",
   "metadata": {},
   "source": [
    "- Python's closure are late binding. This means that the values of variables used in closures are looked up at the time the inner function is called.\n",
    "\n",
    "- Here, whenever any of the returned functions are called, the value of i is looked up in the surrounding scope at call time. By then, the loop has completed and i is left with its final value of 4."
   ]
  },
  {
   "cell_type": "code",
   "execution_count": null,
   "metadata": {
    "collapsed": true
   },
   "outputs": [],
   "source": [
    "def create_multipliers():\n",
    "    multipliers = []\n",
    "    \n",
    "    for i in range(5):\n",
    "        def multipliers(x):\n",
    "            return i * x\n",
    "        multipliers.append(multiplier)\n",
    "    \n",
    "    return multipliers"
   ]
  },
  {
   "cell_type": "markdown",
   "metadata": {},
   "source": [
    "#### What you should do"
   ]
  },
  {
   "cell_type": "code",
   "execution_count": null,
   "metadata": {
    "collapsed": true
   },
   "outputs": [],
   "source": [
    "def create_multipliers():\n",
    "    return [lambda x, i=i : i * x for i in range(5)]"
   ]
  },
  {
   "cell_type": "code",
   "execution_count": null,
   "metadata": {
    "collapsed": true
   },
   "outputs": [],
   "source": [
    "from functools import partial\n",
    "from operatort import mul\n",
    "\n",
    "def create_multipliers():\n",
    "    return [partial(mul, i) for i in range(5)]"
   ]
  },
  {
   "cell_type": "markdown",
   "metadata": {},
   "source": [
    "## Bytecode Files Everywhere\n",
    "- By default, when executing Python code from files, the Python interpreter will automatically write a bytecode version of that file to disk, e.g. module.pyc\n",
    "\n",
    "- These .pyc files should not be checked into your source code repositories.\n",
    "\n",
    "- Theoretically, this behavoir is on by default, for performance reasons. Without these bytecode files present, Python would re-generate the bytecode every time the file is loaded."
   ]
  },
  {
   "cell_type": "markdown",
   "metadata": {},
   "source": [
    "# Choosing a License\n",
    "1. Licenses that focus more on the user's freedom to do with the software as they please (these are the more permissive open source licenses such as the MIT, BSD, Apache).\n",
    "2. Liceses that focus more on making sure that the code itself including any changes made to it and distributed along with it- always remains free (these are the less permissive free software such as the GPL and LGPL)."
   ]
  },
  {
   "cell_type": "markdown",
   "metadata": {},
   "source": [
    "# Scenario Guide for Python Applications"
   ]
  },
  {
   "cell_type": "markdown",
   "metadata": {},
   "source": [
    "## Network Applications"
   ]
  },
  {
   "cell_type": "markdown",
   "metadata": {},
   "source": [
    "> HTTP\n",
    "> - Requests : Python's standard urllib2 module provides most of the HTTP capabilities you need, but the API is thoroughly broken. It was built for a different time - and a different web. It requires an enormous amount of work to perform the simplest of tasks."
   ]
  },
  {
   "cell_type": "markdown",
   "metadata": {},
   "source": [
    "### Distributed Systems"
   ]
  },
  {
   "cell_type": "markdown",
   "metadata": {},
   "source": [
    "> ZeroMQ\n",
    "> - 0MQ is a high-performance asynchrounous messaging library aimed at use in scalable distributed or comcurrent applications. It provides a message queue, but unlike message-oriented middleware, a 0MQ system can run without a dedicated message broker. The library is designed to have a familiar socket-style API.\n",
    "\n",
    "> RabbitMQ\n",
    "> - RabbitMQ is an open source message broker software that implements the Advanced Message Queuing Protocol(AMQP). The rabbitMQ server is written in the Erlang programming language and is built on the Open Telecom Platform Framework for clustering and failover, Client libraries to interface with the broker are available for all major programming languages."
   ]
  },
  {
   "cell_type": "markdown",
   "metadata": {},
   "source": [
    "### Web Applications & Frameworks"
   ]
  },
  {
   "cell_type": "markdown",
   "metadata": {},
   "source": [
    "#### Context"
   ]
  },
  {
   "cell_type": "markdown",
   "metadata": {},
   "source": [
    "> WSGI\n",
    "> - The Web Server Gatewat Interface is a standard interface between web server and Python web application frameworks. By standardizaing behavior and communication between web server and Python web frameworks, WSGI makes it possible to write portable Python web code that can be deployed in any WSGI-compliant web server. WSGI is documented in PEP 3333."
   ]
  },
  {
   "cell_type": "markdown",
   "metadata": {},
   "source": [
    "#### Frameworks"
   ]
  },
  {
   "cell_type": "markdown",
   "metadata": {},
   "source": [
    "- Broadly speaking, a web framework consists of a set of libraries and a main handler within which you can build custom code to implement a web application. Most web frameworks include patterns and utilities to accomplich at least the following:\n",
    "\n",
    "**URL routing** Matches an incoming HTTP request to a particular piece of Python code to be invoked.\n",
    "\n",
    "**Request and Response Objects** Encapsulate the information received from or sent to a user's browser.\n",
    "\n",
    "**Template Engine** Allows for separating Python code implementing an application's logic from the HTML output that it produces\n",
    "\n",
    "**Development Web Server** Runs an HTTP server on development machines to enable rapid developmentl often automatically reloads server-side code when files are updated"
   ]
  },
  {
   "cell_type": "markdown",
   "metadata": {},
   "source": [
    "> django\n",
    "> - Django is a \"batteries included\" web application framework, and is an excellent choice for creating content-oriented websites. By providing many utilities and patterns out of the box, Django aims to make it possible to build complex, database-backed web applications quickly, while encouragin best practices in code written using it.\n",
    "> Flask\n",
    "> - Flask is a \"microframework\" for Python, and is an excellent choice for building smaller applications, APIs, and web services.\n",
    "> - Building an app with Flask is a lot like writing standard Python modules, except some functions have routes attached to them. It's really beautiful.\n",
    "> - Rather than aiming to provide everything you could possibly need, Flask implements the most commonly-used core components of a web application framework, like URL routing, request and response objects, and templates.\n"
   ]
  },
  {
   "cell_type": "markdown",
   "metadata": {},
   "source": [
    "### Web Servers"
   ]
  },
  {
   "cell_type": "markdown",
   "metadata": {},
   "source": [
    "> Nginx\n",
    "> - Nginx is a web server and reverse-proxy or HTTP, SMTP and other protocols. It is known for its high performance, relative simplicity, and compatibility with many application servers. It also includes handy features like load-balancing, basic authentication, streaming, and others. \n",
    "\n",
    "> WSGI Servers\n",
    "> - Standalone WSGI servers typically use less resources than traditional web servers and provide top performance\n",
    "\n",
    "> Gunicorn\n",
    "> - Gunicorn is a pure-python WSGI server used to serve Python applications. Unlike other Python web servers it has a thoughtful user-interface, and is extremely easy to use and configure. \n",
    "\n",
    "> uWSGI\n",
    "> - uWSGI is a full stack for building hosting services. In addition to process management, process monitoring, and other functionality, uWSGI acts as an application server for various programming languages and protocols-including Python and WSGI. uWSGI can either be run as a stand-alone web router, or be run behind a full web server(such as Nginx or Apache). In the latter case, a web server can confugure uWSGI and an application's operation over the uWSGI protocol. uWSGI's web server support allows for dynamically configuring Python passing environment variables and further tuning. \n"
   ]
  },
  {
   "cell_type": "markdown",
   "metadata": {},
   "source": [
    "### Server Best Pratices"
   ]
  },
  {
   "cell_type": "markdown",
   "metadata": {},
   "source": [
    "- The majority of self-hosted Python application today are hosted with a WSGI server such as Gunicorn, either directly or behind a lightweight web server such as nginx.\n",
    "\n",
    "- The WSGI servers serve the Python applications while the web server handles tasks better suited for it such as static file serving, request routing DDoS protection, and basic authentication."
   ]
  },
  {
   "cell_type": "markdown",
   "metadata": {},
   "source": [
    "#### Hosting \n",
    "- Platform-as-a-Servie(PaaS) is a tpye of cloud computing infrastructure which abstracts and manages infrastructure, routing, and scaling of web applications.W When using a Paas, application developers can focus on writing application code rather than needing to be concerned with deployment details."
   ]
  },
  {
   "cell_type": "markdown",
   "metadata": {},
   "source": [
    "#### Heroku\n",
    "- Heroku offers first-class support for Python 2.7 - 3.5 applications.\n",
    "- Heroku supports all types of Python web applications, servers, and frameworks. Applications can be developed on Heroku for free. Once your application is ready for production, you can upgrade to a Hobby or Professional."
   ]
  },
  {
   "cell_type": "markdown",
   "metadata": {},
   "source": [
    "### Templating"
   ]
  },
  {
   "cell_type": "markdown",
   "metadata": {},
   "source": [
    "- Most WSGI applications are responding to HTTP requests to serve content in HTML or other markup languages. Instead of generating directly textual content from Python, the concept of separation of concerns advises us to use templates. A template engine manages a suite of template files, with a system of hierarchy and inclusion to avoid unnecessary repetition, and is in charge of rendering (generating) the actual content, filling the static content of the templates with the dynamic content generated by the application.\n",
    "\n",
    "- As template files are sometimes written by designers or front-end developers, it can be difficult to handle increasing complexity.\n",
    "\n",
    "- Some general good practices apply to the part of the application passing dynamic content to the template engine, and to the templates temselves.\n",
    "\n"
   ]
  },
  {
   "cell_type": "markdown",
   "metadata": {},
   "source": [
    "#### Jinja2\n",
    "- Jinja2 is a very well-regarded template engine.\n",
    "- It uses a text-based template language and can thus be used to generate any type markup, not just HTML. It allows customization of filters, tests and globals. It features many improvements over Django's templating system."
   ]
  },
  {
   "cell_type": "code",
   "execution_count": null,
   "metadata": {
    "collapsed": true
   },
   "outputs": [],
   "source": [
    "{# This is a comment #}\n",
    "{# The next tag is a variable output: #} \n",
    "    {{title}}\n",
    "    \n",
    "{# Tag for a block, can be replaced through inheritance with other html code #} \n",
    "    {% block head %} \n",
    "    <h1>This is the head!</h1> \n",
    "    {% endblock %}\n",
    "    \n",
    "{# Output of an array as an iteration #} \n",
    "    {% for item in list %} \n",
    "    <li>{{ item }}</li> \n",
    "    {% endfor %}\n"
   ]
  },
  {
   "cell_type": "markdown",
   "metadata": {},
   "source": [
    "# HTML Scraping"
   ]
  },
  {
   "cell_type": "markdown",
   "metadata": {},
   "source": [
    "### Web Scraping"
   ]
  },
  {
   "cell_type": "markdown",
   "metadata": {},
   "source": [
    "- Web sites are written using HTML, which means that each web page is a structured documents. Sometimes it would be great to obtain some data from them and preserve the structure while we're at it. Web sites don't always provide their data in comfortable formats such as csv or json.\n",
    "\n",
    "- This is where web scraping comes in. Web scraping is the practice of using a computer programming to shift through a web page and gather the data that you need in a format most userful to you while at the same time preserving the structure of the data."
   ]
  },
  {
   "cell_type": "markdown",
   "metadata": {},
   "source": [
    "#### lxml and Requests"
   ]
  },
  {
   "cell_type": "markdown",
   "metadata": {},
   "source": [
    "- lxml is a pretty extensive library written for parsing XML and HTML documents very quickly, even handling messed up tags in the process. We will also be using the Reqeusts module instead of the already built-in urllib2 module due to improvements in speed and readability. You can easily install both using pip."
   ]
  },
  {
   "cell_type": "code",
   "execution_count": null,
   "metadata": {
    "collapsed": true
   },
   "outputs": [],
   "source": [
    "from lxml import html\n",
    "import requests"
   ]
  },
  {
   "cell_type": "code",
   "execution_count": null,
   "metadata": {
    "collapsed": true
   },
   "outputs": [],
   "source": [
    "page = requests.get('http://econpy.pythonanywhere.com/ex/001.html')\n",
    "tree = html.fromstring(page.content)"
   ]
  },
  {
   "cell_type": "code",
   "execution_count": null,
   "metadata": {
    "collapsed": true
   },
   "outputs": [],
   "source": [
    "tree"
   ]
  },
  {
   "cell_type": "code",
   "execution_count": null,
   "metadata": {
    "collapsed": true
   },
   "outputs": [],
   "source": [
    "buyers = tree.xpath('//div[@title=\"buyer-name\"]/text()')"
   ]
  },
  {
   "cell_type": "code",
   "execution_count": null,
   "metadata": {
    "collapsed": true
   },
   "outputs": [],
   "source": [
    "buyers"
   ]
  },
  {
   "cell_type": "markdown",
   "metadata": {},
   "source": [
    "# Command-line Applications"
   ]
  },
  {
   "cell_type": "markdown",
   "metadata": {},
   "source": [
    "- Command-line applications, also referred to as Console Applications, are computer programs designed to used from a text interface, such as a shell. Command-line applications usually accept various inputs as arguments, often referred to as parameters or su-commands, as well as options, often referred to as flags or switches.\n",
    "\n",
    "- clint, click, docopt, plac, cliff, cement"
   ]
  },
  {
   "cell_type": "markdown",
   "metadata": {},
   "source": [
    "# GUI Applications"
   ]
  },
  {
   "cell_type": "markdown",
   "metadata": {},
   "source": [
    "# System administration"
   ]
  },
  {
   "cell_type": "markdown",
   "metadata": {},
   "source": [
    "# Continuous Integration"
   ]
  },
  {
   "cell_type": "markdown",
   "metadata": {},
   "source": [
    "- Continuous Integration is a software development practice where members of a team integrate their work frequently, usually each person integrates at least daily - leading to multiple integrations per day. Each integration is verified by an automated build (including test) to detect integration errors as quickly as possible. Many teams find that this approach leads to significantly reduced integration problems and allows a team to develop cohesive software more rapidly."
   ]
  },
  {
   "cell_type": "markdown",
   "metadata": {},
   "source": [
    "## Concurrency"
   ]
  },
  {
   "cell_type": "markdown",
   "metadata": {},
   "source": [
    "### Threading\n",
    "## Scientific Application\n",
    "## Image Manipulation\n",
    "## Data Serialization\n",
    "## Cryptography\n",
    "## Interfacing with C/C++ Lib"
   ]
  },
  {
   "cell_type": "markdown",
   "metadata": {},
   "source": [
    "# Shipping Great Python Code"
   ]
  },
  {
   "cell_type": "markdown",
   "metadata": {},
   "source": [
    "#### Packagin Your Code"
   ]
  },
  {
   "cell_type": "code",
   "execution_count": null,
   "metadata": {
    "collapsed": true
   },
   "outputs": [],
   "source": []
  }
 ],
 "metadata": {
  "kernelspec": {
   "display_name": "Python 3",
   "language": "python",
   "name": "python3"
  },
  "language_info": {
   "codemirror_mode": {
    "name": "ipython",
    "version": 3
   },
   "file_extension": ".py",
   "mimetype": "text/x-python",
   "name": "python",
   "nbconvert_exporter": "python",
   "pygments_lexer": "ipython3",
   "version": "3.6.2"
  }
 },
 "nbformat": 4,
 "nbformat_minor": 2
}
