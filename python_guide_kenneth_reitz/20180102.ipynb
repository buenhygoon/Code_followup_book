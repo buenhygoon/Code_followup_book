{
 "cells": [
  {
   "cell_type": "markdown",
   "metadata": {},
   "source": [
    "## Vendorizing Dependencies\n",
    "- Vendorizing. Including dependencies inside your own source tree as if they were part of your application. Also known as ‘bundling’, ‘omnibus’ etc. I’m going to be talking about Python software specifically, but it’s a general problem.\n",
    "- http://bitprophet.org/blog/2012/06/07/on-vendorizing/"
   ]
  },
  {
   "cell_type": "markdown",
   "metadata": {},
   "source": [
    "## General concepts"
   ]
  },
  {
   "cell_type": "markdown",
   "metadata": {},
   "source": [
    "#### Explicit code"
   ]
  },
  {
   "cell_type": "code",
   "execution_count": null,
   "metadata": {
    "collapsed": true
   },
   "outputs": [],
   "source": [
    "# Bad\n",
    "def make_complex(*args):\n",
    "    x, y = args\n",
    "    return dict(**locals())\n",
    "\n",
    "# Good\n",
    "def make_complex(x, y):\n",
    "    return {'x': x, 'y': y}"
   ]
  },
  {
   "cell_type": "markdown",
   "metadata": {},
   "source": [
    "- In the good code above, x and y are explicitly received from the caller, and an explicit dictionary is returned. The developer using this function knows exactly what to do by reading the ﬁrst and last lines, which is not the case with the bad example.\n"
   ]
  },
  {
   "cell_type": "markdown",
   "metadata": {},
   "source": [
    "#### One statement per line"
   ]
  },
  {
   "cell_type": "code",
   "execution_count": null,
   "metadata": {
    "collapsed": true
   },
   "outputs": [],
   "source": [
    "# Bad\n",
    "print('one'); print('two')\n",
    "\n",
    "if x == 1: print('one')\n",
    "if <complex comparison> and <other complex comparison>:\n",
    "    # do something\n",
    "\n",
    "# Good\n",
    "print('one')\n",
    "print('two')\n",
    "\n",
    "if x == 1:\n",
    "    print('one')\n",
    "    \n",
    "cond1 = <complex comparison>\n",
    "cond2 = <other complex comparison>\n",
    "if cond1 and cond2:\n",
    "    # do something"
   ]
  },
  {
   "cell_type": "markdown",
   "metadata": {},
   "source": [
    "#### Function arguments"
   ]
  },
  {
   "cell_type": "markdown",
   "metadata": {},
   "source": [
    "1. Positional arguments : are mandatory and have no default values.  For instance, in send(message, recipient) or point(x, y) the user of the function has no difﬁculty remembering that those two functions require two arguments, and in which order. \n",
    "\n",
    "2. Keyword argumnets are not mandatory and have default values. They are often used for optional parameters sent to the function. When a function has more than two or three positional parameters, its signature is more difficult to remember and using keyword arguments with default values is helpful. Forinstance,amorecomplete sendfunctioncouldbedeﬁnedassend(message, to, cc=None, bcc=None). Hereccandbccare optional, and evaluate to None when they are not passed another value. \n",
    "\n",
    "3. Arbitrary argument list is the third way to pass arguments to a function. If the function intention is better expressed by a signature with an extensible number of positional arguments, it can be defined with the \\*args constructs. In the function body, args will be a tuple of all the remaining positional arguments. For example, send(message, *args) can be called with each recipient as an argument:send(’Hello’, ’God’, ’Mom’,’Cthulhu’),andinthefunctionbodyargswillbeequalto(’God’, ’Mom’, ’Cthulhu’).\n",
    "\n",
    "4. Arbitrary keyword argument dictionary is the lasy way to pass arguments to functions. If the function requires an undetermined series of named arguments, it is possible to use the \\*\\*kwargs construct. In the function body, kwargs will be a dictionary of all the passed named arguments that have not been caught by other keyword arguments in the function signature. "
   ]
  },
  {
   "cell_type": "markdown",
   "metadata": {},
   "source": [
    "#### Avoid the magical wand\n",
    "- change how objects are created and instantiated\n",
    "- change how the Python interpreter imports modules\n",
    "- it is even possible (and recommended if needed) to embed C routines in Python\n",
    "\n",
    "- However, all these options have many drawbacks and it is always better to use the most straightforward way to achieve your goal. The main drawback is that readability suffers greatly when using these constructs. Many code analysis tools, such as pylint or pyﬂakes, will be unable to parse this “magic” code. "
   ]
  },
  {
   "cell_type": "markdown",
   "metadata": {},
   "source": [
    "#### We are all responsible users\n",
    "- A good example is that any client code can override an object’s properties and methods: there is no “private” keyword in Python.\n",
    "\n",
    "- This doesn't mean that, for example, no properties are considred private, and that no proper encapsulation is possible in Python. Rather, instead of relying on concrete walls erected by the developers between their code and other's, the Python community prefers to rely on a set of conventions indicating that these elements should not be accessed directly.\n",
    "\n",
    "- The main cenvention for private properties and implementation details is to prefix all 'internals' with an underscore. If the client code breaks this rule and accesses these marked elements, any misbehavior or problems encountered if the code is modified is the responsibility of the client code."
   ]
  },
  {
   "cell_type": "markdown",
   "metadata": {},
   "source": [
    "#### Returning values"
   ]
  },
  {
   "cell_type": "markdown",
   "metadata": {},
   "source": [
    "- There are two main cases for returning values in a function: the result of the function return when it has been processed normally, and the error cases that indicate a wrong input parameter or any other reason for the function to not be able to complete its computation or task.\n",
    "\n",
    "- If you do not wish to raise exceptions for the second case, then returning a value, such as None or False, indicating that the function could not perform correctly might be needed. In this case, it is better to return as early as the incorrect context has been detected. It will help to faltten the structure of the function: all the code after the return-because-of-error statement can assume the condition is met to further compute the function's main result.\n",
    "\n",
    "- However, when a function has multiple main exit points for its normal course, it becomes difficult to debug the returned result, so it may be preferable to keep a single exit point. This will also help factoring out some code paths, and the multiple exit points are a probable indication that such a refactoring is needed."
   ]
  },
  {
   "cell_type": "code",
   "execution_count": null,
   "metadata": {
    "collapsed": true
   },
   "outputs": [],
   "source": [
    "def complex_function(a, b, c):\n",
    "    if not a:\n",
    "        return None # Raising an exception might be better\n",
    "    if not b:\n",
    "        return None # Raising an exception might be better\n",
    "    if not x:\n",
    "        # some plan-B computation of x\n",
    "    return x \n",
    "    "
   ]
  },
  {
   "cell_type": "markdown",
   "metadata": {},
   "source": [
    "#### Idioms\n",
    "- A programming idiom, put simply, is a way to write code."
   ]
  },
  {
   "cell_type": "markdown",
   "metadata": {},
   "source": [
    "> ** Unpacking ** \n",
    "- If you know the length of a list or tuple, you can assign names to its elements with unpacking."
   ]
  },
  {
   "cell_type": "code",
   "execution_count": null,
   "metadata": {
    "collapsed": true
   },
   "outputs": [],
   "source": [
    "for index, item in enumerate(some_list):\n",
    "    # Do something"
   ]
  },
  {
   "cell_type": "code",
   "execution_count": null,
   "metadata": {
    "collapsed": true
   },
   "outputs": [],
   "source": [
    "a, b = b, a  # swap\n",
    "a, (b, c) = 1, (2, 3) # nested unpacking\n",
    "\n",
    "a, *rest = [1, 2, 3] # in python 3 added\n",
    "# a = 1, rest = [2, 3]\n",
    "\n",
    "a, *middle, c = [1, 2, 3, 4]\n",
    "# a = 1, middle = [2, 3], c = 4"
   ]
  },
  {
   "cell_type": "markdown",
   "metadata": {},
   "source": [
    "#### Create an ignored variable"
   ]
  },
  {
   "cell_type": "code",
   "execution_count": null,
   "metadata": {
    "collapsed": true
   },
   "outputs": [],
   "source": [
    "filename = 'foobar.txt'\n",
    "basename, __, ext = filename.rpartition('.')"
   ]
  },
  {
   "cell_type": "markdown",
   "metadata": {},
   "source": [
    "-----\n",
    "Note: Many Python style guides recommend the use of a single underscore '\\_' for throwwaway variables rather than the double underscore '\\_\\_' recommended here. The issue is that “_” is commonly used as an alias for the gettext() function, and is also used at the interactive prompt to hold the value of the last operation. **Using a double underscore instead is just as clear and almost as convenient, and eliminates the risk of accidentally interfering with either of these other use cases.**\n"
   ]
  },
  {
   "cell_type": "markdown",
   "metadata": {},
   "source": [
    "#### Create a length-N list of the same thing"
   ]
  },
  {
   "cell_type": "code",
   "execution_count": null,
   "metadata": {
    "collapsed": true
   },
   "outputs": [],
   "source": [
    "four_nones = [None] * 4"
   ]
  },
  {
   "cell_type": "markdown",
   "metadata": {},
   "source": [
    "#### Create a length-N list of lists\n",
    "- Because lists are mutable, the * operator (as above) will create a list of N references to the same list, which is not likely what you want. Instead, use a list comprehension:\n"
   ]
  },
  {
   "cell_type": "code",
   "execution_count": null,
   "metadata": {},
   "outputs": [],
   "source": [
    "four_lists = [[] for __ in range(4)]"
   ]
  },
  {
   "cell_type": "markdown",
   "metadata": {},
   "source": [
    "#### Create a string from a list"
   ]
  },
  {
   "cell_type": "code",
   "execution_count": null,
   "metadata": {},
   "outputs": [],
   "source": [
    "letters = ['s', 'p', 'a', 'm']\n",
    "word = ''.join(letters)\n",
    "print(word)"
   ]
  },
  {
   "cell_type": "markdown",
   "metadata": {},
   "source": [
    "#### Searching for an item in a collection"
   ]
  },
  {
   "cell_type": "code",
   "execution_count": null,
   "metadata": {
    "collapsed": true
   },
   "outputs": [],
   "source": [
    "s = set(['s', 'p', 'a', 'm'])\n",
    "l = ['s', 'p', 'a', 'm']\n",
    "\n",
    "def lookup_set(s):\n",
    "    return 's' in s\n",
    "\n",
    "def lookup_list(l):\n",
    "    return 's' in l"
   ]
  },
  {
   "cell_type": "markdown",
   "metadata": {},
   "source": [
    "- Even though both functions look identical, because _lookup_set_ is utilizing the fact that sets in Python are hashtables, the lookup performance between the two is very different. To determine whether an item is in a list, Python will have to go through each item until it finds a matching item. This is time consuming, especially for long lists. In a set, on the other hand, the hash of the item will tell Python where in the set to look for a matching item. As a result, the search can be done quickly, even if the set is large. Searching in dictionaries works the same way. "
   ]
  },
  {
   "cell_type": "code",
   "execution_count": 1,
   "metadata": {},
   "outputs": [
    {
     "name": "stdout",
     "output_type": "stream",
     "text": [
      "The Zen of Python, by Tim Peters\n",
      "\n",
      "Beautiful is better than ugly.\n",
      "Explicit is better than implicit.\n",
      "Simple is better than complex.\n",
      "Complex is better than complicated.\n",
      "Flat is better than nested.\n",
      "Sparse is better than dense.\n",
      "Readability counts.\n",
      "Special cases aren't special enough to break the rules.\n",
      "Although practicality beats purity.\n",
      "Errors should never pass silently.\n",
      "Unless explicitly silenced.\n",
      "In the face of ambiguity, refuse the temptation to guess.\n",
      "There should be one-- and preferably only one --obvious way to do it.\n",
      "Although that way may not be obvious at first unless you're Dutch.\n",
      "Now is better than never.\n",
      "Although never is often better than *right* now.\n",
      "If the implementation is hard to explain, it's a bad idea.\n",
      "If the implementation is easy to explain, it may be a good idea.\n",
      "Namespaces are one honking great idea -- let's do more of those!\n"
     ]
    }
   ],
   "source": [
    "import this"
   ]
  },
  {
   "cell_type": "markdown",
   "metadata": {},
   "source": [
    "#### PEP 8\n",
    "- pip install pycodestyle"
   ]
  },
  {
   "cell_type": "code",
   "execution_count": null,
   "metadata": {
    "collapsed": true
   },
   "outputs": [],
   "source": [
    "pycodestyle optparse.py"
   ]
  },
  {
   "cell_type": "markdown",
   "metadata": {},
   "source": [
    "- pip install autopep8"
   ]
  },
  {
   "cell_type": "code",
   "execution_count": null,
   "metadata": {
    "collapsed": true
   },
   "outputs": [],
   "source": [
    "autopep8 --in-place optparse.py"
   ]
  },
  {
   "cell_type": "markdown",
   "metadata": {},
   "source": [
    "#### Conventions"
   ]
  },
  {
   "cell_type": "code",
   "execution_count": 2,
   "metadata": {
    "collapsed": true
   },
   "outputs": [
    {
     "ename": "NameError",
     "evalue": "name 'attr' is not defined",
     "output_type": "error",
     "traceback": [
      "\u001b[0;31m---------------------------------------------------------------------------\u001b[0m",
      "\u001b[0;31mNameError\u001b[0m                                 Traceback (most recent call last)",
      "\u001b[0;32m<ipython-input-2-50132fef0f2f>\u001b[0m in \u001b[0;36m<module>\u001b[0;34m()\u001b[0m\n\u001b[1;32m      1\u001b[0m \u001b[0;31m# Bad\u001b[0m\u001b[0;34m\u001b[0m\u001b[0;34m\u001b[0m\u001b[0m\n\u001b[0;32m----> 2\u001b[0;31m \u001b[0;32mif\u001b[0m \u001b[0mattr\u001b[0m \u001b[0;34m==\u001b[0m \u001b[0;32mTrue\u001b[0m\u001b[0;34m:\u001b[0m\u001b[0;34m\u001b[0m\u001b[0m\n\u001b[0m\u001b[1;32m      3\u001b[0m     \u001b[0mprint\u001b[0m\u001b[0;34m(\u001b[0m\u001b[0;34m'True'\u001b[0m\u001b[0;34m)\u001b[0m\u001b[0;34m\u001b[0m\u001b[0m\n\u001b[1;32m      4\u001b[0m \u001b[0;34m\u001b[0m\u001b[0m\n\u001b[1;32m      5\u001b[0m \u001b[0;32mif\u001b[0m \u001b[0mattr\u001b[0m \u001b[0;34m==\u001b[0m \u001b[0;32mNone\u001b[0m\u001b[0;34m:\u001b[0m\u001b[0;34m\u001b[0m\u001b[0m\n",
      "\u001b[0;31mNameError\u001b[0m: name 'attr' is not defined"
     ]
    }
   ],
   "source": [
    "# Bad \n",
    "if attr == True:\n",
    "    print('True')\n",
    "    \n",
    "if attr == None:\n",
    "    print('attr is None!')\n",
    "    \n",
    "# Good\n",
    "if attr:\n",
    "    print('attr is truthy')\n",
    "    \n",
    "if not attr:\n",
    "    print('attr is falsey')\n",
    "    \n",
    "if attr is None:\n",
    "    print('attr is None!')\n",
    "    "
   ]
  },
  {
   "cell_type": "markdown",
   "metadata": {},
   "source": [
    "#### Access a Dictionary Element"
   ]
  },
  {
   "cell_type": "code",
   "execution_count": null,
   "metadata": {
    "collapsed": true
   },
   "outputs": [],
   "source": [
    "# Bad\n",
    "d = {'hello': 'world'}\n",
    "if d.has_key('hello'):\n",
    "    print(d['hello'])\n",
    "else:\n",
    "    print('default_value')\n",
    "    \n",
    "# Good\n",
    "print(d.get('hello', 'default_value'))\n",
    "print(d.get('thingy', 'default_value'))\n",
    "\n",
    "# Or:\n",
    "if 'hello' in d:\n",
    "    print(d['hello'])"
   ]
  },
  {
   "cell_type": "markdown",
   "metadata": {},
   "source": [
    "#### Short Ways to Manipulate Lists"
   ]
  },
  {
   "cell_type": "code",
   "execution_count": 3,
   "metadata": {
    "collapsed": true
   },
   "outputs": [],
   "source": [
    "# Bad \n",
    "a = [3, 4, 5]\n",
    "b = []\n",
    "for i in a:\n",
    "    if i > 4:\n",
    "        b.append(i)\n",
    "        \n",
    "# Good \n",
    "a = [3, 4, 5]\n",
    "b = [i for i in a if i > 4]\n",
    "# or:\n",
    "b = filter(lambda x: x > 4, a)"
   ]
  },
  {
   "cell_type": "code",
   "execution_count": 4,
   "metadata": {
    "collapsed": true
   },
   "outputs": [],
   "source": [
    "# Bad \n",
    "a = [3, 4, 5]\n",
    "for i in range(len(a)):\n",
    "    a[i] += 3\n",
    "    \n",
    "# Good\n",
    "a = [3, 4, 5]\n",
    "a = [i + 3 for i in a]\n",
    "# or\n",
    "a = map(lambda i: i + 3, a)\n"
   ]
  },
  {
   "cell_type": "code",
   "execution_count": null,
   "metadata": {
    "collapsed": true
   },
   "outputs": [],
   "source": [
    "a = [3, 4, 5]\n",
    "for i, item in enumerate(a):\n",
    "    print(i, item)"
   ]
  },
  {
   "cell_type": "markdown",
   "metadata": {},
   "source": [
    "#### Read From a File"
   ]
  },
  {
   "cell_type": "code",
   "execution_count": null,
   "metadata": {
    "collapsed": true
   },
   "outputs": [],
   "source": [
    "# Bad\n",
    "f = open('file.txt')\n",
    "a = f.read()\n",
    "print(a)\n",
    "f.close()\n",
    "\n",
    "# Good \n",
    "with open('file.txt') as f:\n",
    "    for line in f:\n",
    "        print(line)"
   ]
  },
  {
   "cell_type": "markdown",
   "metadata": {},
   "source": [
    "#### Line Continuations\n",
    "- When a logical line of code is longer than the accepted limit, you need to split it over multiple physical lines. The Python interpreter will join consecutive lines if the last character of the line is a backslash. This is helpful in some cases, but should usually be avoided because of its fragility: a white space added to the end of the line, after the backslash, will break the code and may have unexpected results. \n",
    "- A better solution is to use parentheses around your elements. Left with an unclosed parenthesis on an end-of-line the Pythoninterpreterwilljointhenextlineuntiltheparenthesesareclosed. Thesamebehaviorholdsforcurlyandsquare braces. "
   ]
  },
  {
   "cell_type": "code",
   "execution_count": null,
   "metadata": {
    "collapsed": true
   },
   "outputs": [],
   "source": [
    "# Bad\n",
    "my_very_big_string =  \"\"\"For a long time I used to go to bed early. Sometimes, \\ \n",
    "  when I had put out my candle, my eyes would close so quickly that I had not even \\ \n",
    "  time to say “I’m going to sleep.”\"\"\"\n",
    "\n",
    "from some.deep.module.inside.a.module import a_nice_function, another_nice_function, \\ \n",
    "yet_another_nice_function\n",
    "\n",
    "# Good\n",
    "my_very_big_string = ( \"For a long time I used to go to bed early. Sometimes, \" \n",
    "                      \"when I had put out my candle, my eyes would close so quickly \" \n",
    "                      \"that I had not even time to say “I’m going to sleep.”\" )\n",
    "from some.deep.module.inside.a.module import ( a_nice_function, \n",
    "                                              another_nice_function, \n",
    "                                              yet_another_nice_function)\n"
   ]
  },
  {
   "cell_type": "markdown",
   "metadata": {},
   "source": [
    "## Reading Great Code"
   ]
  },
  {
   "cell_type": "markdown",
   "metadata": {},
   "source": [
    "## Documentation"
   ]
  },
  {
   "cell_type": "markdown",
   "metadata": {},
   "source": [
    "#### Project Documentation(README)\n",
    "- INSTALL \n",
    "- LICENSE\n",
    "- TODO\n",
    "- CHANGELOG"
   ]
  },
  {
   "cell_type": "markdown",
   "metadata": {},
   "source": [
    "#### Project Publication\n",
    "- introduction : should show a very short orverview of what can be done with the product, using one or two extremely simplified use cases.\n",
    "- tutorial : should show some primary use cases in more detail.\n",
    "- API reference : typically generated from the code. It will list all publicly aavailable interfaces, parameters, and return values.\n",
    "- Developer Documentation : for potential contributors."
   ]
  },
  {
   "cell_type": "markdown",
   "metadata": {},
   "source": [
    "#### Sphinx"
   ]
  },
  {
   "cell_type": "markdown",
   "metadata": {},
   "source": [
    "## Code Documentation Advice"
   ]
  },
  {
   "cell_type": "markdown",
   "metadata": {},
   "source": [
    "#### Comments"
   ]
  },
  {
   "cell_type": "code",
   "execution_count": null,
   "metadata": {
    "collapsed": true
   },
   "outputs": [],
   "source": [
    "def square_and_rooter(x): \n",
    "    \"\"\"Return the square root of self times self.\"\"\" \n",
    "    ...\n"
   ]
  },
  {
   "cell_type": "markdown",
   "metadata": {},
   "source": [
    "#### Commenting Sections of Code"
   ]
  },
  {
   "cell_type": "markdown",
   "metadata": {},
   "source": [
    "- **Do not use triple-quote strings to comment code.** This is not a good practice,because line-oriented command-linetools such as grep will not be aware that the commented code is inactive. It is better to add hashes at the proper indentation level for every commented line. Your editor probably has the ability to do this easily, and it is worth learning the comment/uncomment toggle.\n"
   ]
  },
  {
   "cell_type": "markdown",
   "metadata": {},
   "source": [
    "#### Docstrings and Magic"
   ]
  },
  {
   "cell_type": "markdown",
   "metadata": {},
   "source": [
    "- Tools like Sphinx will parse your docstrings as reStructuredText and render it correctly as HTML. This makes it very easy to embed snippets of example code in a project’s documentation. \n",
    "- Additionally, Doctest will read all embedded docstrings that look like input from the Python commandline (preﬁxed with “>>>”) and run them, checking to see if the output of the command matches the text on the following line. This allows developers to embed real examples and usage of functions alongside their source code, and as a side effect, it also ensures that their code is tested and works.\n"
   ]
  },
  {
   "cell_type": "code",
   "execution_count": null,
   "metadata": {
    "collapsed": true
   },
   "outputs": [],
   "source": [
    "def my_functions(a, b):\n",
    "    \"\"\"\n",
    "    >>> my_function(2, 3)\n",
    "    6\n",
    "    >>> my_function('a', 3)\n",
    "    'aaa'\n",
    "    \"\"\"\n",
    "    return a * b"
   ]
  },
  {
   "cell_type": "markdown",
   "metadata": {},
   "source": [
    "#### Docstrings versus Block comments"
   ]
  },
  {
   "cell_type": "code",
   "execution_count": null,
   "metadata": {
    "collapsed": true
   },
   "outputs": [],
   "source": [
    "# This function slows down program execution for some reason. \n",
    "def square_and_rooter(x): \n",
    "    \"\"\"Returns the square root of self times self.\"\"\" \n",
    "    ..."
   ]
  },
  {
   "cell_type": "markdown",
   "metadata": {},
   "source": [
    "- Unlike block comments, docstrings are built into the Python language itself. This means you can use all of Python’s powerful introspection capabilities to access doc strings at runtime,compared with comments which are optimised out. Docstrings are accessible from both the __doc__ dunder attribute for almost every Python object, as well as with the built in help() function. "
   ]
  },
  {
   "cell_type": "markdown",
   "metadata": {},
   "source": [
    "#### Writing Docstrings\n",
    "- The sphinx.ext.napoleon plugin allows Sphinx to parse this style of docstrings, making it easy to incorporate NumPy style docstrings into your project. "
   ]
  },
  {
   "cell_type": "markdown",
   "metadata": {},
   "source": [
    "## Testing Your Code\n",
    "-  A testing unit should focus on one tiny bit of functionality and prove it correct.\n",
    "- Each test unit must be fully independent. Each test must be able to run alone, and also within the test suite, regardless of the order that are called. The implication of this rule is each test must be loaded with a fresh dataset and may have to do some cleanup afterwards. This is usually handled by SetUp() and tearDown() methods.\n",
    "- Try hard to make tests that run fast. If one single test needs more than a few milliseconds to run, development will be slowed down or the tests will not be run as often as is desirable. In some cases, tests can't be fast because they need a complex data structure to work on, and this data structure must be loaded every time the test runs. Keep these heavier tests in a separate test suite that is run by some scheduled task, and run all other tests as often as needed.\n",
    "\n",
    "..."
   ]
  },
  {
   "cell_type": "markdown",
   "metadata": {},
   "source": [
    "## The Basics"
   ]
  },
  {
   "cell_type": "markdown",
   "metadata": {},
   "source": [
    "# ~ P .59"
   ]
  },
  {
   "cell_type": "code",
   "execution_count": null,
   "metadata": {
    "collapsed": true
   },
   "outputs": [],
   "source": []
  }
 ],
 "metadata": {
  "kernelspec": {
   "display_name": "Python 3",
   "language": "python",
   "name": "python3"
  },
  "language_info": {
   "codemirror_mode": {
    "name": "ipython",
    "version": 3
   },
   "file_extension": ".py",
   "mimetype": "text/x-python",
   "name": "python",
   "nbconvert_exporter": "python",
   "pygments_lexer": "ipython3",
   "version": "3.6.2"
  }
 },
 "nbformat": 4,
 "nbformat_minor": 2
}
