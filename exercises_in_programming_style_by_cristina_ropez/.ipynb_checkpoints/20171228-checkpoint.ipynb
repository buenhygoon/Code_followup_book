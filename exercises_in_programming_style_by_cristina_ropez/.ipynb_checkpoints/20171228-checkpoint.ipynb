{
 "cells": [
  {
   "cell_type": "markdown",
   "metadata": {},
   "source": [
    "# Chapter 1\n",
    "## Limit\n",
    "- Short of main memory, too small compared to the data to be handled\n",
    "- No memory address with variable name or tail, only number-pointable memory available"
   ]
  },
  {
   "cell_type": "code",
   "execution_count": 2,
   "metadata": {},
   "outputs": [],
   "source": [
    "#!/usr/bin/env python\n",
    "\n",
    "import sys, os, string\n",
    "\n",
    "def touchopen(filename, *args, **kwargs):\n",
    "    try:\n",
    "        os.remove(filename)\n",
    "    except OSError:\n",
    "        pass\n",
    "    open(filename, \"a\").close()\n",
    "    return open(filename, *args, **kwargs)\n",
    "\n",
    "data = []\n",
    "\n",
    "f = open('exercises-in-programming-style/stop_words.txt')\n",
    "data = [f.read(1024).split(',')]\n",
    "f.close()\n"
   ]
  },
  {
   "cell_type": "code",
   "execution_count": null,
   "metadata": {
    "collapsed": true
   },
   "outputs": [],
   "source": []
  }
 ],
 "metadata": {
  "kernelspec": {
   "display_name": "Python 3",
   "language": "python",
   "name": "python3"
  },
  "language_info": {
   "codemirror_mode": {
    "name": "ipython",
    "version": 3
   },
   "file_extension": ".py",
   "mimetype": "text/x-python",
   "name": "python",
   "nbconvert_exporter": "python",
   "pygments_lexer": "ipython3",
   "version": "3.6.2"
  }
 },
 "nbformat": 4,
 "nbformat_minor": 2
}
