{
 "cells": [
  {
   "cell_type": "markdown",
   "metadata": {},
   "source": [
    "# Chapter 1 : Missing the old\n",
    "## Limit\n",
    "- Short of main memory, too small compared to the data to be handled\n",
    "- No memory address with variable name or tail, only number-pointable memory available"
   ]
  },
  {
   "cell_type": "code",
   "execution_count": 40,
   "metadata": {},
   "outputs": [
    {
     "ename": "TypeError",
     "evalue": "a bytes-like object is required, not 'int'",
     "output_type": "error",
     "traceback": [
      "\u001b[0;31m---------------------------------------------------------------------------\u001b[0m",
      "\u001b[0;31mTypeError\u001b[0m                                 Traceback (most recent call last)",
      "\u001b[0;32m<ipython-input-40-6d7fb203656d>\u001b[0m in \u001b[0;36m<module>\u001b[0;34m()\u001b[0m\n\u001b[1;32m     60\u001b[0m                     \u001b[0;32mif\u001b[0m \u001b[0;32mnot\u001b[0m \u001b[0mdata\u001b[0m\u001b[0;34m[\u001b[0m\u001b[0;36m4\u001b[0m\u001b[0;34m]\u001b[0m\u001b[0;34m:\u001b[0m\u001b[0;34m\u001b[0m\u001b[0m\n\u001b[1;32m     61\u001b[0m \u001b[0;31m#                         word_freqs.seek(0, 1)\u001b[0m\u001b[0;34m\u001b[0m\u001b[0;34m\u001b[0m\u001b[0m\n\u001b[0;32m---> 62\u001b[0;31m                         \u001b[0mword_freqs\u001b[0m\u001b[0;34m.\u001b[0m\u001b[0mwritelines\u001b[0m\u001b[0;34m(\u001b[0m\u001b[0mbytes\u001b[0m\u001b[0;34m(\u001b[0m\u001b[0;34m\"%20s,%04d\\n\"\u001b[0m \u001b[0;34m%\u001b[0m \u001b[0;34m(\u001b[0m\u001b[0mdata\u001b[0m\u001b[0;34m[\u001b[0m\u001b[0;36m5\u001b[0m\u001b[0;34m]\u001b[0m\u001b[0;34m,\u001b[0m \u001b[0;36m1\u001b[0m\u001b[0;34m)\u001b[0m\u001b[0;34m,\u001b[0m \u001b[0;34m'utf-8'\u001b[0m\u001b[0;34m)\u001b[0m\u001b[0;34m)\u001b[0m\u001b[0;34m\u001b[0m\u001b[0m\n\u001b[0m\u001b[1;32m     63\u001b[0m                     \u001b[0;32melse\u001b[0m\u001b[0;34m:\u001b[0m\u001b[0;34m\u001b[0m\u001b[0m\n\u001b[1;32m     64\u001b[0m                         \u001b[0mword_freqs\u001b[0m\u001b[0;34m.\u001b[0m\u001b[0mseek\u001b[0m\u001b[0;34m(\u001b[0m\u001b[0;34m-\u001b[0m\u001b[0;36m26\u001b[0m\u001b[0;34m,\u001b[0m \u001b[0;36m1\u001b[0m\u001b[0;34m)\u001b[0m\u001b[0;34m\u001b[0m\u001b[0m\n",
      "\u001b[0;31mTypeError\u001b[0m: a bytes-like object is required, not 'int'"
     ]
    }
   ],
   "source": [
    "#!/usr/bin/env python\n",
    "\n",
    "import sys, os, string\n",
    "\n",
    "def touchopen(filename, *args, **kwargs):\n",
    "    try:\n",
    "        os.remove(filename)\n",
    "    except OSError:\n",
    "        pass\n",
    "    open(filename, \"a\").close()\n",
    "    return open(filename, *args, **kwargs)\n",
    "\n",
    "data = []\n",
    "\n",
    "f = open('exercises-in-programming-style/stop_words.txt')\n",
    "data = [f.read(1024).split(',')]\n",
    "f.close()\n",
    "\n",
    "data.append([])\n",
    "data.append(None)\n",
    "data.append(0)\n",
    "data.append(False)\n",
    "data.append('')\n",
    "data.append('')\n",
    "data.append(0)\n",
    "\n",
    "\n",
    "word_freqs = touchopen('word_freqs', 'rb+')\n",
    "\n",
    "f = open(sys.argv[2])\n",
    "\n",
    "while True:\n",
    "    data[1] = [f.readline()]\n",
    "    if data[1] == ['']:\n",
    "        break\n",
    "    if data[1][0][len(data[1][0])-1] != '\\n':\n",
    "        data[1][0] = data[1][0] + '\\n'\n",
    "    data[2] = None\n",
    "    data[3] = 0\n",
    "    \n",
    "    for c in data[1][0]:\n",
    "        if data[2] == None:\n",
    "            if c.isalnum():\n",
    "                data[2] = data[3]\n",
    "        else:\n",
    "            if not c.isalnum():\n",
    "                data[4] = False\n",
    "                data[5] = data[1][0][data[2]:data[3]].lower()\n",
    "                if len(data[5]) >= 2 and data[5] not in data[0]:\n",
    "                    while True:\n",
    "                        data[6] = word_freqs.readline().strip()\n",
    "                        if data[6] == b'':\n",
    "                            break\n",
    "                        data[7] = int(data[6].split(',')[1])\n",
    "                        data[6] = data[6].split(',')[0].strip()\n",
    "                        if data[5] == data[6]:\n",
    "                            data[7] += 1\n",
    "                            data[4] = True\n",
    "                            break\n",
    "                    if not data[4]:\n",
    "#                         word_freqs.seek(0, 1)\n",
    "                        word_freqs.writelines(bytes(\"%20s,%04d\\n\" % (data[5], 1), 'utf-8'))\n",
    "                    else:\n",
    "                        word_freqs.seek(-26, 1)\n",
    "                        word_freqs.writelines(\"%20s,%04d\\n\" % (data[5], data[7]))\n",
    "                    word_freqs.seek(0, 0)\n",
    "                data[2] = None\n",
    "        data[3] += 1\n",
    "    \n",
    "f.close()\n",
    "word_freqs.flush()\n",
    "\n",
    "# del data"
   ]
  },
  {
   "cell_type": "code",
   "execution_count": 39,
   "metadata": {},
   "outputs": [
    {
     "ename": "TypeError",
     "evalue": "a bytes-like object is required, not 'int'",
     "output_type": "error",
     "traceback": [
      "\u001b[0;31m---------------------------------------------------------------------------\u001b[0m",
      "\u001b[0;31mTypeError\u001b[0m                                 Traceback (most recent call last)",
      "\u001b[0;32m<ipython-input-39-937166156f80>\u001b[0m in \u001b[0;36m<module>\u001b[0;34m()\u001b[0m\n\u001b[0;32m----> 1\u001b[0;31m \u001b[0mword_freqs\u001b[0m\u001b[0;34m.\u001b[0m\u001b[0mwritelines\u001b[0m\u001b[0;34m(\u001b[0m\u001b[0mbytes\u001b[0m\u001b[0;34m(\u001b[0m\u001b[0;34m\"%20s,%04d\\n\"\u001b[0m \u001b[0;34m%\u001b[0m \u001b[0;34m(\u001b[0m\u001b[0mdata\u001b[0m\u001b[0;34m[\u001b[0m\u001b[0;36m5\u001b[0m\u001b[0;34m]\u001b[0m\u001b[0;34m,\u001b[0m \u001b[0;36m1\u001b[0m\u001b[0;34m)\u001b[0m\u001b[0;34m,\u001b[0m \u001b[0;34m'utf-8'\u001b[0m\u001b[0;34m)\u001b[0m\u001b[0;34m)\u001b[0m\u001b[0;34m\u001b[0m\u001b[0m\n\u001b[0m",
      "\u001b[0;31mTypeError\u001b[0m: a bytes-like object is required, not 'int'"
     ]
    }
   ],
   "source": [
    "word_freqs.writelines(bytes(\"%20s,%04d\\n\" % (data[5], 1), 'utf-8'))"
   ]
  },
  {
   "cell_type": "code",
   "execution_count": 38,
   "metadata": {},
   "outputs": [
    {
     "data": {
      "text/plain": [
       "b'               shell,0001\\n'"
      ]
     },
     "execution_count": 38,
     "metadata": {},
     "output_type": "execute_result"
    }
   ],
   "source": [
    "bytes(\"%20s,%04d\\n\" % (data[5], 1), 'utf-8')"
   ]
  },
  {
   "cell_type": "code",
   "execution_count": 15,
   "metadata": {},
   "outputs": [
    {
     "data": {
      "text/plain": [
       "['/home/dockeruser/anaconda3/lib/python3.6/site-packages/ipykernel_launcher.py',\n",
       " '-f',\n",
       " '/home/dockeruser/.local/share/jupyter/runtime/kernel-7f05c412-8f6a-428e-90aa-13f7971b1069.json']"
      ]
     },
     "execution_count": 15,
     "metadata": {},
     "output_type": "execute_result"
    }
   ],
   "source": [
    "a = 1\n",
    "b =12312 \n",
    "sys.argv"
   ]
  },
  {
   "cell_type": "code",
   "execution_count": 16,
   "metadata": {},
   "outputs": [
    {
     "data": {
      "text/plain": [
       "['/home/dockeruser/anaconda3/lib/python3.6/site-packages/ipykernel_launcher.py',\n",
       " '-f',\n",
       " '/home/dockeruser/.local/share/jupyter/runtime/kernel-7f05c412-8f6a-428e-90aa-13f7971b1069.json']"
      ]
     },
     "execution_count": 16,
     "metadata": {},
     "output_type": "execute_result"
    }
   ],
   "source": [
    "sys.argv"
   ]
  },
  {
   "cell_type": "code",
   "execution_count": 17,
   "metadata": {},
   "outputs": [
    {
     "data": {
      "text/plain": [
       "'/home/dockeruser/.local/share/jupyter/runtime/kernel-7f05c412-8f6a-428e-90aa-13f7971b1069.json'"
      ]
     },
     "execution_count": 17,
     "metadata": {},
     "output_type": "execute_result"
    }
   ],
   "source": [
    "sys.argv[2]"
   ]
  },
  {
   "cell_type": "code",
   "execution_count": null,
   "metadata": {
    "collapsed": true
   },
   "outputs": [],
   "source": []
  }
 ],
 "metadata": {
  "kernelspec": {
   "display_name": "Python 3",
   "language": "python",
   "name": "python3"
  },
  "language_info": {
   "codemirror_mode": {
    "name": "ipython",
    "version": 3
   },
   "file_extension": ".py",
   "mimetype": "text/x-python",
   "name": "python",
   "nbconvert_exporter": "python",
   "pygments_lexer": "ipython3",
   "version": "3.6.2"
  }
 },
 "nbformat": 4,
 "nbformat_minor": 2
}
